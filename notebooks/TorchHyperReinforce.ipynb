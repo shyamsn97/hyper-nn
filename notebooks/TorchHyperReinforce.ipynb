{
 "cells": [
  {
   "cell_type": "code",
   "execution_count": 1,
   "metadata": {},
   "outputs": [],
   "source": [
    "# Uncomment this to install dependencies for this notebook\n",
    "# !pip install gym\n",
    "# !pip install tqdm\n",
    "# !pip install tensorboard\n",
    "# !pip install ipympl"
   ]
  },
  {
   "cell_type": "code",
   "execution_count": 2,
   "metadata": {},
   "outputs": [],
   "source": [
    "import gym\n",
    "import numpy as np\n",
    "import torch\n",
    "import torch.nn as nn\n",
    "import torch.nn.functional as F\n",
    "from torch.distributions.categorical import Categorical\n",
    "import tqdm\n",
    "import torch.optim as optim\n"
   ]
  },
  {
   "cell_type": "code",
   "execution_count": 3,
   "metadata": {},
   "outputs": [],
   "source": [
    "from hypernn.torch.hypernet import TorchHyperNetwork\n",
    "from hypernn.torch.weight_generator import TorchWeightGenerator\n",
    "from hypernn.torch.embedding_module import TorchEmbeddingModule"
   ]
  },
  {
   "cell_type": "markdown",
   "metadata": {},
   "source": [
    "## Basic Hypernetwork"
   ]
  },
  {
   "cell_type": "markdown",
   "metadata": {},
   "source": [
    "### 3 Components:\n",
    "- EmbeddingModule: Layer / general parameter embeddings to be passed into the weight generator\n",
    "- WeightGenerator: Shared network used to generate parameters from each embedding in the EmbeddingModule\n",
    "- Hypernetwork: Combines EmbeddingModule & WeightGenerator for end to end parameter generator"
   ]
  },
  {
   "cell_type": "markdown",
   "metadata": {},
   "source": [
    "### EmbeddingModule"
   ]
  },
  {
   "cell_type": "code",
   "execution_count": 4,
   "metadata": {},
   "outputs": [],
   "source": [
    "from typing import Optional, Any\n",
    "\n",
    "class DefaultTorchEmbeddingModule(TorchEmbeddingModule):\n",
    "    def __init__(self, embedding_dim: int, num_embeddings: int):\n",
    "        super().__init__(embedding_dim, num_embeddings)\n",
    "        self.embedding = nn.Embedding(num_embeddings, embedding_dim)\n",
    "\n",
    "    def forward(self, inp: Optional[Any] = None, *args, **kwargs):\n",
    "        indices = torch.arange(self.num_embeddings).to(self.device)\n",
    "        return self.embedding(indices)\n"
   ]
  },
  {
   "cell_type": "markdown",
   "metadata": {},
   "source": [
    "### Weight Generator"
   ]
  },
  {
   "cell_type": "code",
   "execution_count": 5,
   "metadata": {},
   "outputs": [],
   "source": [
    "class StaticTorchWeightGenerator(TorchWeightGenerator):\n",
    "    def __init__(self, embedding_dim: int, hidden_dim: int):\n",
    "        super().__init__(embedding_dim, hidden_dim)\n",
    "        self.linear1 = nn.Linear(embedding_dim, 32)\n",
    "        self.linear2 = nn.Linear(32, hidden_dim)\n",
    "\n",
    "    def forward(\n",
    "        self, embedding: torch.Tensor, inp: Optional[Any] = None\n",
    "    ) -> torch.Tensor:\n",
    "        x = self.linear1(embedding)\n",
    "        x = F.relu(x)\n",
    "        return self.linear2(x).view(-1)\n",
    "\n"
   ]
  },
  {
   "cell_type": "markdown",
   "metadata": {},
   "source": [
    "### Making a LunarLander HyperNetwork"
   ]
  },
  {
   "cell_type": "markdown",
   "metadata": {},
   "source": [
    "#### Big Target Network"
   ]
  },
  {
   "cell_type": "code",
   "execution_count": 6,
   "metadata": {},
   "outputs": [
    {
     "data": {
      "text/plain": [
       "69120"
      ]
     },
     "execution_count": 6,
     "metadata": {},
     "output_type": "execute_result"
    }
   ],
   "source": [
    "target_network = nn.Sequential(\n",
    "    nn.Linear(8, 256),\n",
    "    nn.Tanh(),\n",
    "    nn.Linear(256,256),\n",
    "    nn.Tanh(),\n",
    "    nn.Linear(256, 4, bias=False)\n",
    ")\n",
    "pytorch_total_params = sum(p.numel() for p in target_network.parameters() if p.requires_grad)\n",
    "pytorch_total_params"
   ]
  },
  {
   "cell_type": "markdown",
   "metadata": {},
   "source": [
    "#### Much smaller Hypernetwork, with lots of parameter sharing"
   ]
  },
  {
   "cell_type": "code",
   "execution_count": 7,
   "metadata": {},
   "outputs": [
    {
     "data": {
      "text/plain": [
       "21895"
      ]
     },
     "execution_count": 7,
     "metadata": {},
     "output_type": "execute_result"
    }
   ],
   "source": [
    "hypernetwork = TorchHyperNetwork(\n",
    "                            target_network,\n",
    "                            embedding_module_constructor=DefaultTorchEmbeddingModule,\n",
    "                            weight_generator_constructor=StaticTorchWeightGenerator,\n",
    "                            embedding_dim = 32,\n",
    "                            num_embeddings = 512\n",
    "                        )\n",
    "pytorch_total_params = sum(p.numel() for p in hypernetwork.parameters() if p.requires_grad)\n",
    "pytorch_total_params"
   ]
  },
  {
   "cell_type": "code",
   "execution_count": 8,
   "metadata": {},
   "outputs": [],
   "source": [
    "def rollout(env, hypernetwork, render=False) -> float:\n",
    "    with torch.no_grad():\n",
    "        params = hypernetwork.generate_params()\n",
    "        obs = env.reset()\n",
    "        done = False\n",
    "        observations, actions, rewards, rendereds = [], [], [], []\n",
    "        while not done:\n",
    "            rendered = None\n",
    "            if render:\n",
    "                rendered = env.render(mode=\"rgb_array\")\n",
    "                rendereds.append(rendered)\n",
    "\n",
    "            action_logits, _ = hypernetwork(torch.from_numpy(obs).unsqueeze(0), params=params)\n",
    "            dist = Categorical(logits=action_logits)\n",
    "            action = dist.sample().item()\n",
    "            next_obs, r, done, _ = env.step(action)\n",
    "\n",
    "            observations.append(obs)\n",
    "            actions.append(action)\n",
    "            rewards.append(r)\n",
    "\n",
    "            obs = next_obs\n",
    "\n",
    "    env.close()\n",
    "    return observations, actions, rewards, rendereds"
   ]
  },
  {
   "cell_type": "markdown",
   "metadata": {},
   "source": [
    "#### Tensorboard logging"
   ]
  },
  {
   "cell_type": "code",
   "execution_count": 9,
   "metadata": {},
   "outputs": [],
   "source": [
    "import os\n",
    "from torch.utils.tensorboard import SummaryWriter\n",
    "from datetime import datetime\n",
    "\n",
    "def get_tensorboard_logger(\n",
    "    experiment_name: str, base_log_path: str = \"tensorboard_logs\"\n",
    "):\n",
    "    log_path = \"{}/{}_{}\".format(base_log_path, experiment_name, datetime.now())\n",
    "    train_writer = SummaryWriter(log_path, flush_secs=10)\n",
    "    full_log_path = os.path.join(os.getcwd(), log_path)\n",
    "    print(\n",
    "        \"Follow tensorboard logs with: python -m tensorboard.main --logdir '{}'\".format(full_log_path)\n",
    "    )\n",
    "    return train_writer\n"
   ]
  },
  {
   "cell_type": "code",
   "execution_count": 10,
   "metadata": {},
   "outputs": [],
   "source": [
    "def discount_reward(rews, gamma: float = 0.99):\n",
    "    n = len(rews)\n",
    "    rtgs = np.zeros_like(rews)\n",
    "    for i in reversed(range(n)):\n",
    "        rtgs[i] = rews[i] + gamma*(rtgs[i + 1] if i + 1 < n else 0)\n",
    "    return rtgs\n",
    "\n",
    "def reinforce(\n",
    "        num_epochs,\n",
    "        env,\n",
    "        hypernetwork,\n",
    "        lr: float = 0.0001,\n",
    "        gamma: float = 0.99,\n",
    "    ):\n",
    "\n",
    "    writer = get_tensorboard_logger(\"HypernetworkTorchRL\")\n",
    "    optimizer = optim.Adam(hypernetwork.parameters(), lr=lr)\n",
    "\n",
    "    bar = tqdm.tqdm(np.arange(num_epochs))\n",
    "    for i in bar:\n",
    "        observations, actions, rewards, _ = rollout(env, hypernetwork)\n",
    "\n",
    "        discounted_rewards = discount_reward(np.array(rewards), gamma)\n",
    "        discounted_rewards = discounted_rewards - np.mean(discounted_rewards)\n",
    "        discounted_rewards = discounted_rewards / (\n",
    "            np.std(discounted_rewards) + 1e-10\n",
    "        )\n",
    "\n",
    "        observations = torch.from_numpy(np.array(observations)).float().to(hypernetwork.device)\n",
    "        actions = torch.from_numpy(np.array(actions)).float().to(hypernetwork.device)\n",
    "        discounted_rewards = torch.from_numpy(discounted_rewards).float().to(hypernetwork.device)\n",
    "\n",
    "        logits, _ = hypernetwork(observations)\n",
    "        dist = Categorical(logits=logits)\n",
    "        log_probs = dist.log_prob(actions)\n",
    "\n",
    "        optimizer.zero_grad()\n",
    "        loss = -1 * torch.sum(discounted_rewards * log_probs)\n",
    "\n",
    "        loss.backward()\n",
    "        torch.nn.utils.clip_grad_norm_(hypernetwork.parameters(), 10.0)\n",
    "        optimizer.step()\n",
    "\n",
    "        grad_dict = {}\n",
    "        for n, W in hypernetwork.named_parameters():\n",
    "            if W.grad is not None:\n",
    "                grad_dict[\"{}_grad\".format(n)] = float(torch.sum(W.grad).item())\n",
    "\n",
    "        metrics = {\"loss\":loss.item(), \"rewards\":np.sum(rewards), **grad_dict}\n",
    "\n",
    "        for key in metrics:\n",
    "            writer.add_scalar(key, metrics[key], i)\n",
    "\n",
    "        bar.set_description('Loss: {}, Sum Reward: {}'.format(loss.item(), np.sum(rewards)))\n"
   ]
  },
  {
   "cell_type": "code",
   "execution_count": 11,
   "metadata": {},
   "outputs": [],
   "source": [
    "env = gym.make(\"LunarLander-v2\")"
   ]
  },
  {
   "cell_type": "code",
   "execution_count": 12,
   "metadata": {},
   "outputs": [
    {
     "name": "stdout",
     "output_type": "stream",
     "text": [
      "Follow tensorboard logs with: python -m tensorboard.main --logdir '/home/shyam/Code/hyper-nn/notebooks/tensorboard_logs/HypernetworkTorchRL_2022-03-14 22:09:54.435272'\n"
     ]
    },
    {
     "name": "stderr",
     "output_type": "stream",
     "text": [
      "Loss: 3.263174295425415, Sum Reward: 24.157279283736216:   4%|▍         | 3822/100000 [12:25<5:12:28,  5.13it/s]     \n"
     ]
    },
    {
     "ename": "KeyboardInterrupt",
     "evalue": "",
     "output_type": "error",
     "traceback": [
      "\u001b[0;31m---------------------------------------------------------------------------\u001b[0m",
      "\u001b[0;31mKeyboardInterrupt\u001b[0m                         Traceback (most recent call last)",
      "\u001b[0;32m/tmp/ipykernel_38241/750271801.py\u001b[0m in \u001b[0;36m<module>\u001b[0;34m\u001b[0m\n\u001b[0;32m----> 1\u001b[0;31m \u001b[0mreinforce\u001b[0m\u001b[0;34m(\u001b[0m\u001b[0;36m100000\u001b[0m\u001b[0;34m,\u001b[0m \u001b[0menv\u001b[0m\u001b[0;34m,\u001b[0m \u001b[0mhypernetwork\u001b[0m\u001b[0;34m)\u001b[0m\u001b[0;34m\u001b[0m\u001b[0;34m\u001b[0m\u001b[0m\n\u001b[0m",
      "\u001b[0;32m/tmp/ipykernel_38241/4104000928.py\u001b[0m in \u001b[0;36mreinforce\u001b[0;34m(num_epochs, env, hypernetwork, lr, gamma)\u001b[0m\n\u001b[1;32m     19\u001b[0m     \u001b[0mbar\u001b[0m \u001b[0;34m=\u001b[0m \u001b[0mtqdm\u001b[0m\u001b[0;34m.\u001b[0m\u001b[0mtqdm\u001b[0m\u001b[0;34m(\u001b[0m\u001b[0mnp\u001b[0m\u001b[0;34m.\u001b[0m\u001b[0marange\u001b[0m\u001b[0;34m(\u001b[0m\u001b[0mnum_epochs\u001b[0m\u001b[0;34m)\u001b[0m\u001b[0;34m)\u001b[0m\u001b[0;34m\u001b[0m\u001b[0;34m\u001b[0m\u001b[0m\n\u001b[1;32m     20\u001b[0m     \u001b[0;32mfor\u001b[0m \u001b[0mi\u001b[0m \u001b[0;32min\u001b[0m \u001b[0mbar\u001b[0m\u001b[0;34m:\u001b[0m\u001b[0;34m\u001b[0m\u001b[0;34m\u001b[0m\u001b[0m\n\u001b[0;32m---> 21\u001b[0;31m         \u001b[0mobservations\u001b[0m\u001b[0;34m,\u001b[0m \u001b[0mactions\u001b[0m\u001b[0;34m,\u001b[0m \u001b[0mrewards\u001b[0m\u001b[0;34m,\u001b[0m \u001b[0m_\u001b[0m \u001b[0;34m=\u001b[0m \u001b[0mrollout\u001b[0m\u001b[0;34m(\u001b[0m\u001b[0menv\u001b[0m\u001b[0;34m,\u001b[0m \u001b[0mhypernetwork\u001b[0m\u001b[0;34m)\u001b[0m\u001b[0;34m\u001b[0m\u001b[0;34m\u001b[0m\u001b[0m\n\u001b[0m\u001b[1;32m     22\u001b[0m \u001b[0;34m\u001b[0m\u001b[0m\n\u001b[1;32m     23\u001b[0m         \u001b[0mdiscounted_rewards\u001b[0m \u001b[0;34m=\u001b[0m \u001b[0mdiscount_reward\u001b[0m\u001b[0;34m(\u001b[0m\u001b[0mnp\u001b[0m\u001b[0;34m.\u001b[0m\u001b[0marray\u001b[0m\u001b[0;34m(\u001b[0m\u001b[0mrewards\u001b[0m\u001b[0;34m)\u001b[0m\u001b[0;34m,\u001b[0m \u001b[0mgamma\u001b[0m\u001b[0;34m)\u001b[0m\u001b[0;34m\u001b[0m\u001b[0;34m\u001b[0m\u001b[0m\n",
      "\u001b[0;32m/tmp/ipykernel_38241/2886045742.py\u001b[0m in \u001b[0;36mrollout\u001b[0;34m(env, hypernetwork, render)\u001b[0m\n\u001b[1;32m     14\u001b[0m             \u001b[0mdist\u001b[0m \u001b[0;34m=\u001b[0m \u001b[0mCategorical\u001b[0m\u001b[0;34m(\u001b[0m\u001b[0mlogits\u001b[0m\u001b[0;34m=\u001b[0m\u001b[0maction_logits\u001b[0m\u001b[0;34m)\u001b[0m\u001b[0;34m\u001b[0m\u001b[0;34m\u001b[0m\u001b[0m\n\u001b[1;32m     15\u001b[0m             \u001b[0maction\u001b[0m \u001b[0;34m=\u001b[0m \u001b[0mdist\u001b[0m\u001b[0;34m.\u001b[0m\u001b[0msample\u001b[0m\u001b[0;34m(\u001b[0m\u001b[0;34m)\u001b[0m\u001b[0;34m.\u001b[0m\u001b[0mitem\u001b[0m\u001b[0;34m(\u001b[0m\u001b[0;34m)\u001b[0m\u001b[0;34m\u001b[0m\u001b[0;34m\u001b[0m\u001b[0m\n\u001b[0;32m---> 16\u001b[0;31m             \u001b[0mnext_obs\u001b[0m\u001b[0;34m,\u001b[0m \u001b[0mr\u001b[0m\u001b[0;34m,\u001b[0m \u001b[0mdone\u001b[0m\u001b[0;34m,\u001b[0m \u001b[0m_\u001b[0m \u001b[0;34m=\u001b[0m \u001b[0menv\u001b[0m\u001b[0;34m.\u001b[0m\u001b[0mstep\u001b[0m\u001b[0;34m(\u001b[0m\u001b[0maction\u001b[0m\u001b[0;34m)\u001b[0m\u001b[0;34m\u001b[0m\u001b[0;34m\u001b[0m\u001b[0m\n\u001b[0m\u001b[1;32m     17\u001b[0m \u001b[0;34m\u001b[0m\u001b[0m\n\u001b[1;32m     18\u001b[0m             \u001b[0mobservations\u001b[0m\u001b[0;34m.\u001b[0m\u001b[0mappend\u001b[0m\u001b[0;34m(\u001b[0m\u001b[0mobs\u001b[0m\u001b[0;34m)\u001b[0m\u001b[0;34m\u001b[0m\u001b[0;34m\u001b[0m\u001b[0m\n",
      "\u001b[0;32m~/anaconda3/envs/pycanvas/lib/python3.9/site-packages/gym/wrappers/time_limit.py\u001b[0m in \u001b[0;36mstep\u001b[0;34m(self, action)\u001b[0m\n\u001b[1;32m     14\u001b[0m     \u001b[0;32mdef\u001b[0m \u001b[0mstep\u001b[0m\u001b[0;34m(\u001b[0m\u001b[0mself\u001b[0m\u001b[0;34m,\u001b[0m \u001b[0maction\u001b[0m\u001b[0;34m)\u001b[0m\u001b[0;34m:\u001b[0m\u001b[0;34m\u001b[0m\u001b[0;34m\u001b[0m\u001b[0m\n\u001b[1;32m     15\u001b[0m         \u001b[0;32massert\u001b[0m \u001b[0mself\u001b[0m\u001b[0;34m.\u001b[0m\u001b[0m_elapsed_steps\u001b[0m \u001b[0;32mis\u001b[0m \u001b[0;32mnot\u001b[0m \u001b[0;32mNone\u001b[0m\u001b[0;34m,\u001b[0m \u001b[0;34m\"Cannot call env.step() before calling reset()\"\u001b[0m\u001b[0;34m\u001b[0m\u001b[0;34m\u001b[0m\u001b[0m\n\u001b[0;32m---> 16\u001b[0;31m         \u001b[0mobservation\u001b[0m\u001b[0;34m,\u001b[0m \u001b[0mreward\u001b[0m\u001b[0;34m,\u001b[0m \u001b[0mdone\u001b[0m\u001b[0;34m,\u001b[0m \u001b[0minfo\u001b[0m \u001b[0;34m=\u001b[0m \u001b[0mself\u001b[0m\u001b[0;34m.\u001b[0m\u001b[0menv\u001b[0m\u001b[0;34m.\u001b[0m\u001b[0mstep\u001b[0m\u001b[0;34m(\u001b[0m\u001b[0maction\u001b[0m\u001b[0;34m)\u001b[0m\u001b[0;34m\u001b[0m\u001b[0;34m\u001b[0m\u001b[0m\n\u001b[0m\u001b[1;32m     17\u001b[0m         \u001b[0mself\u001b[0m\u001b[0;34m.\u001b[0m\u001b[0m_elapsed_steps\u001b[0m \u001b[0;34m+=\u001b[0m \u001b[0;36m1\u001b[0m\u001b[0;34m\u001b[0m\u001b[0;34m\u001b[0m\u001b[0m\n\u001b[1;32m     18\u001b[0m         \u001b[0;32mif\u001b[0m \u001b[0mself\u001b[0m\u001b[0;34m.\u001b[0m\u001b[0m_elapsed_steps\u001b[0m \u001b[0;34m>=\u001b[0m \u001b[0mself\u001b[0m\u001b[0;34m.\u001b[0m\u001b[0m_max_episode_steps\u001b[0m\u001b[0;34m:\u001b[0m\u001b[0;34m\u001b[0m\u001b[0;34m\u001b[0m\u001b[0m\n",
      "\u001b[0;32m~/anaconda3/envs/pycanvas/lib/python3.9/site-packages/gym/envs/box2d/lunar_lander.py\u001b[0m in \u001b[0;36mstep\u001b[0;34m(self, action)\u001b[0m\n\u001b[1;32m    279\u001b[0m             \u001b[0mself\u001b[0m\u001b[0;34m.\u001b[0m\u001b[0mlander\u001b[0m\u001b[0;34m.\u001b[0m\u001b[0mApplyLinearImpulse\u001b[0m\u001b[0;34m(\u001b[0m \u001b[0;34m(\u001b[0m\u001b[0;34m-\u001b[0m\u001b[0mox\u001b[0m\u001b[0;34m*\u001b[0m\u001b[0mSIDE_ENGINE_POWER\u001b[0m\u001b[0;34m*\u001b[0m\u001b[0ms_power\u001b[0m\u001b[0;34m,\u001b[0m \u001b[0;34m-\u001b[0m\u001b[0moy\u001b[0m\u001b[0;34m*\u001b[0m\u001b[0mSIDE_ENGINE_POWER\u001b[0m\u001b[0;34m*\u001b[0m\u001b[0ms_power\u001b[0m\u001b[0;34m)\u001b[0m\u001b[0;34m,\u001b[0m \u001b[0mimpulse_pos\u001b[0m\u001b[0;34m,\u001b[0m \u001b[0;32mTrue\u001b[0m\u001b[0;34m)\u001b[0m\u001b[0;34m\u001b[0m\u001b[0;34m\u001b[0m\u001b[0m\n\u001b[1;32m    280\u001b[0m \u001b[0;34m\u001b[0m\u001b[0m\n\u001b[0;32m--> 281\u001b[0;31m         \u001b[0mself\u001b[0m\u001b[0;34m.\u001b[0m\u001b[0mworld\u001b[0m\u001b[0;34m.\u001b[0m\u001b[0mStep\u001b[0m\u001b[0;34m(\u001b[0m\u001b[0;36m1.0\u001b[0m\u001b[0;34m/\u001b[0m\u001b[0mFPS\u001b[0m\u001b[0;34m,\u001b[0m \u001b[0;36m6\u001b[0m\u001b[0;34m*\u001b[0m\u001b[0;36m30\u001b[0m\u001b[0;34m,\u001b[0m \u001b[0;36m2\u001b[0m\u001b[0;34m*\u001b[0m\u001b[0;36m30\u001b[0m\u001b[0;34m)\u001b[0m\u001b[0;34m\u001b[0m\u001b[0;34m\u001b[0m\u001b[0m\n\u001b[0m\u001b[1;32m    282\u001b[0m \u001b[0;34m\u001b[0m\u001b[0m\n\u001b[1;32m    283\u001b[0m         \u001b[0mpos\u001b[0m \u001b[0;34m=\u001b[0m \u001b[0mself\u001b[0m\u001b[0;34m.\u001b[0m\u001b[0mlander\u001b[0m\u001b[0;34m.\u001b[0m\u001b[0mposition\u001b[0m\u001b[0;34m\u001b[0m\u001b[0;34m\u001b[0m\u001b[0m\n",
      "\u001b[0;32m~/anaconda3/envs/pycanvas/lib/python3.9/site-packages/gym/envs/box2d/lunar_lander.py\u001b[0m in \u001b[0;36mBeginContact\u001b[0;34m(self, contact)\u001b[0m\n\u001b[1;32m     60\u001b[0m         \u001b[0mcontactListener\u001b[0m\u001b[0;34m.\u001b[0m\u001b[0m__init__\u001b[0m\u001b[0;34m(\u001b[0m\u001b[0mself\u001b[0m\u001b[0;34m)\u001b[0m\u001b[0;34m\u001b[0m\u001b[0;34m\u001b[0m\u001b[0m\n\u001b[1;32m     61\u001b[0m         \u001b[0mself\u001b[0m\u001b[0;34m.\u001b[0m\u001b[0menv\u001b[0m \u001b[0;34m=\u001b[0m \u001b[0menv\u001b[0m\u001b[0;34m\u001b[0m\u001b[0;34m\u001b[0m\u001b[0m\n\u001b[0;32m---> 62\u001b[0;31m     \u001b[0;32mdef\u001b[0m \u001b[0mBeginContact\u001b[0m\u001b[0;34m(\u001b[0m\u001b[0mself\u001b[0m\u001b[0;34m,\u001b[0m \u001b[0mcontact\u001b[0m\u001b[0;34m)\u001b[0m\u001b[0;34m:\u001b[0m\u001b[0;34m\u001b[0m\u001b[0;34m\u001b[0m\u001b[0m\n\u001b[0m\u001b[1;32m     63\u001b[0m         \u001b[0;32mif\u001b[0m \u001b[0mself\u001b[0m\u001b[0;34m.\u001b[0m\u001b[0menv\u001b[0m\u001b[0;34m.\u001b[0m\u001b[0mlander\u001b[0m\u001b[0;34m==\u001b[0m\u001b[0mcontact\u001b[0m\u001b[0;34m.\u001b[0m\u001b[0mfixtureA\u001b[0m\u001b[0;34m.\u001b[0m\u001b[0mbody\u001b[0m \u001b[0;32mor\u001b[0m \u001b[0mself\u001b[0m\u001b[0;34m.\u001b[0m\u001b[0menv\u001b[0m\u001b[0;34m.\u001b[0m\u001b[0mlander\u001b[0m\u001b[0;34m==\u001b[0m\u001b[0mcontact\u001b[0m\u001b[0;34m.\u001b[0m\u001b[0mfixtureB\u001b[0m\u001b[0;34m.\u001b[0m\u001b[0mbody\u001b[0m\u001b[0;34m:\u001b[0m\u001b[0;34m\u001b[0m\u001b[0;34m\u001b[0m\u001b[0m\n\u001b[1;32m     64\u001b[0m             \u001b[0mself\u001b[0m\u001b[0;34m.\u001b[0m\u001b[0menv\u001b[0m\u001b[0;34m.\u001b[0m\u001b[0mgame_over\u001b[0m \u001b[0;34m=\u001b[0m \u001b[0;32mTrue\u001b[0m\u001b[0;34m\u001b[0m\u001b[0;34m\u001b[0m\u001b[0m\n",
      "\u001b[0;31mKeyboardInterrupt\u001b[0m: "
     ]
    }
   ],
   "source": [
    "reinforce(100000, env, hypernetwork)"
   ]
  },
  {
   "cell_type": "code",
   "execution_count": 13,
   "metadata": {},
   "outputs": [],
   "source": [
    "env = gym.make(\"LunarLander-v2\")\n",
    "observations, actions, rewards, rendereds = rollout(env, hypernetwork, render=True)"
   ]
  },
  {
   "cell_type": "code",
   "execution_count": 19,
   "metadata": {},
   "outputs": [],
   "source": [
    "import numpy as np\n",
    "import matplotlib\n",
    "import matplotlib.pyplot as plt\n",
    "%matplotlib ipympl\n",
    "\n",
    "plt.style.use('ggplot')\n",
    "# Imports specifically so we can render outputs in Jupyter.\n",
    "from JSAnimation.IPython_display import display_animation\n",
    "from matplotlib import animation\n",
    "from IPython.display import display\n",
    "from celluloid import Camera\n",
    "from IPython.display import HTML\n",
    "\n",
    "\n",
    "def render_rollout(model):\n",
    "    fig = plt.figure(\"Animation\",figsize=(7,5))\n",
    "    camera = Camera(fig)\n",
    "    ax = fig.add_subplot(111)\n",
    "    observations, actions, rewards, rendereds = rollout(gym.make(\"LunarLander-v2\"), model, render=True)\n",
    "    frames = []\n",
    "    for r in rendereds:\n",
    "        frame = ax.imshow(r)\n",
    "        ax.axis('off')\n",
    "        camera.snap()\n",
    "        frames.append([frame])\n",
    "    animation = camera.animate(blit=False, interval=50)\n",
    "    # display(animations.to_html5_video())\n",
    "    animation.save('animation.mp4')\n",
    "    return animation\n"
   ]
  },
  {
   "cell_type": "code",
   "execution_count": 20,
   "metadata": {},
   "outputs": [
    {
     "data": {
      "application/vnd.jupyter.widget-view+json": {
       "model_id": "433fe1e93af544bf8c2ad67ba5a72399",
       "version_major": 2,
       "version_minor": 0
      },
      "image/png": "[encoded data removed]",
      "text/html": [
       "\n",
       "            <div style=\"display: inline-block;\">\n",
       "                <div class=\"jupyter-widgets widget-label\" style=\"text-align: center;\">\n",
       "                    Animation\n",
       "                </div>\n",
       "                <img src='data:image/png;base64,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' width=700.0/>\n",
       "            </div>\n",
       "        "
      ],
      "text/plain": [
       "Canvas(toolbar=Toolbar(toolitems=[('Home', 'Reset original view', 'home', 'home'), ('Back', 'Back to previous …"
      ]
     },
     "metadata": {},
     "output_type": "display_data"
    }
   ],
   "source": [
    "vid = render_rollout(hypernetwork)"
   ]
  },
  {
   "cell_type": "code",
   "execution_count": 21,
   "metadata": {},
   "outputs": [
    {
     "data": {
      "text/html": [
       "<video src=\"animation.mp4\" controls  >\n",
       "      Your browser does not support the <code>video</code> element.\n",
       "    </video>"
      ],
      "text/plain": [
       "<IPython.core.display.Video object>"
      ]
     },
     "execution_count": 21,
     "metadata": {},
     "output_type": "execute_result"
    }
   ],
   "source": [
    "from IPython.display import Video\n",
    "\n",
    "Video(\"animation.mp4\")"
   ]
  }
 ],
 "metadata": {
  "interpreter": {
   "hash": "1d64cb66d3d902aa83000daa06ca958bef94bde318911a82aee5f8df2bb8934b"
  },
  "kernelspec": {
   "display_name": "Python 3.9.7 ('pycanvas')",
   "language": "python",
   "name": "python3"
  },
  "language_info": {
   "codemirror_mode": {
    "name": "ipython",
    "version": 3
   },
   "file_extension": ".py",
   "mimetype": "text/x-python",
   "name": "python",
   "nbconvert_exporter": "python",
   "pygments_lexer": "ipython3",
   "version": "3.9.7"
  },
  "orig_nbformat": 4
 },
 "nbformat": 4,
 "nbformat_minor": 2
}
