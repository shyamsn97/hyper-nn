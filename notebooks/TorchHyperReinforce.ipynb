{
 "cells": [
  {
   "cell_type": "code",
   "execution_count": 1,
   "metadata": {},
   "outputs": [],
   "source": [
    "# Uncomment this to install dependencies for this notebook\n",
    "# !pip install gym\n",
    "# !pip install tqdm\n",
    "# !pip install tensorboard\n",
    "# !pip install ipympl"
   ]
  },
  {
   "cell_type": "code",
   "execution_count": 2,
   "metadata": {},
   "outputs": [],
   "source": [
    "import gym\n",
    "import numpy as np\n",
    "import torch\n",
    "import torch.nn as nn\n",
    "import torch.nn.functional as F\n",
    "from torch.distributions.categorical import Categorical\n",
    "import tqdm\n",
    "import torch.optim as optim\n"
   ]
  },
  {
   "cell_type": "code",
   "execution_count": 3,
   "metadata": {},
   "outputs": [],
   "source": [
    "from hypernn.torch.hypernet import TorchHyperNetwork\n",
    "from hypernn.torch.weight_generator import TorchWeightGenerator\n",
    "from hypernn.torch.embedding_module import TorchEmbeddingModule"
   ]
  },
  {
   "cell_type": "markdown",
   "metadata": {},
   "source": [
    "## Basic Hypernetwork"
   ]
  },
  {
   "cell_type": "markdown",
   "metadata": {},
   "source": [
    "### 3 Components:\n",
    "- EmbeddingModule: Layer / general parameter embeddings to be passed into the weight generator\n",
    "- WeightGenerator: Shared network used to generate parameters from each embedding in the EmbeddingModule\n",
    "- Hypernetwork: Combines EmbeddingModule & WeightGenerator for end to end parameter generator"
   ]
  },
  {
   "cell_type": "markdown",
   "metadata": {},
   "source": [
    "### EmbeddingModule"
   ]
  },
  {
   "cell_type": "code",
   "execution_count": 4,
   "metadata": {},
   "outputs": [],
   "source": [
    "from typing import Optional, Any\n",
    "\n",
    "class DefaultTorchEmbeddingModule(TorchEmbeddingModule):\n",
    "    def __init__(self, embedding_dim: int, num_embeddings: int):\n",
    "        super().__init__(embedding_dim, num_embeddings)\n",
    "        self.embedding = nn.Embedding(num_embeddings, embedding_dim)\n",
    "\n",
    "    def forward(self, inp: Optional[Any] = None, *args, **kwargs):\n",
    "        indices = torch.arange(self.num_embeddings).to(self.device)\n",
    "        return self.embedding(indices)\n"
   ]
  },
  {
   "cell_type": "markdown",
   "metadata": {},
   "source": [
    "### Weight Generator"
   ]
  },
  {
   "cell_type": "code",
   "execution_count": 5,
   "metadata": {},
   "outputs": [],
   "source": [
    "class StaticTorchWeightGenerator(TorchWeightGenerator):\n",
    "    def __init__(self, embedding_dim: int, hidden_dim: int):\n",
    "        super().__init__(embedding_dim, hidden_dim)\n",
    "        self.linear1 = nn.Linear(embedding_dim, 32)\n",
    "        self.linear2 = nn.Linear(32, hidden_dim)\n",
    "\n",
    "    def forward(\n",
    "        self, embedding: torch.Tensor, inp: Optional[Any] = None\n",
    "    ) -> torch.Tensor:\n",
    "        x = self.linear1(embedding)\n",
    "        x = F.relu(x)\n",
    "        return self.linear2(x).view(-1)\n",
    "\n"
   ]
  },
  {
   "cell_type": "markdown",
   "metadata": {},
   "source": [
    "### Making a LunarLander HyperNetwork"
   ]
  },
  {
   "cell_type": "markdown",
   "metadata": {},
   "source": [
    "#### Big Target Network"
   ]
  },
  {
   "cell_type": "code",
   "execution_count": 6,
   "metadata": {},
   "outputs": [
    {
     "data": {
      "text/plain": [
       "69120"
      ]
     },
     "execution_count": 6,
     "metadata": {},
     "output_type": "execute_result"
    }
   ],
   "source": [
    "target_network = nn.Sequential(\n",
    "    nn.Linear(8, 256),\n",
    "    nn.Tanh(),\n",
    "    nn.Linear(256,256),\n",
    "    nn.Tanh(),\n",
    "    nn.Linear(256, 4, bias=False)\n",
    ")\n",
    "pytorch_total_params = sum(p.numel() for p in target_network.parameters() if p.requires_grad)\n",
    "pytorch_total_params"
   ]
  },
  {
   "cell_type": "markdown",
   "metadata": {},
   "source": [
    "#### Much smaller Hypernetwork, with lots of parameter sharing"
   ]
  },
  {
   "cell_type": "code",
   "execution_count": 7,
   "metadata": {},
   "outputs": [
    {
     "data": {
      "text/plain": [
       "21895"
      ]
     },
     "execution_count": 7,
     "metadata": {},
     "output_type": "execute_result"
    }
   ],
   "source": [
    "hypernetwork = TorchHyperNetwork(\n",
    "                            target_network,\n",
    "                            embedding_module_constructor=DefaultTorchEmbeddingModule,\n",
    "                            weight_generator_constructor=StaticTorchWeightGenerator,\n",
    "                            embedding_dim = 32,\n",
    "                            num_embeddings = 512\n",
    "                        )\n",
    "pytorch_total_params = sum(p.numel() for p in hypernetwork.parameters() if p.requires_grad)\n",
    "pytorch_total_params"
   ]
  },
  {
   "cell_type": "code",
   "execution_count": 8,
   "metadata": {},
   "outputs": [],
   "source": [
    "def rollout(env, hypernetwork, render=False) -> float:\n",
    "    with torch.no_grad():\n",
    "        params = hypernetwork.generate_params()\n",
    "        obs = env.reset()\n",
    "        done = False\n",
    "        observations, actions, rewards, rendereds = [], [], [], []\n",
    "        while not done:\n",
    "            rendered = None\n",
    "            if render:\n",
    "                rendered = env.render(mode=\"rgb_array\")\n",
    "                rendereds.append(rendered)\n",
    "\n",
    "            action_logits, _ = hypernetwork(torch.from_numpy(obs).unsqueeze(0), params=params)\n",
    "            dist = Categorical(logits=action_logits)\n",
    "            action = dist.sample().item()\n",
    "            next_obs, r, done, _ = env.step(action)\n",
    "\n",
    "            observations.append(obs)\n",
    "            actions.append(action)\n",
    "            rewards.append(r)\n",
    "\n",
    "            obs = next_obs\n",
    "\n",
    "    env.close()\n",
    "    return observations, actions, rewards, rendereds"
   ]
  },
  {
   "cell_type": "markdown",
   "metadata": {},
   "source": [
    "#### Tensorboard logging"
   ]
  },
  {
   "cell_type": "code",
   "execution_count": 9,
   "metadata": {},
   "outputs": [],
   "source": [
    "import os\n",
    "from torch.utils.tensorboard import SummaryWriter\n",
    "from datetime import datetime\n",
    "\n",
    "def get_tensorboard_logger(\n",
    "    experiment_name: str, base_log_path: str = \"tensorboard_logs\"\n",
    "):\n",
    "    log_path = \"{}/{}_{}\".format(base_log_path, experiment_name, datetime.now())\n",
    "    train_writer = SummaryWriter(log_path, flush_secs=10)\n",
    "    full_log_path = os.path.join(os.getcwd(), log_path)\n",
    "    print(\n",
    "        \"Follow tensorboard logs with: python -m tensorboard.main --logdir '{}'\".format(full_log_path)\n",
    "    )\n",
    "    return train_writer\n"
   ]
  },
  {
   "cell_type": "code",
   "execution_count": 10,
   "metadata": {},
   "outputs": [],
   "source": [
    "def discount_reward(rews, gamma: float = 0.99):\n",
    "    n = len(rews)\n",
    "    rtgs = np.zeros_like(rews)\n",
    "    for i in reversed(range(n)):\n",
    "        rtgs[i] = rews[i] + gamma*(rtgs[i + 1] if i + 1 < n else 0)\n",
    "    return rtgs\n",
    "\n",
    "def reinforce(\n",
    "        num_epochs,\n",
    "        env,\n",
    "        hypernetwork,\n",
    "        lr: float = 0.0001,\n",
    "        gamma: float = 0.99,\n",
    "    ):\n",
    "\n",
    "    writer = get_tensorboard_logger(\"HypernetworkTorchRL\")\n",
    "    optimizer = optim.Adam(hypernetwork.parameters(), lr=lr)\n",
    "\n",
    "    bar = tqdm.tqdm(np.arange(num_epochs))\n",
    "    for i in bar:\n",
    "        observations, actions, rewards, _ = rollout(env, hypernetwork)\n",
    "\n",
    "        discounted_rewards = discount_reward(np.array(rewards), gamma)\n",
    "        discounted_rewards = discounted_rewards - np.mean(discounted_rewards)\n",
    "        discounted_rewards = discounted_rewards / (\n",
    "            np.std(discounted_rewards) + 1e-10\n",
    "        )\n",
    "\n",
    "        observations = torch.from_numpy(np.array(observations)).float().to(hypernetwork.device)\n",
    "        actions = torch.from_numpy(np.array(actions)).float().to(hypernetwork.device)\n",
    "        discounted_rewards = torch.from_numpy(discounted_rewards).float().to(hypernetwork.device)\n",
    "\n",
    "        logits, _ = hypernetwork(observations)\n",
    "        dist = Categorical(logits=logits)\n",
    "        log_probs = dist.log_prob(actions)\n",
    "\n",
    "        optimizer.zero_grad()\n",
    "        loss = -1 * torch.sum(discounted_rewards * log_probs)\n",
    "\n",
    "        loss.backward()\n",
    "        torch.nn.utils.clip_grad_norm_(hypernetwork.parameters(), 10.0)\n",
    "        optimizer.step()\n",
    "\n",
    "        grad_dict = {}\n",
    "        for n, W in hypernetwork.named_parameters():\n",
    "            if W.grad is not None:\n",
    "                grad_dict[\"{}_grad\".format(n)] = float(torch.sum(W.grad).item())\n",
    "\n",
    "        metrics = {\"loss\":loss.item(), \"rewards\":np.sum(rewards), **grad_dict}\n",
    "\n",
    "        for key in metrics:\n",
    "            writer.add_scalar(key, metrics[key], i)\n",
    "\n",
    "        bar.set_description('Loss: {}, Sum Reward: {}'.format(loss.item(), np.sum(rewards)))\n"
   ]
  },
  {
   "cell_type": "code",
   "execution_count": 11,
   "metadata": {},
   "outputs": [],
   "source": [
    "env = gym.make(\"LunarLander-v2\")"
   ]
  },
  {
   "cell_type": "code",
   "execution_count": 12,
   "metadata": {},
   "outputs": [
    {
     "name": "stdout",
     "output_type": "stream",
     "text": [
      "Follow tensorboard logs with: python -m tensorboard.main --logdir '/home/shyam/Code/hyper-nn/notebooks/tensorboard_logs/HypernetworkTorchRL_2022-03-14 22:09:54.435272'\n"
     ]
    },
    {
     "name": "stderr",
     "output_type": "stream",
     "text": [
      "Loss: 3.263174295425415, Sum Reward: 24.157279283736216:   4%|▍         | 3822/100000 [12:25<5:12:28,  5.13it/s]     \n"
     ]
    },
    {
     "ename": "KeyboardInterrupt",
     "evalue": "",
     "output_type": "error",
     "traceback": [
      "\u001b[0;31m---------------------------------------------------------------------------\u001b[0m",
      "\u001b[0;31mKeyboardInterrupt\u001b[0m                         Traceback (most recent call last)",
      "\u001b[0;32m/tmp/ipykernel_38241/750271801.py\u001b[0m in \u001b[0;36m<module>\u001b[0;34m\u001b[0m\n\u001b[0;32m----> 1\u001b[0;31m \u001b[0mreinforce\u001b[0m\u001b[0;34m(\u001b[0m\u001b[0;36m100000\u001b[0m\u001b[0;34m,\u001b[0m \u001b[0menv\u001b[0m\u001b[0;34m,\u001b[0m \u001b[0mhypernetwork\u001b[0m\u001b[0;34m)\u001b[0m\u001b[0;34m\u001b[0m\u001b[0;34m\u001b[0m\u001b[0m\n\u001b[0m",
      "\u001b[0;32m/tmp/ipykernel_38241/4104000928.py\u001b[0m in \u001b[0;36mreinforce\u001b[0;34m(num_epochs, env, hypernetwork, lr, gamma)\u001b[0m\n\u001b[1;32m     19\u001b[0m     \u001b[0mbar\u001b[0m \u001b[0;34m=\u001b[0m \u001b[0mtqdm\u001b[0m\u001b[0;34m.\u001b[0m\u001b[0mtqdm\u001b[0m\u001b[0;34m(\u001b[0m\u001b[0mnp\u001b[0m\u001b[0;34m.\u001b[0m\u001b[0marange\u001b[0m\u001b[0;34m(\u001b[0m\u001b[0mnum_epochs\u001b[0m\u001b[0;34m)\u001b[0m\u001b[0;34m)\u001b[0m\u001b[0;34m\u001b[0m\u001b[0;34m\u001b[0m\u001b[0m\n\u001b[1;32m     20\u001b[0m     \u001b[0;32mfor\u001b[0m \u001b[0mi\u001b[0m \u001b[0;32min\u001b[0m \u001b[0mbar\u001b[0m\u001b[0;34m:\u001b[0m\u001b[0;34m\u001b[0m\u001b[0;34m\u001b[0m\u001b[0m\n\u001b[0;32m---> 21\u001b[0;31m         \u001b[0mobservations\u001b[0m\u001b[0;34m,\u001b[0m \u001b[0mactions\u001b[0m\u001b[0;34m,\u001b[0m \u001b[0mrewards\u001b[0m\u001b[0;34m,\u001b[0m \u001b[0m_\u001b[0m \u001b[0;34m=\u001b[0m \u001b[0mrollout\u001b[0m\u001b[0;34m(\u001b[0m\u001b[0menv\u001b[0m\u001b[0;34m,\u001b[0m \u001b[0mhypernetwork\u001b[0m\u001b[0;34m)\u001b[0m\u001b[0;34m\u001b[0m\u001b[0;34m\u001b[0m\u001b[0m\n\u001b[0m\u001b[1;32m     22\u001b[0m \u001b[0;34m\u001b[0m\u001b[0m\n\u001b[1;32m     23\u001b[0m         \u001b[0mdiscounted_rewards\u001b[0m \u001b[0;34m=\u001b[0m \u001b[0mdiscount_reward\u001b[0m\u001b[0;34m(\u001b[0m\u001b[0mnp\u001b[0m\u001b[0;34m.\u001b[0m\u001b[0marray\u001b[0m\u001b[0;34m(\u001b[0m\u001b[0mrewards\u001b[0m\u001b[0;34m)\u001b[0m\u001b[0;34m,\u001b[0m \u001b[0mgamma\u001b[0m\u001b[0;34m)\u001b[0m\u001b[0;34m\u001b[0m\u001b[0;34m\u001b[0m\u001b[0m\n",
      "\u001b[0;32m/tmp/ipykernel_38241/2886045742.py\u001b[0m in \u001b[0;36mrollout\u001b[0;34m(env, hypernetwork, render)\u001b[0m\n\u001b[1;32m     14\u001b[0m             \u001b[0mdist\u001b[0m \u001b[0;34m=\u001b[0m \u001b[0mCategorical\u001b[0m\u001b[0;34m(\u001b[0m\u001b[0mlogits\u001b[0m\u001b[0;34m=\u001b[0m\u001b[0maction_logits\u001b[0m\u001b[0;34m)\u001b[0m\u001b[0;34m\u001b[0m\u001b[0;34m\u001b[0m\u001b[0m\n\u001b[1;32m     15\u001b[0m             \u001b[0maction\u001b[0m \u001b[0;34m=\u001b[0m \u001b[0mdist\u001b[0m\u001b[0;34m.\u001b[0m\u001b[0msample\u001b[0m\u001b[0;34m(\u001b[0m\u001b[0;34m)\u001b[0m\u001b[0;34m.\u001b[0m\u001b[0mitem\u001b[0m\u001b[0;34m(\u001b[0m\u001b[0;34m)\u001b[0m\u001b[0;34m\u001b[0m\u001b[0;34m\u001b[0m\u001b[0m\n\u001b[0;32m---> 16\u001b[0;31m             \u001b[0mnext_obs\u001b[0m\u001b[0;34m,\u001b[0m \u001b[0mr\u001b[0m\u001b[0;34m,\u001b[0m \u001b[0mdone\u001b[0m\u001b[0;34m,\u001b[0m \u001b[0m_\u001b[0m \u001b[0;34m=\u001b[0m \u001b[0menv\u001b[0m\u001b[0;34m.\u001b[0m\u001b[0mstep\u001b[0m\u001b[0;34m(\u001b[0m\u001b[0maction\u001b[0m\u001b[0;34m)\u001b[0m\u001b[0;34m\u001b[0m\u001b[0;34m\u001b[0m\u001b[0m\n\u001b[0m\u001b[1;32m     17\u001b[0m \u001b[0;34m\u001b[0m\u001b[0m\n\u001b[1;32m     18\u001b[0m             \u001b[0mobservations\u001b[0m\u001b[0;34m.\u001b[0m\u001b[0mappend\u001b[0m\u001b[0;34m(\u001b[0m\u001b[0mobs\u001b[0m\u001b[0;34m)\u001b[0m\u001b[0;34m\u001b[0m\u001b[0;34m\u001b[0m\u001b[0m\n",
      "\u001b[0;32m~/anaconda3/envs/pycanvas/lib/python3.9/site-packages/gym/wrappers/time_limit.py\u001b[0m in \u001b[0;36mstep\u001b[0;34m(self, action)\u001b[0m\n\u001b[1;32m     14\u001b[0m     \u001b[0;32mdef\u001b[0m \u001b[0mstep\u001b[0m\u001b[0;34m(\u001b[0m\u001b[0mself\u001b[0m\u001b[0;34m,\u001b[0m \u001b[0maction\u001b[0m\u001b[0;34m)\u001b[0m\u001b[0;34m:\u001b[0m\u001b[0;34m\u001b[0m\u001b[0;34m\u001b[0m\u001b[0m\n\u001b[1;32m     15\u001b[0m         \u001b[0;32massert\u001b[0m \u001b[0mself\u001b[0m\u001b[0;34m.\u001b[0m\u001b[0m_elapsed_steps\u001b[0m \u001b[0;32mis\u001b[0m \u001b[0;32mnot\u001b[0m \u001b[0;32mNone\u001b[0m\u001b[0;34m,\u001b[0m \u001b[0;34m\"Cannot call env.step() before calling reset()\"\u001b[0m\u001b[0;34m\u001b[0m\u001b[0;34m\u001b[0m\u001b[0m\n\u001b[0;32m---> 16\u001b[0;31m         \u001b[0mobservation\u001b[0m\u001b[0;34m,\u001b[0m \u001b[0mreward\u001b[0m\u001b[0;34m,\u001b[0m \u001b[0mdone\u001b[0m\u001b[0;34m,\u001b[0m \u001b[0minfo\u001b[0m \u001b[0;34m=\u001b[0m \u001b[0mself\u001b[0m\u001b[0;34m.\u001b[0m\u001b[0menv\u001b[0m\u001b[0;34m.\u001b[0m\u001b[0mstep\u001b[0m\u001b[0;34m(\u001b[0m\u001b[0maction\u001b[0m\u001b[0;34m)\u001b[0m\u001b[0;34m\u001b[0m\u001b[0;34m\u001b[0m\u001b[0m\n\u001b[0m\u001b[1;32m     17\u001b[0m         \u001b[0mself\u001b[0m\u001b[0;34m.\u001b[0m\u001b[0m_elapsed_steps\u001b[0m \u001b[0;34m+=\u001b[0m \u001b[0;36m1\u001b[0m\u001b[0;34m\u001b[0m\u001b[0;34m\u001b[0m\u001b[0m\n\u001b[1;32m     18\u001b[0m         \u001b[0;32mif\u001b[0m \u001b[0mself\u001b[0m\u001b[0;34m.\u001b[0m\u001b[0m_elapsed_steps\u001b[0m \u001b[0;34m>=\u001b[0m \u001b[0mself\u001b[0m\u001b[0;34m.\u001b[0m\u001b[0m_max_episode_steps\u001b[0m\u001b[0;34m:\u001b[0m\u001b[0;34m\u001b[0m\u001b[0;34m\u001b[0m\u001b[0m\n",
      "\u001b[0;32m~/anaconda3/envs/pycanvas/lib/python3.9/site-packages/gym/envs/box2d/lunar_lander.py\u001b[0m in \u001b[0;36mstep\u001b[0;34m(self, action)\u001b[0m\n\u001b[1;32m    279\u001b[0m             \u001b[0mself\u001b[0m\u001b[0;34m.\u001b[0m\u001b[0mlander\u001b[0m\u001b[0;34m.\u001b[0m\u001b[0mApplyLinearImpulse\u001b[0m\u001b[0;34m(\u001b[0m \u001b[0;34m(\u001b[0m\u001b[0;34m-\u001b[0m\u001b[0mox\u001b[0m\u001b[0;34m*\u001b[0m\u001b[0mSIDE_ENGINE_POWER\u001b[0m\u001b[0;34m*\u001b[0m\u001b[0ms_power\u001b[0m\u001b[0;34m,\u001b[0m \u001b[0;34m-\u001b[0m\u001b[0moy\u001b[0m\u001b[0;34m*\u001b[0m\u001b[0mSIDE_ENGINE_POWER\u001b[0m\u001b[0;34m*\u001b[0m\u001b[0ms_power\u001b[0m\u001b[0;34m)\u001b[0m\u001b[0;34m,\u001b[0m \u001b[0mimpulse_pos\u001b[0m\u001b[0;34m,\u001b[0m \u001b[0;32mTrue\u001b[0m\u001b[0;34m)\u001b[0m\u001b[0;34m\u001b[0m\u001b[0;34m\u001b[0m\u001b[0m\n\u001b[1;32m    280\u001b[0m \u001b[0;34m\u001b[0m\u001b[0m\n\u001b[0;32m--> 281\u001b[0;31m         \u001b[0mself\u001b[0m\u001b[0;34m.\u001b[0m\u001b[0mworld\u001b[0m\u001b[0;34m.\u001b[0m\u001b[0mStep\u001b[0m\u001b[0;34m(\u001b[0m\u001b[0;36m1.0\u001b[0m\u001b[0;34m/\u001b[0m\u001b[0mFPS\u001b[0m\u001b[0;34m,\u001b[0m \u001b[0;36m6\u001b[0m\u001b[0;34m*\u001b[0m\u001b[0;36m30\u001b[0m\u001b[0;34m,\u001b[0m \u001b[0;36m2\u001b[0m\u001b[0;34m*\u001b[0m\u001b[0;36m30\u001b[0m\u001b[0;34m)\u001b[0m\u001b[0;34m\u001b[0m\u001b[0;34m\u001b[0m\u001b[0m\n\u001b[0m\u001b[1;32m    282\u001b[0m \u001b[0;34m\u001b[0m\u001b[0m\n\u001b[1;32m    283\u001b[0m         \u001b[0mpos\u001b[0m \u001b[0;34m=\u001b[0m \u001b[0mself\u001b[0m\u001b[0;34m.\u001b[0m\u001b[0mlander\u001b[0m\u001b[0;34m.\u001b[0m\u001b[0mposition\u001b[0m\u001b[0;34m\u001b[0m\u001b[0;34m\u001b[0m\u001b[0m\n",
      "\u001b[0;32m~/anaconda3/envs/pycanvas/lib/python3.9/site-packages/gym/envs/box2d/lunar_lander.py\u001b[0m in \u001b[0;36mBeginContact\u001b[0;34m(self, contact)\u001b[0m\n\u001b[1;32m     60\u001b[0m         \u001b[0mcontactListener\u001b[0m\u001b[0;34m.\u001b[0m\u001b[0m__init__\u001b[0m\u001b[0;34m(\u001b[0m\u001b[0mself\u001b[0m\u001b[0;34m)\u001b[0m\u001b[0;34m\u001b[0m\u001b[0;34m\u001b[0m\u001b[0m\n\u001b[1;32m     61\u001b[0m         \u001b[0mself\u001b[0m\u001b[0;34m.\u001b[0m\u001b[0menv\u001b[0m \u001b[0;34m=\u001b[0m \u001b[0menv\u001b[0m\u001b[0;34m\u001b[0m\u001b[0;34m\u001b[0m\u001b[0m\n\u001b[0;32m---> 62\u001b[0;31m     \u001b[0;32mdef\u001b[0m \u001b[0mBeginContact\u001b[0m\u001b[0;34m(\u001b[0m\u001b[0mself\u001b[0m\u001b[0;34m,\u001b[0m \u001b[0mcontact\u001b[0m\u001b[0;34m)\u001b[0m\u001b[0;34m:\u001b[0m\u001b[0;34m\u001b[0m\u001b[0;34m\u001b[0m\u001b[0m\n\u001b[0m\u001b[1;32m     63\u001b[0m         \u001b[0;32mif\u001b[0m \u001b[0mself\u001b[0m\u001b[0;34m.\u001b[0m\u001b[0menv\u001b[0m\u001b[0;34m.\u001b[0m\u001b[0mlander\u001b[0m\u001b[0;34m==\u001b[0m\u001b[0mcontact\u001b[0m\u001b[0;34m.\u001b[0m\u001b[0mfixtureA\u001b[0m\u001b[0;34m.\u001b[0m\u001b[0mbody\u001b[0m \u001b[0;32mor\u001b[0m \u001b[0mself\u001b[0m\u001b[0;34m.\u001b[0m\u001b[0menv\u001b[0m\u001b[0;34m.\u001b[0m\u001b[0mlander\u001b[0m\u001b[0;34m==\u001b[0m\u001b[0mcontact\u001b[0m\u001b[0;34m.\u001b[0m\u001b[0mfixtureB\u001b[0m\u001b[0;34m.\u001b[0m\u001b[0mbody\u001b[0m\u001b[0;34m:\u001b[0m\u001b[0;34m\u001b[0m\u001b[0;34m\u001b[0m\u001b[0m\n\u001b[1;32m     64\u001b[0m             \u001b[0mself\u001b[0m\u001b[0;34m.\u001b[0m\u001b[0menv\u001b[0m\u001b[0;34m.\u001b[0m\u001b[0mgame_over\u001b[0m \u001b[0;34m=\u001b[0m \u001b[0;32mTrue\u001b[0m\u001b[0;34m\u001b[0m\u001b[0;34m\u001b[0m\u001b[0m\n",
      "\u001b[0;31mKeyboardInterrupt\u001b[0m: "
     ]
    }
   ],
   "source": [
    "reinforce(100000, env, hypernetwork)"
   ]
  },
  {
   "cell_type": "code",
   "execution_count": 13,
   "metadata": {},
   "outputs": [],
   "source": [
    "env = gym.make(\"LunarLander-v2\")\n",
    "observations, actions, rewards, rendereds = rollout(env, hypernetwork, render=True)"
   ]
  },
  {
   "cell_type": "code",
   "execution_count": 16,
   "metadata": {},
   "outputs": [],
   "source": [
    "import numpy as np\n",
    "import matplotlib\n",
    "import matplotlib.pyplot as plt\n",
    "%matplotlib ipympl\n",
    "\n",
    "plt.style.use('ggplot')\n",
    "# Imports specifically so we can render outputs in Jupyter.\n",
    "from JSAnimation.IPython_display import display_animation\n",
    "from matplotlib import animation\n",
    "from IPython.display import display\n",
    "from celluloid import Camera\n",
    "from IPython.display import HTML\n",
    "\n",
    "\n",
    "def render_rollout(model):\n",
    "    fig = plt.figure(\"Animation\",figsize=(7,5))\n",
    "    camera = Camera(fig)\n",
    "    ax = fig.add_subplot(111)\n",
    "    observations, actions, rewards, rendereds = rollout(gym.make(\"LunarLander-v2\"), model, render=True)\n",
    "    frames = []\n",
    "    for r in rendereds:\n",
    "        frame = ax.imshow(r)\n",
    "        ax.axis('off')\n",
    "        camera.snap()\n",
    "        frames.append([frame])\n",
    "    animation = camera.animate(blit=False, interval=10)\n",
    "    # display(animations.to_html5_video())\n",
    "    animation.save('animation.mp4')\n",
    "    return animation\n"
   ]
  },
  {
   "cell_type": "code",
   "execution_count": 17,
   "metadata": {},
   "outputs": [
    {
     "data": {
      "application/vnd.jupyter.widget-view+json": {
       "model_id": "849b222a2e814b0e9a8a45ba4761ab22",
       "version_major": 2,
       "version_minor": 0
      },
      "image/png": "[encoded data removed]",
      "text/html": [
       "\n",
       "            <div style=\"display: inline-block;\">\n",
       "                <div class=\"jupyter-widgets widget-label\" style=\"text-align: center;\">\n",
       "                    Animation\n",
       "                </div>\n",
       "                <img src='data:image/png;base64,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' width=700.0/>\n",
       "            </div>\n",
       "        "
      ],
      "text/plain": [
       "Canvas(toolbar=Toolbar(toolitems=[('Home', 'Reset original view', 'home', 'home'), ('Back', 'Back to previous …"
      ]
     },
     "metadata": {},
     "output_type": "display_data"
    }
   ],
   "source": [
    "vid = render_rollout(hypernetwork)"
   ]
  },
  {
   "cell_type": "code",
   "execution_count": 18,
   "metadata": {},
   "outputs": [
    {
     "data": {
      "text/html": [
       "<video src=\"animation.mp4\" controls  >\n",
       "      Your browser does not support the <code>video</code> element.\n",
       "    </video>"
      ],
      "text/plain": [
       "<IPython.core.display.Video object>"
      ]
     },
     "execution_count": 18,
     "metadata": {},
     "output_type": "execute_result"
    }
   ],
   "source": [
    "from IPython.display import Video\n",
    "\n",
    "Video(\"animation.mp4\")"
   ]
  }
 ],
 "metadata": {
  "interpreter": {
   "hash": "1d64cb66d3d902aa83000daa06ca958bef94bde318911a82aee5f8df2bb8934b"
  },
  "kernelspec": {
   "display_name": "Python 3.9.7 ('pycanvas')",
   "language": "python",
   "name": "python3"
  },
  "language_info": {
   "codemirror_mode": {
    "name": "ipython",
    "version": 3
   },
   "file_extension": ".py",
   "mimetype": "text/x-python",
   "name": "python",
   "nbconvert_exporter": "python",
   "pygments_lexer": "ipython3",
   "version": "3.9.7"
  },
  "orig_nbformat": 4
 },
 "nbformat": 4,
 "nbformat_minor": 2
}
