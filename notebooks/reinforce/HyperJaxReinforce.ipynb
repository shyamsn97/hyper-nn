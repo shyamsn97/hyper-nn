{
 "cells": [
  {
   "cell_type": "code",
   "execution_count": 13,
   "metadata": {},
   "outputs": [],
   "source": [
    "# uncomment this to enable jax gpu preallocation, might lead to memory issues\n",
    "\n",
    "import os\n",
    "os.environ[\"XLA_PYTHON_CLIENT_PREALLOCATE\"] = \"false\"\n",
    "\n",
    "from typing import Sequence, List, Tuple, Optional\n",
    "\n",
    "import numpy as np\n",
    "import jax\n",
    "import jax.numpy as jnp\n",
    "import flax.linen as nn\n",
    "import optax\n",
    "import gym\n",
    "\n",
    "from hypernn.jax.utils import count_jax_params\n"
   ]
  },
  {
   "cell_type": "code",
   "execution_count": 4,
   "metadata": {},
   "outputs": [],
   "source": [
    "from hypernn.jax.hypernet import JaxHyperNetwork"
   ]
  },
  {
   "cell_type": "markdown",
   "metadata": {},
   "source": [
    "#### Target Policy Network"
   ]
  },
  {
   "cell_type": "code",
   "execution_count": 5,
   "metadata": {},
   "outputs": [],
   "source": [
    "class MLP(nn.Module):\n",
    "\n",
    "    @nn.compact\n",
    "    def __call__(self, x):\n",
    "        x = nn.Dense(256, use_bias=False)(x)\n",
    "        x = nn.tanh(x)\n",
    "        x = nn.Dense(256, use_bias=False)(x)\n",
    "        x = nn.tanh(x)\n",
    "        x = nn.Dense(4, use_bias=False)(x)\n",
    "        return x"
   ]
  },
  {
   "cell_type": "code",
   "execution_count": 6,
   "metadata": {},
   "outputs": [
    {
     "name": "stderr",
     "output_type": "stream",
     "text": [
      "WARNING:absl:No GPU/TPU found, falling back to CPU. (Set TF_CPP_MIN_LOG_LEVEL=0 and rerun for more info.)\n"
     ]
    },
    {
     "data": {
      "text/plain": [
       "68608"
      ]
     },
     "execution_count": 6,
     "metadata": {},
     "output_type": "execute_result"
    }
   ],
   "source": [
    "target_network = MLP()\n",
    "\n",
    "count_jax_params(target_network, inputs=jnp.zeros((1,8)))"
   ]
  },
  {
   "cell_type": "markdown",
   "metadata": {},
   "source": [
    "#### Making a Lunar Lander Hypernetwork with a Custom Weight Generator"
   ]
  },
  {
   "cell_type": "code",
   "execution_count": 7,
   "metadata": {},
   "outputs": [],
   "source": [
    "from typing import Any, Dict, List, Optional, Tuple, Type, Union  # noqa\n",
    "import flax.linen as nn\n",
    "\n",
    "class LunarLanderHypernetwork(JaxHyperNetwork):\n",
    "\n",
    "    def make_weight_generator(self):\n",
    "        return nn.Sequential(\n",
    "            [\n",
    "                nn.Dense(32),\n",
    "                nn.tanh,\n",
    "                nn.Dense(self.weight_chunk_dim)\n",
    "            ]\n",
    "        )\n"
   ]
  },
  {
   "cell_type": "markdown",
   "metadata": {},
   "source": [
    "### We can reduce the number of trainable parameters to less than 10%"
   ]
  },
  {
   "cell_type": "code",
   "execution_count": 8,
   "metadata": {},
   "outputs": [
    {
     "data": {
      "text/plain": [
       "6630"
      ]
     },
     "execution_count": 8,
     "metadata": {},
     "output_type": "execute_result"
    }
   ],
   "source": [
    "EMBEDDING_DIM = 4\n",
    "NUM_EMBEDDINGS = 512\n",
    "\n",
    "hypernetwork = LunarLanderHypernetwork.from_target(\n",
    "    target_network = target_network,\n",
    "    embedding_dim = EMBEDDING_DIM,\n",
    "    num_embeddings = NUM_EMBEDDINGS,\n",
    "    inputs=jnp.zeros((1,8))\n",
    ")\n",
    "count_jax_params(hypernetwork, inputs=[jnp.zeros((1,8))])"
   ]
  },
  {
   "cell_type": "markdown",
   "metadata": {},
   "source": [
    "#### Tensorboard utils"
   ]
  },
  {
   "cell_type": "code",
   "execution_count": 9,
   "metadata": {},
   "outputs": [],
   "source": [
    "import os\n",
    "from torch.utils.tensorboard import SummaryWriter\n",
    "from datetime import datetime\n",
    "\n",
    "def get_tensorboard_logger(\n",
    "    experiment_name: str, base_log_path: str = \"tensorboard_logs\"\n",
    "):\n",
    "    log_path = \"{}/{}_{}\".format(base_log_path, experiment_name, datetime.now())\n",
    "    train_writer = SummaryWriter(log_path, flush_secs=10)\n",
    "    full_log_path = os.path.join(os.getcwd(), log_path)\n",
    "    print(\n",
    "        \"Follow tensorboard logs with: python -m tensorboard.main --logdir '{}'\".format(full_log_path)\n",
    "    )\n",
    "    return train_writer\n"
   ]
  },
  {
   "cell_type": "markdown",
   "metadata": {},
   "source": [
    "#### Rollout function"
   ]
  },
  {
   "cell_type": "code",
   "execution_count": 25,
   "metadata": {},
   "outputs": [],
   "source": [
    "from tensorflow_probability.substrates import jax as tfp\n",
    "\n",
    "import jax\n",
    "import functools\n",
    "\n",
    "@functools.partial(jax.jit, static_argnames=('apply_fn', 'method'))\n",
    "def generate_params(apply_fn, hypernetwork_params, method):\n",
    "    generated_params, _ = apply_fn({'params':hypernetwork_params}, method=method)\n",
    "    return generated_params\n",
    "\n",
    "@functools.partial(jax.jit, static_argnames=('apply_fn'))\n",
    "def sample_actions(apply_fn, hypernetwork_params, obs, generated_params):\n",
    "    out =  apply_fn({'params':hypernetwork_params}, inp=[jnp.expand_dims(jnp.array(obs), 0)], generated_params=generated_params, has_aux=False)\n",
    "    return out\n",
    "\n",
    "def rollout(env, apply_fn, generate_params_fn, hypernetwork_params, render=False, seed: int = 0) -> float:\n",
    "    obs = env.reset()\n",
    "    done = False\n",
    "    observations, actions, rewards, rendereds = [], [], [], []\n",
    "    generated_params = generate_params(apply_fn, hypernetwork_params, generate_params_fn)\n",
    "    while not done:\n",
    "        rendered = None\n",
    "        if render:\n",
    "            rendered = env.render(mode=\"rgb_array\")\n",
    "            rendereds.append(rendered)\n",
    "\n",
    "        out = sample_actions(apply_fn, hypernetwork_params, obs, generated_params)\n",
    "        out = jnp.squeeze(out)\n",
    "        dist = tfp.distributions.Categorical(logits=out)\n",
    "        rng = jax.random.PRNGKey(np.random.randint(0, 10**10))\n",
    "        action = dist.sample(seed=rng).item()\n",
    "\n",
    "        next_obs, r, done, _ = env.step(action)\n",
    "\n",
    "        observations.append(obs)\n",
    "        actions.append(action)\n",
    "        rewards.append(r)\n",
    "\n",
    "        obs = next_obs\n",
    "\n",
    "    num_steps = len(observations)\n",
    "    env.close()\n",
    "    return observations, actions, rewards, rendereds, num_steps"
   ]
  },
  {
   "cell_type": "markdown",
   "metadata": {},
   "source": [
    "#### Reinforce algorithm"
   ]
  },
  {
   "cell_type": "code",
   "execution_count": 26,
   "metadata": {},
   "outputs": [],
   "source": [
    "import optax\n",
    "from flax.training import train_state  # Useful dataclass to keep train state\n",
    "\n",
    "def create_train_state(rng, hypernetwork, learning_rate, input_shape):\n",
    "    \"\"\"Creates initial `TrainState`.\"\"\"\n",
    "    params = hypernetwork.init(rng, [jnp.ones(input_shape)])['params']\n",
    "    # Exponential decay of the learning rate.\n",
    "    scheduler = optax.exponential_decay(\n",
    "        init_value=learning_rate, \n",
    "        transition_steps=1000,\n",
    "        decay_rate=0.99)\n",
    "\n",
    "    tx = optax.chain(\n",
    "        optax.clip_by_global_norm(100.0),\n",
    "        # optax.scale_by_adam(),  # Use the updates from adam.\n",
    "        # optax.scale_by_schedule(scheduler),  # Use the learning rate from the scheduler.\n",
    "        # # Scale updates by -1 since optax.apply_updates is additive and we want to descend on the loss.\n",
    "        # optax.scale(-1.0)\n",
    "        optax.adam(learning_rate)\n",
    "    )\n",
    "    return train_state.TrainState.create(\n",
    "        apply_fn=hypernetwork.apply, params=params, tx=tx)\n",
    "\n",
    "@functools.partial(jax.jit, static_argnames=('apply_fn'))\n",
    "def train_step(apply_fn, state, observations, actions, discounted_rewards):\n",
    "    def loss_fn(params):\n",
    "        logits = apply_fn({'params':params}, inp=[observations], has_aux=False)\n",
    "        dist = tfp.distributions.Categorical(logits=jnp.squeeze(logits))\n",
    "        log_probs = jnp.squeeze(dist.log_prob(actions))\n",
    "        loss = jnp.sum(discounted_rewards * log_probs)\n",
    "        return -1*loss\n",
    "    grad_fn = jax.value_and_grad(loss_fn)\n",
    "    loss, grads = grad_fn(state.params)\n",
    "    return state.apply_gradients(grads=grads), loss, grads\n",
    "\n",
    "import pandas as pd\n",
    "import tqdm\n",
    "\n",
    "def flatten(d):\n",
    "    df = pd.json_normalize(d, sep='_')\n",
    "    return df.to_dict(orient='records')[0]\n",
    "\n",
    "def discount_reward(rews, gamma: float = 0.99):\n",
    "    n = len(rews)\n",
    "    rtgs = np.zeros_like(rews)\n",
    "    for i in reversed(range(n)):\n",
    "        rtgs[i] = rews[i] + gamma*(rtgs[i + 1] if i + 1 < n else 0)\n",
    "    return rtgs\n",
    "\n",
    "def reinforce(\n",
    "        num_epochs,\n",
    "        env,\n",
    "        hypernetwork,\n",
    "        seed: int = 0,\n",
    "        lr: float = 0.0001,\n",
    "        gamma: float = 0.99,\n",
    "    ):\n",
    "    writer = get_tensorboard_logger(\"HypernetworkJaxRL\")\n",
    "\n",
    "    rng = jax.random.PRNGKey(seed)\n",
    "    rng, init_rng = jax.random.split(rng)\n",
    "    state = create_train_state(init_rng, hypernetwork, lr, (1,8))\n",
    "\n",
    "    bar = tqdm.tqdm(np.arange(num_epochs))\n",
    "\n",
    "    try:\n",
    "        for i in bar:\n",
    "            observations, actions, rewards, _, num_steps = rollout(env, hypernetwork.apply, hypernetwork.generate_params, state.params, seed=seed)\n",
    "            discounted_rewards = discount_reward(np.array(rewards), 0.99)\n",
    "            discounted_rewards = discounted_rewards - np.mean(discounted_rewards)\n",
    "            discounted_rewards = discounted_rewards / (\n",
    "                np.std(discounted_rewards) + 1e-10\n",
    "            )\n",
    "\n",
    "            observations = jnp.array(observations)\n",
    "            actions = jnp.array(actions)\n",
    "            discounted_rewards = jnp.array(discounted_rewards)\n",
    "\n",
    "            state, loss, grads = train_step(hypernetwork.apply, state, observations, actions, discounted_rewards)\n",
    "            grad_dict = {k:dict(grads[k]) for k in grads.keys()}\n",
    "            grad_dict = flatten(grad_dict)\n",
    "\n",
    "            grad_dict = {k: {kk: np.sum(vv).item() for kk, vv in v.items()}\n",
    "                        for k, v in grad_dict.items()}\n",
    "            grad_dict = flatten(grad_dict)\n",
    "\n",
    "            metrics = {\"loss\":loss.item(), \"rewards\":np.sum(rewards), \"num_steps\":num_steps, **grad_dict}\n",
    "\n",
    "            for key in metrics:\n",
    "                writer.add_scalar(key, metrics[key], i)\n",
    "\n",
    "            bar.set_description('Loss: {}, Sum Reward: {}'.format(loss.item(), np.sum(rewards)))\n",
    "        return hypernetwork, state\n",
    "    except KeyboardInterrupt as e:\n",
    "        return hypernetwork, state\n"
   ]
  },
  {
   "cell_type": "code",
   "execution_count": 27,
   "metadata": {},
   "outputs": [
    {
     "name": "stdout",
     "output_type": "stream",
     "text": [
      "cpu\n"
     ]
    }
   ],
   "source": [
    "from jax.lib import xla_bridge\n",
    "print(xla_bridge.get_backend().platform)"
   ]
  },
  {
   "cell_type": "code",
   "execution_count": 28,
   "metadata": {},
   "outputs": [],
   "source": [
    "import gym\n",
    "\n",
    "env = gym.make(\"LunarLander-v2\")"
   ]
  },
  {
   "cell_type": "code",
   "execution_count": 29,
   "metadata": {},
   "outputs": [
    {
     "name": "stdout",
     "output_type": "stream",
     "text": [
      "Follow tensorboard logs with: python -m tensorboard.main --logdir '/home/shyam/Code/hyper-nn/notebooks/reinforce/tensorboard_logs/HypernetworkJaxRL_2022-05-24 20:01:06.074723'\n"
     ]
    },
    {
     "name": "stderr",
     "output_type": "stream",
     "text": [
      "Loss: 6.261016845703125, Sum Reward: 6.910303700857327: 100%|████████| 5000/5000 [40:58<00:00,  2.03it/s]\n"
     ]
    }
   ],
   "source": [
    "hyper, state = reinforce(5000, env, hypernetwork, seed=10, lr=0.0001)"
   ]
  },
  {
   "cell_type": "code",
   "execution_count": 36,
   "metadata": {},
   "outputs": [],
   "source": [
    "import numpy as np\n",
    "import matplotlib\n",
    "import matplotlib.pyplot as plt\n",
    "%matplotlib ipympl\n",
    "\n",
    "plt.style.use('ggplot')\n",
    "# Imports specifically so we can render outputs in Jupyter.\n",
    "from JSAnimation.IPython_display import display_animation\n",
    "from matplotlib import animation\n",
    "from IPython.display import display\n",
    "from celluloid import Camera\n",
    "from IPython.display import HTML\n",
    "\n",
    "\n",
    "def render_rollout(model, state, seed=10):\n",
    "    fig = plt.figure(\"Animation\",figsize=(7,5))\n",
    "    camera = Camera(fig)\n",
    "    ax = fig.add_subplot(111)\n",
    "    observations, actions, rewards, rendereds, num_steps = rollout(gym.make(\"LunarLander-v2\"), model.apply, model.generate_params, state.params, seed=seed)\n",
    "    frames = []\n",
    "    for r in rendereds:\n",
    "        frame = ax.imshow(r)\n",
    "        ax.axis('off')\n",
    "        camera.snap()\n",
    "        frames.append([frame])\n",
    "    print(\"Sum Reward: {}\".format(np.sum(rewards)))\n",
    "    animation = camera.animate(blit=False, interval=50)\n",
    "    # display(animations.to_html5_video())\n",
    "    animation.save('HyperJaxLunarLander.mp4')\n",
    "    return animation"
   ]
  },
  {
   "cell_type": "code",
   "execution_count": 37,
   "metadata": {},
   "outputs": [
    {
     "name": "stdout",
     "output_type": "stream",
     "text": [
      "Sum Reward: -39.431708010290734\n"
     ]
    },
    {
     "data": {
      "application/vnd.jupyter.widget-view+json": {
       "model_id": "3db621a3197448fbbf9cb27cdab784fd",
       "version_major": 2,
       "version_minor": 0
      },
      "image/png": "[encoded data removed]",
      "text/html": [
       "\n",
       "            <div style=\"display: inline-block;\">\n",
       "                <div class=\"jupyter-widgets widget-label\" style=\"text-align: center;\">\n",
       "                    Animation\n",
       "                </div>\n",
       "                <img src='data:image/png;base64,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' width=700.0/>\n",
       "            </div>\n",
       "        "
      ],
      "text/plain": [
       "Canvas(toolbar=Toolbar(toolitems=[('Home', 'Reset original view', 'home', 'home'), ('Back', 'Back to previous …"
      ]
     },
     "metadata": {},
     "output_type": "display_data"
    }
   ],
   "source": [
    "vid = render_rollout(hypernetwork, state, seed=10)"
   ]
  },
  {
   "cell_type": "markdown",
   "metadata": {},
   "source": [
    "##### Play video"
   ]
  },
  {
   "cell_type": "code",
   "execution_count": null,
   "metadata": {},
   "outputs": [],
   "source": [
    "from IPython.display import Video\n",
    "\n",
    "Video(\"HyperJaxLunarLander.mp4\")"
   ]
  }
 ],
 "metadata": {
  "interpreter": {
   "hash": "1d64cb66d3d902aa83000daa06ca958bef94bde318911a82aee5f8df2bb8934b"
  },
  "kernelspec": {
   "display_name": "Python [conda env:pycanvas] *",
   "language": "python",
   "name": "conda-env-pycanvas-py"
  },
  "language_info": {
   "codemirror_mode": {
    "name": "ipython",
    "version": 3
   },
   "file_extension": ".py",
   "mimetype": "text/x-python",
   "name": "python",
   "nbconvert_exporter": "python",
   "pygments_lexer": "ipython3",
   "version": "3.9.7"
  }
 },
 "nbformat": 4,
 "nbformat_minor": 4
}
