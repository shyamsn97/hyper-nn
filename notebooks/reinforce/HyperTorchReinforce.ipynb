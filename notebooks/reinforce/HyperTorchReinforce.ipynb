{
 "cells": [
  {
   "cell_type": "code",
   "execution_count": 1,
   "metadata": {},
   "outputs": [],
   "source": [
    "import gym\n",
    "import numpy as np\n",
    "import torch\n",
    "import torch.nn as nn\n",
    "import torch.nn.functional as F\n",
    "from torch.distributions.categorical import Categorical\n",
    "import tqdm\n",
    "import torch.optim as optim\n"
   ]
  },
  {
   "cell_type": "code",
   "execution_count": 2,
   "metadata": {},
   "outputs": [],
   "source": [
    "from hypernn.torch.hypernet import TorchHyperNetwork"
   ]
  },
  {
   "cell_type": "markdown",
   "metadata": {},
   "source": [
    "#### Target Policy Network"
   ]
  },
  {
   "cell_type": "code",
   "execution_count": 3,
   "metadata": {},
   "outputs": [
    {
     "data": {
      "text/plain": [
       "68608"
      ]
     },
     "execution_count": 3,
     "metadata": {},
     "output_type": "execute_result"
    }
   ],
   "source": [
    "target_network = nn.Sequential(\n",
    "    nn.Linear(8, 256, bias=False),\n",
    "    nn.Tanh(),\n",
    "    nn.Linear(256,256, bias=False),\n",
    "    nn.Tanh(),\n",
    "    nn.Linear(256, 4, bias=False)\n",
    ")\n",
    "pytorch_total_params = sum(p.numel() for p in target_network.parameters() if p.requires_grad)\n",
    "pytorch_total_params"
   ]
  },
  {
   "cell_type": "markdown",
   "metadata": {},
   "source": [
    "#### Making a Lunar Lander Hypernetwork with a Custom Weight Generator"
   ]
  },
  {
   "cell_type": "code",
   "execution_count": 4,
   "metadata": {},
   "outputs": [],
   "source": [
    "from typing import Any, Dict, List, Optional, Tuple, Type, Union  # noqa\n",
    "\n",
    "class LunarLanderHypernetwork(TorchHyperNetwork):\n",
    "    def __init__(\n",
    "        self,\n",
    "        target_network: nn.Module,\n",
    "        num_target_parameters: Optional[int] = None,\n",
    "        embedding_dim: int = 100,\n",
    "        num_embeddings: int = 3,\n",
    "        hidden_dim: Optional[int] = None,\n",
    "        custom_embedding_module: Optional[nn.Module] = None,\n",
    "        custom_weight_generator: Optional[nn.Module] = None,\n",
    "    ):\n",
    "        super().__init__(\n",
    "                    target_network = target_network,\n",
    "                    num_target_parameters = num_target_parameters,\n",
    "                    embedding_dim = embedding_dim,\n",
    "                    num_embeddings = num_embeddings,\n",
    "                    hidden_dim = hidden_dim,\n",
    "                    custom_embedding_module = custom_embedding_module,\n",
    "                    custom_weight_generator = custom_weight_generator\n",
    "                )\n",
    "\n",
    "    def make_weight_generator(self):\n",
    "        return nn.Sequential(\n",
    "            nn.Linear(self.embedding_dim, 32),\n",
    "            nn.Tanh(),\n",
    "            nn.Linear(32, self.weight_chunk_dim)\n",
    "        )\n"
   ]
  },
  {
   "cell_type": "markdown",
   "metadata": {},
   "source": [
    "### We can reduce the number of trainable parameters to less than 10%"
   ]
  },
  {
   "cell_type": "code",
   "execution_count": 5,
   "metadata": {},
   "outputs": [],
   "source": [
    "EMBEDDING_DIM = 4\n",
    "NUM_EMBEDDINGS = 512\n",
    "\n",
    "hypernetwork = LunarLanderHypernetwork.from_target(\n",
    "    target_network = target_network,\n",
    "    embedding_dim = EMBEDDING_DIM,\n",
    "    num_embeddings = NUM_EMBEDDINGS\n",
    ")\n",
    "pytorch_total_params = sum(p.numel() for p in hypernetwork.parameters() if p.requires_grad)\n",
    "pytorch_total_params"
   ]
  },
  {
   "cell_type": "markdown",
   "metadata": {},
   "source": [
    "#### Tensorboard utils"
   ]
  },
  {
   "cell_type": "code",
   "execution_count": 8,
   "metadata": {},
   "outputs": [],
   "source": [
    "import os\n",
    "from torch.utils.tensorboard import SummaryWriter\n",
    "from datetime import datetime\n",
    "\n",
    "def get_tensorboard_logger(\n",
    "    experiment_name: str, base_log_path: str = \"tensorboard_logs\"\n",
    "):\n",
    "    log_path = \"{}/{}_{}\".format(base_log_path, experiment_name, datetime.now())\n",
    "    train_writer = SummaryWriter(log_path, flush_secs=10)\n",
    "    full_log_path = os.path.join(os.getcwd(), log_path)\n",
    "    print(\n",
    "        \"Follow tensorboard logs with: python -m tensorboard.main --logdir '{}'\".format(full_log_path)\n",
    "    )\n",
    "    return train_writer\n"
   ]
  },
  {
   "cell_type": "markdown",
   "metadata": {},
   "source": [
    "#### Rollout function"
   ]
  },
  {
   "cell_type": "code",
   "execution_count": 9,
   "metadata": {},
   "outputs": [],
   "source": [
    "import gym\n",
    "\n",
    "def rollout(env, hypernetwork, render=False) -> float:\n",
    "    with torch.no_grad():\n",
    "        params, _ = hypernetwork.generate_params()\n",
    "        obs = env.reset()\n",
    "        done = False\n",
    "        observations, actions, rewards, rendereds = [], [], [], []\n",
    "        while not done:\n",
    "            rendered = None\n",
    "            if render:\n",
    "                rendered = env.render(mode=\"rgb_array\")\n",
    "                rendereds.append(rendered)\n",
    "\n",
    "            action_logits = hypernetwork(inp=[torch.from_numpy(obs).unsqueeze(0).to(hypernetwork.device)], generated_params=params, has_aux=False)\n",
    "            dist = Categorical(logits=action_logits)\n",
    "            action = dist.sample().item()\n",
    "            next_obs, r, done, _ = env.step(action)\n",
    "\n",
    "            observations.append(obs)\n",
    "            actions.append(action)\n",
    "            rewards.append(r)\n",
    "\n",
    "            obs = next_obs\n",
    "\n",
    "    env.close()\n",
    "    return observations, actions, rewards, rendereds"
   ]
  },
  {
   "cell_type": "markdown",
   "metadata": {},
   "source": [
    "#### Reinforce algorithm"
   ]
  },
  {
   "cell_type": "code",
   "execution_count": 10,
   "metadata": {},
   "outputs": [],
   "source": [
    "def discount_reward(rews, gamma: float = 0.99):\n",
    "    n = len(rews)\n",
    "    rtgs = np.zeros_like(rews)\n",
    "    for i in reversed(range(n)):\n",
    "        rtgs[i] = rews[i] + gamma*(rtgs[i + 1] if i + 1 < n else 0)\n",
    "    return rtgs\n",
    "\n",
    "def reinforce(\n",
    "        num_epochs,\n",
    "        env,\n",
    "        hypernetwork,\n",
    "        rollout_fn=rollout,\n",
    "        lr: float = 0.001,\n",
    "        gamma: float = 0.99,\n",
    "    ):\n",
    "\n",
    "    writer = get_tensorboard_logger(\"HypernetworkTorchRL\")\n",
    "    optimizer = optim.Adam(hypernetwork.parameters(), lr=lr)\n",
    "\n",
    "    bar = tqdm.tqdm(np.arange(num_epochs))\n",
    "    for i in bar:\n",
    "        observations, actions, rewards, _ = rollout_fn(env, hypernetwork)\n",
    "\n",
    "        discounted_rewards = discount_reward(np.array(rewards), gamma)\n",
    "        discounted_rewards = discounted_rewards - np.mean(discounted_rewards)\n",
    "        discounted_rewards = discounted_rewards / (\n",
    "            np.std(discounted_rewards) + 1e-10\n",
    "        )\n",
    "\n",
    "        observations = torch.from_numpy(np.array(observations)).float().to(hypernetwork.device)\n",
    "        actions = torch.from_numpy(np.array(actions)).float().to(hypernetwork.device)\n",
    "        discounted_rewards = torch.from_numpy(discounted_rewards).float().to(hypernetwork.device)\n",
    "\n",
    "        logits, generated_params, aux_output = hypernetwork(inp=[observations], has_aux=True)\n",
    "        dist = Categorical(logits=logits)\n",
    "        log_probs = dist.log_prob(actions)\n",
    "\n",
    "        optimizer.zero_grad()\n",
    "        loss = -1 * torch.sum(discounted_rewards * log_probs)\n",
    "\n",
    "        loss.backward()\n",
    "        torch.nn.utils.clip_grad_norm_(hypernetwork.parameters(), 100.0)\n",
    "        optimizer.step()\n",
    "\n",
    "        grad_dict = {}\n",
    "        for n, W in hypernetwork.named_parameters():\n",
    "            if W.grad is not None:\n",
    "                grad_dict[\"{}_grad\".format(n)] = float(torch.sum(W.grad).item())\n",
    "\n",
    "        metrics = {\"loss\":loss.item(), \"rewards\":np.sum(rewards), **grad_dict}\n",
    "\n",
    "        for key in metrics:\n",
    "            writer.add_scalar(key, metrics[key], i)\n",
    "\n",
    "        bar.set_description('Loss: {}, Sum Reward: {}'.format(loss.item(), np.sum(rewards)))"
   ]
  },
  {
   "cell_type": "code",
   "execution_count": 11,
   "metadata": {},
   "outputs": [],
   "source": [
    "env = gym.make(\"LunarLander-v2\")"
   ]
  },
  {
   "cell_type": "code",
   "execution_count": 12,
   "metadata": {},
   "outputs": [
    {
     "name": "stdout",
     "output_type": "stream",
     "text": [
      "Follow tensorboard logs with: python -m tensorboard.main --logdir '/home/shyam/Code/hyper-nn/notebooks/reinforce/tensorboard_logs/HypernetworkTorchRL_2022-05-24 17:32:57.866340'\n"
     ]
    },
    {
     "name": "stderr",
     "output_type": "stream",
     "text": [
      "Loss: -24.265426635742188, Sum Reward: 272.25820080749213: 100%|█████| 5000/5000 [08:25<00:00,  9.88it/s]\n"
     ]
    }
   ],
   "source": [
    "reinforce(5000, env, hypernetwork, lr=0.0002)"
   ]
  },
  {
   "cell_type": "code",
   "execution_count": 13,
   "metadata": {},
   "outputs": [],
   "source": [
    "import numpy as np\n",
    "import matplotlib\n",
    "import matplotlib.pyplot as plt\n",
    "%matplotlib ipympl\n",
    "\n",
    "plt.style.use('ggplot')\n",
    "# Imports specifically so we can render outputs in Jupyter.\n",
    "from JSAnimation.IPython_display import display_animation\n",
    "from matplotlib import animation\n",
    "from IPython.display import display\n",
    "from celluloid import Camera\n",
    "from IPython.display import HTML\n",
    "\n",
    "\n",
    "def render_rollout(model):\n",
    "    fig = plt.figure(\"Animation\",figsize=(7,5))\n",
    "    camera = Camera(fig)\n",
    "    ax = fig.add_subplot(111)\n",
    "    _, _, rewards, rendereds = rollout(gym.make(\"LunarLander-v2\"), model, render=True)\n",
    "    frames = []\n",
    "    for r in rendereds:\n",
    "        frame = ax.imshow(r)\n",
    "        ax.axis('off')\n",
    "        camera.snap()\n",
    "        frames.append([frame])\n",
    "    print(\"Sum Reward: {}\".format(np.sum(rewards)))\n",
    "    animation = camera.animate(blit=False, interval=50)\n",
    "    # display(animations.to_html5_video())\n",
    "    animation.save('HyperTorchLunarLander.mp4')\n",
    "    return animation"
   ]
  },
  {
   "cell_type": "code",
   "execution_count": 16,
   "metadata": {},
   "outputs": [
    {
     "name": "stdout",
     "output_type": "stream",
     "text": [
      "Sum Reward: 288.50916640024764\n"
     ]
    }
   ],
   "source": [
    "vid = render_rollout(hypernetwork)"
   ]
  },
  {
   "cell_type": "markdown",
   "metadata": {},
   "source": [
    "##### Play video"
   ]
  },
  {
   "cell_type": "code",
   "execution_count": 17,
   "metadata": {},
   "outputs": [
    {
     "data": {
      "text/html": [
       "<video src=\"HyperTorchLunarLander.mp4\" controls  >\n",
       "      Your browser does not support the <code>video</code> element.\n",
       "    </video>"
      ],
      "text/plain": [
       "<IPython.core.display.Video object>"
      ]
     },
     "execution_count": 17,
     "metadata": {},
     "output_type": "execute_result"
    }
   ],
   "source": [
    "from IPython.display import Video\n",
    "\n",
    "Video(\"HyperTorchLunarLander.mp4\")"
   ]
  }
 ],
 "metadata": {
  "interpreter": {
   "hash": "1d64cb66d3d902aa83000daa06ca958bef94bde318911a82aee5f8df2bb8934b"
  },
  "kernelspec": {
   "display_name": "Python [conda env:pycanvas] *",
   "language": "python",
   "name": "conda-env-pycanvas-py"
  },
  "language_info": {
   "codemirror_mode": {
    "name": "ipython",
    "version": 3
   },
   "file_extension": ".py",
   "mimetype": "text/x-python",
   "name": "python",
   "nbconvert_exporter": "python",
   "pygments_lexer": "ipython3",
   "version": "3.9.7"
  }
 },
 "nbformat": 4,
 "nbformat_minor": 4
}
