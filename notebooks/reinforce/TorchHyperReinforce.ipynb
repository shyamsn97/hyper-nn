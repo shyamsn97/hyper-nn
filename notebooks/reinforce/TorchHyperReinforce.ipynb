{
 "cells": [
  {
   "cell_type": "markdown",
   "metadata": {},
   "source": [
    "#### Install reqs"
   ]
  },
  {
   "cell_type": "code",
   "execution_count": 19,
   "metadata": {},
   "outputs": [
    {
     "name": "stdout",
     "output_type": "stream",
     "text": [
      "Requirement already satisfied: gym in /home/shyam/anaconda3/envs/test_hyper_nn/lib/python3.9/site-packages (0.24.0)\n",
      "Requirement already satisfied: importlib-metadata>=4.8.0 in /home/shyam/anaconda3/envs/test_hyper_nn/lib/python3.9/site-packages (from gym) (4.11.4)\n",
      "Requirement already satisfied: numpy>=1.18.0 in /home/shyam/anaconda3/envs/test_hyper_nn/lib/python3.9/site-packages/numpy-1.23.0rc2-py3.9-linux-x86_64.egg (from gym) (1.23.0rc2)\n",
      "Requirement already satisfied: gym-notices>=0.0.4 in /home/shyam/anaconda3/envs/test_hyper_nn/lib/python3.9/site-packages (from gym) (0.0.6)\n",
      "Requirement already satisfied: cloudpickle>=1.2.0 in /home/shyam/anaconda3/envs/test_hyper_nn/lib/python3.9/site-packages (from gym) (2.1.0)\n",
      "Requirement already satisfied: zipp>=0.5 in /home/shyam/anaconda3/envs/test_hyper_nn/lib/python3.9/site-packages (from importlib-metadata>=4.8.0->gym) (3.8.0)\n",
      "Requirement already satisfied: gym[box2d] in /home/shyam/anaconda3/envs/test_hyper_nn/lib/python3.9/site-packages (0.24.0)\n",
      "Requirement already satisfied: cloudpickle>=1.2.0 in /home/shyam/anaconda3/envs/test_hyper_nn/lib/python3.9/site-packages (from gym[box2d]) (2.1.0)\n",
      "Requirement already satisfied: gym-notices>=0.0.4 in /home/shyam/anaconda3/envs/test_hyper_nn/lib/python3.9/site-packages (from gym[box2d]) (0.0.6)\n",
      "Requirement already satisfied: importlib-metadata>=4.8.0 in /home/shyam/anaconda3/envs/test_hyper_nn/lib/python3.9/site-packages (from gym[box2d]) (4.11.4)\n",
      "Requirement already satisfied: numpy>=1.18.0 in /home/shyam/anaconda3/envs/test_hyper_nn/lib/python3.9/site-packages/numpy-1.23.0rc2-py3.9-linux-x86_64.egg (from gym[box2d]) (1.23.0rc2)\n",
      "Requirement already satisfied: pygame==2.1.0 in /home/shyam/anaconda3/envs/test_hyper_nn/lib/python3.9/site-packages (from gym[box2d]) (2.1.0)\n",
      "Requirement already satisfied: box2d-py==2.3.5 in /home/shyam/anaconda3/envs/test_hyper_nn/lib/python3.9/site-packages (from gym[box2d]) (2.3.5)\n",
      "Requirement already satisfied: zipp>=0.5 in /home/shyam/anaconda3/envs/test_hyper_nn/lib/python3.9/site-packages (from importlib-metadata>=4.8.0->gym[box2d]) (3.8.0)\n",
      "Requirement already satisfied: tqdm in /home/shyam/anaconda3/envs/test_hyper_nn/lib/python3.9/site-packages (4.64.0)\n",
      "Requirement already satisfied: tensorboard in /home/shyam/anaconda3/envs/test_hyper_nn/lib/python3.9/site-packages (2.9.0)\n",
      "Requirement already satisfied: numpy>=1.12.0 in /home/shyam/anaconda3/envs/test_hyper_nn/lib/python3.9/site-packages/numpy-1.23.0rc2-py3.9-linux-x86_64.egg (from tensorboard) (1.23.0rc2)\n",
      "Requirement already satisfied: requests<3,>=2.21.0 in /home/shyam/anaconda3/envs/test_hyper_nn/lib/python3.9/site-packages (from tensorboard) (2.27.1)\n",
      "Requirement already satisfied: google-auth-oauthlib<0.5,>=0.4.1 in /home/shyam/anaconda3/envs/test_hyper_nn/lib/python3.9/site-packages (from tensorboard) (0.4.6)\n",
      "Requirement already satisfied: protobuf>=3.9.2 in /home/shyam/anaconda3/envs/test_hyper_nn/lib/python3.9/site-packages (from tensorboard) (3.20.0)\n",
      "Requirement already satisfied: absl-py>=0.4 in /home/shyam/anaconda3/envs/test_hyper_nn/lib/python3.9/site-packages/absl_py-1.0.0-py3.9.egg (from tensorboard) (1.0.0)\n",
      "Requirement already satisfied: wheel>=0.26 in /home/shyam/anaconda3/envs/test_hyper_nn/lib/python3.9/site-packages (from tensorboard) (0.37.1)\n",
      "Requirement already satisfied: google-auth<3,>=1.6.3 in /home/shyam/anaconda3/envs/test_hyper_nn/lib/python3.9/site-packages (from tensorboard) (2.6.6)\n",
      "Requirement already satisfied: setuptools>=41.0.0 in /home/shyam/anaconda3/envs/test_hyper_nn/lib/python3.9/site-packages (from tensorboard) (61.2.0)\n",
      "Requirement already satisfied: grpcio>=1.24.3 in /home/shyam/anaconda3/envs/test_hyper_nn/lib/python3.9/site-packages (from tensorboard) (1.46.3)\n",
      "Requirement already satisfied: tensorboard-plugin-wit>=1.6.0 in /home/shyam/anaconda3/envs/test_hyper_nn/lib/python3.9/site-packages (from tensorboard) (1.8.1)\n",
      "Requirement already satisfied: tensorboard-data-server<0.7.0,>=0.6.0 in /home/shyam/anaconda3/envs/test_hyper_nn/lib/python3.9/site-packages (from tensorboard) (0.6.1)\n",
      "Requirement already satisfied: markdown>=2.6.8 in /home/shyam/anaconda3/envs/test_hyper_nn/lib/python3.9/site-packages (from tensorboard) (3.3.7)\n",
      "Requirement already satisfied: werkzeug>=1.0.1 in /home/shyam/anaconda3/envs/test_hyper_nn/lib/python3.9/site-packages (from tensorboard) (2.1.2)\n",
      "Requirement already satisfied: six in /home/shyam/anaconda3/envs/test_hyper_nn/lib/python3.9/site-packages (from absl-py>=0.4->tensorboard) (1.16.0)\n",
      "Requirement already satisfied: cachetools<6.0,>=2.0.0 in /home/shyam/anaconda3/envs/test_hyper_nn/lib/python3.9/site-packages (from google-auth<3,>=1.6.3->tensorboard) (5.2.0)\n",
      "Requirement already satisfied: rsa<5,>=3.1.4 in /home/shyam/anaconda3/envs/test_hyper_nn/lib/python3.9/site-packages (from google-auth<3,>=1.6.3->tensorboard) (4.8)\n",
      "Requirement already satisfied: pyasn1-modules>=0.2.1 in /home/shyam/anaconda3/envs/test_hyper_nn/lib/python3.9/site-packages (from google-auth<3,>=1.6.3->tensorboard) (0.2.8)\n",
      "Requirement already satisfied: requests-oauthlib>=0.7.0 in /home/shyam/anaconda3/envs/test_hyper_nn/lib/python3.9/site-packages (from google-auth-oauthlib<0.5,>=0.4.1->tensorboard) (1.3.1)\n",
      "Requirement already satisfied: importlib-metadata>=4.4 in /home/shyam/anaconda3/envs/test_hyper_nn/lib/python3.9/site-packages (from markdown>=2.6.8->tensorboard) (4.11.4)\n",
      "Requirement already satisfied: zipp>=0.5 in /home/shyam/anaconda3/envs/test_hyper_nn/lib/python3.9/site-packages (from importlib-metadata>=4.4->markdown>=2.6.8->tensorboard) (3.8.0)\n",
      "Requirement already satisfied: pyasn1<0.5.0,>=0.4.6 in /home/shyam/anaconda3/envs/test_hyper_nn/lib/python3.9/site-packages (from pyasn1-modules>=0.2.1->google-auth<3,>=1.6.3->tensorboard) (0.4.8)\n",
      "Requirement already satisfied: idna<4,>=2.5 in /home/shyam/anaconda3/envs/test_hyper_nn/lib/python3.9/site-packages (from requests<3,>=2.21.0->tensorboard) (3.3)\n",
      "Requirement already satisfied: charset-normalizer~=2.0.0 in /home/shyam/anaconda3/envs/test_hyper_nn/lib/python3.9/site-packages (from requests<3,>=2.21.0->tensorboard) (2.0.4)\n",
      "Requirement already satisfied: urllib3<1.27,>=1.21.1 in /home/shyam/anaconda3/envs/test_hyper_nn/lib/python3.9/site-packages (from requests<3,>=2.21.0->tensorboard) (1.26.9)\n",
      "Requirement already satisfied: certifi>=2017.4.17 in /home/shyam/anaconda3/envs/test_hyper_nn/lib/python3.9/site-packages (from requests<3,>=2.21.0->tensorboard) (2022.5.18.1)\n",
      "Requirement already satisfied: oauthlib>=3.0.0 in /home/shyam/anaconda3/envs/test_hyper_nn/lib/python3.9/site-packages (from requests-oauthlib>=0.7.0->google-auth-oauthlib<0.5,>=0.4.1->tensorboard) (3.2.0)\n",
      "Requirement already satisfied: matplotlib in /home/shyam/anaconda3/envs/test_hyper_nn/lib/python3.9/site-packages/matplotlib-3.5.2-py3.9-linux-x86_64.egg (3.5.2)\n",
      "Requirement already satisfied: cycler>=0.10 in /home/shyam/anaconda3/envs/test_hyper_nn/lib/python3.9/site-packages/cycler-0.11.0-py3.9.egg (from matplotlib) (0.11.0)\n",
      "Requirement already satisfied: fonttools>=4.22.0 in /home/shyam/anaconda3/envs/test_hyper_nn/lib/python3.9/site-packages/fonttools-4.33.3-py3.9.egg (from matplotlib) (4.33.3)\n",
      "Requirement already satisfied: kiwisolver>=1.0.1 in /home/shyam/anaconda3/envs/test_hyper_nn/lib/python3.9/site-packages/kiwisolver-1.4.2-py3.9-linux-x86_64.egg (from matplotlib) (1.4.2)\n",
      "Requirement already satisfied: numpy>=1.17 in /home/shyam/anaconda3/envs/test_hyper_nn/lib/python3.9/site-packages/numpy-1.23.0rc2-py3.9-linux-x86_64.egg (from matplotlib) (1.23.0rc2)\n",
      "Requirement already satisfied: packaging>=20.0 in /home/shyam/anaconda3/envs/test_hyper_nn/lib/python3.9/site-packages (from matplotlib) (21.3)\n",
      "Requirement already satisfied: pillow>=6.2.0 in /home/shyam/anaconda3/envs/test_hyper_nn/lib/python3.9/site-packages/Pillow-9.1.1-py3.9-linux-x86_64.egg (from matplotlib) (9.1.1)\n",
      "Requirement already satisfied: pyparsing>=2.2.1 in /home/shyam/anaconda3/envs/test_hyper_nn/lib/python3.9/site-packages (from matplotlib) (3.0.4)\n",
      "Requirement already satisfied: python-dateutil>=2.7 in /home/shyam/anaconda3/envs/test_hyper_nn/lib/python3.9/site-packages (from matplotlib) (2.8.2)\n",
      "Requirement already satisfied: six>=1.5 in /home/shyam/anaconda3/envs/test_hyper_nn/lib/python3.9/site-packages (from python-dateutil>=2.7->matplotlib) (1.16.0)\n",
      "Requirement already satisfied: celluloid in /home/shyam/anaconda3/envs/test_hyper_nn/lib/python3.9/site-packages (0.2.0)\n",
      "Requirement already satisfied: matplotlib in /home/shyam/anaconda3/envs/test_hyper_nn/lib/python3.9/site-packages/matplotlib-3.5.2-py3.9-linux-x86_64.egg (from celluloid) (3.5.2)\n",
      "Requirement already satisfied: cycler>=0.10 in /home/shyam/anaconda3/envs/test_hyper_nn/lib/python3.9/site-packages/cycler-0.11.0-py3.9.egg (from matplotlib->celluloid) (0.11.0)\n",
      "Requirement already satisfied: fonttools>=4.22.0 in /home/shyam/anaconda3/envs/test_hyper_nn/lib/python3.9/site-packages/fonttools-4.33.3-py3.9.egg (from matplotlib->celluloid) (4.33.3)\n",
      "Requirement already satisfied: kiwisolver>=1.0.1 in /home/shyam/anaconda3/envs/test_hyper_nn/lib/python3.9/site-packages/kiwisolver-1.4.2-py3.9-linux-x86_64.egg (from matplotlib->celluloid) (1.4.2)\n",
      "Requirement already satisfied: numpy>=1.17 in /home/shyam/anaconda3/envs/test_hyper_nn/lib/python3.9/site-packages/numpy-1.23.0rc2-py3.9-linux-x86_64.egg (from matplotlib->celluloid) (1.23.0rc2)\n",
      "Requirement already satisfied: packaging>=20.0 in /home/shyam/anaconda3/envs/test_hyper_nn/lib/python3.9/site-packages (from matplotlib->celluloid) (21.3)\n",
      "Requirement already satisfied: pillow>=6.2.0 in /home/shyam/anaconda3/envs/test_hyper_nn/lib/python3.9/site-packages/Pillow-9.1.1-py3.9-linux-x86_64.egg (from matplotlib->celluloid) (9.1.1)\n",
      "Requirement already satisfied: pyparsing>=2.2.1 in /home/shyam/anaconda3/envs/test_hyper_nn/lib/python3.9/site-packages (from matplotlib->celluloid) (3.0.4)\n",
      "Requirement already satisfied: python-dateutil>=2.7 in /home/shyam/anaconda3/envs/test_hyper_nn/lib/python3.9/site-packages (from matplotlib->celluloid) (2.8.2)\n",
      "Requirement already satisfied: six>=1.5 in /home/shyam/anaconda3/envs/test_hyper_nn/lib/python3.9/site-packages (from python-dateutil>=2.7->matplotlib->celluloid) (1.16.0)\n",
      "Requirement already satisfied: ipympl in /home/shyam/anaconda3/envs/test_hyper_nn/lib/python3.9/site-packages (0.9.1)\n",
      "Requirement already satisfied: traitlets<6 in /home/shyam/anaconda3/envs/test_hyper_nn/lib/python3.9/site-packages (from ipympl) (5.1.1)\n",
      "Requirement already satisfied: ipywidgets<8,>=7.6.0 in /home/shyam/anaconda3/envs/test_hyper_nn/lib/python3.9/site-packages (from ipympl) (7.7.0)\n",
      "Requirement already satisfied: ipython<9 in /home/shyam/anaconda3/envs/test_hyper_nn/lib/python3.9/site-packages (from ipympl) (8.3.0)\n",
      "Requirement already satisfied: pillow in /home/shyam/anaconda3/envs/test_hyper_nn/lib/python3.9/site-packages/Pillow-9.1.1-py3.9-linux-x86_64.egg (from ipympl) (9.1.1)\n",
      "Requirement already satisfied: ipython-genutils in /home/shyam/anaconda3/envs/test_hyper_nn/lib/python3.9/site-packages (from ipympl) (0.2.0)\n",
      "Requirement already satisfied: matplotlib<4,>=3.4.0 in /home/shyam/anaconda3/envs/test_hyper_nn/lib/python3.9/site-packages/matplotlib-3.5.2-py3.9-linux-x86_64.egg (from ipympl) (3.5.2)\n",
      "Requirement already satisfied: numpy in /home/shyam/anaconda3/envs/test_hyper_nn/lib/python3.9/site-packages/numpy-1.23.0rc2-py3.9-linux-x86_64.egg (from ipympl) (1.23.0rc2)\n",
      "Requirement already satisfied: setuptools>=18.5 in /home/shyam/anaconda3/envs/test_hyper_nn/lib/python3.9/site-packages (from ipython<9->ipympl) (61.2.0)\n",
      "Requirement already satisfied: pexpect>4.3 in /home/shyam/anaconda3/envs/test_hyper_nn/lib/python3.9/site-packages (from ipython<9->ipympl) (4.8.0)\n",
      "Requirement already satisfied: pygments>=2.4.0 in /home/shyam/anaconda3/envs/test_hyper_nn/lib/python3.9/site-packages (from ipython<9->ipympl) (2.11.2)\n",
      "Requirement already satisfied: stack-data in /home/shyam/anaconda3/envs/test_hyper_nn/lib/python3.9/site-packages (from ipython<9->ipympl) (0.2.0)\n",
      "Requirement already satisfied: pickleshare in /home/shyam/anaconda3/envs/test_hyper_nn/lib/python3.9/site-packages (from ipython<9->ipympl) (0.7.5)\n",
      "Requirement already satisfied: decorator in /home/shyam/anaconda3/envs/test_hyper_nn/lib/python3.9/site-packages (from ipython<9->ipympl) (5.1.1)\n",
      "Requirement already satisfied: prompt-toolkit!=3.0.0,!=3.0.1,<3.1.0,>=2.0.0 in /home/shyam/anaconda3/envs/test_hyper_nn/lib/python3.9/site-packages (from ipython<9->ipympl) (3.0.20)\n",
      "Requirement already satisfied: backcall in /home/shyam/anaconda3/envs/test_hyper_nn/lib/python3.9/site-packages (from ipython<9->ipympl) (0.2.0)\n",
      "Requirement already satisfied: matplotlib-inline in /home/shyam/anaconda3/envs/test_hyper_nn/lib/python3.9/site-packages (from ipython<9->ipympl) (0.1.2)\n",
      "Requirement already satisfied: jedi>=0.16 in /home/shyam/anaconda3/envs/test_hyper_nn/lib/python3.9/site-packages (from ipython<9->ipympl) (0.18.1)\n",
      "Requirement already satisfied: jupyterlab-widgets>=1.0.0 in /home/shyam/anaconda3/envs/test_hyper_nn/lib/python3.9/site-packages (from ipywidgets<8,>=7.6.0->ipympl) (1.1.0)\n",
      "Requirement already satisfied: widgetsnbextension~=3.6.0 in /home/shyam/anaconda3/envs/test_hyper_nn/lib/python3.9/site-packages (from ipywidgets<8,>=7.6.0->ipympl) (3.6.0)\n",
      "Requirement already satisfied: ipykernel>=4.5.1 in /home/shyam/anaconda3/envs/test_hyper_nn/lib/python3.9/site-packages (from ipywidgets<8,>=7.6.0->ipympl) (6.9.1)\n",
      "Requirement already satisfied: nbformat>=4.2.0 in /home/shyam/anaconda3/envs/test_hyper_nn/lib/python3.9/site-packages (from ipywidgets<8,>=7.6.0->ipympl) (5.3.0)\n",
      "Requirement already satisfied: tornado<7.0,>=4.2 in /home/shyam/anaconda3/envs/test_hyper_nn/lib/python3.9/site-packages (from ipykernel>=4.5.1->ipywidgets<8,>=7.6.0->ipympl) (6.1)\n",
      "Requirement already satisfied: nest-asyncio in /home/shyam/anaconda3/envs/test_hyper_nn/lib/python3.9/site-packages (from ipykernel>=4.5.1->ipywidgets<8,>=7.6.0->ipympl) (1.5.5)\n",
      "Requirement already satisfied: debugpy<2.0,>=1.0.0 in /home/shyam/anaconda3/envs/test_hyper_nn/lib/python3.9/site-packages (from ipykernel>=4.5.1->ipywidgets<8,>=7.6.0->ipympl) (1.5.1)\n",
      "Requirement already satisfied: jupyter-client<8.0 in /home/shyam/anaconda3/envs/test_hyper_nn/lib/python3.9/site-packages (from ipykernel>=4.5.1->ipywidgets<8,>=7.6.0->ipympl) (7.2.2)\n",
      "Requirement already satisfied: parso<0.9.0,>=0.8.0 in /home/shyam/anaconda3/envs/test_hyper_nn/lib/python3.9/site-packages (from jedi>=0.16->ipython<9->ipympl) (0.8.3)\n",
      "Requirement already satisfied: jupyter-core>=4.9.2 in /home/shyam/anaconda3/envs/test_hyper_nn/lib/python3.9/site-packages (from jupyter-client<8.0->ipykernel>=4.5.1->ipywidgets<8,>=7.6.0->ipympl) (4.10.0)\n",
      "Requirement already satisfied: pyzmq>=22.3 in /home/shyam/anaconda3/envs/test_hyper_nn/lib/python3.9/site-packages (from jupyter-client<8.0->ipykernel>=4.5.1->ipywidgets<8,>=7.6.0->ipympl) (22.3.0)\n",
      "Requirement already satisfied: entrypoints in /home/shyam/anaconda3/envs/test_hyper_nn/lib/python3.9/site-packages (from jupyter-client<8.0->ipykernel>=4.5.1->ipywidgets<8,>=7.6.0->ipympl) (0.4)\n",
      "Requirement already satisfied: python-dateutil>=2.8.2 in /home/shyam/anaconda3/envs/test_hyper_nn/lib/python3.9/site-packages (from jupyter-client<8.0->ipykernel>=4.5.1->ipywidgets<8,>=7.6.0->ipympl) (2.8.2)\n",
      "Requirement already satisfied: cycler>=0.10 in /home/shyam/anaconda3/envs/test_hyper_nn/lib/python3.9/site-packages/cycler-0.11.0-py3.9.egg (from matplotlib<4,>=3.4.0->ipympl) (0.11.0)\n",
      "Requirement already satisfied: fonttools>=4.22.0 in /home/shyam/anaconda3/envs/test_hyper_nn/lib/python3.9/site-packages/fonttools-4.33.3-py3.9.egg (from matplotlib<4,>=3.4.0->ipympl) (4.33.3)\n",
      "Requirement already satisfied: kiwisolver>=1.0.1 in /home/shyam/anaconda3/envs/test_hyper_nn/lib/python3.9/site-packages/kiwisolver-1.4.2-py3.9-linux-x86_64.egg (from matplotlib<4,>=3.4.0->ipympl) (1.4.2)\n",
      "Requirement already satisfied: packaging>=20.0 in /home/shyam/anaconda3/envs/test_hyper_nn/lib/python3.9/site-packages (from matplotlib<4,>=3.4.0->ipympl) (21.3)\n",
      "Requirement already satisfied: pyparsing>=2.2.1 in /home/shyam/anaconda3/envs/test_hyper_nn/lib/python3.9/site-packages (from matplotlib<4,>=3.4.0->ipympl) (3.0.4)\n",
      "Requirement already satisfied: jsonschema>=2.6 in /home/shyam/anaconda3/envs/test_hyper_nn/lib/python3.9/site-packages (from nbformat>=4.2.0->ipywidgets<8,>=7.6.0->ipympl) (4.4.0)\n",
      "Requirement already satisfied: fastjsonschema in /home/shyam/anaconda3/envs/test_hyper_nn/lib/python3.9/site-packages (from nbformat>=4.2.0->ipywidgets<8,>=7.6.0->ipympl) (2.15.1)\n",
      "Requirement already satisfied: attrs>=17.4.0 in /home/shyam/anaconda3/envs/test_hyper_nn/lib/python3.9/site-packages (from jsonschema>=2.6->nbformat>=4.2.0->ipywidgets<8,>=7.6.0->ipympl) (21.4.0)\n",
      "Requirement already satisfied: pyrsistent!=0.17.0,!=0.17.1,!=0.17.2,>=0.14.0 in /home/shyam/anaconda3/envs/test_hyper_nn/lib/python3.9/site-packages (from jsonschema>=2.6->nbformat>=4.2.0->ipywidgets<8,>=7.6.0->ipympl) (0.18.0)\n",
      "Requirement already satisfied: ptyprocess>=0.5 in /home/shyam/anaconda3/envs/test_hyper_nn/lib/python3.9/site-packages (from pexpect>4.3->ipython<9->ipympl) (0.7.0)\n",
      "Requirement already satisfied: wcwidth in /home/shyam/anaconda3/envs/test_hyper_nn/lib/python3.9/site-packages (from prompt-toolkit!=3.0.0,!=3.0.1,<3.1.0,>=2.0.0->ipython<9->ipympl) (0.2.5)\n",
      "Requirement already satisfied: six>=1.5 in /home/shyam/anaconda3/envs/test_hyper_nn/lib/python3.9/site-packages (from python-dateutil>=2.8.2->jupyter-client<8.0->ipykernel>=4.5.1->ipywidgets<8,>=7.6.0->ipympl) (1.16.0)\n",
      "Requirement already satisfied: notebook>=4.4.1 in /home/shyam/anaconda3/envs/test_hyper_nn/lib/python3.9/site-packages (from widgetsnbextension~=3.6.0->ipywidgets<8,>=7.6.0->ipympl) (6.4.11)\n",
      "Requirement already satisfied: Send2Trash>=1.8.0 in /home/shyam/anaconda3/envs/test_hyper_nn/lib/python3.9/site-packages (from notebook>=4.4.1->widgetsnbextension~=3.6.0->ipywidgets<8,>=7.6.0->ipympl) (1.8.0)\n",
      "Requirement already satisfied: argon2-cffi in /home/shyam/anaconda3/envs/test_hyper_nn/lib/python3.9/site-packages (from notebook>=4.4.1->widgetsnbextension~=3.6.0->ipywidgets<8,>=7.6.0->ipympl) (21.3.0)\n",
      "Requirement already satisfied: nbconvert>=5 in /home/shyam/anaconda3/envs/test_hyper_nn/lib/python3.9/site-packages (from notebook>=4.4.1->widgetsnbextension~=3.6.0->ipywidgets<8,>=7.6.0->ipympl) (6.4.4)\n",
      "Requirement already satisfied: jinja2 in /home/shyam/anaconda3/envs/test_hyper_nn/lib/python3.9/site-packages (from notebook>=4.4.1->widgetsnbextension~=3.6.0->ipywidgets<8,>=7.6.0->ipympl) (3.0.3)\n",
      "Requirement already satisfied: terminado>=0.8.3 in /home/shyam/anaconda3/envs/test_hyper_nn/lib/python3.9/site-packages (from notebook>=4.4.1->widgetsnbextension~=3.6.0->ipywidgets<8,>=7.6.0->ipympl) (0.13.1)\n",
      "Requirement already satisfied: prometheus-client in /home/shyam/anaconda3/envs/test_hyper_nn/lib/python3.9/site-packages (from notebook>=4.4.1->widgetsnbextension~=3.6.0->ipywidgets<8,>=7.6.0->ipympl) (0.13.1)\n",
      "Requirement already satisfied: nbclient<0.6.0,>=0.5.0 in /home/shyam/anaconda3/envs/test_hyper_nn/lib/python3.9/site-packages (from nbconvert>=5->notebook>=4.4.1->widgetsnbextension~=3.6.0->ipywidgets<8,>=7.6.0->ipympl) (0.5.13)\n",
      "Requirement already satisfied: testpath in /home/shyam/anaconda3/envs/test_hyper_nn/lib/python3.9/site-packages (from nbconvert>=5->notebook>=4.4.1->widgetsnbextension~=3.6.0->ipywidgets<8,>=7.6.0->ipympl) (0.5.0)\n",
      "Requirement already satisfied: beautifulsoup4 in /home/shyam/anaconda3/envs/test_hyper_nn/lib/python3.9/site-packages (from nbconvert>=5->notebook>=4.4.1->widgetsnbextension~=3.6.0->ipywidgets<8,>=7.6.0->ipympl) (4.11.1)\n",
      "Requirement already satisfied: jupyterlab-pygments in /home/shyam/anaconda3/envs/test_hyper_nn/lib/python3.9/site-packages (from nbconvert>=5->notebook>=4.4.1->widgetsnbextension~=3.6.0->ipywidgets<8,>=7.6.0->ipympl) (0.1.2)\n",
      "Requirement already satisfied: pandocfilters>=1.4.1 in /home/shyam/anaconda3/envs/test_hyper_nn/lib/python3.9/site-packages (from nbconvert>=5->notebook>=4.4.1->widgetsnbextension~=3.6.0->ipywidgets<8,>=7.6.0->ipympl) (1.5.0)\n",
      "Requirement already satisfied: defusedxml in /home/shyam/anaconda3/envs/test_hyper_nn/lib/python3.9/site-packages (from nbconvert>=5->notebook>=4.4.1->widgetsnbextension~=3.6.0->ipywidgets<8,>=7.6.0->ipympl) (0.7.1)\n",
      "Requirement already satisfied: bleach in /home/shyam/anaconda3/envs/test_hyper_nn/lib/python3.9/site-packages (from nbconvert>=5->notebook>=4.4.1->widgetsnbextension~=3.6.0->ipywidgets<8,>=7.6.0->ipympl) (4.1.0)\n",
      "Requirement already satisfied: mistune<2,>=0.8.1 in /home/shyam/anaconda3/envs/test_hyper_nn/lib/python3.9/site-packages (from nbconvert>=5->notebook>=4.4.1->widgetsnbextension~=3.6.0->ipywidgets<8,>=7.6.0->ipympl) (0.8.4)\n",
      "Requirement already satisfied: MarkupSafe>=2.0 in /home/shyam/anaconda3/envs/test_hyper_nn/lib/python3.9/site-packages (from jinja2->notebook>=4.4.1->widgetsnbextension~=3.6.0->ipywidgets<8,>=7.6.0->ipympl) (2.0.1)\n",
      "Requirement already satisfied: argon2-cffi-bindings in /home/shyam/anaconda3/envs/test_hyper_nn/lib/python3.9/site-packages (from argon2-cffi->notebook>=4.4.1->widgetsnbextension~=3.6.0->ipywidgets<8,>=7.6.0->ipympl) (21.2.0)\n",
      "Requirement already satisfied: cffi>=1.0.1 in /home/shyam/anaconda3/envs/test_hyper_nn/lib/python3.9/site-packages (from argon2-cffi-bindings->argon2-cffi->notebook>=4.4.1->widgetsnbextension~=3.6.0->ipywidgets<8,>=7.6.0->ipympl) (1.15.0)\n",
      "Requirement already satisfied: pycparser in /home/shyam/anaconda3/envs/test_hyper_nn/lib/python3.9/site-packages (from cffi>=1.0.1->argon2-cffi-bindings->argon2-cffi->notebook>=4.4.1->widgetsnbextension~=3.6.0->ipywidgets<8,>=7.6.0->ipympl) (2.21)\n",
      "Requirement already satisfied: soupsieve>1.2 in /home/shyam/anaconda3/envs/test_hyper_nn/lib/python3.9/site-packages (from beautifulsoup4->nbconvert>=5->notebook>=4.4.1->widgetsnbextension~=3.6.0->ipywidgets<8,>=7.6.0->ipympl) (2.3.1)\n",
      "Requirement already satisfied: webencodings in /home/shyam/anaconda3/envs/test_hyper_nn/lib/python3.9/site-packages (from bleach->nbconvert>=5->notebook>=4.4.1->widgetsnbextension~=3.6.0->ipywidgets<8,>=7.6.0->ipympl) (0.5.1)\n",
      "Requirement already satisfied: asttokens in /home/shyam/anaconda3/envs/test_hyper_nn/lib/python3.9/site-packages (from stack-data->ipython<9->ipympl) (2.0.5)\n",
      "Requirement already satisfied: pure-eval in /home/shyam/anaconda3/envs/test_hyper_nn/lib/python3.9/site-packages (from stack-data->ipython<9->ipympl) (0.2.2)\n",
      "Requirement already satisfied: executing in /home/shyam/anaconda3/envs/test_hyper_nn/lib/python3.9/site-packages (from stack-data->ipython<9->ipympl) (0.8.3)\n",
      "Collecting JSAnimation\n",
      "  Downloading JSAnimation-0.1.tar.gz (8.9 kB)\n",
      "Building wheels for collected packages: JSAnimation\n",
      "  Building wheel for JSAnimation (setup.py) ... \u001b[?25ldone\n",
      "\u001b[?25h  Created wheel for JSAnimation: filename=JSAnimation-0.1-py3-none-any.whl size=11422 sha256=caa24d99426b30fe2ea1d1f48bab7e028afe827413f200ea1340c44aef851d5a\n",
      "  Stored in directory: /home/shyam/.cache/pip/wheels/ca/1c/15/0560d119ac872a47412d9f592720a771741b2ab2d51ec23baf\n",
      "Successfully built JSAnimation\n",
      "Installing collected packages: JSAnimation\n",
      "Successfully installed JSAnimation-0.1\n"
     ]
    }
   ],
   "source": [
    "!pip install gym\n",
    "!pip install gym[box2d]\n",
    "!pip install tqdm\n",
    "!pip install tensorboard\n",
    "!pip install matplotlib\n",
    "!pip install celluloid\n",
    "!pip install ipympl\n",
    "!pip install JSAnimation\n",
    "!pip install einops"
   ]
  },
  {
   "cell_type": "markdown",
   "metadata": {},
   "source": [
    "# Reinforce"
   ]
  },
  {
   "cell_type": "code",
   "execution_count": 2,
   "metadata": {},
   "outputs": [
    {
     "name": "stderr",
     "output_type": "stream",
     "text": [
      "/home/shyam/anaconda3/envs/test_hyper_nn/lib/python3.9/site-packages/tqdm/auto.py:22: TqdmWarning: IProgress not found. Please update jupyter and ipywidgets. See https://ipywidgets.readthedocs.io/en/stable/user_install.html\n",
      "  from .autonotebook import tqdm as notebook_tqdm\n"
     ]
    }
   ],
   "source": [
    "import gym\n",
    "import numpy as np\n",
    "import torch\n",
    "import torch.nn as nn\n",
    "import torch.nn.functional as F\n",
    "from torch.distributions.categorical import Categorical\n",
    "import tqdm\n",
    "import torch.optim as optim"
   ]
  },
  {
   "cell_type": "code",
   "execution_count": 3,
   "metadata": {},
   "outputs": [],
   "source": [
    "from hypernn.torch.hypernet import TorchHyperNetwork"
   ]
  },
  {
   "cell_type": "markdown",
   "metadata": {},
   "source": [
    "#### Target Policy Network"
   ]
  },
  {
   "cell_type": "code",
   "execution_count": 4,
   "metadata": {},
   "outputs": [
    {
     "data": {
      "text/plain": [
       "68608"
      ]
     },
     "execution_count": 4,
     "metadata": {},
     "output_type": "execute_result"
    }
   ],
   "source": [
    "target_network = nn.Sequential(\n",
    "    nn.Linear(8, 256, bias=False),\n",
    "    nn.Tanh(),\n",
    "    nn.Linear(256,256, bias=False),\n",
    "    nn.Tanh(),\n",
    "    nn.Linear(256, 4, bias=False)\n",
    ")\n",
    "pytorch_total_params = sum(p.numel() for p in target_network.parameters() if p.requires_grad)\n",
    "pytorch_total_params"
   ]
  },
  {
   "cell_type": "markdown",
   "metadata": {},
   "source": [
    "#### Making a Lunar Lander Hypernetwork with a Custom Weight Generator"
   ]
  },
  {
   "cell_type": "code",
   "execution_count": 5,
   "metadata": {},
   "outputs": [],
   "source": [
    "from typing import Any, Dict, List, Optional, Tuple, Type, Union  # noqa\n",
    "\n",
    "class LunarLanderHypernetwork(TorchHyperNetwork):\n",
    "    def __init__(\n",
    "        self,\n",
    "        target_network: nn.Module,\n",
    "        num_target_parameters: Optional[int] = None,\n",
    "        embedding_dim: int = 100,\n",
    "        num_embeddings: int = 3,\n",
    "        weight_chunk_dim: Optional[int] = None,\n",
    "        custom_embedding_module: Optional[nn.Module] = None,\n",
    "        custom_weight_generator: Optional[nn.Module] = None,\n",
    "    ):\n",
    "        super().__init__(\n",
    "                    target_network = target_network,\n",
    "                    num_target_parameters = num_target_parameters,\n",
    "                    embedding_dim = embedding_dim,\n",
    "                    num_embeddings = num_embeddings,\n",
    "                    weight_chunk_dim = weight_chunk_dim,\n",
    "                    custom_embedding_module = custom_embedding_module,\n",
    "                    custom_weight_generator = custom_weight_generator\n",
    "                )\n",
    "\n",
    "    def make_weight_generator(self):\n",
    "        return nn.Sequential(\n",
    "            nn.Linear(self.embedding_dim, 32),\n",
    "            nn.Tanh(),\n",
    "            nn.Linear(32, self.weight_chunk_dim)\n",
    "        )\n"
   ]
  },
  {
   "cell_type": "markdown",
   "metadata": {},
   "source": [
    "### We can reduce the number of trainable parameters to less than 10%"
   ]
  },
  {
   "cell_type": "code",
   "execution_count": 6,
   "metadata": {},
   "outputs": [
    {
     "data": {
      "text/plain": [
       "6630"
      ]
     },
     "execution_count": 6,
     "metadata": {},
     "output_type": "execute_result"
    }
   ],
   "source": [
    "EMBEDDING_DIM = 4\n",
    "NUM_EMBEDDINGS = 512\n",
    "\n",
    "hypernetwork = LunarLanderHypernetwork.from_target(\n",
    "    target_network = target_network,\n",
    "    embedding_dim = EMBEDDING_DIM,\n",
    "    num_embeddings = NUM_EMBEDDINGS\n",
    ")\n",
    "pytorch_total_params = sum(p.numel() for p in hypernetwork.parameters() if p.requires_grad)\n",
    "pytorch_total_params"
   ]
  },
  {
   "cell_type": "code",
   "execution_count": 7,
   "metadata": {},
   "outputs": [
    {
     "name": "stdout",
     "output_type": "stream",
     "text": [
      "0.weight\n",
      "torch.Size([256, 8])\n",
      "2.weight\n",
      "torch.Size([256, 256])\n",
      "4.weight\n",
      "torch.Size([4, 256])\n"
     ]
    }
   ],
   "source": [
    "t = dict(target_network.named_parameters())\n",
    "for n in t:\n",
    "    print(n)\n",
    "    print(t[n].size())"
   ]
  },
  {
   "cell_type": "code",
   "execution_count": 8,
   "metadata": {},
   "outputs": [
    {
     "name": "stdout",
     "output_type": "stream",
     "text": [
      "0.weight\n",
      "torch.Size([256, 8])\n",
      "2.weight\n",
      "torch.Size([256, 256])\n",
      "4.weight\n",
      "torch.Size([4, 256])\n"
     ]
    }
   ],
   "source": [
    "for n in hypernetwork.target_weight_shapes:\n",
    "    print(n)\n",
    "    print(hypernetwork.target_weight_shapes[n])"
   ]
  },
  {
   "cell_type": "code",
   "execution_count": 9,
   "metadata": {},
   "outputs": [],
   "source": [
    "device = torch.device('cuda')\n",
    "hypernetwork = hypernetwork.to(device)"
   ]
  },
  {
   "cell_type": "markdown",
   "metadata": {},
   "source": [
    "#### Tensorboard utils"
   ]
  },
  {
   "cell_type": "code",
   "execution_count": 10,
   "metadata": {},
   "outputs": [
    {
     "name": "stderr",
     "output_type": "stream",
     "text": [
      "/home/shyam/anaconda3/envs/test_hyper_nn/lib/python3.9/site-packages/torch-1.11.0-py3.9-linux-x86_64.egg/torch/utils/tensorboard/__init__.py:4: DeprecationWarning: distutils Version classes are deprecated. Use packaging.version instead.\n",
      "  if not hasattr(tensorboard, '__version__') or LooseVersion(tensorboard.__version__) < LooseVersion('1.15'):\n"
     ]
    }
   ],
   "source": [
    "import os\n",
    "from torch.utils.tensorboard import SummaryWriter\n",
    "from datetime import datetime\n",
    "\n",
    "def get_tensorboard_logger(\n",
    "    experiment_name: str, base_log_path: str = \"tensorboard_logs\"\n",
    "):\n",
    "    log_path = \"{}/{}_{}\".format(base_log_path, experiment_name, datetime.now())\n",
    "    train_writer = SummaryWriter(log_path, flush_secs=10)\n",
    "    full_log_path = os.path.join(os.getcwd(), log_path)\n",
    "    print(\n",
    "        \"Follow tensorboard logs with: python -m tensorboard.main --logdir '{}'\".format(full_log_path)\n",
    "    )\n",
    "    return train_writer\n"
   ]
  },
  {
   "cell_type": "markdown",
   "metadata": {},
   "source": [
    "ipympl#### Rollout function"
   ]
  },
  {
   "cell_type": "code",
   "execution_count": 11,
   "metadata": {},
   "outputs": [],
   "source": [
    "import gym\n",
    "\n",
    "def rollout(env, hypernetwork, render=False) -> float:\n",
    "    with torch.no_grad():\n",
    "        params, _ = hypernetwork.generate_params()\n",
    "        obs = env.reset()\n",
    "        done = False\n",
    "        observations, actions, rewards, rendereds = [], [], [], []\n",
    "        while not done:\n",
    "            rendered = None\n",
    "            if render:\n",
    "                rendered = env.render(mode=\"rgb_array\")\n",
    "                rendereds.append(rendered)\n",
    "\n",
    "            action_logits = hypernetwork(inp=[torch.from_numpy(obs).unsqueeze(0).to(hypernetwork.device)], generated_params=params, has_aux=False)\n",
    "            dist = Categorical(logits=action_logits)\n",
    "            action = dist.sample().item()\n",
    "            next_obs, r, done, _ = env.step(action)\n",
    "\n",
    "            observations.append(obs)\n",
    "            actions.append(action)\n",
    "            rewards.append(r)\n",
    "\n",
    "            obs = next_obs\n",
    "\n",
    "    env.close()\n",
    "    return observations, actions, rewards, rendereds"
   ]
  },
  {
   "cell_type": "markdown",
   "metadata": {},
   "source": [
    "#### Reinforce algorithm"
   ]
  },
  {
   "cell_type": "code",
   "execution_count": 12,
   "metadata": {},
   "outputs": [],
   "source": [
    "def discount_reward(rews, gamma: float = 0.99):\n",
    "    n = len(rews)\n",
    "    rtgs = np.zeros_like(rews)\n",
    "    for i in reversed(range(n)):\n",
    "        rtgs[i] = rews[i] + gamma*(rtgs[i + 1] if i + 1 < n else 0)\n",
    "    return rtgs\n",
    "\n",
    "def reinforce(\n",
    "        num_epochs,\n",
    "        env,\n",
    "        hypernetwork,\n",
    "        rollout_fn=rollout,\n",
    "        lr: float = 0.001,\n",
    "        gamma: float = 0.99,\n",
    "    ):\n",
    "\n",
    "    writer = get_tensorboard_logger(\"HypernetworkTorchRL\")\n",
    "    optimizer = optim.Adam(hypernetwork.parameters(), lr=lr)\n",
    "\n",
    "    bar = tqdm.tqdm(np.arange(num_epochs))\n",
    "    for i in bar:\n",
    "        observations, actions, rewards, _ = rollout_fn(env, hypernetwork)\n",
    "\n",
    "        discounted_rewards = discount_reward(np.array(rewards), gamma)\n",
    "        discounted_rewards = discounted_rewards - np.mean(discounted_rewards)\n",
    "        discounted_rewards = discounted_rewards / (\n",
    "            np.std(discounted_rewards) + 1e-10\n",
    "        )\n",
    "\n",
    "        observations = torch.from_numpy(np.array(observations)).float().to(hypernetwork.device)\n",
    "        actions = torch.from_numpy(np.array(actions)).float().to(hypernetwork.device)\n",
    "        discounted_rewards = torch.from_numpy(discounted_rewards).float().to(hypernetwork.device)\n",
    "\n",
    "        logits, generated_params, aux_output = hypernetwork(inp=[observations], has_aux=True)\n",
    "        dist = Categorical(logits=logits)\n",
    "        log_probs = dist.log_prob(actions)\n",
    "\n",
    "        optimizer.zero_grad()\n",
    "        loss = -1 * torch.sum(discounted_rewards * log_probs)\n",
    "\n",
    "        loss.backward()\n",
    "        torch.nn.utils.clip_grad_norm_(hypernetwork.parameters(), 100.0)\n",
    "        optimizer.step()\n",
    "\n",
    "        grad_dict = {}\n",
    "        for n, W in hypernetwork.named_parameters():\n",
    "            if W.grad is not None:\n",
    "                grad_dict[\"{}_grad\".format(n)] = float(torch.sum(W.grad).item())\n",
    "\n",
    "        metrics = {\"loss\":loss.item(), \"rewards\":np.sum(rewards), **grad_dict}\n",
    "\n",
    "        for key in metrics:\n",
    "            writer.add_scalar(key, metrics[key], i)\n",
    "\n",
    "        bar.set_description('Loss: {}, Sum Reward: {}'.format(loss.item(), np.sum(rewards)))"
   ]
  },
  {
   "cell_type": "code",
   "execution_count": 13,
   "metadata": {},
   "outputs": [],
   "source": [
    "env = gym.make(\"LunarLander-v2\")"
   ]
  },
  {
   "cell_type": "code",
   "execution_count": 14,
   "metadata": {},
   "outputs": [
    {
     "name": "stdout",
     "output_type": "stream",
     "text": [
      "Follow tensorboard logs with: python -m tensorboard.main --logdir '/home/shyam/Code/hyper-nn/notebooks/reinforce/tensorboard_logs/HypernetworkTorchRL_2022-05-30 11:07:04.353466'\n"
     ]
    },
    {
     "name": "stderr",
     "output_type": "stream",
     "text": [
      "Loss: 26.958415985107422, Sum Reward: 103.6341627833736:  13%|▉      | 656/5000 [07:23<48:57,  1.48it/s]\n"
     ]
    },
    {
     "ename": "KeyboardInterrupt",
     "evalue": "",
     "output_type": "error",
     "traceback": [
      "\u001b[0;31m---------------------------------------------------------------------------\u001b[0m",
      "\u001b[0;31mKeyboardInterrupt\u001b[0m                         Traceback (most recent call last)",
      "Input \u001b[0;32mIn [14]\u001b[0m, in \u001b[0;36m<cell line: 1>\u001b[0;34m()\u001b[0m\n\u001b[0;32m----> 1\u001b[0m \u001b[43mreinforce\u001b[49m\u001b[43m(\u001b[49m\u001b[38;5;241;43m5000\u001b[39;49m\u001b[43m,\u001b[49m\u001b[43m \u001b[49m\u001b[43menv\u001b[49m\u001b[43m,\u001b[49m\u001b[43m \u001b[49m\u001b[43mhypernetwork\u001b[49m\u001b[43m,\u001b[49m\u001b[43m \u001b[49m\u001b[43mlr\u001b[49m\u001b[38;5;241;43m=\u001b[39;49m\u001b[38;5;241;43m0.0002\u001b[39;49m\u001b[43m)\u001b[49m\n",
      "Input \u001b[0;32mIn [12]\u001b[0m, in \u001b[0;36mreinforce\u001b[0;34m(num_epochs, env, hypernetwork, rollout_fn, lr, gamma)\u001b[0m\n\u001b[1;32m     20\u001b[0m bar \u001b[38;5;241m=\u001b[39m tqdm\u001b[38;5;241m.\u001b[39mtqdm(np\u001b[38;5;241m.\u001b[39marange(num_epochs))\n\u001b[1;32m     21\u001b[0m \u001b[38;5;28;01mfor\u001b[39;00m i \u001b[38;5;129;01min\u001b[39;00m bar:\n\u001b[0;32m---> 22\u001b[0m     observations, actions, rewards, _ \u001b[38;5;241m=\u001b[39m \u001b[43mrollout_fn\u001b[49m\u001b[43m(\u001b[49m\u001b[43menv\u001b[49m\u001b[43m,\u001b[49m\u001b[43m \u001b[49m\u001b[43mhypernetwork\u001b[49m\u001b[43m)\u001b[49m\n\u001b[1;32m     24\u001b[0m     discounted_rewards \u001b[38;5;241m=\u001b[39m discount_reward(np\u001b[38;5;241m.\u001b[39marray(rewards), gamma)\n\u001b[1;32m     25\u001b[0m     discounted_rewards \u001b[38;5;241m=\u001b[39m discounted_rewards \u001b[38;5;241m-\u001b[39m np\u001b[38;5;241m.\u001b[39mmean(discounted_rewards)\n",
      "Input \u001b[0;32mIn [11]\u001b[0m, in \u001b[0;36mrollout\u001b[0;34m(env, hypernetwork, render)\u001b[0m\n\u001b[1;32m     15\u001b[0m action_logits \u001b[38;5;241m=\u001b[39m hypernetwork(inp\u001b[38;5;241m=\u001b[39m[torch\u001b[38;5;241m.\u001b[39mfrom_numpy(obs)\u001b[38;5;241m.\u001b[39munsqueeze(\u001b[38;5;241m0\u001b[39m)\u001b[38;5;241m.\u001b[39mto(hypernetwork\u001b[38;5;241m.\u001b[39mdevice)], generated_params\u001b[38;5;241m=\u001b[39mparams, has_aux\u001b[38;5;241m=\u001b[39m\u001b[38;5;28;01mFalse\u001b[39;00m)\n\u001b[1;32m     16\u001b[0m dist \u001b[38;5;241m=\u001b[39m Categorical(logits\u001b[38;5;241m=\u001b[39maction_logits)\n\u001b[0;32m---> 17\u001b[0m action \u001b[38;5;241m=\u001b[39m \u001b[43mdist\u001b[49m\u001b[38;5;241;43m.\u001b[39;49m\u001b[43msample\u001b[49m\u001b[43m(\u001b[49m\u001b[43m)\u001b[49m\u001b[38;5;241m.\u001b[39mitem()\n\u001b[1;32m     18\u001b[0m next_obs, r, done, _ \u001b[38;5;241m=\u001b[39m env\u001b[38;5;241m.\u001b[39mstep(action)\n\u001b[1;32m     20\u001b[0m observations\u001b[38;5;241m.\u001b[39mappend(obs)\n",
      "File \u001b[0;32m~/anaconda3/envs/test_hyper_nn/lib/python3.9/site-packages/torch-1.11.0-py3.9-linux-x86_64.egg/torch/distributions/categorical.py:112\u001b[0m, in \u001b[0;36mCategorical.sample\u001b[0;34m(self, sample_shape)\u001b[0m\n\u001b[1;32m    110\u001b[0m     sample_shape \u001b[38;5;241m=\u001b[39m torch\u001b[38;5;241m.\u001b[39mSize(sample_shape)\n\u001b[1;32m    111\u001b[0m probs_2d \u001b[38;5;241m=\u001b[39m \u001b[38;5;28mself\u001b[39m\u001b[38;5;241m.\u001b[39mprobs\u001b[38;5;241m.\u001b[39mreshape(\u001b[38;5;241m-\u001b[39m\u001b[38;5;241m1\u001b[39m, \u001b[38;5;28mself\u001b[39m\u001b[38;5;241m.\u001b[39m_num_events)\n\u001b[0;32m--> 112\u001b[0m samples_2d \u001b[38;5;241m=\u001b[39m \u001b[43mtorch\u001b[49m\u001b[38;5;241;43m.\u001b[39;49m\u001b[43mmultinomial\u001b[49m\u001b[43m(\u001b[49m\u001b[43mprobs_2d\u001b[49m\u001b[43m,\u001b[49m\u001b[43m \u001b[49m\u001b[43msample_shape\u001b[49m\u001b[38;5;241;43m.\u001b[39;49m\u001b[43mnumel\u001b[49m\u001b[43m(\u001b[49m\u001b[43m)\u001b[49m\u001b[43m,\u001b[49m\u001b[43m \u001b[49m\u001b[38;5;28;43;01mTrue\u001b[39;49;00m\u001b[43m)\u001b[49m\u001b[38;5;241m.\u001b[39mT\n\u001b[1;32m    113\u001b[0m \u001b[38;5;28;01mreturn\u001b[39;00m samples_2d\u001b[38;5;241m.\u001b[39mreshape(\u001b[38;5;28mself\u001b[39m\u001b[38;5;241m.\u001b[39m_extended_shape(sample_shape))\n",
      "\u001b[0;31mKeyboardInterrupt\u001b[0m: "
     ]
    }
   ],
   "source": [
    "reinforce(5000, env, hypernetwork, lr=0.0002)"
   ]
  },
  {
   "cell_type": "code",
   "execution_count": 18,
   "metadata": {},
   "outputs": [],
   "source": [
    "import numpy as np\n",
    "import matplotlib\n",
    "import matplotlib.pyplot as plt\n",
    "%matplotlib ipympl\n",
    "\n",
    "plt.style.use('ggplot')\n",
    "# Imports specifically so we can render outputs in Jupyter.\n",
    "from JSAnimation.IPython_display import display_animation\n",
    "from matplotlib import animation\n",
    "from IPython.display import display\n",
    "from celluloid import Camera\n",
    "from IPython.display import HTML\n",
    "\n",
    "\n",
    "def render_rollout(model):\n",
    "    fig = plt.figure(\"Animation\",figsize=(7,5))\n",
    "    camera = Camera(fig)\n",
    "    ax = fig.add_subplot(111)\n",
    "    _, _, rewards, rendereds = rollout(gym.make(\"LunarLander-v2\"), model, render=True)\n",
    "    frames = []\n",
    "    for r in rendereds:\n",
    "        frame = ax.imshow(r)\n",
    "        ax.axis('off')\n",
    "        camera.snap()\n",
    "        frames.append([frame])\n",
    "    print(\"Sum Reward: {}\".format(np.sum(rewards)))\n",
    "    animation = camera.animate(blit=False, interval=50)\n",
    "    # display(animations.to_html5_video())\n",
    "    animation.save('HyperTorchLunarLander.mp4')\n",
    "    return animation"
   ]
  },
  {
   "cell_type": "code",
   "execution_count": 21,
   "metadata": {},
   "outputs": [
    {
     "name": "stderr",
     "output_type": "stream",
     "text": [
      "/home/shyam/anaconda3/envs/test_hyper_nn/lib/python3.9/site-packages/ipywidgets/widgets/widget.py:477: DeprecationWarning: Passing unrecognized arguments to super(Toolbar).__init__().\n",
      "__init__() missing 1 required positional argument: 'canvas'\n",
      "This is deprecated in traitlets 4.2.This error will be raised in a future release of traitlets.\n",
      "  super(Widget, self).__init__(**kwargs)\n"
     ]
    },
    {
     "name": "stdout",
     "output_type": "stream",
     "text": [
      "Sum Reward: 95.26586962876422\n"
     ]
    },
    {
     "data": {
      "application/vnd.jupyter.widget-view+json": {
       "model_id": "b9f67268c7234dbc9c34b6e72a2c3941",
       "version_major": 2,
       "version_minor": 0
      },
      "image/png": "[encoded data removed]",
      "text/html": [
       "\n",
       "            <div style=\"display: inline-block;\">\n",
       "                <div class=\"jupyter-widgets widget-label\" style=\"text-align: center;\">\n",
       "                    Animation\n",
       "                </div>\n",
       "                <img src='data:image/png;base64,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' width=700.0/>\n",
       "            </div>\n",
       "        "
      ],
      "text/plain": [
       "Canvas(toolbar=Toolbar(toolitems=[('Home', 'Reset original view', 'home', 'home'), ('Back', 'Back to previous …"
      ]
     },
     "metadata": {},
     "output_type": "display_data"
    }
   ],
   "source": [
    "vid = render_rollout(hypernetwork)"
   ]
  },
  {
   "cell_type": "markdown",
   "metadata": {},
   "source": [
    "##### Play video"
   ]
  },
  {
   "cell_type": "code",
   "execution_count": 22,
   "metadata": {},
   "outputs": [
    {
     "data": {
      "text/html": [
       "<video src=\"HyperTorchLunarLander.mp4\" controls  >\n",
       "      Your browser does not support the <code>video</code> element.\n",
       "    </video>"
      ],
      "text/plain": [
       "<IPython.core.display.Video object>"
      ]
     },
     "execution_count": 22,
     "metadata": {},
     "output_type": "execute_result"
    }
   ],
   "source": [
    "from IPython.display import Video\n",
    "\n",
    "Video(\"HyperTorchLunarLander.mp4\")"
   ]
  }
 ],
 "metadata": {
  "interpreter": {
   "hash": "1d64cb66d3d902aa83000daa06ca958bef94bde318911a82aee5f8df2bb8934b"
  },
  "kernelspec": {
   "display_name": "Python [conda env:test_hyper_nn] *",
   "language": "python",
   "name": "conda-env-test_hyper_nn-py"
  },
  "language_info": {
   "codemirror_mode": {
    "name": "ipython",
    "version": 3
   },
   "file_extension": ".py",
   "mimetype": "text/x-python",
   "name": "python",
   "nbconvert_exporter": "python",
   "pygments_lexer": "ipython3",
   "version": "3.9.0"
  }
 },
 "nbformat": 4,
 "nbformat_minor": 4
}
