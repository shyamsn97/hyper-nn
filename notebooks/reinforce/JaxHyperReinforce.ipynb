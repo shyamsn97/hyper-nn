{
 "cells": [
  {
   "cell_type": "markdown",
   "metadata": {},
   "source": [
    "#### Install reqs"
   ]
  },
  {
   "cell_type": "code",
   "execution_count": 1,
   "metadata": {
    "scrolled": true,
    "tags": []
   },
   "outputs": [
    {
     "name": "stdout",
     "output_type": "stream",
     "text": [
      "Requirement already satisfied: gym in /home/shyam/anaconda3/envs/test_hyper_nn/lib/python3.9/site-packages (0.24.0)\n",
      "Requirement already satisfied: importlib-metadata>=4.8.0 in /home/shyam/anaconda3/envs/test_hyper_nn/lib/python3.9/site-packages (from gym) (4.11.4)\n",
      "Requirement already satisfied: gym-notices>=0.0.4 in /home/shyam/anaconda3/envs/test_hyper_nn/lib/python3.9/site-packages (from gym) (0.0.6)\n",
      "Requirement already satisfied: cloudpickle>=1.2.0 in /home/shyam/anaconda3/envs/test_hyper_nn/lib/python3.9/site-packages (from gym) (2.1.0)\n",
      "Requirement already satisfied: numpy>=1.18.0 in /home/shyam/anaconda3/envs/test_hyper_nn/lib/python3.9/site-packages/numpy-1.23.0rc2-py3.9-linux-x86_64.egg (from gym) (1.23.0rc2)\n",
      "Requirement already satisfied: zipp>=0.5 in /home/shyam/anaconda3/envs/test_hyper_nn/lib/python3.9/site-packages (from importlib-metadata>=4.8.0->gym) (3.8.0)\n",
      "Requirement already satisfied: gym[box2d] in /home/shyam/anaconda3/envs/test_hyper_nn/lib/python3.9/site-packages (0.24.0)\n",
      "Requirement already satisfied: numpy>=1.18.0 in /home/shyam/anaconda3/envs/test_hyper_nn/lib/python3.9/site-packages/numpy-1.23.0rc2-py3.9-linux-x86_64.egg (from gym[box2d]) (1.23.0rc2)\n",
      "Requirement already satisfied: cloudpickle>=1.2.0 in /home/shyam/anaconda3/envs/test_hyper_nn/lib/python3.9/site-packages (from gym[box2d]) (2.1.0)\n",
      "Requirement already satisfied: gym-notices>=0.0.4 in /home/shyam/anaconda3/envs/test_hyper_nn/lib/python3.9/site-packages (from gym[box2d]) (0.0.6)\n",
      "Requirement already satisfied: importlib-metadata>=4.8.0 in /home/shyam/anaconda3/envs/test_hyper_nn/lib/python3.9/site-packages (from gym[box2d]) (4.11.4)\n",
      "Requirement already satisfied: pygame==2.1.0 in /home/shyam/anaconda3/envs/test_hyper_nn/lib/python3.9/site-packages (from gym[box2d]) (2.1.0)\n",
      "Requirement already satisfied: box2d-py==2.3.5 in /home/shyam/anaconda3/envs/test_hyper_nn/lib/python3.9/site-packages (from gym[box2d]) (2.3.5)\n",
      "Requirement already satisfied: zipp>=0.5 in /home/shyam/anaconda3/envs/test_hyper_nn/lib/python3.9/site-packages (from importlib-metadata>=4.8.0->gym[box2d]) (3.8.0)\n",
      "Requirement already satisfied: tqdm in /home/shyam/anaconda3/envs/test_hyper_nn/lib/python3.9/site-packages (4.64.0)\n",
      "Requirement already satisfied: tensorboard in /home/shyam/anaconda3/envs/test_hyper_nn/lib/python3.9/site-packages (2.9.0)\n",
      "Requirement already satisfied: numpy>=1.12.0 in /home/shyam/anaconda3/envs/test_hyper_nn/lib/python3.9/site-packages/numpy-1.23.0rc2-py3.9-linux-x86_64.egg (from tensorboard) (1.23.0rc2)\n",
      "Requirement already satisfied: grpcio>=1.24.3 in /home/shyam/anaconda3/envs/test_hyper_nn/lib/python3.9/site-packages (from tensorboard) (1.46.3)\n",
      "Requirement already satisfied: protobuf>=3.9.2 in /home/shyam/anaconda3/envs/test_hyper_nn/lib/python3.9/site-packages (from tensorboard) (3.20.0)\n",
      "Requirement already satisfied: requests<3,>=2.21.0 in /home/shyam/anaconda3/envs/test_hyper_nn/lib/python3.9/site-packages (from tensorboard) (2.27.1)\n",
      "Requirement already satisfied: tensorboard-plugin-wit>=1.6.0 in /home/shyam/anaconda3/envs/test_hyper_nn/lib/python3.9/site-packages (from tensorboard) (1.8.1)\n",
      "Requirement already satisfied: setuptools>=41.0.0 in /home/shyam/anaconda3/envs/test_hyper_nn/lib/python3.9/site-packages (from tensorboard) (61.2.0)\n",
      "Requirement already satisfied: absl-py>=0.4 in /home/shyam/anaconda3/envs/test_hyper_nn/lib/python3.9/site-packages/absl_py-1.0.0-py3.9.egg (from tensorboard) (1.0.0)\n",
      "Requirement already satisfied: wheel>=0.26 in /home/shyam/anaconda3/envs/test_hyper_nn/lib/python3.9/site-packages (from tensorboard) (0.37.1)\n",
      "Requirement already satisfied: werkzeug>=1.0.1 in /home/shyam/anaconda3/envs/test_hyper_nn/lib/python3.9/site-packages (from tensorboard) (2.1.2)\n",
      "Requirement already satisfied: tensorboard-data-server<0.7.0,>=0.6.0 in /home/shyam/anaconda3/envs/test_hyper_nn/lib/python3.9/site-packages (from tensorboard) (0.6.1)\n",
      "Requirement already satisfied: markdown>=2.6.8 in /home/shyam/anaconda3/envs/test_hyper_nn/lib/python3.9/site-packages (from tensorboard) (3.3.7)\n",
      "Requirement already satisfied: google-auth<3,>=1.6.3 in /home/shyam/anaconda3/envs/test_hyper_nn/lib/python3.9/site-packages (from tensorboard) (2.6.6)\n",
      "Requirement already satisfied: google-auth-oauthlib<0.5,>=0.4.1 in /home/shyam/anaconda3/envs/test_hyper_nn/lib/python3.9/site-packages (from tensorboard) (0.4.6)\n",
      "Requirement already satisfied: six in /home/shyam/anaconda3/envs/test_hyper_nn/lib/python3.9/site-packages (from absl-py>=0.4->tensorboard) (1.16.0)\n",
      "Requirement already satisfied: pyasn1-modules>=0.2.1 in /home/shyam/anaconda3/envs/test_hyper_nn/lib/python3.9/site-packages (from google-auth<3,>=1.6.3->tensorboard) (0.2.8)\n",
      "Requirement already satisfied: cachetools<6.0,>=2.0.0 in /home/shyam/anaconda3/envs/test_hyper_nn/lib/python3.9/site-packages (from google-auth<3,>=1.6.3->tensorboard) (5.2.0)\n",
      "Requirement already satisfied: rsa<5,>=3.1.4 in /home/shyam/anaconda3/envs/test_hyper_nn/lib/python3.9/site-packages (from google-auth<3,>=1.6.3->tensorboard) (4.8)\n",
      "Requirement already satisfied: requests-oauthlib>=0.7.0 in /home/shyam/anaconda3/envs/test_hyper_nn/lib/python3.9/site-packages (from google-auth-oauthlib<0.5,>=0.4.1->tensorboard) (1.3.1)\n",
      "Requirement already satisfied: importlib-metadata>=4.4 in /home/shyam/anaconda3/envs/test_hyper_nn/lib/python3.9/site-packages (from markdown>=2.6.8->tensorboard) (4.11.4)\n",
      "Requirement already satisfied: zipp>=0.5 in /home/shyam/anaconda3/envs/test_hyper_nn/lib/python3.9/site-packages (from importlib-metadata>=4.4->markdown>=2.6.8->tensorboard) (3.8.0)\n",
      "Requirement already satisfied: pyasn1<0.5.0,>=0.4.6 in /home/shyam/anaconda3/envs/test_hyper_nn/lib/python3.9/site-packages (from pyasn1-modules>=0.2.1->google-auth<3,>=1.6.3->tensorboard) (0.4.8)\n",
      "Requirement already satisfied: urllib3<1.27,>=1.21.1 in /home/shyam/anaconda3/envs/test_hyper_nn/lib/python3.9/site-packages (from requests<3,>=2.21.0->tensorboard) (1.26.9)\n",
      "Requirement already satisfied: idna<4,>=2.5 in /home/shyam/anaconda3/envs/test_hyper_nn/lib/python3.9/site-packages (from requests<3,>=2.21.0->tensorboard) (3.3)\n",
      "Requirement already satisfied: charset-normalizer~=2.0.0 in /home/shyam/anaconda3/envs/test_hyper_nn/lib/python3.9/site-packages (from requests<3,>=2.21.0->tensorboard) (2.0.4)\n",
      "Requirement already satisfied: certifi>=2017.4.17 in /home/shyam/anaconda3/envs/test_hyper_nn/lib/python3.9/site-packages (from requests<3,>=2.21.0->tensorboard) (2022.5.18.1)\n",
      "Requirement already satisfied: oauthlib>=3.0.0 in /home/shyam/anaconda3/envs/test_hyper_nn/lib/python3.9/site-packages (from requests-oauthlib>=0.7.0->google-auth-oauthlib<0.5,>=0.4.1->tensorboard) (3.2.0)\n",
      "Requirement already satisfied: matplotlib in /home/shyam/anaconda3/envs/test_hyper_nn/lib/python3.9/site-packages/matplotlib-3.5.2-py3.9-linux-x86_64.egg (3.5.2)\n",
      "Requirement already satisfied: cycler>=0.10 in /home/shyam/anaconda3/envs/test_hyper_nn/lib/python3.9/site-packages/cycler-0.11.0-py3.9.egg (from matplotlib) (0.11.0)\n",
      "Requirement already satisfied: fonttools>=4.22.0 in /home/shyam/anaconda3/envs/test_hyper_nn/lib/python3.9/site-packages/fonttools-4.33.3-py3.9.egg (from matplotlib) (4.33.3)\n",
      "Requirement already satisfied: kiwisolver>=1.0.1 in /home/shyam/anaconda3/envs/test_hyper_nn/lib/python3.9/site-packages/kiwisolver-1.4.2-py3.9-linux-x86_64.egg (from matplotlib) (1.4.2)\n",
      "Requirement already satisfied: numpy>=1.17 in /home/shyam/anaconda3/envs/test_hyper_nn/lib/python3.9/site-packages/numpy-1.23.0rc2-py3.9-linux-x86_64.egg (from matplotlib) (1.23.0rc2)\n",
      "Requirement already satisfied: packaging>=20.0 in /home/shyam/anaconda3/envs/test_hyper_nn/lib/python3.9/site-packages (from matplotlib) (21.3)\n",
      "Requirement already satisfied: pillow>=6.2.0 in /home/shyam/anaconda3/envs/test_hyper_nn/lib/python3.9/site-packages/Pillow-9.1.1-py3.9-linux-x86_64.egg (from matplotlib) (9.1.1)\n",
      "Requirement already satisfied: pyparsing>=2.2.1 in /home/shyam/anaconda3/envs/test_hyper_nn/lib/python3.9/site-packages (from matplotlib) (3.0.4)\n",
      "Requirement already satisfied: python-dateutil>=2.7 in /home/shyam/anaconda3/envs/test_hyper_nn/lib/python3.9/site-packages (from matplotlib) (2.8.2)\n",
      "Requirement already satisfied: six>=1.5 in /home/shyam/anaconda3/envs/test_hyper_nn/lib/python3.9/site-packages (from python-dateutil>=2.7->matplotlib) (1.16.0)\n",
      "Requirement already satisfied: celluloid in /home/shyam/anaconda3/envs/test_hyper_nn/lib/python3.9/site-packages (0.2.0)\n",
      "Requirement already satisfied: matplotlib in /home/shyam/anaconda3/envs/test_hyper_nn/lib/python3.9/site-packages/matplotlib-3.5.2-py3.9-linux-x86_64.egg (from celluloid) (3.5.2)\n",
      "Requirement already satisfied: cycler>=0.10 in /home/shyam/anaconda3/envs/test_hyper_nn/lib/python3.9/site-packages/cycler-0.11.0-py3.9.egg (from matplotlib->celluloid) (0.11.0)\n",
      "Requirement already satisfied: fonttools>=4.22.0 in /home/shyam/anaconda3/envs/test_hyper_nn/lib/python3.9/site-packages/fonttools-4.33.3-py3.9.egg (from matplotlib->celluloid) (4.33.3)\n",
      "Requirement already satisfied: kiwisolver>=1.0.1 in /home/shyam/anaconda3/envs/test_hyper_nn/lib/python3.9/site-packages/kiwisolver-1.4.2-py3.9-linux-x86_64.egg (from matplotlib->celluloid) (1.4.2)\n",
      "Requirement already satisfied: numpy>=1.17 in /home/shyam/anaconda3/envs/test_hyper_nn/lib/python3.9/site-packages/numpy-1.23.0rc2-py3.9-linux-x86_64.egg (from matplotlib->celluloid) (1.23.0rc2)\n",
      "Requirement already satisfied: packaging>=20.0 in /home/shyam/anaconda3/envs/test_hyper_nn/lib/python3.9/site-packages (from matplotlib->celluloid) (21.3)\n",
      "Requirement already satisfied: pillow>=6.2.0 in /home/shyam/anaconda3/envs/test_hyper_nn/lib/python3.9/site-packages/Pillow-9.1.1-py3.9-linux-x86_64.egg (from matplotlib->celluloid) (9.1.1)\n",
      "Requirement already satisfied: pyparsing>=2.2.1 in /home/shyam/anaconda3/envs/test_hyper_nn/lib/python3.9/site-packages (from matplotlib->celluloid) (3.0.4)\n",
      "Requirement already satisfied: python-dateutil>=2.7 in /home/shyam/anaconda3/envs/test_hyper_nn/lib/python3.9/site-packages (from matplotlib->celluloid) (2.8.2)\n",
      "Requirement already satisfied: six>=1.5 in /home/shyam/anaconda3/envs/test_hyper_nn/lib/python3.9/site-packages (from python-dateutil>=2.7->matplotlib->celluloid) (1.16.0)\n",
      "Requirement already satisfied: ipympl in /home/shyam/anaconda3/envs/test_hyper_nn/lib/python3.9/site-packages (0.9.1)\n",
      "Requirement already satisfied: numpy in /home/shyam/anaconda3/envs/test_hyper_nn/lib/python3.9/site-packages/numpy-1.23.0rc2-py3.9-linux-x86_64.egg (from ipympl) (1.23.0rc2)\n",
      "Requirement already satisfied: ipywidgets<8,>=7.6.0 in /home/shyam/anaconda3/envs/test_hyper_nn/lib/python3.9/site-packages (from ipympl) (7.7.0)\n",
      "Requirement already satisfied: traitlets<6 in /home/shyam/anaconda3/envs/test_hyper_nn/lib/python3.9/site-packages (from ipympl) (5.1.1)\n",
      "Requirement already satisfied: matplotlib<4,>=3.4.0 in /home/shyam/anaconda3/envs/test_hyper_nn/lib/python3.9/site-packages/matplotlib-3.5.2-py3.9-linux-x86_64.egg (from ipympl) (3.5.2)\n",
      "Requirement already satisfied: ipython-genutils in /home/shyam/anaconda3/envs/test_hyper_nn/lib/python3.9/site-packages (from ipympl) (0.2.0)\n",
      "Requirement already satisfied: pillow in /home/shyam/anaconda3/envs/test_hyper_nn/lib/python3.9/site-packages/Pillow-9.1.1-py3.9-linux-x86_64.egg (from ipympl) (9.1.1)\n",
      "Requirement already satisfied: ipython<9 in /home/shyam/anaconda3/envs/test_hyper_nn/lib/python3.9/site-packages (from ipympl) (8.3.0)\n",
      "Requirement already satisfied: pickleshare in /home/shyam/anaconda3/envs/test_hyper_nn/lib/python3.9/site-packages (from ipython<9->ipympl) (0.7.5)\n",
      "Requirement already satisfied: pexpect>4.3 in /home/shyam/anaconda3/envs/test_hyper_nn/lib/python3.9/site-packages (from ipython<9->ipympl) (4.8.0)\n",
      "Requirement already satisfied: backcall in /home/shyam/anaconda3/envs/test_hyper_nn/lib/python3.9/site-packages (from ipython<9->ipympl) (0.2.0)\n",
      "Requirement already satisfied: jedi>=0.16 in /home/shyam/anaconda3/envs/test_hyper_nn/lib/python3.9/site-packages (from ipython<9->ipympl) (0.18.1)\n",
      "Requirement already satisfied: decorator in /home/shyam/anaconda3/envs/test_hyper_nn/lib/python3.9/site-packages (from ipython<9->ipympl) (5.1.1)\n",
      "Requirement already satisfied: stack-data in /home/shyam/anaconda3/envs/test_hyper_nn/lib/python3.9/site-packages (from ipython<9->ipympl) (0.2.0)\n",
      "Requirement already satisfied: pygments>=2.4.0 in /home/shyam/anaconda3/envs/test_hyper_nn/lib/python3.9/site-packages (from ipython<9->ipympl) (2.11.2)\n",
      "Requirement already satisfied: setuptools>=18.5 in /home/shyam/anaconda3/envs/test_hyper_nn/lib/python3.9/site-packages (from ipython<9->ipympl) (61.2.0)\n",
      "Requirement already satisfied: prompt-toolkit!=3.0.0,!=3.0.1,<3.1.0,>=2.0.0 in /home/shyam/anaconda3/envs/test_hyper_nn/lib/python3.9/site-packages (from ipython<9->ipympl) (3.0.20)\n",
      "Requirement already satisfied: matplotlib-inline in /home/shyam/anaconda3/envs/test_hyper_nn/lib/python3.9/site-packages (from ipython<9->ipympl) (0.1.2)\n",
      "Requirement already satisfied: ipykernel>=4.5.1 in /home/shyam/anaconda3/envs/test_hyper_nn/lib/python3.9/site-packages (from ipywidgets<8,>=7.6.0->ipympl) (6.9.1)\n",
      "Requirement already satisfied: widgetsnbextension~=3.6.0 in /home/shyam/anaconda3/envs/test_hyper_nn/lib/python3.9/site-packages (from ipywidgets<8,>=7.6.0->ipympl) (3.6.0)\n",
      "Requirement already satisfied: nbformat>=4.2.0 in /home/shyam/anaconda3/envs/test_hyper_nn/lib/python3.9/site-packages (from ipywidgets<8,>=7.6.0->ipympl) (5.3.0)\n",
      "Requirement already satisfied: jupyterlab-widgets>=1.0.0 in /home/shyam/anaconda3/envs/test_hyper_nn/lib/python3.9/site-packages (from ipywidgets<8,>=7.6.0->ipympl) (1.1.0)\n",
      "Requirement already satisfied: nest-asyncio in /home/shyam/anaconda3/envs/test_hyper_nn/lib/python3.9/site-packages (from ipykernel>=4.5.1->ipywidgets<8,>=7.6.0->ipympl) (1.5.5)\n",
      "Requirement already satisfied: tornado<7.0,>=4.2 in /home/shyam/anaconda3/envs/test_hyper_nn/lib/python3.9/site-packages (from ipykernel>=4.5.1->ipywidgets<8,>=7.6.0->ipympl) (6.1)\n",
      "Requirement already satisfied: jupyter-client<8.0 in /home/shyam/anaconda3/envs/test_hyper_nn/lib/python3.9/site-packages (from ipykernel>=4.5.1->ipywidgets<8,>=7.6.0->ipympl) (7.2.2)\n",
      "Requirement already satisfied: debugpy<2.0,>=1.0.0 in /home/shyam/anaconda3/envs/test_hyper_nn/lib/python3.9/site-packages (from ipykernel>=4.5.1->ipywidgets<8,>=7.6.0->ipympl) (1.5.1)\n",
      "Requirement already satisfied: parso<0.9.0,>=0.8.0 in /home/shyam/anaconda3/envs/test_hyper_nn/lib/python3.9/site-packages (from jedi>=0.16->ipython<9->ipympl) (0.8.3)\n",
      "Requirement already satisfied: entrypoints in /home/shyam/anaconda3/envs/test_hyper_nn/lib/python3.9/site-packages (from jupyter-client<8.0->ipykernel>=4.5.1->ipywidgets<8,>=7.6.0->ipympl) (0.4)\n",
      "Requirement already satisfied: python-dateutil>=2.8.2 in /home/shyam/anaconda3/envs/test_hyper_nn/lib/python3.9/site-packages (from jupyter-client<8.0->ipykernel>=4.5.1->ipywidgets<8,>=7.6.0->ipympl) (2.8.2)\n",
      "Requirement already satisfied: jupyter-core>=4.9.2 in /home/shyam/anaconda3/envs/test_hyper_nn/lib/python3.9/site-packages (from jupyter-client<8.0->ipykernel>=4.5.1->ipywidgets<8,>=7.6.0->ipympl) (4.10.0)\n",
      "Requirement already satisfied: pyzmq>=22.3 in /home/shyam/anaconda3/envs/test_hyper_nn/lib/python3.9/site-packages (from jupyter-client<8.0->ipykernel>=4.5.1->ipywidgets<8,>=7.6.0->ipympl) (22.3.0)\n",
      "Requirement already satisfied: cycler>=0.10 in /home/shyam/anaconda3/envs/test_hyper_nn/lib/python3.9/site-packages/cycler-0.11.0-py3.9.egg (from matplotlib<4,>=3.4.0->ipympl) (0.11.0)\n",
      "Requirement already satisfied: fonttools>=4.22.0 in /home/shyam/anaconda3/envs/test_hyper_nn/lib/python3.9/site-packages/fonttools-4.33.3-py3.9.egg (from matplotlib<4,>=3.4.0->ipympl) (4.33.3)\n",
      "Requirement already satisfied: kiwisolver>=1.0.1 in /home/shyam/anaconda3/envs/test_hyper_nn/lib/python3.9/site-packages/kiwisolver-1.4.2-py3.9-linux-x86_64.egg (from matplotlib<4,>=3.4.0->ipympl) (1.4.2)\n",
      "Requirement already satisfied: packaging>=20.0 in /home/shyam/anaconda3/envs/test_hyper_nn/lib/python3.9/site-packages (from matplotlib<4,>=3.4.0->ipympl) (21.3)\n",
      "Requirement already satisfied: pyparsing>=2.2.1 in /home/shyam/anaconda3/envs/test_hyper_nn/lib/python3.9/site-packages (from matplotlib<4,>=3.4.0->ipympl) (3.0.4)\n",
      "Requirement already satisfied: fastjsonschema in /home/shyam/anaconda3/envs/test_hyper_nn/lib/python3.9/site-packages (from nbformat>=4.2.0->ipywidgets<8,>=7.6.0->ipympl) (2.15.1)\n",
      "Requirement already satisfied: jsonschema>=2.6 in /home/shyam/anaconda3/envs/test_hyper_nn/lib/python3.9/site-packages (from nbformat>=4.2.0->ipywidgets<8,>=7.6.0->ipympl) (4.4.0)\n",
      "Requirement already satisfied: attrs>=17.4.0 in /home/shyam/anaconda3/envs/test_hyper_nn/lib/python3.9/site-packages (from jsonschema>=2.6->nbformat>=4.2.0->ipywidgets<8,>=7.6.0->ipympl) (21.4.0)\n",
      "Requirement already satisfied: pyrsistent!=0.17.0,!=0.17.1,!=0.17.2,>=0.14.0 in /home/shyam/anaconda3/envs/test_hyper_nn/lib/python3.9/site-packages (from jsonschema>=2.6->nbformat>=4.2.0->ipywidgets<8,>=7.6.0->ipympl) (0.18.0)\n",
      "Requirement already satisfied: ptyprocess>=0.5 in /home/shyam/anaconda3/envs/test_hyper_nn/lib/python3.9/site-packages (from pexpect>4.3->ipython<9->ipympl) (0.7.0)\n",
      "Requirement already satisfied: wcwidth in /home/shyam/anaconda3/envs/test_hyper_nn/lib/python3.9/site-packages (from prompt-toolkit!=3.0.0,!=3.0.1,<3.1.0,>=2.0.0->ipython<9->ipympl) (0.2.5)\n",
      "Requirement already satisfied: six>=1.5 in /home/shyam/anaconda3/envs/test_hyper_nn/lib/python3.9/site-packages (from python-dateutil>=2.8.2->jupyter-client<8.0->ipykernel>=4.5.1->ipywidgets<8,>=7.6.0->ipympl) (1.16.0)\n",
      "Requirement already satisfied: notebook>=4.4.1 in /home/shyam/anaconda3/envs/test_hyper_nn/lib/python3.9/site-packages (from widgetsnbextension~=3.6.0->ipywidgets<8,>=7.6.0->ipympl) (6.4.11)\n",
      "Requirement already satisfied: nbconvert>=5 in /home/shyam/anaconda3/envs/test_hyper_nn/lib/python3.9/site-packages (from notebook>=4.4.1->widgetsnbextension~=3.6.0->ipywidgets<8,>=7.6.0->ipympl) (6.4.4)\n",
      "Requirement already satisfied: Send2Trash>=1.8.0 in /home/shyam/anaconda3/envs/test_hyper_nn/lib/python3.9/site-packages (from notebook>=4.4.1->widgetsnbextension~=3.6.0->ipywidgets<8,>=7.6.0->ipympl) (1.8.0)\n",
      "Requirement already satisfied: terminado>=0.8.3 in /home/shyam/anaconda3/envs/test_hyper_nn/lib/python3.9/site-packages (from notebook>=4.4.1->widgetsnbextension~=3.6.0->ipywidgets<8,>=7.6.0->ipympl) (0.13.1)\n",
      "Requirement already satisfied: argon2-cffi in /home/shyam/anaconda3/envs/test_hyper_nn/lib/python3.9/site-packages (from notebook>=4.4.1->widgetsnbextension~=3.6.0->ipywidgets<8,>=7.6.0->ipympl) (21.3.0)\n",
      "Requirement already satisfied: prometheus-client in /home/shyam/anaconda3/envs/test_hyper_nn/lib/python3.9/site-packages (from notebook>=4.4.1->widgetsnbextension~=3.6.0->ipywidgets<8,>=7.6.0->ipympl) (0.13.1)\n",
      "Requirement already satisfied: jinja2 in /home/shyam/anaconda3/envs/test_hyper_nn/lib/python3.9/site-packages (from notebook>=4.4.1->widgetsnbextension~=3.6.0->ipywidgets<8,>=7.6.0->ipympl) (3.0.3)\n",
      "Requirement already satisfied: testpath in /home/shyam/anaconda3/envs/test_hyper_nn/lib/python3.9/site-packages (from nbconvert>=5->notebook>=4.4.1->widgetsnbextension~=3.6.0->ipywidgets<8,>=7.6.0->ipympl) (0.5.0)\n",
      "Requirement already satisfied: beautifulsoup4 in /home/shyam/anaconda3/envs/test_hyper_nn/lib/python3.9/site-packages (from nbconvert>=5->notebook>=4.4.1->widgetsnbextension~=3.6.0->ipywidgets<8,>=7.6.0->ipympl) (4.11.1)\n",
      "Requirement already satisfied: mistune<2,>=0.8.1 in /home/shyam/anaconda3/envs/test_hyper_nn/lib/python3.9/site-packages (from nbconvert>=5->notebook>=4.4.1->widgetsnbextension~=3.6.0->ipywidgets<8,>=7.6.0->ipympl) (0.8.4)\n",
      "Requirement already satisfied: bleach in /home/shyam/anaconda3/envs/test_hyper_nn/lib/python3.9/site-packages (from nbconvert>=5->notebook>=4.4.1->widgetsnbextension~=3.6.0->ipywidgets<8,>=7.6.0->ipympl) (4.1.0)\n",
      "Requirement already satisfied: pandocfilters>=1.4.1 in /home/shyam/anaconda3/envs/test_hyper_nn/lib/python3.9/site-packages (from nbconvert>=5->notebook>=4.4.1->widgetsnbextension~=3.6.0->ipywidgets<8,>=7.6.0->ipympl) (1.5.0)\n",
      "Requirement already satisfied: jupyterlab-pygments in /home/shyam/anaconda3/envs/test_hyper_nn/lib/python3.9/site-packages (from nbconvert>=5->notebook>=4.4.1->widgetsnbextension~=3.6.0->ipywidgets<8,>=7.6.0->ipympl) (0.1.2)\n",
      "Requirement already satisfied: defusedxml in /home/shyam/anaconda3/envs/test_hyper_nn/lib/python3.9/site-packages (from nbconvert>=5->notebook>=4.4.1->widgetsnbextension~=3.6.0->ipywidgets<8,>=7.6.0->ipympl) (0.7.1)\n",
      "Requirement already satisfied: nbclient<0.6.0,>=0.5.0 in /home/shyam/anaconda3/envs/test_hyper_nn/lib/python3.9/site-packages (from nbconvert>=5->notebook>=4.4.1->widgetsnbextension~=3.6.0->ipywidgets<8,>=7.6.0->ipympl) (0.5.13)\n",
      "Requirement already satisfied: MarkupSafe>=2.0 in /home/shyam/anaconda3/envs/test_hyper_nn/lib/python3.9/site-packages (from jinja2->notebook>=4.4.1->widgetsnbextension~=3.6.0->ipywidgets<8,>=7.6.0->ipympl) (2.0.1)\n",
      "Requirement already satisfied: argon2-cffi-bindings in /home/shyam/anaconda3/envs/test_hyper_nn/lib/python3.9/site-packages (from argon2-cffi->notebook>=4.4.1->widgetsnbextension~=3.6.0->ipywidgets<8,>=7.6.0->ipympl) (21.2.0)\n",
      "Requirement already satisfied: cffi>=1.0.1 in /home/shyam/anaconda3/envs/test_hyper_nn/lib/python3.9/site-packages (from argon2-cffi-bindings->argon2-cffi->notebook>=4.4.1->widgetsnbextension~=3.6.0->ipywidgets<8,>=7.6.0->ipympl) (1.15.0)\n",
      "Requirement already satisfied: pycparser in /home/shyam/anaconda3/envs/test_hyper_nn/lib/python3.9/site-packages (from cffi>=1.0.1->argon2-cffi-bindings->argon2-cffi->notebook>=4.4.1->widgetsnbextension~=3.6.0->ipywidgets<8,>=7.6.0->ipympl) (2.21)\n",
      "Requirement already satisfied: soupsieve>1.2 in /home/shyam/anaconda3/envs/test_hyper_nn/lib/python3.9/site-packages (from beautifulsoup4->nbconvert>=5->notebook>=4.4.1->widgetsnbextension~=3.6.0->ipywidgets<8,>=7.6.0->ipympl) (2.3.1)\n",
      "Requirement already satisfied: webencodings in /home/shyam/anaconda3/envs/test_hyper_nn/lib/python3.9/site-packages (from bleach->nbconvert>=5->notebook>=4.4.1->widgetsnbextension~=3.6.0->ipywidgets<8,>=7.6.0->ipympl) (0.5.1)\n",
      "Requirement already satisfied: executing in /home/shyam/anaconda3/envs/test_hyper_nn/lib/python3.9/site-packages (from stack-data->ipython<9->ipympl) (0.8.3)\n",
      "Requirement already satisfied: pure-eval in /home/shyam/anaconda3/envs/test_hyper_nn/lib/python3.9/site-packages (from stack-data->ipython<9->ipympl) (0.2.2)\n",
      "Requirement already satisfied: asttokens in /home/shyam/anaconda3/envs/test_hyper_nn/lib/python3.9/site-packages (from stack-data->ipython<9->ipympl) (2.0.5)\n",
      "Requirement already satisfied: JSAnimation in /home/shyam/anaconda3/envs/test_hyper_nn/lib/python3.9/site-packages (0.1)\n",
      "Requirement already satisfied: optax in /home/shyam/anaconda3/envs/test_hyper_nn/lib/python3.9/site-packages/optax-0.1.2-py3.9.egg (0.1.2)\n",
      "Requirement already satisfied: absl-py>=0.7.1 in /home/shyam/anaconda3/envs/test_hyper_nn/lib/python3.9/site-packages/absl_py-1.0.0-py3.9.egg (from optax) (1.0.0)\n",
      "Requirement already satisfied: chex>=0.0.4 in /home/shyam/anaconda3/envs/test_hyper_nn/lib/python3.9/site-packages/chex-0.1.3-py3.9.egg (from optax) (0.1.3)\n",
      "Requirement already satisfied: jax>=0.1.55 in /home/shyam/anaconda3/envs/test_hyper_nn/lib/python3.9/site-packages/jax-0.3.13-py3.9.egg (from optax) (0.3.13)\n",
      "Requirement already satisfied: jaxlib>=0.1.37 in /home/shyam/anaconda3/envs/test_hyper_nn/lib/python3.9/site-packages/jaxlib-0.3.10-py3.9-linux-x86_64.egg (from optax) (0.3.10)\n",
      "Requirement already satisfied: numpy>=1.18.0 in /home/shyam/anaconda3/envs/test_hyper_nn/lib/python3.9/site-packages/numpy-1.23.0rc2-py3.9-linux-x86_64.egg (from optax) (1.23.0rc2)\n",
      "Requirement already satisfied: typing-extensions>=3.10.0 in /home/shyam/anaconda3/envs/test_hyper_nn/lib/python3.9/site-packages (from optax) (4.2.0)\n",
      "Requirement already satisfied: six in /home/shyam/anaconda3/envs/test_hyper_nn/lib/python3.9/site-packages (from absl-py>=0.7.1->optax) (1.16.0)\n",
      "Requirement already satisfied: dm-tree>=0.1.5 in /home/shyam/anaconda3/envs/test_hyper_nn/lib/python3.9/site-packages/dm_tree-0.1.7-py3.9-linux-x86_64.egg (from chex>=0.0.4->optax) (0.1.7)\n",
      "Requirement already satisfied: toolz>=0.9.0 in /home/shyam/anaconda3/envs/test_hyper_nn/lib/python3.9/site-packages/toolz-0.11.2-py3.9.egg (from chex>=0.0.4->optax) (0.11.2)\n",
      "Requirement already satisfied: opt_einsum in /home/shyam/anaconda3/envs/test_hyper_nn/lib/python3.9/site-packages/opt_einsum-3.3.0-py3.9.egg (from jax>=0.1.55->optax) (3.3.0)\n",
      "Requirement already satisfied: scipy>=1.2.1 in /home/shyam/anaconda3/envs/test_hyper_nn/lib/python3.9/site-packages/scipy-1.8.1-py3.9-linux-x86_64.egg (from jax>=0.1.55->optax) (1.8.1)\n",
      "Requirement already satisfied: flatbuffers<3.0,>=1.12 in /home/shyam/anaconda3/envs/test_hyper_nn/lib/python3.9/site-packages/flatbuffers-2.0-py3.9.egg (from jaxlib>=0.1.37->optax) (2.0)\n",
      "Requirement already satisfied: tensorflow_probability in /home/shyam/anaconda3/envs/test_hyper_nn/lib/python3.9/site-packages (0.16.0)\n",
      "Requirement already satisfied: dm-tree in /home/shyam/anaconda3/envs/test_hyper_nn/lib/python3.9/site-packages/dm_tree-0.1.7-py3.9-linux-x86_64.egg (from tensorflow_probability) (0.1.7)\n",
      "Requirement already satisfied: decorator in /home/shyam/anaconda3/envs/test_hyper_nn/lib/python3.9/site-packages (from tensorflow_probability) (5.1.1)\n",
      "Requirement already satisfied: numpy>=1.13.3 in /home/shyam/anaconda3/envs/test_hyper_nn/lib/python3.9/site-packages/numpy-1.23.0rc2-py3.9-linux-x86_64.egg (from tensorflow_probability) (1.23.0rc2)\n",
      "Requirement already satisfied: six>=1.10.0 in /home/shyam/anaconda3/envs/test_hyper_nn/lib/python3.9/site-packages (from tensorflow_probability) (1.16.0)\n",
      "Requirement already satisfied: cloudpickle>=1.3 in /home/shyam/anaconda3/envs/test_hyper_nn/lib/python3.9/site-packages (from tensorflow_probability) (2.1.0)\n",
      "Requirement already satisfied: absl-py in /home/shyam/anaconda3/envs/test_hyper_nn/lib/python3.9/site-packages/absl_py-1.0.0-py3.9.egg (from tensorflow_probability) (1.0.0)\n",
      "Requirement already satisfied: gast>=0.3.2 in /home/shyam/anaconda3/envs/test_hyper_nn/lib/python3.9/site-packages (from tensorflow_probability) (0.5.3)\n",
      "Requirement already satisfied: einops in /home/shyam/anaconda3/envs/test_hyper_nn/lib/python3.9/site-packages/einops-0.4.1-py3.9.egg (0.4.1)\n"
     ]
    }
   ],
   "source": [
    "!pip install gym\n",
    "!pip install gym[box2d]\n",
    "!pip install tqdm\n",
    "!pip install tensorboard\n",
    "!pip install matplotlib\n",
    "!pip install celluloid\n",
    "!pip install ipympl\n",
    "!pip install JSAnimation\n",
    "!pip install optax\n",
    "!pip install tensorflow_probability\n",
    "!pip install einops"
   ]
  },
  {
   "cell_type": "markdown",
   "metadata": {},
   "source": [
    "# Reinforce"
   ]
  },
  {
   "cell_type": "code",
   "execution_count": 2,
   "metadata": {},
   "outputs": [],
   "source": [
    "# uncomment this to enable jax gpu preallocation, might lead to memory issues\n",
    "\n",
    "import os\n",
    "os.environ[\"XLA_PYTHON_CLIENT_PREALLOCATE\"] = \"false\"\n",
    "\n",
    "from typing import Sequence, List, Tuple, Optional\n",
    "\n",
    "import numpy as np\n",
    "import jax\n",
    "import jax.numpy as jnp\n",
    "import flax.linen as nn\n",
    "import optax\n",
    "import gym\n",
    "\n",
    "from hypernn.jax.utils import count_jax_params\n"
   ]
  },
  {
   "cell_type": "code",
   "execution_count": 3,
   "metadata": {},
   "outputs": [],
   "source": [
    "from hypernn.jax.hypernet import JaxHyperNetwork"
   ]
  },
  {
   "cell_type": "markdown",
   "metadata": {},
   "source": [
    "#### Target Policy Network"
   ]
  },
  {
   "cell_type": "code",
   "execution_count": 4,
   "metadata": {},
   "outputs": [],
   "source": [
    "class MLP(nn.Module):\n",
    "\n",
    "    @nn.compact\n",
    "    def __call__(self, x):\n",
    "        x = nn.Dense(256, use_bias=False)(x)\n",
    "        x = nn.tanh(x)\n",
    "        x = nn.Dense(256, use_bias=False)(x)\n",
    "        x = nn.tanh(x)\n",
    "        x = nn.Dense(4, use_bias=False)(x)\n",
    "        return x"
   ]
  },
  {
   "cell_type": "code",
   "execution_count": 5,
   "metadata": {},
   "outputs": [
    {
     "name": "stderr",
     "output_type": "stream",
     "text": [
      "WARNING:absl:No GPU/TPU found, falling back to CPU. (Set TF_CPP_MIN_LOG_LEVEL=0 and rerun for more info.)\n"
     ]
    },
    {
     "data": {
      "text/plain": [
       "68608"
      ]
     },
     "execution_count": 5,
     "metadata": {},
     "output_type": "execute_result"
    }
   ],
   "source": [
    "target_network = MLP()\n",
    "\n",
    "count_jax_params(target_network, inputs=jnp.zeros((1,8)))"
   ]
  },
  {
   "cell_type": "markdown",
   "metadata": {},
   "source": [
    "#### Making a Lunar Lander Hypernetwork with a Custom Weight Generator"
   ]
  },
  {
   "cell_type": "code",
   "execution_count": 7,
   "metadata": {},
   "outputs": [],
   "source": [
    "from typing import Any, Dict, List, Optional, Tuple, Type, Union  # noqa\n",
    "import flax.linen as nn\n",
    "\n",
    "class LunarLanderHypernetwork(JaxHyperNetwork):\n",
    "\n",
    "    def make_weight_generator(self):\n",
    "        return nn.Sequential(\n",
    "            [\n",
    "                nn.Dense(32),\n",
    "                nn.tanh,\n",
    "                nn.Dense(self.weight_chunk_dim)\n",
    "            ]\n",
    "        )\n"
   ]
  },
  {
   "cell_type": "markdown",
   "metadata": {},
   "source": [
    "### We can reduce the number of trainable parameters to less than 10%"
   ]
  },
  {
   "cell_type": "code",
   "execution_count": 8,
   "metadata": {},
   "outputs": [
    {
     "data": {
      "text/plain": [
       "6630"
      ]
     },
     "execution_count": 8,
     "metadata": {},
     "output_type": "execute_result"
    }
   ],
   "source": [
    "EMBEDDING_DIM = 4\n",
    "NUM_EMBEDDINGS = 512\n",
    "\n",
    "hypernetwork = LunarLanderHypernetwork.from_target(\n",
    "    target_network = target_network,\n",
    "    embedding_dim = EMBEDDING_DIM,\n",
    "    num_embeddings = NUM_EMBEDDINGS,\n",
    "    inputs=jnp.zeros((1,8))\n",
    ")\n",
    "count_jax_params(hypernetwork, inputs=[jnp.zeros((1,8))])"
   ]
  },
  {
   "cell_type": "markdown",
   "metadata": {},
   "source": [
    "#### Tensorboard utils"
   ]
  },
  {
   "cell_type": "code",
   "execution_count": 9,
   "metadata": {},
   "outputs": [
    {
     "name": "stderr",
     "output_type": "stream",
     "text": [
      "/home/shyam/anaconda3/envs/test_hyper_nn/lib/python3.9/site-packages/torch-1.11.0-py3.9-linux-x86_64.egg/torch/utils/tensorboard/__init__.py:4: DeprecationWarning: distutils Version classes are deprecated. Use packaging.version instead.\n",
      "  if not hasattr(tensorboard, '__version__') or LooseVersion(tensorboard.__version__) < LooseVersion('1.15'):\n"
     ]
    }
   ],
   "source": [
    "import os\n",
    "from torch.utils.tensorboard import SummaryWriter\n",
    "from datetime import datetime\n",
    "\n",
    "def get_tensorboard_logger(\n",
    "    experiment_name: str, base_log_path: str = \"tensorboard_logs\"\n",
    "):\n",
    "    log_path = \"{}/{}_{}\".format(base_log_path, experiment_name, datetime.now())\n",
    "    train_writer = SummaryWriter(log_path, flush_secs=10)\n",
    "    full_log_path = os.path.join(os.getcwd(), log_path)\n",
    "    print(\n",
    "        \"Follow tensorboard logs with: python -m tensorboard.main --logdir '{}'\".format(full_log_path)\n",
    "    )\n",
    "    return train_writer\n"
   ]
  },
  {
   "cell_type": "markdown",
   "metadata": {},
   "source": [
    "#### Rollout function"
   ]
  },
  {
   "cell_type": "code",
   "execution_count": 11,
   "metadata": {},
   "outputs": [],
   "source": [
    "from tensorflow_probability.substrates import jax as tfp\n",
    "\n",
    "import jax\n",
    "import functools\n",
    "\n",
    "@functools.partial(jax.jit, static_argnames=('apply_fn', 'method'))\n",
    "def generate_params(apply_fn, hypernetwork_params, method):\n",
    "    generated_params, _ = apply_fn({'params':hypernetwork_params}, method=method)\n",
    "    return generated_params\n",
    "\n",
    "@functools.partial(jax.jit, static_argnames=('apply_fn'))\n",
    "def sample_actions(apply_fn, hypernetwork_params, obs, generated_params):\n",
    "    out =  apply_fn({'params':hypernetwork_params}, inp=[jnp.expand_dims(jnp.array(obs), 0)], generated_params=generated_params, has_aux=False)\n",
    "    return out\n",
    "\n",
    "def rollout(env, apply_fn, generate_params_fn, hypernetwork_params, render=False, seed: int = 0, env_seed=None) -> float:\n",
    "    if env_seed is not None:\n",
    "        # env.seed(env_seed)\n",
    "        obs = env.reset(seed=env_seed)\n",
    "    else:\n",
    "        obs = env.reset()\n",
    "    done = False\n",
    "    observations, actions, rewards, rendereds = [], [], [], []\n",
    "    generated_params = generate_params(apply_fn, hypernetwork_params, generate_params_fn)\n",
    "    while not done:\n",
    "        rendered = None\n",
    "        if render:\n",
    "            rendered = env.render(mode=\"rgb_array\")\n",
    "            rendereds.append(rendered)\n",
    "\n",
    "        out = sample_actions(apply_fn, hypernetwork_params, obs, generated_params)\n",
    "        out = jnp.squeeze(out)\n",
    "        dist = tfp.distributions.Categorical(logits=out)\n",
    "        rng = jax.random.PRNGKey(np.random.randint(0, 10**10))\n",
    "        action = dist.sample(seed=rng).item()\n",
    "\n",
    "        next_obs, r, done, _ = env.step(action)\n",
    "\n",
    "        observations.append(obs)\n",
    "        actions.append(action)\n",
    "        rewards.append(r)\n",
    "\n",
    "        obs = next_obs\n",
    "\n",
    "    num_steps = len(observations)\n",
    "    env.close()\n",
    "    return observations, actions, rewards, rendereds, num_steps"
   ]
  },
  {
   "cell_type": "markdown",
   "metadata": {},
   "source": [
    "#### Reinforce algorithm"
   ]
  },
  {
   "cell_type": "code",
   "execution_count": 12,
   "metadata": {},
   "outputs": [],
   "source": [
    "import optax\n",
    "from flax.training import train_state  # Useful dataclass to keep train state\n",
    "import flax\n",
    "import logging\n",
    "\n",
    "# prevent a ton of warnings from https://github.com/tensorflow/probability/issues/1523\n",
    "logger = logging.getLogger(\"root\")\n",
    "\n",
    "\n",
    "class CheckTypesFilter(logging.Filter):\n",
    "    def filter(self, record):\n",
    "        return \"check_types\" not in record.getMessage()\n",
    "\n",
    "\n",
    "logger.addFilter(CheckTypesFilter())\n",
    "\n",
    "def create_train_state(rng, hypernetwork, learning_rate, input_shape):\n",
    "    \"\"\"Creates initial `TrainState`.\"\"\"\n",
    "    params = hypernetwork.init(rng, [jnp.zeros(input_shape)])['params']\n",
    "\n",
    "    tx = optax.chain(\n",
    "        optax.clip_by_global_norm(100.0),\n",
    "        # optax.scale_by_adam(),  # Use the updates from adam.\n",
    "        # optax.scale_by_schedule(scheduler),  # Use the learning rate from the scheduler.\n",
    "        # # Scale updates by -1 since optax.apply_updates is additive and we want to descend on the loss.\n",
    "        # optax.scale(-1.0)\n",
    "        optax.adam(learning_rate)\n",
    "    )\n",
    "    return train_state.TrainState.create(\n",
    "        apply_fn=hypernetwork.apply, params=params, tx=tx)\n",
    "\n",
    "@functools.partial(jax.jit, static_argnames=('apply_fn'))\n",
    "def train_step(apply_fn, state, observations, actions, discounted_rewards):\n",
    "    def loss_fn(params):\n",
    "        logits = apply_fn({'params':params}, inp=[observations], has_aux=False)\n",
    "        dist = tfp.distributions.Categorical(logits=jnp.squeeze(logits))\n",
    "        log_probs = jnp.squeeze(dist.log_prob(actions))\n",
    "        loss = jnp.sum(discounted_rewards * log_probs)\n",
    "        return -1*loss\n",
    "    grad_fn = jax.value_and_grad(loss_fn)\n",
    "    loss, grads = grad_fn(state.params)\n",
    "    return state.apply_gradients(grads=grads), loss, grads\n",
    "\n",
    "import tqdm\n",
    "\n",
    "import collections\n",
    "\n",
    "def flatten(d, parent_key='', sep='_'):\n",
    "    items = []\n",
    "    for k, v in d.items():\n",
    "        new_key = parent_key + sep + k if parent_key else k\n",
    "        if isinstance(v, flax.core.frozen_dict.FrozenDict) or isinstance(v, dict):\n",
    "            items.extend(flatten(v, new_key, sep=sep).items())\n",
    "        else:\n",
    "            items.append((new_key, v))\n",
    "    return dict(items)\n",
    "\n",
    "def discount_reward(rews, gamma: float = 0.99):\n",
    "    n = len(rews)\n",
    "    rtgs = np.zeros_like(rews)\n",
    "    for i in reversed(range(n)):\n",
    "        rtgs[i] = rews[i] + gamma*(rtgs[i + 1] if i + 1 < n else 0)\n",
    "    return rtgs\n",
    "\n",
    "def reinforce(\n",
    "        num_epochs,\n",
    "        env,\n",
    "        hypernetwork,\n",
    "        env_seed: int = None,\n",
    "        seed: int = 0,\n",
    "        lr: float = 0.0001,\n",
    "        gamma: float = 0.99,\n",
    "    ):\n",
    "    writer = get_tensorboard_logger(\"HypernetworkJaxRL\")\n",
    "\n",
    "    rng = jax.random.PRNGKey(seed)\n",
    "    rng, init_rng = jax.random.split(rng)\n",
    "    state = create_train_state(init_rng, hypernetwork, lr, (1,8))\n",
    "\n",
    "    bar = tqdm.tqdm(np.arange(num_epochs))\n",
    "\n",
    "    try:\n",
    "        for i in bar:\n",
    "            observations, actions, rewards, _, num_steps = rollout(env, hypernetwork.apply, hypernetwork.generate_params, state.params, seed=seed, env_seed=env_seed)\n",
    "            discounted_rewards = discount_reward(np.array(rewards), 0.99)\n",
    "            discounted_rewards = discounted_rewards - np.mean(discounted_rewards)\n",
    "            discounted_rewards = discounted_rewards / (\n",
    "                np.std(discounted_rewards) + 1e-10\n",
    "            )\n",
    "\n",
    "            observations = jnp.array(observations)\n",
    "            actions = jnp.array(actions)\n",
    "            discounted_rewards = jnp.array(discounted_rewards)\n",
    "\n",
    "            state, loss, grads = train_step(hypernetwork.apply, state, observations, actions, discounted_rewards)\n",
    "            grad_dict = {k:dict(grads[k]) for k in grads.keys()}\n",
    "            grad_dict = flatten(grad_dict)\n",
    "            grad_dict = {k:np.sum(np.array(grad_dict[k])) for k in grad_dict}\n",
    "\n",
    "            metrics = {\"loss\":loss.item(), \"rewards\":np.sum(rewards), \"num_steps\":num_steps, **grad_dict}\n",
    "\n",
    "            for key in metrics:\n",
    "                writer.add_scalar(key, metrics[key], i)\n",
    "\n",
    "            bar.set_description('Loss: {}, Sum Reward: {}'.format(loss.item(), np.sum(rewards)))\n",
    "        return hypernetwork, state\n",
    "    except KeyboardInterrupt as e:\n",
    "        return hypernetwork, state\n"
   ]
  },
  {
   "cell_type": "code",
   "execution_count": 13,
   "metadata": {},
   "outputs": [
    {
     "name": "stdout",
     "output_type": "stream",
     "text": [
      "cpu\n"
     ]
    }
   ],
   "source": [
    "from jax.lib import xla_bridge\n",
    "print(xla_bridge.get_backend().platform)"
   ]
  },
  {
   "cell_type": "code",
   "execution_count": 14,
   "metadata": {},
   "outputs": [],
   "source": [
    "import gym\n",
    "\n",
    "env = gym.make(\"LunarLander-v2\")"
   ]
  },
  {
   "cell_type": "code",
   "execution_count": 15,
   "metadata": {},
   "outputs": [
    {
     "name": "stdout",
     "output_type": "stream",
     "text": [
      "Follow tensorboard logs with: python -m tensorboard.main --logdir '/home/shyam/Code/hyper-nn/notebooks/reinforce/tensorboard_logs/HypernetworkJaxRL_2022-05-30 14:11:52.260773'\n"
     ]
    },
    {
     "name": "stderr",
     "output_type": "stream",
     "text": [
      "Loss: -42.092987060546875, Sum Reward: 255.85970700824492:  24%|▍ | 1202/5000 [26:00<1:22:11,  1.30s/it]\n"
     ]
    }
   ],
   "source": [
    "hyper, state = reinforce(5000, env, hypernetwork, seed=0, lr=0.0002, env_seed=None)"
   ]
  },
  {
   "cell_type": "code",
   "execution_count": 62,
   "metadata": {},
   "outputs": [],
   "source": [
    "import numpy as np\n",
    "import matplotlib\n",
    "import matplotlib.pyplot as plt\n",
    "%matplotlib ipympl\n",
    "# Imports specifically so we can render outputs in Jupyter.\n",
    "from JSAnimation.IPython_display import display_animation\n",
    "from matplotlib import animation\n",
    "from IPython.display import display\n",
    "from celluloid import Camera\n",
    "from IPython.display import HTML\n",
    "\n",
    "\n",
    "def render_rollout(model, state, seed=10):\n",
    "    fig = plt.figure()\n",
    "    camera = Camera(fig)\n",
    "    ax = fig.add_subplot(111)\n",
    "    observations, actions, rewards, rendereds, num_steps = rollout(gym.make(\"LunarLander-v2\"), model.apply, model.generate_params, state.params, seed=seed, render=True)\n",
    "    frames = []\n",
    "    for r in rendereds:\n",
    "        frame = ax.imshow(r)\n",
    "        ax.axis('off')\n",
    "        camera.snap()\n",
    "        frames.append([frame])\n",
    "    print(\"Sum Reward: {}\".format(np.sum(rewards)))\n",
    "    animation = camera.animate(interval=50)\n",
    "    # display(animations.to_html5_video())\n",
    "    animation.save('HyperJaxLunarLander.mp4')\n",
    "    return animation"
   ]
  },
  {
   "cell_type": "code",
   "execution_count": 63,
   "metadata": {},
   "outputs": [
    {
     "name": "stderr",
     "output_type": "stream",
     "text": [
      "/home/shyam/anaconda3/envs/test_hyper_nn/lib/python3.9/site-packages/ipywidgets/widgets/widget.py:477: DeprecationWarning: Passing unrecognized arguments to super(Toolbar).__init__().\n",
      "__init__() missing 1 required positional argument: 'canvas'\n",
      "This is deprecated in traitlets 4.2.This error will be raised in a future release of traitlets.\n",
      "  super(Widget, self).__init__(**kwargs)\n"
     ]
    },
    {
     "name": "stdout",
     "output_type": "stream",
     "text": [
      "Sum Reward: 260.24496438338485\n"
     ]
    },
    {
     "data": {
      "application/vnd.jupyter.widget-view+json": {
       "model_id": "a2177b7982fa4f21afb59a8104b2bdd9",
       "version_major": 2,
       "version_minor": 0
      },
      "image/png": "[encoded data removed]",
      "text/html": [
       "\n",
       "            <div style=\"display: inline-block;\">\n",
       "                <div class=\"jupyter-widgets widget-label\" style=\"text-align: center;\">\n",
       "                    Figure\n",
       "                </div>\n",
       "                <img src='data:image/png;base64,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' width=640.0/>\n",
       "            </div>\n",
       "        "
      ],
      "text/plain": [
       "Canvas(toolbar=Toolbar(toolitems=[('Home', 'Reset original view', 'home', 'home'), ('Back', 'Back to previous …"
      ]
     },
     "metadata": {},
     "output_type": "display_data"
    }
   ],
   "source": [
    "vid = render_rollout(hypernetwork, state, seed=0)"
   ]
  },
  {
   "cell_type": "markdown",
   "metadata": {},
   "source": [
    "##### Play video"
   ]
  },
  {
   "cell_type": "code",
   "execution_count": 64,
   "metadata": {},
   "outputs": [
    {
     "data": {
      "text/html": [
       "<video src=\"HyperJaxLunarLander.mp4\" controls  >\n",
       "      Your browser does not support the <code>video</code> element.\n",
       "    </video>"
      ],
      "text/plain": [
       "<IPython.core.display.Video object>"
      ]
     },
     "execution_count": 64,
     "metadata": {},
     "output_type": "execute_result"
    }
   ],
   "source": [
    "from IPython.display import Video\n",
    "\n",
    "Video(\"HyperJaxLunarLander.mp4\")"
   ]
  }
 ],
 "metadata": {
  "interpreter": {
   "hash": "1d64cb66d3d902aa83000daa06ca958bef94bde318911a82aee5f8df2bb8934b"
  },
  "kernelspec": {
   "display_name": "Python [conda env:test_hyper_nn] *",
   "language": "python",
   "name": "conda-env-test_hyper_nn-py"
  },
  "language_info": {
   "codemirror_mode": {
    "name": "ipython",
    "version": 3
   },
   "file_extension": ".py",
   "mimetype": "text/x-python",
   "name": "python",
   "nbconvert_exporter": "python",
   "pygments_lexer": "ipython3",
   "version": "3.9.0"
  }
 },
 "nbformat": 4,
 "nbformat_minor": 4
}
