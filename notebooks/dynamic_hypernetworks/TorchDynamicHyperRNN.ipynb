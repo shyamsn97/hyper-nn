{
 "cells": [
  {
   "cell_type": "markdown",
   "metadata": {},
   "source": [
    "#### Tutorial adapted from https://pytorch.org/tutorials/intermediate/char_rnn_generation_tutorial.html"
   ]
  },
  {
   "cell_type": "markdown",
   "metadata": {},
   "source": [
    "#### Install reqs"
   ]
  },
  {
   "cell_type": "code",
   "execution_count": 1,
   "metadata": {},
   "outputs": [
    {
     "name": "stdout",
     "output_type": "stream",
     "text": [
      "Requirement already satisfied: tqdm in /home/shyam/anaconda3/envs/test_hyper_nn/lib/python3.9/site-packages (4.64.0)\n",
      "Requirement already satisfied: tensorboard in /home/shyam/anaconda3/envs/test_hyper_nn/lib/python3.9/site-packages (2.9.0)\n",
      "Requirement already satisfied: tensorboard-plugin-wit>=1.6.0 in /home/shyam/anaconda3/envs/test_hyper_nn/lib/python3.9/site-packages (from tensorboard) (1.8.1)\n",
      "Requirement already satisfied: markdown>=2.6.8 in /home/shyam/anaconda3/envs/test_hyper_nn/lib/python3.9/site-packages (from tensorboard) (3.3.7)\n",
      "Requirement already satisfied: google-auth<3,>=1.6.3 in /home/shyam/anaconda3/envs/test_hyper_nn/lib/python3.9/site-packages (from tensorboard) (2.6.6)\n",
      "Requirement already satisfied: werkzeug>=1.0.1 in /home/shyam/anaconda3/envs/test_hyper_nn/lib/python3.9/site-packages (from tensorboard) (2.1.2)\n",
      "Requirement already satisfied: absl-py>=0.4 in /home/shyam/anaconda3/envs/test_hyper_nn/lib/python3.9/site-packages/absl_py-1.0.0-py3.9.egg (from tensorboard) (1.0.0)\n",
      "Requirement already satisfied: requests<3,>=2.21.0 in /home/shyam/anaconda3/envs/test_hyper_nn/lib/python3.9/site-packages (from tensorboard) (2.27.1)\n",
      "Requirement already satisfied: setuptools>=41.0.0 in /home/shyam/anaconda3/envs/test_hyper_nn/lib/python3.9/site-packages (from tensorboard) (61.2.0)\n",
      "Requirement already satisfied: google-auth-oauthlib<0.5,>=0.4.1 in /home/shyam/anaconda3/envs/test_hyper_nn/lib/python3.9/site-packages (from tensorboard) (0.4.6)\n",
      "Requirement already satisfied: protobuf>=3.9.2 in /home/shyam/anaconda3/envs/test_hyper_nn/lib/python3.9/site-packages (from tensorboard) (3.20.0)\n",
      "Requirement already satisfied: grpcio>=1.24.3 in /home/shyam/anaconda3/envs/test_hyper_nn/lib/python3.9/site-packages (from tensorboard) (1.46.3)\n",
      "Requirement already satisfied: tensorboard-data-server<0.7.0,>=0.6.0 in /home/shyam/anaconda3/envs/test_hyper_nn/lib/python3.9/site-packages (from tensorboard) (0.6.1)\n",
      "Requirement already satisfied: wheel>=0.26 in /home/shyam/anaconda3/envs/test_hyper_nn/lib/python3.9/site-packages (from tensorboard) (0.37.1)\n",
      "Requirement already satisfied: numpy>=1.12.0 in /home/shyam/anaconda3/envs/test_hyper_nn/lib/python3.9/site-packages/numpy-1.23.0rc2-py3.9-linux-x86_64.egg (from tensorboard) (1.23.0rc2)\n",
      "Requirement already satisfied: six in /home/shyam/anaconda3/envs/test_hyper_nn/lib/python3.9/site-packages (from absl-py>=0.4->tensorboard) (1.16.0)\n",
      "Requirement already satisfied: cachetools<6.0,>=2.0.0 in /home/shyam/anaconda3/envs/test_hyper_nn/lib/python3.9/site-packages (from google-auth<3,>=1.6.3->tensorboard) (5.2.0)\n",
      "Requirement already satisfied: rsa<5,>=3.1.4 in /home/shyam/anaconda3/envs/test_hyper_nn/lib/python3.9/site-packages (from google-auth<3,>=1.6.3->tensorboard) (4.8)\n",
      "Requirement already satisfied: pyasn1-modules>=0.2.1 in /home/shyam/anaconda3/envs/test_hyper_nn/lib/python3.9/site-packages (from google-auth<3,>=1.6.3->tensorboard) (0.2.8)\n",
      "Requirement already satisfied: requests-oauthlib>=0.7.0 in /home/shyam/anaconda3/envs/test_hyper_nn/lib/python3.9/site-packages (from google-auth-oauthlib<0.5,>=0.4.1->tensorboard) (1.3.1)\n",
      "Requirement already satisfied: importlib-metadata>=4.4 in /home/shyam/anaconda3/envs/test_hyper_nn/lib/python3.9/site-packages (from markdown>=2.6.8->tensorboard) (4.11.4)\n",
      "Requirement already satisfied: zipp>=0.5 in /home/shyam/anaconda3/envs/test_hyper_nn/lib/python3.9/site-packages (from importlib-metadata>=4.4->markdown>=2.6.8->tensorboard) (3.8.0)\n",
      "Requirement already satisfied: pyasn1<0.5.0,>=0.4.6 in /home/shyam/anaconda3/envs/test_hyper_nn/lib/python3.9/site-packages (from pyasn1-modules>=0.2.1->google-auth<3,>=1.6.3->tensorboard) (0.4.8)\n",
      "Requirement already satisfied: idna<4,>=2.5 in /home/shyam/anaconda3/envs/test_hyper_nn/lib/python3.9/site-packages (from requests<3,>=2.21.0->tensorboard) (3.3)\n",
      "Requirement already satisfied: charset-normalizer~=2.0.0 in /home/shyam/anaconda3/envs/test_hyper_nn/lib/python3.9/site-packages (from requests<3,>=2.21.0->tensorboard) (2.0.4)\n",
      "Requirement already satisfied: certifi>=2017.4.17 in /home/shyam/anaconda3/envs/test_hyper_nn/lib/python3.9/site-packages (from requests<3,>=2.21.0->tensorboard) (2022.5.18.1)\n",
      "Requirement already satisfied: urllib3<1.27,>=1.21.1 in /home/shyam/anaconda3/envs/test_hyper_nn/lib/python3.9/site-packages (from requests<3,>=2.21.0->tensorboard) (1.26.9)\n",
      "Requirement already satisfied: oauthlib>=3.0.0 in /home/shyam/anaconda3/envs/test_hyper_nn/lib/python3.9/site-packages (from requests-oauthlib>=0.7.0->google-auth-oauthlib<0.5,>=0.4.1->tensorboard) (3.2.0)\n",
      "Requirement already satisfied: matplotlib in /home/shyam/anaconda3/envs/test_hyper_nn/lib/python3.9/site-packages/matplotlib-3.5.2-py3.9-linux-x86_64.egg (3.5.2)\n",
      "Requirement already satisfied: cycler>=0.10 in /home/shyam/anaconda3/envs/test_hyper_nn/lib/python3.9/site-packages/cycler-0.11.0-py3.9.egg (from matplotlib) (0.11.0)\n",
      "Requirement already satisfied: fonttools>=4.22.0 in /home/shyam/anaconda3/envs/test_hyper_nn/lib/python3.9/site-packages/fonttools-4.33.3-py3.9.egg (from matplotlib) (4.33.3)\n",
      "Requirement already satisfied: kiwisolver>=1.0.1 in /home/shyam/anaconda3/envs/test_hyper_nn/lib/python3.9/site-packages/kiwisolver-1.4.2-py3.9-linux-x86_64.egg (from matplotlib) (1.4.2)\n",
      "Requirement already satisfied: numpy>=1.17 in /home/shyam/anaconda3/envs/test_hyper_nn/lib/python3.9/site-packages/numpy-1.23.0rc2-py3.9-linux-x86_64.egg (from matplotlib) (1.23.0rc2)\n",
      "Requirement already satisfied: packaging>=20.0 in /home/shyam/anaconda3/envs/test_hyper_nn/lib/python3.9/site-packages (from matplotlib) (21.3)\n",
      "Requirement already satisfied: pillow>=6.2.0 in /home/shyam/anaconda3/envs/test_hyper_nn/lib/python3.9/site-packages/Pillow-9.1.1-py3.9-linux-x86_64.egg (from matplotlib) (9.1.1)\n",
      "Requirement already satisfied: pyparsing>=2.2.1 in /home/shyam/anaconda3/envs/test_hyper_nn/lib/python3.9/site-packages (from matplotlib) (3.0.4)\n",
      "Requirement already satisfied: python-dateutil>=2.7 in /home/shyam/anaconda3/envs/test_hyper_nn/lib/python3.9/site-packages (from matplotlib) (2.8.2)\n",
      "Requirement already satisfied: six>=1.5 in /home/shyam/anaconda3/envs/test_hyper_nn/lib/python3.9/site-packages (from python-dateutil>=2.7->matplotlib) (1.16.0)\n"
     ]
    }
   ],
   "source": [
    "!pip install tqdm\n",
    "!pip install tensorboard\n",
    "!pip install matplotlib"
   ]
  },
  {
   "cell_type": "markdown",
   "metadata": {},
   "source": [
    "#### Name dataset"
   ]
  },
  {
   "cell_type": "code",
   "execution_count": 2,
   "metadata": {},
   "outputs": [
    {
     "name": "stdout",
     "output_type": "stream",
     "text": [
      "# categories: 18 ['Portuguese', 'Czech', 'Korean', 'Arabic', 'English', 'Russian', 'German', 'Spanish', 'Vietnamese', 'Polish', 'Irish', 'Japanese', 'French', 'Scottish', 'Greek', 'Chinese', 'Italian', 'Dutch']\n",
      "O'Neal\n"
     ]
    }
   ],
   "source": [
    "from __future__ import unicode_literals, print_function, division\n",
    "from io import open\n",
    "import glob\n",
    "import os\n",
    "import unicodedata\n",
    "import string\n",
    "\n",
    "all_letters = string.ascii_letters + \" .,;'-\"\n",
    "n_letters = len(all_letters) + 1 # Plus EOS marker\n",
    "\n",
    "def findFiles(path): return glob.glob(path)\n",
    "\n",
    "# Turn a Unicode string to plain ASCII, thanks to https://stackoverflow.com/a/518232/2809427\n",
    "def unicodeToAscii(s):\n",
    "    return ''.join(\n",
    "        c for c in unicodedata.normalize('NFD', s)\n",
    "        if unicodedata.category(c) != 'Mn'\n",
    "        and c in all_letters\n",
    "    )\n",
    "\n",
    "# Read a file and split into lines\n",
    "def readLines(filename):\n",
    "    with open(filename, encoding='utf-8') as some_file:\n",
    "        return [unicodeToAscii(line.strip()) for line in some_file]\n",
    "\n",
    "# Build the category_lines dictionary, a list of lines per category\n",
    "category_lines = {}\n",
    "all_categories = []\n",
    "for filename in findFiles('./names/names/*.txt'):\n",
    "    category = os.path.splitext(os.path.basename(filename))[0]\n",
    "    all_categories.append(category)\n",
    "    lines = readLines(filename)\n",
    "    category_lines[category] = lines\n",
    "\n",
    "n_categories = len(all_categories)\n",
    "\n",
    "if n_categories == 0:\n",
    "    raise RuntimeError('Data not found. Make sure that you downloaded data '\n",
    "        'from https://download.pytorch.org/tutorial/data.zip and extract it to '\n",
    "        'the current directory.')\n",
    "\n",
    "print('# categories:', n_categories, all_categories)\n",
    "print(unicodeToAscii(\"O'Néàl\"))"
   ]
  },
  {
   "cell_type": "code",
   "execution_count": 3,
   "metadata": {},
   "outputs": [],
   "source": [
    "import torch\n",
    "import torch.nn as nn\n",
    "\n",
    "class TargetRNN(nn.Module):\n",
    "    def __init__(self, input_size, hidden_size, output_size):\n",
    "        super(TargetRNN, self).__init__()\n",
    "        self.input_size = input_size\n",
    "        self.hidden_size = hidden_size\n",
    "        self.output_size = output_size\n",
    "        self.rnn = nn.GRUCell(n_categories + input_size, self.hidden_size)\n",
    "        self.linear = nn.Linear(self.hidden_size, 256)\n",
    "        self.linear2 = nn.Linear(256, 256)\n",
    "        self.linear3 = nn.Linear(256, self.output_size)\n",
    "        self.softmax = nn.LogSoftmax(dim=1)\n",
    "\n",
    "    def forward(self, category, inp, hidden):\n",
    "        concatenated = torch.cat((category, inp), dim=-1)\n",
    "        hidden =  self.rnn(concatenated, hidden)\n",
    "\n",
    "        output = self.linear(hidden)\n",
    "        output = torch.relu(output)\n",
    "        output = self.linear2(output)\n",
    "        output = torch.relu(output)\n",
    "        output = self.linear3(output)\n",
    "        output = self.softmax(output)\n",
    "        return output, hidden\n",
    "\n",
    "    def initHidden(self):\n",
    "        return torch.zeros(1, self.hidden_size)"
   ]
  },
  {
   "cell_type": "code",
   "execution_count": 4,
   "metadata": {},
   "outputs": [
    {
     "data": {
      "text/plain": [
       "193467"
      ]
     },
     "execution_count": 4,
     "metadata": {},
     "output_type": "execute_result"
    }
   ],
   "source": [
    "target_network = TargetRNN(n_letters, 128, n_letters)\n",
    "pytorch_total_params = sum(p.numel() for p in target_network.parameters() if p.requires_grad)\n",
    "pytorch_total_params"
   ]
  },
  {
   "cell_type": "markdown",
   "metadata": {},
   "source": [
    "#### Dynamic Hypernetwork that modifies its weights based on network inputs"
   ]
  },
  {
   "cell_type": "code",
   "execution_count": 5,
   "metadata": {},
   "outputs": [],
   "source": [
    "import torch.nn as nn\n",
    "from typing import Optional, Iterable, Dict, Any, Tuple\n",
    "from hypernn.torch.dynamic_hypernet import TorchDynamicHyperNetwork\n",
    "\n",
    "class CharDynamicHyperNetwork(TorchDynamicHyperNetwork):\n",
    "    def __init__(\n",
    "        self,\n",
    "        input_dim: int,\n",
    "        target_network: nn.Module,\n",
    "        *args,\n",
    "        **kwargs\n",
    "    ):\n",
    "        super().__init__(\n",
    "            input_dim,\n",
    "            target_network,\n",
    "            *args,\n",
    "            **kwargs\n",
    "        )\n",
    "\n",
    "    def generate_params(\n",
    "        self, inp: Iterable[Any] = [], hidden_state: Optional[torch.Tensor] = None\n",
    "    ) -> Tuple[torch.Tensor, Dict[str, Any]]:\n",
    "        category_tensor = inp[0]\n",
    "        input_tensor = inp[1]\n",
    "\n",
    "        concatenated = torch.cat((category_tensor, input_tensor), dim=-1)\n",
    "        embedding, hidden_state = self.embedding_module(concatenated, hidden_state=hidden_state)\n",
    "        generated_params = self.weight_generator(embedding).view(-1)\n",
    "        return generated_params, {\"embedding\": embedding, \"hidden_state\": hidden_state}\n"
   ]
  },
  {
   "cell_type": "code",
   "execution_count": 6,
   "metadata": {},
   "outputs": [
    {
     "data": {
      "text/plain": [
       "24523"
      ]
     },
     "execution_count": 6,
     "metadata": {},
     "output_type": "execute_result"
    }
   ],
   "source": [
    "EMBEDDING_DIM = 4\n",
    "NUM_EMBEDDINGS = 64\n",
    "\n",
    "\n",
    "hypernetwork = CharDynamicHyperNetwork.from_target(\n",
    "    target_network,\n",
    "    embedding_dim=EMBEDDING_DIM,\n",
    "    num_embeddings=NUM_EMBEDDINGS,\n",
    "    input_dim=n_letters+n_categories\n",
    ")\n",
    "pytorch_total_params = sum(p.numel() for p in hypernetwork.parameters() if p.requires_grad)\n",
    "pytorch_total_params"
   ]
  },
  {
   "cell_type": "code",
   "execution_count": 7,
   "metadata": {},
   "outputs": [],
   "source": [
    "device = torch.device('cuda')\n",
    "hypernetwork = hypernetwork.to(device)"
   ]
  },
  {
   "cell_type": "markdown",
   "metadata": {},
   "source": [
    "#### Training procedure"
   ]
  },
  {
   "cell_type": "code",
   "execution_count": 8,
   "metadata": {},
   "outputs": [],
   "source": [
    "import random\n",
    "\n",
    "# Random item from a list\n",
    "def randomChoice(l):\n",
    "    return l[random.randint(0, len(l) - 1)]\n",
    "\n",
    "# Get a random category and random line from that category\n",
    "def randomTrainingPair():\n",
    "    category = randomChoice(all_categories)\n",
    "    line = randomChoice(category_lines[category])\n",
    "    return category, line\n",
    "\n",
    "# One-hot vector for category\n",
    "def categoryTensor(category):\n",
    "    li = all_categories.index(category)\n",
    "    tensor = torch.zeros(1, n_categories)\n",
    "    tensor[0][li] = 1\n",
    "    return tensor\n",
    "\n",
    "# One-hot matrix of first to last letters (not including EOS) for input\n",
    "def inputTensor(line):\n",
    "    tensor = torch.zeros(len(line), 1, n_letters)\n",
    "    for li in range(len(line)):\n",
    "        letter = line[li]\n",
    "        tensor[li][0][all_letters.find(letter)] = 1\n",
    "    return tensor\n",
    "\n",
    "# LongTensor of second letter to end (EOS) for target\n",
    "def targetTensor(line):\n",
    "    letter_indexes = [all_letters.find(line[li]) for li in range(1, len(line))]\n",
    "    letter_indexes.append(n_letters - 1) # EOS\n",
    "    return torch.LongTensor(letter_indexes)\n",
    "\n",
    "# Make category, input, and target tensors from a random category, line pair\n",
    "def randomTrainingExample():\n",
    "    category, line = randomTrainingPair()\n",
    "    category_tensor = categoryTensor(category)\n",
    "    input_line_tensor = inputTensor(line)\n",
    "    target_line_tensor = targetTensor(line)\n",
    "    return category_tensor, input_line_tensor, target_line_tensor\n",
    "\n",
    "from torch.utils.tensorboard import SummaryWriter\n",
    "from datetime import datetime\n",
    "import os\n",
    "import tqdm\n",
    "\n",
    "def get_tensorboard_logger(\n",
    "    experiment_name: str, base_log_path: str = \"tensorboard_logs\"\n",
    "):\n",
    "    log_path = \"{}/{}_{}\".format(base_log_path, experiment_name, datetime.now())\n",
    "    train_writer = SummaryWriter(log_path, flush_secs=10)\n",
    "    full_log_path = os.path.join(os.getcwd(), log_path)\n",
    "    print(\n",
    "        \"Follow tensorboard logs with: python -m tensorboard.main --logdir '{}'\".format(full_log_path)\n",
    "    )\n",
    "    return train_writer\n"
   ]
  },
  {
   "cell_type": "code",
   "execution_count": 9,
   "metadata": {},
   "outputs": [],
   "source": [
    "import torch.nn as nn\n",
    "\n",
    "\n",
    "def train_dynamic_hyper_rnn_step(dynamic_hyper_rnn, optimizer, category_tensor, input_line_tensor, target_line_tensor):\n",
    "    criterion = nn.NLLLoss()\n",
    "\n",
    "    target_line_tensor = target_line_tensor.unsqueeze(-1).to(dynamic_hyper_rnn.device)\n",
    "    hidden = target_network.initHidden().to(dynamic_hyper_rnn.device)\n",
    "    hyper_hidden = dynamic_hyper_rnn.embedding_module.init_hidden()\n",
    "\n",
    "    optimizer.zero_grad()\n",
    "\n",
    "    loss = 0\n",
    "\n",
    "    for i in range(input_line_tensor.size(0)):\n",
    "        out, _, aux_output = dynamic_hyper_rnn(inp=(category_tensor.to(dynamic_hyper_rnn.device), input_line_tensor[i].to(dynamic_hyper_rnn.device), hidden), hidden_state=hyper_hidden, has_aux=True)\n",
    "        hyper_hidden = aux_output[\"hidden_state\"]\n",
    "        output, hidden = out\n",
    "        l = criterion(output, target_line_tensor[i])\n",
    "        loss += l\n",
    "\n",
    "    loss.backward()\n",
    "    torch.nn.utils.clip_grad_norm_(dynamic_hyper_rnn.parameters(), 10.0)\n",
    "    optimizer.step()\n",
    "\n",
    "    grad_dict = {}\n",
    "    for n, W in dynamic_hyper_rnn.named_parameters():\n",
    "        if W.grad is not None:\n",
    "            grad_dict[\"{}_grad\".format(n)] = float(torch.sum(W.grad).item())\n",
    "\n",
    "    # for p in rnn.parameters():\n",
    "    #     p.data.add_(p.grad.data, alpha=-learning_rate)\n",
    "\n",
    "    return output, {\"loss\":loss.item() / input_line_tensor.size(0), **grad_dict}"
   ]
  },
  {
   "cell_type": "code",
   "execution_count": 10,
   "metadata": {},
   "outputs": [],
   "source": [
    "from tqdm import tqdm\n",
    "import numpy as np\n",
    "import time\n",
    "import datetime as dt\n",
    "\n",
    "\n",
    "def train(hypernet, lr, n_iters):\n",
    "    writer = get_tensorboard_logger(\"TorchHyperRNN\")\n",
    "    optimizer = torch.optim.Adam(hypernet.parameters(), lr=lr)\n",
    "    bar = tqdm(np.arange(n_iters))\n",
    "\n",
    "    for i in bar:\n",
    "        category_tensor, input_line_tensor, target_line_tensor = randomTrainingExample()\n",
    "\n",
    "        start_time = dt.datetime.today().timestamp()\n",
    "\n",
    "        _, metrics = train_dynamic_hyper_rnn_step(hypernet, optimizer, category_tensor, input_line_tensor, target_line_tensor)\n",
    "\n",
    "        time_diff = (dt.datetime.today().timestamp() - start_time) + 1e-5\n",
    "\n",
    "        metrics[\"diff\"] = time_diff\n",
    "        for key in metrics:\n",
    "            writer.add_scalar(key, metrics[key], i)\n",
    "\n",
    "\n",
    "        loss = metrics['loss']\n",
    "        bar.set_description('Loss: {} Iters p sec: {}'.format(loss, str(time_diff)))\n"
   ]
  },
  {
   "cell_type": "code",
   "execution_count": 59,
   "metadata": {},
   "outputs": [
    {
     "name": "stdout",
     "output_type": "stream",
     "text": [
      "Follow tensorboard logs with: python -m tensorboard.main --logdir '/home/shyam/Code/hyper-nn/notebooks/dynamic_hypernetworks/tensorboard_logs/TorchHyperRNN_2022-05-30 17:27:03.276459'\n"
     ]
    },
    {
     "name": "stderr",
     "output_type": "stream",
     "text": [
      "Loss: 1.8722351392110188 Iters p sec: 0.012737022171020507:   0%|   | 184/50000 [00:03<14:49, 55.99it/s]\n"
     ]
    },
    {
     "ename": "KeyboardInterrupt",
     "evalue": "",
     "output_type": "error",
     "traceback": [
      "\u001b[0;31m---------------------------------------------------------------------------\u001b[0m",
      "\u001b[0;31mKeyboardInterrupt\u001b[0m                         Traceback (most recent call last)",
      "Input \u001b[0;32mIn [59]\u001b[0m, in \u001b[0;36m<cell line: 3>\u001b[0;34m()\u001b[0m\n\u001b[1;32m      1\u001b[0m learning_rate \u001b[38;5;241m=\u001b[39m \u001b[38;5;241m0.0001\u001b[39m\n\u001b[0;32m----> 3\u001b[0m \u001b[43mtrain\u001b[49m\u001b[43m(\u001b[49m\u001b[43mhypernet\u001b[49m\u001b[38;5;241;43m=\u001b[39;49m\u001b[43mhypernetwork\u001b[49m\u001b[43m,\u001b[49m\u001b[43m \u001b[49m\u001b[43mlr\u001b[49m\u001b[38;5;241;43m=\u001b[39;49m\u001b[43mlearning_rate\u001b[49m\u001b[43m,\u001b[49m\u001b[43m \u001b[49m\u001b[43mn_iters\u001b[49m\u001b[38;5;241;43m=\u001b[39;49m\u001b[38;5;241;43m50000\u001b[39;49m\u001b[43m)\u001b[49m\n",
      "Input \u001b[0;32mIn [10]\u001b[0m, in \u001b[0;36mtrain\u001b[0;34m(hypernet, lr, n_iters)\u001b[0m\n\u001b[1;32m     13\u001b[0m category_tensor, input_line_tensor, target_line_tensor \u001b[38;5;241m=\u001b[39m randomTrainingExample()\n\u001b[1;32m     15\u001b[0m start_time \u001b[38;5;241m=\u001b[39m dt\u001b[38;5;241m.\u001b[39mdatetime\u001b[38;5;241m.\u001b[39mtoday()\u001b[38;5;241m.\u001b[39mtimestamp()\n\u001b[0;32m---> 17\u001b[0m _, metrics \u001b[38;5;241m=\u001b[39m \u001b[43mtrain_dynamic_hyper_rnn_step\u001b[49m\u001b[43m(\u001b[49m\u001b[43mhypernet\u001b[49m\u001b[43m,\u001b[49m\u001b[43m \u001b[49m\u001b[43moptimizer\u001b[49m\u001b[43m,\u001b[49m\u001b[43m \u001b[49m\u001b[43mcategory_tensor\u001b[49m\u001b[43m,\u001b[49m\u001b[43m \u001b[49m\u001b[43minput_line_tensor\u001b[49m\u001b[43m,\u001b[49m\u001b[43m \u001b[49m\u001b[43mtarget_line_tensor\u001b[49m\u001b[43m)\u001b[49m\n\u001b[1;32m     19\u001b[0m time_diff \u001b[38;5;241m=\u001b[39m (dt\u001b[38;5;241m.\u001b[39mdatetime\u001b[38;5;241m.\u001b[39mtoday()\u001b[38;5;241m.\u001b[39mtimestamp() \u001b[38;5;241m-\u001b[39m start_time) \u001b[38;5;241m+\u001b[39m \u001b[38;5;241m1e-5\u001b[39m\n\u001b[1;32m     21\u001b[0m metrics[\u001b[38;5;124m\"\u001b[39m\u001b[38;5;124mdiff\u001b[39m\u001b[38;5;124m\"\u001b[39m] \u001b[38;5;241m=\u001b[39m time_diff\n",
      "Input \u001b[0;32mIn [9]\u001b[0m, in \u001b[0;36mtrain_dynamic_hyper_rnn_step\u001b[0;34m(dynamic_hyper_rnn, optimizer, category_tensor, input_line_tensor, target_line_tensor)\u001b[0m\n\u001b[1;32m     19\u001b[0m     l \u001b[38;5;241m=\u001b[39m criterion(output, target_line_tensor[i])\n\u001b[1;32m     20\u001b[0m     loss \u001b[38;5;241m+\u001b[39m\u001b[38;5;241m=\u001b[39m l\n\u001b[0;32m---> 22\u001b[0m \u001b[43mloss\u001b[49m\u001b[38;5;241;43m.\u001b[39;49m\u001b[43mbackward\u001b[49m\u001b[43m(\u001b[49m\u001b[43m)\u001b[49m\n\u001b[1;32m     23\u001b[0m torch\u001b[38;5;241m.\u001b[39mnn\u001b[38;5;241m.\u001b[39mutils\u001b[38;5;241m.\u001b[39mclip_grad_norm_(dynamic_hyper_rnn\u001b[38;5;241m.\u001b[39mparameters(), \u001b[38;5;241m10.0\u001b[39m)\n\u001b[1;32m     24\u001b[0m optimizer\u001b[38;5;241m.\u001b[39mstep()\n",
      "File \u001b[0;32m~/anaconda3/envs/test_hyper_nn/lib/python3.9/site-packages/functorch-0.1.1-py3.9-linux-x86_64.egg/functorch/_src/monkey_patching.py:90\u001b[0m, in \u001b[0;36m_backward\u001b[0;34m(*args, **kwargs)\u001b[0m\n\u001b[1;32m     85\u001b[0m \u001b[38;5;28;01mif\u001b[39;00m _C\u001b[38;5;241m.\u001b[39mare_transforms_active():\n\u001b[1;32m     86\u001b[0m     \u001b[38;5;28;01mraise\u001b[39;00m \u001b[38;5;167;01mRuntimeError\u001b[39;00m(\n\u001b[1;32m     87\u001b[0m         \u001b[38;5;124m\"\u001b[39m\u001b[38;5;124mbackward() called inside a functorch transform. This is not \u001b[39m\u001b[38;5;124m\"\u001b[39m\n\u001b[1;32m     88\u001b[0m         \u001b[38;5;124m\"\u001b[39m\u001b[38;5;124msupported, please use functorch.grad or functorch.vjp instead \u001b[39m\u001b[38;5;124m\"\u001b[39m\n\u001b[1;32m     89\u001b[0m         \u001b[38;5;124m\"\u001b[39m\u001b[38;5;124mor call backward() outside of functorch transforms.\u001b[39m\u001b[38;5;124m\"\u001b[39m)\n\u001b[0;32m---> 90\u001b[0m \u001b[38;5;28;01mreturn\u001b[39;00m \u001b[43m_old_backward\u001b[49m\u001b[43m(\u001b[49m\u001b[38;5;241;43m*\u001b[39;49m\u001b[43margs\u001b[49m\u001b[43m,\u001b[49m\u001b[43m \u001b[49m\u001b[38;5;241;43m*\u001b[39;49m\u001b[38;5;241;43m*\u001b[39;49m\u001b[43mkwargs\u001b[49m\u001b[43m)\u001b[49m\n",
      "File \u001b[0;32m~/anaconda3/envs/test_hyper_nn/lib/python3.9/site-packages/torch-1.11.0-py3.9-linux-x86_64.egg/torch/_tensor.py:363\u001b[0m, in \u001b[0;36mTensor.backward\u001b[0;34m(self, gradient, retain_graph, create_graph, inputs)\u001b[0m\n\u001b[1;32m    354\u001b[0m \u001b[38;5;28;01mif\u001b[39;00m has_torch_function_unary(\u001b[38;5;28mself\u001b[39m):\n\u001b[1;32m    355\u001b[0m     \u001b[38;5;28;01mreturn\u001b[39;00m handle_torch_function(\n\u001b[1;32m    356\u001b[0m         Tensor\u001b[38;5;241m.\u001b[39mbackward,\n\u001b[1;32m    357\u001b[0m         (\u001b[38;5;28mself\u001b[39m,),\n\u001b[0;32m   (...)\u001b[0m\n\u001b[1;32m    361\u001b[0m         create_graph\u001b[38;5;241m=\u001b[39mcreate_graph,\n\u001b[1;32m    362\u001b[0m         inputs\u001b[38;5;241m=\u001b[39minputs)\n\u001b[0;32m--> 363\u001b[0m \u001b[43mtorch\u001b[49m\u001b[38;5;241;43m.\u001b[39;49m\u001b[43mautograd\u001b[49m\u001b[38;5;241;43m.\u001b[39;49m\u001b[43mbackward\u001b[49m\u001b[43m(\u001b[49m\u001b[38;5;28;43mself\u001b[39;49m\u001b[43m,\u001b[49m\u001b[43m \u001b[49m\u001b[43mgradient\u001b[49m\u001b[43m,\u001b[49m\u001b[43m \u001b[49m\u001b[43mretain_graph\u001b[49m\u001b[43m,\u001b[49m\u001b[43m \u001b[49m\u001b[43mcreate_graph\u001b[49m\u001b[43m,\u001b[49m\u001b[43m \u001b[49m\u001b[43minputs\u001b[49m\u001b[38;5;241;43m=\u001b[39;49m\u001b[43minputs\u001b[49m\u001b[43m)\u001b[49m\n",
      "File \u001b[0;32m~/anaconda3/envs/test_hyper_nn/lib/python3.9/site-packages/torch-1.11.0-py3.9-linux-x86_64.egg/torch/autograd/__init__.py:173\u001b[0m, in \u001b[0;36mbackward\u001b[0;34m(tensors, grad_tensors, retain_graph, create_graph, grad_variables, inputs)\u001b[0m\n\u001b[1;32m    168\u001b[0m     retain_graph \u001b[38;5;241m=\u001b[39m create_graph\n\u001b[1;32m    170\u001b[0m \u001b[38;5;66;03m# The reason we repeat same the comment below is that\u001b[39;00m\n\u001b[1;32m    171\u001b[0m \u001b[38;5;66;03m# some Python versions print out the first line of a multi-line function\u001b[39;00m\n\u001b[1;32m    172\u001b[0m \u001b[38;5;66;03m# calls in the traceback and some print out the last line\u001b[39;00m\n\u001b[0;32m--> 173\u001b[0m \u001b[43mVariable\u001b[49m\u001b[38;5;241;43m.\u001b[39;49m\u001b[43m_execution_engine\u001b[49m\u001b[38;5;241;43m.\u001b[39;49m\u001b[43mrun_backward\u001b[49m\u001b[43m(\u001b[49m\u001b[43m  \u001b[49m\u001b[38;5;66;43;03m# Calls into the C++ engine to run the backward pass\u001b[39;49;00m\n\u001b[1;32m    174\u001b[0m \u001b[43m    \u001b[49m\u001b[43mtensors\u001b[49m\u001b[43m,\u001b[49m\u001b[43m \u001b[49m\u001b[43mgrad_tensors_\u001b[49m\u001b[43m,\u001b[49m\u001b[43m \u001b[49m\u001b[43mretain_graph\u001b[49m\u001b[43m,\u001b[49m\u001b[43m \u001b[49m\u001b[43mcreate_graph\u001b[49m\u001b[43m,\u001b[49m\u001b[43m \u001b[49m\u001b[43minputs\u001b[49m\u001b[43m,\u001b[49m\n\u001b[1;32m    175\u001b[0m \u001b[43m    \u001b[49m\u001b[43mallow_unreachable\u001b[49m\u001b[38;5;241;43m=\u001b[39;49m\u001b[38;5;28;43;01mTrue\u001b[39;49;00m\u001b[43m,\u001b[49m\u001b[43m \u001b[49m\u001b[43maccumulate_grad\u001b[49m\u001b[38;5;241;43m=\u001b[39;49m\u001b[38;5;28;43;01mTrue\u001b[39;49;00m\u001b[43m)\u001b[49m\n",
      "\u001b[0;31mKeyboardInterrupt\u001b[0m: "
     ]
    }
   ],
   "source": [
    "learning_rate = 0.0001\n",
    "\n",
    "train(hypernet=hypernetwork, lr=learning_rate, n_iters=50000)"
   ]
  },
  {
   "cell_type": "code",
   "execution_count": 60,
   "metadata": {},
   "outputs": [],
   "source": [
    "hypernetwork = hypernetwork.to(torch.device('cpu'))"
   ]
  },
  {
   "cell_type": "code",
   "execution_count": 63,
   "metadata": {},
   "outputs": [
    {
     "name": "stdout",
     "output_type": "stream",
     "text": [
      "Rorikov\n",
      "Uanan\n",
      "Sivik\n",
      "Geller\n",
      "Eler\n",
      "Reimer\n",
      "Santes\n",
      "Pares\n",
      "Arili\n",
      "Che\n",
      "Huan\n",
      "Iong\n"
     ]
    }
   ],
   "source": [
    "max_length = 20\n",
    "\n",
    "# Sample from a category and starting letter\n",
    "def sample(category, start_letter='A'):\n",
    "    with torch.no_grad():  # no need to track history in sampling\n",
    "        category_tensor = categoryTensor(category)\n",
    "        input = inputTensor(start_letter)\n",
    "        hidden = target_network.initHidden()\n",
    "        hyper_hidden = hypernetwork.embedding_module.init_hidden()\n",
    "\n",
    "        output_name = start_letter\n",
    "\n",
    "        hidden_states = []\n",
    "        for i in range(max_length):\n",
    "            out, _, aux_output = hypernetwork(inp=(category_tensor, input[0], hidden), hidden_state=hyper_hidden, has_aux=True)\n",
    "            hyper_hidden = aux_output[\"hidden_state\"]\n",
    "            output, hidden = out\n",
    "            topv, topi = output.topk(1)\n",
    "            topi = topi[0][0]\n",
    "            if topi == n_letters - 1:\n",
    "                break\n",
    "            else:\n",
    "                letter = all_letters[topi]\n",
    "                output_name += letter\n",
    "            input = inputTensor(letter)\n",
    "\n",
    "        return output_name\n",
    "\n",
    "# Get multiple samples from one category and multiple starting letters\n",
    "def samples(category, start_letters='ABC'):\n",
    "    for start_letter in start_letters:\n",
    "        print(sample(category, start_letter))\n",
    "\n",
    "samples('Russian', 'RUS')\n",
    "\n",
    "samples('German', 'GER')\n",
    "\n",
    "samples('Spanish', 'SPA')\n",
    "\n",
    "samples('Chinese', 'CHI')"
   ]
  },
  {
   "cell_type": "code",
   "execution_count": 72,
   "metadata": {},
   "outputs": [
    {
     "name": "stdout",
     "output_type": "stream",
     "text": [
      "Geller\n"
     ]
    }
   ],
   "source": [
    "with torch.no_grad():  # no need to track history in sampling\n",
    "    category_tensor = categoryTensor(\"German\")\n",
    "    input = inputTensor(\"G\")\n",
    "    hidden = target_network.initHidden()\n",
    "    hyper_hidden = hypernetwork.embedding_module.init_hidden()\n",
    "\n",
    "    output_name = \"G\"\n",
    "\n",
    "    hidden_states = []\n",
    "    for i in range(max_length):\n",
    "        out, _, aux_output = hypernetwork(inp=(category_tensor, input[0], hidden), hidden_state=hyper_hidden, has_aux=True)\n",
    "        hyper_hidden = aux_output[\"hidden_state\"]\n",
    "        hidden_states.append(hyper_hidden)\n",
    "        output, hidden = out\n",
    "        topv, topi = output.topk(1)\n",
    "        topi = topi[0][0]\n",
    "        if topi == n_letters - 1:\n",
    "            break\n",
    "        else:\n",
    "            letter = all_letters[topi]\n",
    "            output_name += letter\n",
    "        input = inputTensor(letter)\n",
    "    print(output_name)"
   ]
  },
  {
   "cell_type": "code",
   "execution_count": 196,
   "metadata": {},
   "outputs": [],
   "source": [
    "hidden_state_images = [((h - h.min()) / (h.max() - h.min())).detach().cpu().numpy() for h in hidden_states]"
   ]
  },
  {
   "cell_type": "code",
   "execution_count": 201,
   "metadata": {},
   "outputs": [
    {
     "data": {
      "application/vnd.jupyter.widget-view+json": {
       "model_id": "53573e03c63847d2890164f1ddc72781",
       "version_major": 2,
       "version_minor": 0
      },
      "image/png": "[encoded data removed]",
      "text/html": [
       "\n",
       "            <div style=\"display: inline-block;\">\n",
       "                <div class=\"jupyter-widgets widget-label\" style=\"text-align: center;\">\n",
       "                    Figure\n",
       "                </div>\n",
       "                <img src='data:image/png;base64,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' width=900.0/>\n",
       "            </div>\n",
       "        "
      ],
      "text/plain": [
       "Canvas(toolbar=Toolbar(toolitems=[('Home', 'Reset original view', 'home', 'home'), ('Back', 'Back to previous …"
      ]
     },
     "metadata": {},
     "output_type": "display_data"
    }
   ],
   "source": [
    "import matplotlib.pyplot as plt\n",
    "%matplotlib ipympl\n",
    "f,axs=plt.subplots(1,len(hidden_state_images),figsize=(9,5)) #ROW,COLUMN\n",
    "f.suptitle(\"Dynamically Generated Embeddings Visualized\")\n",
    "# f.tight_layout() # Or equivalently,  \"plt.tight_layout()\"\n",
    "\n",
    "for i in range(len(hidden_state_images)):\n",
    "    img = hidden_state_images[i].reshape(64,1,1)\n",
    "    letter = output_name[i]\n",
    "    ax = axs[i]\n",
    "    ax.grid(False)\n",
    "    ax.axis('off')\n",
    "    ax.title.set_text(letter)\n",
    "    ax.imshow(img)\n",
    "    f.subplots_adjust(wspace=None, hspace=None)\n"
   ]
  }
 ],
 "metadata": {
  "interpreter": {
   "hash": "1d64cb66d3d902aa83000daa06ca958bef94bde318911a82aee5f8df2bb8934b"
  },
  "kernelspec": {
   "display_name": "Python [conda env:test_hyper_nn] *",
   "language": "python",
   "name": "conda-env-test_hyper_nn-py"
  },
  "language_info": {
   "codemirror_mode": {
    "name": "ipython",
    "version": 3
   },
   "file_extension": ".py",
   "mimetype": "text/x-python",
   "name": "python",
   "nbconvert_exporter": "python",
   "pygments_lexer": "ipython3",
   "version": "3.9.0"
  }
 },
 "nbformat": 4,
 "nbformat_minor": 4
}
