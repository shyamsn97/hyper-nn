{
 "cells": [
  {
   "cell_type": "code",
   "execution_count": 1,
   "metadata": {},
   "outputs": [],
   "source": [
    "# Uncomment this to install dependencies for this notebook\n",
    "# !pip install gym\n",
    "# !pip install tqdm\n",
    "# !pip install tensorboard\n",
    "# !pip install matplotlib\n",
    "# !pip install JSAnimation"
   ]
  },
  {
   "cell_type": "code",
   "execution_count": 2,
   "metadata": {},
   "outputs": [],
   "source": [
    "# uncomment this to enable jax gpu preallocation, might lead to memory issues\n",
    "\n",
    "import os\n",
    "os.environ[\"XLA_PYTHON_CLIENT_PREALLOCATE\"] = \"false\""
   ]
  },
  {
   "cell_type": "code",
   "execution_count": 3,
   "metadata": {},
   "outputs": [],
   "source": [
    "from typing import Sequence, List, Tuple, Optional\n",
    "\n",
    "import numpy as np\n",
    "import jax\n",
    "import jax.numpy as jnp\n",
    "import flax.linen as nn"
   ]
  },
  {
   "cell_type": "code",
   "execution_count": 4,
   "metadata": {},
   "outputs": [],
   "source": [
    "from hypernn.jax.embedding_module import FlaxEmbeddingModule\n",
    "from hypernn.jax.weight_generator import FlaxWeightGenerator\n",
    "from hypernn.jax.hypernet import FlaxHyperNetwork\n",
    "from hypernn.jax.utils import count_jax_params\n"
   ]
  },
  {
   "cell_type": "code",
   "execution_count": 5,
   "metadata": {},
   "outputs": [],
   "source": [
    "from typing import Optional, Any, Dict\n",
    "\n",
    "class CustomFlaxEmbeddingModule(FlaxEmbeddingModule):\n",
    "    def setup(self):\n",
    "        self.embedding = nn.Embed(self.num_embeddings, self.embedding_dim)\n",
    "\n",
    "    def __call__(self, inp: Optional[Any] = None):\n",
    "        indices = jnp.arange(0, self.num_embeddings)\n",
    "        return self.embedding(indices), {}\n"
   ]
  },
  {
   "cell_type": "code",
   "execution_count": 6,
   "metadata": {},
   "outputs": [],
   "source": [
    "class CustomFlaxWeightGenerator(FlaxWeightGenerator):\n",
    "    def setup(self):\n",
    "        self.dense1 = nn.Dense(32)\n",
    "        self.dense2 = nn.Dense(self.hidden_dim, use_bias=False)\n",
    "\n",
    "    def __call__(self, embedding: jnp.array, inp: Optional[Any] = None):\n",
    "        x = self.dense1(embedding)\n",
    "        x = nn.relu(x)\n",
    "        x = self.dense2(x)\n",
    "        return x.reshape(-1), {}"
   ]
  },
  {
   "cell_type": "code",
   "execution_count": 7,
   "metadata": {},
   "outputs": [],
   "source": [
    "class MLP(nn.Module):\n",
    "\n",
    "    @nn.compact\n",
    "    def __call__(self, x):\n",
    "        x = nn.Dense(256, use_bias=True)(x)\n",
    "        x = nn.tanh(x)\n",
    "        x = nn.Dense(256, use_bias=True)(x)\n",
    "        x = nn.tanh(x)\n",
    "        x = nn.Dense(4, use_bias=False)(x)\n",
    "        return x"
   ]
  },
  {
   "cell_type": "code",
   "execution_count": 8,
   "metadata": {},
   "outputs": [],
   "source": [
    "from tensorflow_probability.substrates import jax as tfp\n",
    "\n",
    "import jax\n",
    "import functools\n",
    "\n",
    "@functools.partial(jax.jit, static_argnames=('apply_fn', 'method'))\n",
    "def generate_params(apply_fn, hypernetwork_params, method):\n",
    "    generated_params, embedding, embedding_module_output, weight_generator_output = apply_fn({'params':hypernetwork_params}, method=method)\n",
    "    return generated_params\n",
    "\n",
    "@functools.partial(jax.jit, static_argnames=('apply_fn'))\n",
    "def sample_actions(apply_fn, hypernetwork_params, obs, generated_params):\n",
    "    out =  apply_fn({'params':hypernetwork_params}, inp=[jnp.expand_dims(jnp.array(obs), 0)], generated_params=generated_params, has_aux=False)\n",
    "    return out\n",
    "\n",
    "def rollout(env, apply_fn, generate_params_fn, hypernetwork_params, render=False, seed: int = 0) -> float:\n",
    "    obs = env.reset()\n",
    "    done = False\n",
    "    observations, actions, rewards, rendereds = [], [], [], []\n",
    "    generated_params = generate_params(apply_fn, hypernetwork_params, generate_params_fn)\n",
    "    while not done:\n",
    "        rendered = None\n",
    "        if render:\n",
    "            rendered = env.render(mode=\"rgb_array\")\n",
    "            rendereds.append(rendered)\n",
    "\n",
    "        out = sample_actions(apply_fn, hypernetwork_params, obs, generated_params)\n",
    "        out = jnp.squeeze(out)\n",
    "        dist = tfp.distributions.Categorical(logits=out)\n",
    "        rng = jax.random.PRNGKey(np.random.randint(0, 10**10))\n",
    "        action = dist.sample(seed=rng).item()\n",
    "\n",
    "        next_obs, r, done, _ = env.step(action)\n",
    "\n",
    "        observations.append(obs)\n",
    "        actions.append(action)\n",
    "        rewards.append(r)\n",
    "\n",
    "        obs = next_obs\n",
    "\n",
    "    num_steps = len(observations)\n",
    "    env.close()\n",
    "    return observations, actions, rewards, rendereds, num_steps"
   ]
  },
  {
   "cell_type": "code",
   "execution_count": 9,
   "metadata": {},
   "outputs": [],
   "source": [
    "import optax\n",
    "from flax.training import train_state  # Useful dataclass to keep train state\n",
    "\n",
    "def create_train_state(rng, hypernetwork, learning_rate, input_shape):\n",
    "    \"\"\"Creates initial `TrainState`.\"\"\"\n",
    "    params = hypernetwork.init(rng, [jnp.ones(input_shape)])['params']\n",
    "    # Exponential decay of the learning rate.\n",
    "    scheduler = optax.exponential_decay(\n",
    "        init_value=learning_rate, \n",
    "        transition_steps=1000,\n",
    "        decay_rate=0.99)\n",
    "\n",
    "    tx = optax.chain(\n",
    "        optax.clip_by_global_norm(10.0),\n",
    "        # optax.scale_by_adam(),  # Use the updates from adam.\n",
    "        # optax.scale_by_schedule(scheduler),  # Use the learning rate from the scheduler.\n",
    "        # # Scale updates by -1 since optax.apply_updates is additive and we want to descend on the loss.\n",
    "        # optax.scale(-1.0)\n",
    "        optax.adam(learning_rate)\n",
    "    )\n",
    "    return train_state.TrainState.create(\n",
    "        apply_fn=hypernetwork.apply, params=params, tx=tx)"
   ]
  },
  {
   "cell_type": "code",
   "execution_count": 10,
   "metadata": {},
   "outputs": [],
   "source": [
    "@functools.partial(jax.jit, static_argnames=('apply_fn'))\n",
    "def train_step(apply_fn, state, observations, actions, discounted_rewards):\n",
    "    def loss_fn(params):\n",
    "        logits = apply_fn({'params':params}, inp=[observations], has_aux=False)\n",
    "        dist = tfp.distributions.Categorical(logits=jnp.squeeze(logits))\n",
    "        log_probs = jnp.squeeze(dist.log_prob(actions))\n",
    "        loss = jnp.sum(discounted_rewards * log_probs)\n",
    "        return -1*loss\n",
    "    grad_fn = jax.value_and_grad(loss_fn)\n",
    "    loss, grads = grad_fn(state.params)\n",
    "    return state.apply_gradients(grads=grads), loss, grads\n"
   ]
  },
  {
   "cell_type": "code",
   "execution_count": 11,
   "metadata": {},
   "outputs": [],
   "source": [
    "import os\n",
    "from torch.utils.tensorboard import SummaryWriter\n",
    "from datetime import datetime\n",
    "\n",
    "def get_tensorboard_logger(\n",
    "    experiment_name: str, base_log_path: str = \"tensorboard_logs\"\n",
    "):\n",
    "    log_path = \"{}/{}_{}\".format(base_log_path, experiment_name, datetime.now())\n",
    "    train_writer = SummaryWriter(log_path, flush_secs=10)\n",
    "    full_log_path = os.path.join(os.getcwd(), log_path)\n",
    "    print(\n",
    "        \"Follow tensorboard logs with: python -m tensorboard.main --logdir '{}'\".format(full_log_path)\n",
    "    )\n",
    "    return train_writer\n"
   ]
  },
  {
   "cell_type": "code",
   "execution_count": 12,
   "metadata": {},
   "outputs": [],
   "source": [
    "import pandas as pd\n",
    "import tqdm\n",
    "\n",
    "def flatten(d):\n",
    "    df = pd.json_normalize(d, sep='_')\n",
    "    return df.to_dict(orient='records')[0]\n",
    "\n",
    "def discount_reward(rews, gamma: float = 0.99):\n",
    "    n = len(rews)\n",
    "    rtgs = np.zeros_like(rews)\n",
    "    for i in reversed(range(n)):\n",
    "        rtgs[i] = rews[i] + gamma*(rtgs[i + 1] if i + 1 < n else 0)\n",
    "    return rtgs\n",
    "\n",
    "def reinforce(\n",
    "        num_epochs,\n",
    "        env,\n",
    "        hypernetwork,\n",
    "        seed: int = 0,\n",
    "        lr: float = 0.0001,\n",
    "        gamma: float = 0.99,\n",
    "    ):\n",
    "    writer = get_tensorboard_logger(\"HypernetworkJaxRL\")\n",
    "\n",
    "    rng = jax.random.PRNGKey(seed)\n",
    "    rng, init_rng = jax.random.split(rng)\n",
    "    state = create_train_state(init_rng, hypernetwork, lr, (1,8))\n",
    "\n",
    "    bar = tqdm.tqdm(np.arange(num_epochs))\n",
    "\n",
    "    try:\n",
    "        for i in bar:\n",
    "            observations, actions, rewards, _, num_steps = rollout(env, hypernetwork.apply, hypernetwork.generate_params, state.params, seed=seed)\n",
    "            discounted_rewards = discount_reward(np.array(rewards), 0.99)\n",
    "            discounted_rewards = discounted_rewards - np.mean(discounted_rewards)\n",
    "            discounted_rewards = discounted_rewards / (\n",
    "                np.std(discounted_rewards) + 1e-10\n",
    "            )\n",
    "\n",
    "            observations = jnp.array(observations)\n",
    "            actions = jnp.array(actions)\n",
    "            discounted_rewards = jnp.array(discounted_rewards)\n",
    "\n",
    "            state, loss, grads = train_step(hypernetwork.apply, state, observations, actions, discounted_rewards)\n",
    "            grad_dict = {k:dict(grads[k]) for k in grads.keys()}\n",
    "            grad_dict = flatten(grad_dict)\n",
    "\n",
    "            grad_dict = {k: {kk: np.sum(vv).item() for kk, vv in v.items()}\n",
    "                        for k, v in grad_dict.items()}\n",
    "            grad_dict = flatten(grad_dict)\n",
    "\n",
    "            metrics = {\"loss\":loss.item(), \"rewards\":np.sum(rewards), \"num_steps\":num_steps, **grad_dict}\n",
    "\n",
    "            for key in metrics:\n",
    "                writer.add_scalar(key, metrics[key], i)\n",
    "\n",
    "            bar.set_description('Loss: {}, Sum Reward: {}'.format(loss.item(), np.sum(rewards)))\n",
    "        return hypernetwork, state\n",
    "    except KeyboardInterrupt as e:\n",
    "        return hypernetwork, state\n"
   ]
  },
  {
   "cell_type": "code",
   "execution_count": 13,
   "metadata": {},
   "outputs": [
    {
     "name": "stdout",
     "output_type": "stream",
     "text": [
      "gpu\n"
     ]
    }
   ],
   "source": [
    "from jax.lib import xla_bridge\n",
    "print(xla_bridge.get_backend().platform)\n"
   ]
  },
  {
   "cell_type": "code",
   "execution_count": 14,
   "metadata": {},
   "outputs": [
    {
     "data": {
      "text/plain": [
       "69120"
      ]
     },
     "execution_count": 14,
     "metadata": {},
     "output_type": "execute_result"
    }
   ],
   "source": [
    "target_network = MLP()\n",
    "\n",
    "count_jax_params(target_network, inputs=jnp.zeros((1,8)))"
   ]
  },
  {
   "cell_type": "code",
   "execution_count": 15,
   "metadata": {},
   "outputs": [
    {
     "data": {
      "text/plain": [
       "21760"
      ]
     },
     "execution_count": 15,
     "metadata": {},
     "output_type": "execute_result"
    }
   ],
   "source": [
    "hyper = FlaxHyperNetwork.from_target(\n",
    "                target_network=target_network,\n",
    "                target_input_shape=[(1,8)],\n",
    "                embedding_module=CustomFlaxEmbeddingModule,\n",
    "                weight_generator=CustomFlaxWeightGenerator,\n",
    "                embedding_dim = 32,\n",
    "                num_embeddings = 512\n",
    ")\n",
    "count_jax_params(hyper, inputs=[jnp.zeros((1,8))])"
   ]
  },
  {
   "cell_type": "code",
   "execution_count": 16,
   "metadata": {},
   "outputs": [
    {
     "data": {
      "text/plain": [
       "FlaxHyperNetwork(\n",
       "    # attributes\n",
       "    target_network = MLP()\n",
       "    target_input_shape = [(1, 8)]\n",
       "    target_treedef = PyTreeDef(CustomNode(<class 'flax.core.frozen_dict.FrozenDict'>[()], [{'params': {'Dense_0': {'bias': *, 'kernel': *}, 'Dense_1': {'bias': *, 'kernel': *}, 'Dense_2': {'kernel': *}}}]))\n",
       "    embedding_module = CustomFlaxEmbeddingModule\n",
       "    weight_generator = CustomFlaxWeightGenerator\n",
       "    embedding_dim = 32\n",
       "    num_embeddings = 512\n",
       "    hidden_dim = None\n",
       "    num_target_parameters = 69120\n",
       "    embedding_module_kwargs = {}\n",
       "    weight_generator_kwargs = {}\n",
       "    target_weight_shapes = [(256,), (8, 256), (256,), (256, 256), (256, 4)]\n",
       ")"
      ]
     },
     "execution_count": 16,
     "metadata": {},
     "output_type": "execute_result"
    }
   ],
   "source": [
    "hyper"
   ]
  },
  {
   "cell_type": "code",
   "execution_count": 17,
   "metadata": {},
   "outputs": [],
   "source": [
    "import gym\n",
    "\n",
    "env = gym.make(\"LunarLander-v2\")"
   ]
  },
  {
   "cell_type": "code",
   "execution_count": 18,
   "metadata": {},
   "outputs": [
    {
     "name": "stdout",
     "output_type": "stream",
     "text": [
      "Follow tensorboard logs with: python -m tensorboard.main --logdir '/home/shyam/Code/hyper-nn/notebooks/jax/tensorboard_logs/HypernetworkJaxRL_2022-04-10 16:57:38.228706'\n"
     ]
    },
    {
     "name": "stderr",
     "output_type": "stream",
     "text": [
      "Loss: -7.421834945678711, Sum Reward: -47.47668390130541:   2%|▏         | 2459/100000 [55:14<36:31:18,  1.35s/it]     \n"
     ]
    }
   ],
   "source": [
    "hyper, state = reinforce(100000, env, hyper, seed=10, lr=0.0001)"
   ]
  },
  {
   "cell_type": "code",
   "execution_count": 19,
   "metadata": {},
   "outputs": [],
   "source": [
    "import numpy as np\n",
    "import matplotlib\n",
    "import matplotlib.pyplot as plt\n",
    "%matplotlib ipympl\n",
    "\n",
    "plt.style.use('ggplot')\n",
    "# Imports specifically so we can render outputs in Jupyter.\n",
    "from JSAnimation.IPython_display import display_animation\n",
    "from matplotlib import animation\n",
    "from IPython.display import display\n",
    "from celluloid import Camera\n",
    "from IPython.display import HTML\n",
    "\n",
    "# def rollout(env, apply_fn, generate_params_fn, hypernetwork_params, render=False, seed: int = 0) -> float:\n",
    "\n",
    "def render_rollout(model, state):\n",
    "    fig = plt.figure(\"Animation\",figsize=(7,5))\n",
    "    camera = Camera(fig)\n",
    "    ax = fig.add_subplot(111)\n",
    "    observations, actions, rewards, rendereds, num_steps = rollout(gym.make(\"LunarLander-v2\"), model.apply, model.generate_params, state.params, render=True)\n",
    "    frames = []\n",
    "    for r in rendereds:\n",
    "        frame = ax.imshow(r)\n",
    "        ax.axis('off')\n",
    "        camera.snap()\n",
    "        frames.append([frame])\n",
    "    animation = camera.animate(blit=False, interval=50)\n",
    "    # display(animations.to_html5_video())\n",
    "    animation.save('lunar_lander.mp4')\n",
    "    return animation\n",
    "\n"
   ]
  },
  {
   "cell_type": "code",
   "execution_count": 20,
   "metadata": {},
   "outputs": [
    {
     "data": {
      "application/vnd.jupyter.widget-view+json": {
       "model_id": "63ef8b797be84574bd379294d22eb4eb",
       "version_major": 2,
       "version_minor": 0
      },
      "image/png": "[encoded data removed]",
      "text/html": [
       "\n",
       "            <div style=\"display: inline-block;\">\n",
       "                <div class=\"jupyter-widgets widget-label\" style=\"text-align: center;\">\n",
       "                    Animation\n",
       "                </div>\n",
       "                <img src='data:image/png;base64,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' width=700.0/>\n",
       "            </div>\n",
       "        "
      ],
      "text/plain": [
       "Canvas(toolbar=Toolbar(toolitems=[('Home', 'Reset original view', 'home', 'home'), ('Back', 'Back to previous …"
      ]
     },
     "metadata": {},
     "output_type": "display_data"
    }
   ],
   "source": [
    "_ = render_rollout(hyper, state)"
   ]
  }
 ],
 "metadata": {
  "interpreter": {
   "hash": "1d64cb66d3d902aa83000daa06ca958bef94bde318911a82aee5f8df2bb8934b"
  },
  "kernelspec": {
   "display_name": "Python 3.9.7 ('pycanvas')",
   "language": "python",
   "name": "python3"
  },
  "language_info": {
   "codemirror_mode": {
    "name": "ipython",
    "version": 3
   },
   "file_extension": ".py",
   "mimetype": "text/x-python",
   "name": "python",
   "nbconvert_exporter": "python",
   "pygments_lexer": "ipython3",
   "version": "3.9.7"
  },
  "orig_nbformat": 4
 },
 "nbformat": 4,
 "nbformat_minor": 2
}
