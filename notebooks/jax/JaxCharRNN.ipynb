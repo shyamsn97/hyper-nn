{
 "cells": [
  {
   "cell_type": "markdown",
   "metadata": {},
   "source": [
    "##### https://schmit.github.io/jax/2021/06/20/jax-language-model-rnn.html"
   ]
  },
  {
   "cell_type": "code",
   "execution_count": 1,
   "metadata": {},
   "outputs": [],
   "source": [
    "import jax\n",
    "import jax.ops\n",
    "import jax.numpy as np\n",
    "import numpy as onp  # convention: original numpy\n",
    "\n",
    "import flax\n",
    "from flax import linen as nn\n",
    "from flax import optim"
   ]
  },
  {
   "cell_type": "code",
   "execution_count": 2,
   "metadata": {},
   "outputs": [],
   "source": [
    "def id_bridge(iterable):\n",
    "    \"\"\" provides mapping to and from ids \"\"\"\n",
    "    return ({elem: id for id, elem in enumerate(iterable)},\n",
    "            {id: elem for id, elem in enumerate(iterable)})\n",
    "\n",
    "def one_hot(i, n):\n",
    "    \"\"\"\n",
    "    create vector of size n with 1 at index i\n",
    "    \"\"\"\n",
    "    x = np.zeros(n)\n",
    "    return jax.ops.index_update(x, i, 1)\n",
    "\n",
    "def encode(char_to_id, char):\n",
    "    return one_hot(char_to_id[char], len(char_to_id))\n",
    "\n",
    "def decode(predictions, id_to_char):\n",
    "    # for simplicity, pick the most likely character\n",
    "    # this can be replaced by sampling weighted\n",
    "    # by the probability of each character\n",
    "    return id_to_char[int(np.argmax(predictions))]\n"
   ]
  },
  {
   "cell_type": "code",
   "execution_count": 3,
   "metadata": {},
   "outputs": [],
   "source": [
    "import flax.linen as nn"
   ]
  },
  {
   "cell_type": "code",
   "execution_count": 5,
   "metadata": {},
   "outputs": [],
   "source": [
    "class RNNCell(nn.Module):\n",
    "    @nn.compact\n",
    "    def __call__(self, state, x):\n",
    "        # Wh @ h + Wx @ x + b can be efficiently computed\n",
    "        # by concatenating the vectors and then having a single dense layer\n",
    "        x = np.concatenate([state, x])\n",
    "        new_state = np.tanh(nn.Dense(state.shape[0])(x))\n",
    "        return new_state"
   ]
  },
  {
   "cell_type": "code",
   "execution_count": 6,
   "metadata": {},
   "outputs": [],
   "source": [
    "class ChaRNN(nn.Module):\n",
    "  state_size: int\n",
    "  vocab_size: int\n",
    "\n",
    "  @nn.compact\n",
    "  def __call__(self, hidden, i):\n",
    "    x = one_hot(i, self.vocab_size)\n",
    "    # a rather naive way of stacking multiple RNN cells\n",
    "    hidden, _ = nn.GRUCell()(hidden, x)\n",
    "    predictions = nn.softmax(nn.Dense(self.vocab_size)(hidden))\n",
    "    return [new_state_1, new_state_2, new_state_3], predictions\n",
    "\n",
    "  def init_state(self):\n",
    "    # a convenient way to initialize the state\n",
    "    return [\n",
    "      np.zeros(self.state_size),\n",
    "      np.zeros(self.state_size),\n",
    "      np.zeros(self.state_size)\n",
    "    ]"
   ]
  }
 ],
 "metadata": {
  "interpreter": {
   "hash": "1d64cb66d3d902aa83000daa06ca958bef94bde318911a82aee5f8df2bb8934b"
  },
  "kernelspec": {
   "display_name": "Python 3.9.7 ('pycanvas')",
   "language": "python",
   "name": "python3"
  },
  "language_info": {
   "codemirror_mode": {
    "name": "ipython",
    "version": 3
   },
   "file_extension": ".py",
   "mimetype": "text/x-python",
   "name": "python",
   "nbconvert_exporter": "python",
   "pygments_lexer": "ipython3",
   "version": "3.9.7"
  },
  "orig_nbformat": 4
 },
 "nbformat": 4,
 "nbformat_minor": 2
}
