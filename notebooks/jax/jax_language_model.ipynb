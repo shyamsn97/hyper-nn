{
  "cells": [
    {
      "cell_type": "markdown",
      "metadata": {
        "id": "LOJSofZtKTXl"
      },
      "source": [
        "# Language modeling with Jax\n",
        "\n",
        "April 2021 - Sven Schmit\n",
        "\n",
        "*For comments / questions / feedback, please [reach out](https://twitter.com/spschmit)!*\n",
        "\n",
        "In this notebook, we explore simple language models using Jax and [Flax](https://flax.readthedocs.io/en/latest/). In particular, we'll take inspiration from Andrej Karpathy's blog post [The Unreasonable Effectiveness of Recurrent Neural Networks](http://karpathy.github.io/2015/05/21/rnn-effectiveness/) from 2015. \n",
        "\n",
        "While the methods here may be quite old according to deep learning standards, they are also quite simple to implement and play around with."
      ]
    },
    {
      "cell_type": "markdown",
      "metadata": {
        "id": "rLz_UId1WxAn"
      },
      "source": [
        "# New section"
      ]
    },
    {
      "cell_type": "code",
      "execution_count": 2,
      "metadata": {
        "id": "VHFpMoUm4BX1"
      },
      "outputs": [],
      "source": [
        "import time\n",
        "from typing import List\n",
        "\n",
        "import jax\n",
        "import jax.ops\n",
        "import jax.numpy as np\n",
        "import numpy as onp\n",
        "\n",
        "import flax\n",
        "from flax.core import freeze, unfreeze\n",
        "from flax import linen as nn\n",
        "from flax import optim\n",
        "\n",
        "import matplotlib.pyplot as plt"
      ]
    },
    {
      "cell_type": "code",
      "execution_count": 3,
      "metadata": {
        "colab": {
          "base_uri": "https://localhost:8080/"
        },
        "id": "S2y_ayIZIByk",
        "outputId": "5b6fefa7-b305-4735-ff15-0c6a56a1b81b"
      },
      "outputs": [],
      "source": [
        "key = jax.random.PRNGKey(0)"
      ]
    },
    {
      "cell_type": "code",
      "execution_count": 5,
      "metadata": {
        "id": "YIVfpn5i-iB8"
      },
      "outputs": [],
      "source": [
        "def get_text(fname):\n",
        "  with open(fname, 'r') as reader:\n",
        "    data = reader.read()\n",
        "\n",
        "  return data\n",
        "\n",
        "def id_bridge(iterable):\n",
        "  \"\"\" provides mapping to and from ids \"\"\"\n",
        "  return ({elem: id for id, elem in enumerate(iterable)}, \n",
        "          {id: elem for id, elem in enumerate(iterable)})"
      ]
    },
    {
      "cell_type": "markdown",
      "metadata": {
        "id": "oOrFwXwkK8in"
      },
      "source": [
        "To get started, we use a very simple and short string of characters to quickly be able to test whether the model is actually learning; it's easy for bugs to go unnoticed, especially while learning."
      ]
    },
    {
      "cell_type": "code",
      "execution_count": 6,
      "metadata": {
        "id": "B66aqMf-DP9F"
      },
      "outputs": [],
      "source": [
        "# very simple example to test model can learn\n",
        "data = 'abcd...abcd...'\n",
        "\n",
        "def prep_data(data):\n",
        "  chars = list(set(data))\n",
        "  vocab_size = len(chars)\n",
        "  char_to_id, id_to_char = id_bridge(chars)\n",
        "  # data converted to ids\n",
        "  data_id = [char_to_id[char] for char in data]\n",
        "  return data_id, char_to_id, id_to_char"
      ]
    },
    {
      "cell_type": "code",
      "execution_count": 7,
      "metadata": {
        "colab": {
          "base_uri": "https://localhost:8080/"
        },
        "id": "xR5WLHwmHhjE",
        "outputId": "58438c59-8102-46d3-b429-e2a0cb3008bb"
      },
      "outputs": [
        {
          "data": {
            "text/plain": [
              "[4, 2, 0, 1, 3, 3, 3, 4, 2, 0]"
            ]
          },
          "execution_count": 7,
          "metadata": {},
          "output_type": "execute_result"
        }
      ],
      "source": [
        "data_id, char_to_id, id_to_char = prep_data(data)\n",
        "data_id[:10]"
      ]
    },
    {
      "cell_type": "markdown",
      "metadata": {
        "id": "Ca3U2h5ezXX4"
      },
      "source": [
        "First we create some convenience functions to translate between characters, indices, and a vector representation.\n",
        "\n",
        "Note: there would be some room to optimize by using the sparse encoding, rather than creating the 1-hot encoded vector."
      ]
    },
    {
      "cell_type": "code",
      "execution_count": 8,
      "metadata": {
        "id": "Plh9HyuvHHFe"
      },
      "outputs": [],
      "source": [
        "def one_hot(i, n):\n",
        "  \"\"\" \n",
        "  create vector of size n with 1 at index i\n",
        "  \"\"\"\n",
        "  x = np.zeros(n)\n",
        "  return jax.ops.index_update(x, i, 1)\n",
        "\n",
        "def encode(char):\n",
        "  return one_hot(char_to_id[char], len(char_to_id))\n",
        "\n",
        "def decode(predictions, id_to_char):\n",
        "  # for simplicity, pick the most likely character\n",
        "  # this can be replaced by sampling weighted\n",
        "  # by the probability of each character\n",
        "  return id_to_char[int(np.argmax(predictions))]"
      ]
    },
    {
      "cell_type": "markdown",
      "metadata": {
        "id": "evGzwmIEzy2a"
      },
      "source": [
        "## A simple recurrent model\n",
        "\n",
        "Here we define the model from scratch using the Flax library. Note that it would be simple to replace the RNNCell with a different recurrent cell, such as an LSTM cell.\n",
        "\n",
        "We compose 3 cells to create our character model. We could write this in fancier ways, but sometimes simple is good enough."
      ]
    },
    {
      "cell_type": "code",
      "execution_count": 9,
      "metadata": {
        "id": "BcHSfdq-_UUI"
      },
      "outputs": [],
      "source": [
        "class RNNCell(nn.Module):\n",
        "  @nn.compact\n",
        "  def __call__(self, state, x):\n",
        "    # Wh @ h + Wx @ x + b can be efficiently computed\n",
        "    # by concatenating the vectors and then having a single dense layer\n",
        "    x = np.concatenate([state, x])\n",
        "    new_state = np.tanh(nn.Dense(state.shape[0])(x))\n",
        "    return new_state\n",
        "\n",
        "class ChaRNN(nn.Module):\n",
        "  state_size: int\n",
        "  vocab_size: int\n",
        "\n",
        "  @nn.compact\n",
        "  def __call__(self, state, i):\n",
        "    x = one_hot(i, self.vocab_size)\n",
        "    new_state = []\n",
        "\n",
        "    # a rather naive way of stacking multiple RNN cells\n",
        "    new_state_1 = RNNCell()(state[0], x)\n",
        "    new_state_2 = RNNCell()(state[1], new_state_1)\n",
        "    new_state_3 = RNNCell()(state[2], new_state_2)\n",
        "    predictions = nn.softmax(nn.Dense(self.vocab_size)(new_state_3))\n",
        "    return [new_state_1, new_state_2, new_state_3], predictions\n",
        "\n",
        "  def init_state(self):\n",
        "    # a convenient way to initialize the state\n",
        "    return [np.zeros(self.state_size), np.zeros(self.state_size), np.zeros(self.state_size)]"
      ]
    },
    {
      "cell_type": "markdown",
      "metadata": {
        "id": "H_b6wpLF1YwQ"
      },
      "source": [
        "Next, we write a simple sampling function to generate samples based on the model, generating characters sequentially."
      ]
    },
    {
      "cell_type": "code",
      "execution_count": null,
      "metadata": {
        "id": "vlXS9mnkEzl_"
      },
      "outputs": [],
      "source": [
        "def sample(model, params, bridge, initial='', max_length=100):\n",
        "  \"\"\"\n",
        "  Sample from the model by greedily selecting next characters\n",
        "\n",
        "  To do: make more efficient by JIT-ing\n",
        "  \"\"\"\n",
        "  char_to_id, id_to_char = bridge\n",
        "  state = model.init_state()\n",
        "  output = initial\n",
        "  for char in initial[:-1]:\n",
        "    state, _ = model.apply(params, state, char_to_id[char])\n",
        "\n",
        "  next_char = initial[-1]\n",
        "  for i in range(max_length):\n",
        "    state, predictions = model.apply(params, state, char_to_id[next_char])\n",
        "    next_char = decode(predictions, id_to_char)\n",
        "    output += next_char\n",
        "\n",
        "  return output\n"
      ]
    },
    {
      "cell_type": "markdown",
      "metadata": {
        "id": "LxnhNs4_1iMa"
      },
      "source": [
        "Before proceeding, let's instantiate a model and sample based on the random instantiation. Random in, random out :)"
      ]
    },
    {
      "cell_type": "code",
      "execution_count": null,
      "metadata": {
        "colab": {
          "base_uri": "https://localhost:8080/"
        },
        "id": "MQiMzHoGmWJc",
        "outputId": "87e427ed-39b4-4855-c564-5e55cb74d1ba"
      },
      "outputs": [
        {
          "name": "stdout",
          "output_type": "stream",
          "text": [
            "Model state size: 8, vocab size: 5\n"
          ]
        }
      ],
      "source": [
        "state_size = 8\n",
        "\n",
        "key, subkey = jax.random.split(key)\n",
        "model = ChaRNN(state_size, len(char_to_id))\n",
        "params = model.init(subkey, model.init_state(), 0)\n",
        "\n",
        "print(f\"Model state size: {model.state_size}, vocab size: {model.vocab_size}\")\n",
        "\n",
        "# run a single example through the model to test that it works\n",
        "new_state, predictions = model.apply(params, model.init_state(), 0)\n",
        "assert predictions.shape[0] == model.vocab_size"
      ]
    },
    {
      "cell_type": "code",
      "execution_count": null,
      "metadata": {
        "colab": {
          "base_uri": "https://localhost:8080/",
          "height": 35
        },
        "id": "7EOPUGDqJAA_",
        "outputId": "ba4b6e45-9cd9-45f6-c6c0-9d04ce62c837"
      },
      "outputs": [
        {
          "data": {
            "application/vnd.google.colaboratory.intrinsic+json": {
              "type": "string"
            },
            "text/plain": [
              "'abcdda.dd..a.'"
            ]
          },
          "execution_count": 12,
          "metadata": {
            "tags": []
          },
          "output_type": "execute_result"
        }
      ],
      "source": [
        "# calling sample on random model leads to random output\n",
        "sample(model, params, (char_to_id, id_to_char), 'abc', max_length=10)"
      ]
    },
    {
      "cell_type": "markdown",
      "metadata": {
        "id": "D0n0Dtty1u3t"
      },
      "source": [
        "## Training loop\n",
        "\n",
        "Next up, we write functions to train the model.\n",
        "\n",
        "The chunker splits the data into batches with inputs, and the target characters, which are the inputs shifted by 1: we want to predict the next character.\n",
        "\n",
        "In Jax we can define the loss function in terms of a single sample, and then use `vmap` to vectorize.\n",
        "\n",
        "`rnn_loss` computes the loss over a vector of inputs and targets. The [`jax.lax.scan`](https://jax.readthedocs.io/en/latest/_autosummary/jax.lax.scan.html) function allows us to write the sequential loop over the inputs succinctly, and helps Jax compile the function more easily.\n",
        "\n",
        "We then use `jax.value_and_gradient` to obtain a function that both evaluates the function and its gradient: the workhorse of our training loop. We compile this function to improve iteration speed.\n",
        "\n",
        "Once this is written, a batch step becomes trivial: compute the loss, and update the parameters of our model.\n",
        "\n"
      ]
    },
    {
      "cell_type": "code",
      "execution_count": null,
      "metadata": {
        "id": "ydge3L77Q24C"
      },
      "outputs": [],
      "source": [
        "def chunker(seq, size):\n",
        "  \"\"\" \n",
        "  chunks a sequences into two subsequences\n",
        "  one for inputs, another for targets, by\n",
        "  shifting the input by 1\n",
        "  \"\"\"\n",
        "  n = len(seq)\n",
        "  p = 0\n",
        "  while p + 1 <= n:\n",
        "    # ensure the last chunk is of equal size\n",
        "    yield seq[p:min(n-1, p+size)], seq[(p+1):(p+size+1)]\n",
        "    p += size\n",
        "\n",
        "def cross_entropy_loss(predictions, label):\n",
        "  # note we compute the loss for a single example.\n",
        "  # we will use vmap below to vectorize\n",
        "  return -np.log(predictions[label])\n",
        "\n",
        "def rnn_loss(params, model, state, inputs, targets):\n",
        "  # use lax.scan to efficiently generate a loop over the inputs\n",
        "  # this function returns thefinal state, and predictions for every step\n",
        "  # note: scan input array needs have shape [length, 1]\n",
        "  final_state, predictions = jax.lax.scan(lambda state, x: model.apply(params, state, x), \n",
        "                                          state, \n",
        "                                          np.array([inputs]).T)\n",
        "  loss = np.mean(jax.vmap(cross_entropy_loss)(predictions, np.array([targets]).T))\n",
        "  return loss, final_state\n",
        "\n",
        "# we want both the loss and gradient, we set has_aux because rnn_loss also return final state\n",
        "# use static_argnums=1 to indicate that the model is static; \n",
        "# a different model input will require recomplication\n",
        "# finally, we jit the function to improve runtime\n",
        "rnn_loss_grad = jax.jit(jax.value_and_grad(rnn_loss, has_aux=True), static_argnums=1)\n",
        "\n",
        "def batch_step(model, optimizer, state, inputs, targets):\n",
        "  (loss, state), grad = rnn_loss_grad(optimizer.target, model, state, inputs, targets)\n",
        "  new_optimizer = optimizer.apply_gradient(grad)\n",
        "  return new_optimizer, loss, state\n",
        "\n",
        "def epoch_step(model, optimizer, data, batch_size):\n",
        "  state = model.init_state()\n",
        "  total_loss = 0\n",
        "  for n, (inputs, targets) in enumerate(chunker(data, batch_size)):\n",
        "    optimizer, loss, state = batch_step(model, optimizer, state, inputs, targets)\n",
        "\n",
        "    total_loss += loss\n",
        "  return optimizer, total_loss / (n+1)"
      ]
    },
    {
      "cell_type": "markdown",
      "metadata": {
        "id": "FSrdvw2C4Rw5"
      },
      "source": [
        "There is little to the train function below: we gather some parameters, instantiate the optimizer, do some logging, but mostly call `epoch_step` to do the hard work."
      ]
    },
    {
      "cell_type": "code",
      "execution_count": null,
      "metadata": {
        "id": "FfUyYoeJQ-YV"
      },
      "outputs": [],
      "source": [
        "def random_subset(data, size, key):\n",
        "  size = min(len(data), size)\n",
        "  start_idx = jax.random.randint(key, [1], minval=0, maxval=len(data)-size)[0]\n",
        "  return data[start_idx:(start_idx+size)]\n",
        "\n",
        "def train(data, \n",
        "          model, \n",
        "          initial_params, \n",
        "          n_epochs,\n",
        "          learning_rate=2e-3,\n",
        "          weight_decay=0.0,\n",
        "          batch_size=64, \n",
        "          max_epoch_size=5000,\n",
        "          print_every=5,\n",
        "          sample_every=10,\n",
        "          sample_prompt=None,\n",
        "          sample_length=50,\n",
        "          random_key=key):\n",
        "  if sample_prompt is None:\n",
        "    # default: first characters of dataset\n",
        "    sample_prompt = data[:4]\n",
        "\n",
        "  print(f\"Training RNN on '{data[:10]}...'\")\n",
        "  data_id, char_to_id, id_to_char = prep_data(data)\n",
        "  print(f\"Vocabulary size: {len(char_to_id)}\")\n",
        "  print(f\"State size: {model.state_size}\")\n",
        "  optimizer_def = optim.Adam(learning_rate=learning_rate, \n",
        "                             weight_decay=weight_decay)\n",
        "  print(\"Adam optimizer parameters\")\n",
        "  print(f\"learning_rate={learning_rate:.3f}\")\n",
        "  print(f\"weight_decay={weight_decay:.3f}\")\n",
        "  print('='*20)\n",
        "\n",
        "  optimizer = optimizer_def.create(initial_params)\n",
        "  losses = []\n",
        "\n",
        "  for epoch in range(n_epochs):\n",
        "    # start at a random point in data\n",
        "    # looping over all data takes too long\n",
        "    random_key, subkey = jax.random.split(random_key)\n",
        "    epoch_data = random_subset(data_id, max_epoch_size, subkey)\n",
        "    \n",
        "    epoch_start = time.time()\n",
        "    optimizer, avg_loss = epoch_step(model, \n",
        "                                     optimizer, \n",
        "                                     epoch_data, \n",
        "                                     batch_size)\n",
        "    losses.append(avg_loss)\n",
        "\n",
        "    # logging\n",
        "    if not epoch % print_every:\n",
        "      print(f'Epoch: {epoch:3d} loss: {avg_loss:.3f} time: {time.time() - epoch_start:.2f}')\n",
        "    if not epoch % sample_every:\n",
        "      print('Sample:', sample(model, optimizer.target, (char_to_id, id_to_char), \n",
        "                              sample_prompt, max_length=sample_length))\n",
        "    \n",
        "  return optimizer, losses, (char_to_id, id_to_char)"
      ]
    },
    {
      "cell_type": "markdown",
      "metadata": {
        "id": "QqopvRQj4tpw"
      },
      "source": [
        "## Testing on a simple example\n",
        "\n",
        "Once we put everything together, the first step is to run the small model we created above on some very simple data to make sure that it all works; I missed a transpose in the `lax.scan` which didn't throw an error, but made it impossible for the model to learn anything (also it ran a lot slower)."
      ]
    },
    {
      "cell_type": "code",
      "execution_count": null,
      "metadata": {
        "colab": {
          "base_uri": "https://localhost:8080/"
        },
        "id": "bI885lfVmKab",
        "outputId": "b9222e60-6079-4e78-9da0-4e7450d06394"
      },
      "outputs": [
        {
          "name": "stdout",
          "output_type": "stream",
          "text": [
            "Training RNN on 'abcd...abc...'\n",
            "Vocabulary size: 5\n",
            "State size: 8\n",
            "Adam optimizer parameters\n",
            "learning_rate=0.002\n",
            "weight_decay=0.000\n",
            "====================\n",
            "Epoch:   0 loss: 1.577 time: 1.69\n",
            "Sample: abcdda.dd..a..a..a..a..a..a..a..a..a..a..a..a..a..a..a\n",
            "Epoch:   5 loss: 1.455 time: 0.06\n",
            "Epoch:  10 loss: 1.356 time: 0.06\n",
            "Epoch:  15 loss: 1.262 time: 0.06\n",
            "Epoch:  20 loss: 1.174 time: 0.06\n",
            "Epoch:  25 loss: 1.090 time: 0.06\n",
            "Epoch:  30 loss: 1.010 time: 0.06\n",
            "Epoch:  35 loss: 0.936 time: 0.06\n",
            "Epoch:  40 loss: 0.869 time: 0.06\n",
            "Sample: abcd....dd......d.....................................\n",
            "Epoch:  45 loss: 0.806 time: 0.06\n",
            "Epoch:  50 loss: 0.748 time: 0.06\n",
            "Epoch:  55 loss: 0.693 time: 0.06\n",
            "Epoch:  60 loss: 0.643 time: 0.06\n",
            "Epoch:  65 loss: 0.596 time: 0.06\n",
            "Epoch:  70 loss: 0.553 time: 0.06\n",
            "Epoch:  75 loss: 0.513 time: 0.06\n",
            "Epoch:  80 loss: 0.475 time: 0.06\n",
            "Sample: abcd...abcd...abcd...abcd...abcd...abcd...abcd...abcd.\n",
            "Epoch:  85 loss: 0.440 time: 0.06\n",
            "Epoch:  90 loss: 0.408 time: 0.05\n",
            "Epoch:  95 loss: 0.377 time: 0.06\n",
            "Epoch: 100 loss: 0.349 time: 0.06\n",
            "Epoch: 105 loss: 0.324 time: 0.06\n",
            "Epoch: 110 loss: 0.300 time: 0.05\n",
            "Epoch: 115 loss: 0.278 time: 0.06\n",
            "Epoch: 120 loss: 0.258 time: 0.06\n",
            "Sample: abcd...abcd...abcd...abcd...abcd...abcd...abcd...abcd.\n",
            "Epoch: 125 loss: 0.240 time: 0.07\n",
            "Epoch: 130 loss: 0.224 time: 0.06\n",
            "Epoch: 135 loss: 0.209 time: 0.06\n",
            "Epoch: 140 loss: 0.195 time: 0.07\n",
            "Epoch: 145 loss: 0.183 time: 0.06\n",
            "Epoch: 150 loss: 0.171 time: 0.06\n",
            "Epoch: 155 loss: 0.161 time: 0.06\n",
            "Epoch: 160 loss: 0.152 time: 0.06\n",
            "Sample: abcd...abcd...abcd...abcd...abcd...abcd...abcd...abcd.\n",
            "Epoch: 165 loss: 0.143 time: 0.06\n",
            "Epoch: 170 loss: 0.136 time: 0.06\n",
            "Epoch: 175 loss: 0.128 time: 0.06\n",
            "Epoch: 180 loss: 0.122 time: 0.07\n",
            "Epoch: 185 loss: 0.116 time: 0.06\n",
            "Epoch: 190 loss: 0.111 time: 0.06\n",
            "Epoch: 195 loss: 0.105 time: 0.06\n"
          ]
        }
      ],
      "source": [
        "result, losses, bridge = train('abcd...abcd...', model, params, 200, sample_every=40)"
      ]
    },
    {
      "cell_type": "code",
      "execution_count": null,
      "metadata": {
        "colab": {
          "base_uri": "https://localhost:8080/",
          "height": 282
        },
        "id": "xm8cv58hqlQB",
        "outputId": "f04e7e24-1a94-4700-b069-f884fe9ed5cf"
      },
      "outputs": [
        {
          "data": {
            "text/plain": [
              "[<matplotlib.lines.Line2D at 0x7fb2f262d350>]"
            ]
          },
          "execution_count": 16,
          "metadata": {
            "tags": []
          },
          "output_type": "execute_result"
        },
        {
          "data": {
            "image/png": "[encoded data removed]",
            "text/plain": [
              "<Figure size 432x288 with 1 Axes>"
            ]
          },
          "metadata": {
            "needs_background": "light",
            "tags": []
          },
          "output_type": "display_data"
        }
      ],
      "source": [
        "plt.plot(losses)"
      ]
    },
    {
      "cell_type": "markdown",
      "metadata": {
        "id": "VNgUunFr5z4u"
      },
      "source": [
        "## Training on actual data\n",
        "\n",
        "Now that we have confirmed the RNN can pick up on some simple pattern, let's aim it at something meatier. Here, we use Kafka's Metamorphosis, which we can download from [Project Gutenberg](http://www.gutenberg.org/files/5200/5200-0.txt)."
      ]
    },
    {
      "cell_type": "code",
      "execution_count": null,
      "metadata": {
        "colab": {
          "base_uri": "https://localhost:8080/"
        },
        "id": "_gwSEzAnkawg",
        "outputId": "683a86d2-64bb-4e25-a5d4-b47ef18a3b24"
      },
      "outputs": [
        {
          "name": "stdout",
          "output_type": "stream",
          "text": [
            "Model state size: 128, vocab size: 64\n",
            "Training RNN on 'I\n",
            "\n",
            "\n",
            "One mo...'\n",
            "Vocabulary size: 64\n",
            "State size: 128\n",
            "Adam optimizer parameters\n",
            "learning_rate=0.002\n",
            "weight_decay=0.000\n",
            "====================\n",
            "Epoch:   0 loss: 3.134 time: 7.32\n",
            "Sample: Gregor to  to  oe to  oe  oe to  te  oe to  te  oe  oe t\n",
            "Epoch:   5 loss: 2.329 time: 3.34\n",
            "Epoch:  10 loss: 2.042 time: 3.34\n",
            "Epoch:  15 loss: 2.031 time: 3.24\n",
            "Epoch:  20 loss: 1.756 time: 3.27\n",
            "Epoch:  25 loss: 1.663 time: 3.25\n",
            "Sample: Gregor and her her the was not her the was not her the w\n",
            "Epoch:  30 loss: 1.687 time: 3.22\n",
            "Epoch:  35 loss: 1.641 time: 3.23\n",
            "Epoch:  40 loss: 1.527 time: 3.27\n",
            "Epoch:  45 loss: 1.590 time: 3.24\n",
            "Epoch:  50 loss: 1.614 time: 3.25\n",
            "Sample: Gregor was of the father was of the father was of the fa\n",
            "Epoch:  55 loss: 1.488 time: 3.25\n",
            "Epoch:  60 loss: 1.411 time: 3.25\n",
            "Epoch:  65 loss: 1.495 time: 3.35\n",
            "Epoch:  70 loss: 1.589 time: 3.21\n",
            "Epoch:  75 loss: 1.467 time: 3.30\n",
            "Sample: Gregor’s bone the could have the could have the could ha\n",
            "Epoch:  80 loss: 1.459 time: 3.24\n",
            "Epoch:  85 loss: 1.469 time: 3.31\n",
            "Epoch:  90 loss: 1.513 time: 3.37\n",
            "Epoch:  95 loss: 1.400 time: 3.31\n",
            "Epoch: 100 loss: 1.460 time: 3.27\n",
            "Sample: Gregor’s sister was nothing the door and state and state\n",
            "Epoch: 105 loss: 1.369 time: 3.27\n",
            "Epoch: 110 loss: 1.429 time: 3.29\n",
            "Epoch: 115 loss: 1.389 time: 3.29\n",
            "Epoch: 120 loss: 1.366 time: 3.30\n",
            "Epoch: 125 loss: 1.459 time: 3.23\n",
            "Sample: Gregor’s mother would be the table to the table to the t\n",
            "Epoch: 130 loss: 1.330 time: 3.24\n",
            "Epoch: 135 loss: 1.387 time: 3.30\n",
            "Epoch: 140 loss: 1.335 time: 3.29\n",
            "Epoch: 145 loss: 1.325 time: 3.25\n",
            "Epoch: 150 loss: 1.350 time: 3.23\n",
            "Sample: Gregor’s father to his father to his father to his fathe\n",
            "Epoch: 155 loss: 1.336 time: 3.20\n",
            "Epoch: 160 loss: 1.328 time: 3.23\n",
            "Epoch: 165 loss: 1.289 time: 3.27\n",
            "Epoch: 170 loss: 1.333 time: 3.24\n",
            "Epoch: 175 loss: 1.340 time: 3.38\n",
            "Sample: Gregor’s mother and he was not the family and he was not\n",
            "Epoch: 180 loss: 1.387 time: 3.29\n",
            "Epoch: 185 loss: 1.295 time: 3.37\n",
            "Epoch: 190 loss: 1.292 time: 3.26\n",
            "Epoch: 195 loss: 1.298 time: 3.23\n",
            "Epoch: 200 loss: 1.320 time: 3.31\n",
            "Sample: Gregor’s sister would have to him and he had to him to h\n",
            "Epoch: 205 loss: 1.375 time: 3.21\n",
            "Epoch: 210 loss: 1.271 time: 3.24\n",
            "Epoch: 215 loss: 1.303 time: 3.21\n",
            "Epoch: 220 loss: 1.319 time: 3.20\n",
            "Epoch: 225 loss: 1.344 time: 3.26\n",
            "Sample: Gregor would be seemed to the chief clerk with the chief\n",
            "Epoch: 230 loss: 1.237 time: 3.29\n",
            "Epoch: 235 loss: 1.291 time: 3.29\n",
            "Epoch: 240 loss: 1.297 time: 3.34\n",
            "Epoch: 245 loss: 1.390 time: 3.20\n",
            "Epoch: 250 loss: 1.320 time: 3.15\n",
            "Sample: Gregor’s mother and the door and the door and the door a\n",
            "Epoch: 255 loss: 1.299 time: 3.35\n",
            "Epoch: 260 loss: 1.302 time: 3.22\n",
            "Epoch: 265 loss: 1.301 time: 3.30\n",
            "Epoch: 270 loss: 1.272 time: 3.28\n",
            "Epoch: 275 loss: 1.241 time: 3.25\n",
            "Sample: Gregor’s mother would not been of the conversation to hi\n",
            "Epoch: 280 loss: 1.353 time: 3.18\n",
            "Epoch: 285 loss: 1.202 time: 3.15\n",
            "Epoch: 290 loss: 1.271 time: 3.17\n",
            "Epoch: 295 loss: 1.363 time: 3.30\n",
            "Epoch: 300 loss: 1.261 time: 3.15\n",
            "Sample: Gregor’s mother was not the floor. He was still with the\n",
            "Epoch: 305 loss: 1.292 time: 3.23\n",
            "Epoch: 310 loss: 1.231 time: 3.24\n",
            "Epoch: 315 loss: 1.281 time: 3.32\n",
            "Epoch: 320 loss: 1.291 time: 3.27\n",
            "Epoch: 325 loss: 1.258 time: 3.22\n",
            "Sample: Gregor would startled the door and the door and the door\n",
            "Epoch: 330 loss: 1.239 time: 3.26\n",
            "Epoch: 335 loss: 1.280 time: 3.30\n",
            "Epoch: 340 loss: 1.225 time: 3.16\n",
            "Epoch: 345 loss: 1.266 time: 3.28\n",
            "Epoch: 350 loss: 1.356 time: 3.24\n",
            "Sample: Gregor’s sister was some turned to the door of the door \n",
            "Epoch: 355 loss: 1.259 time: 3.19\n",
            "Epoch: 360 loss: 1.305 time: 3.26\n",
            "Epoch: 365 loss: 1.365 time: 3.20\n",
            "Epoch: 370 loss: 1.280 time: 3.27\n",
            "Epoch: 375 loss: 1.305 time: 3.18\n",
            "Sample: Gregor was so he had been had been had been had been had\n",
            "Epoch: 380 loss: 1.136 time: 3.25\n",
            "Epoch: 385 loss: 1.322 time: 3.19\n",
            "Epoch: 390 loss: 1.273 time: 3.32\n",
            "Epoch: 395 loss: 1.264 time: 3.30\n"
          ]
        }
      ],
      "source": [
        "kafka = get_text('kafka.txt')\n",
        "\n",
        "state_size = 128\n",
        "vocab_size = len(set(kafka))\n",
        "\n",
        "key, subkey = jax.random.split(key)\n",
        "model = ChaRNN(state_size, vocab_size)\n",
        "params = model.init(subkey, model.init_state(), 0)\n",
        "\n",
        "print(f\"Model state size: {model.state_size}, vocab size: {model.vocab_size}\")\n",
        "\n",
        "result, losses, bridge = train(kafka, model, params, 400, \n",
        "                               batch_size=256,\n",
        "                               max_epoch_size=10000,\n",
        "                               weight_decay=1e-7, \n",
        "                               sample_every=25, sample_prompt=\"Gregor\")"
      ]
    },
    {
      "cell_type": "code",
      "execution_count": null,
      "metadata": {
        "colab": {
          "base_uri": "https://localhost:8080/",
          "height": 282
        },
        "id": "fG-HXRLhGbJd",
        "outputId": "c407c6d6-15a6-48fd-c66a-271c2a6466f3"
      },
      "outputs": [
        {
          "data": {
            "text/plain": [
              "[<matplotlib.lines.Line2D at 0x7fb2f12f60d0>]"
            ]
          },
          "execution_count": 18,
          "metadata": {
            "tags": []
          },
          "output_type": "execute_result"
        },
        {
          "data": {
            "image/png": "[encoded data removed]",
            "text/plain": [
              "<Figure size 432x288 with 1 Axes>"
            ]
          },
          "metadata": {
            "needs_background": "light",
            "tags": []
          },
          "output_type": "display_data"
        }
      ],
      "source": [
        "plt.plot(losses)"
      ]
    },
    {
      "cell_type": "code",
      "execution_count": null,
      "metadata": {
        "colab": {
          "base_uri": "https://localhost:8080/",
          "height": 120
        },
        "id": "568FjeKWTiq0",
        "outputId": "0ecc8126-f960-4854-8cfa-181180530b2f"
      },
      "outputs": [
        {
          "data": {
            "application/vnd.google.colaboratory.intrinsic+json": {
              "type": "string"
            },
            "text/plain": [
              "'Gregor’s father and he had been to his father and he had been to his father and he had been to his father and he had been to his father and he had been to his father and he had been to his father and he had been to his father and he had been to his father and he had been to his father and he had been to his father and he had been to his father and he had been to his father and he had been to his father and he had been to his father and he had been to his father and he had been to his father and he had'"
            ]
          },
          "execution_count": 19,
          "metadata": {
            "tags": []
          },
          "output_type": "execute_result"
        }
      ],
      "source": [
        "sample(model, result.target, bridge, initial='Gregor', max_length=500)"
      ]
    },
    {
      "cell_type": "code",
      "execution_count": null,
      "metadata": {
        "id": "p_VNdbh4t31n"
      },
      "outputs": [],
      "source": []
    }
  ],
  "metadata": {
    "colab": {
      "collapsed_sections": [],
      "name": "jax-language-model.ipynb",
      "provenance": [],
      "toc_visible": true
    },
    "kernelspec": {
      "display_name": "Python 3",
      "name": "python3"
    },
    "language_info": {
      "codemirror_mode": {
        "name": "ipython",
        "version": 3
      },
      "file_extension": ".py",
      "mimetype": "text/x-python",
      "name": "python",
      "nbconvert_exporter": "python",
      "pygments_lexer": "ipython3",
      "version": "3.9.7"
    }
  },
  "nbformat": 4,
  "nbformat_minor": 0
}
