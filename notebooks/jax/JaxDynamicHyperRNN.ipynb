{
 "cells": [
  {
   "cell_type": "markdown",
   "metadata": {},
   "source": [
    "#### Tutorial adapted from https://pytorch.org/tutorials/intermediate/char_rnn_generation_tutorial.html"
   ]
  },
  {
   "cell_type": "code",
   "execution_count": 1,
   "metadata": {},
   "outputs": [],
   "source": [
    "# uncomment this to enable jax gpu preallocation, might lead to memory issues\n",
    "\n",
    "import os\n",
    "os.environ[\"XLA_PYTHON_CLIENT_PREALLOCATE\"] = \"false\""
   ]
  },
  {
   "cell_type": "code",
   "execution_count": 2,
   "metadata": {},
   "outputs": [
    {
     "name": "stdout",
     "output_type": "stream",
     "text": [
      "# categories: 18 ['Portuguese', 'Czech', 'Korean', 'Arabic', 'English', 'Russian', 'German', 'Spanish', 'Vietnamese', 'Polish', 'Irish', 'Japanese', 'French', 'Scottish', 'Greek', 'Chinese', 'Italian', 'Dutch']\n",
      "O'Neal\n"
     ]
    }
   ],
   "source": [
    "from __future__ import unicode_literals, print_function, division\n",
    "from io import open\n",
    "import glob\n",
    "import os\n",
    "import unicodedata\n",
    "import string\n",
    "\n",
    "all_letters = string.ascii_letters + \" .,;'-\"\n",
    "n_letters = len(all_letters) + 1 # Plus EOS marker\n",
    "\n",
    "def findFiles(path): return glob.glob(path)\n",
    "\n",
    "# Turn a Unicode string to plain ASCII, thanks to https://stackoverflow.com/a/518232/2809427\n",
    "def unicodeToAscii(s):\n",
    "    return ''.join(\n",
    "        c for c in unicodedata.normalize('NFD', s)\n",
    "        if unicodedata.category(c) != 'Mn'\n",
    "        and c in all_letters\n",
    "    )\n",
    "\n",
    "# Read a file and split into lines\n",
    "def readLines(filename):\n",
    "    with open(filename, encoding='utf-8') as some_file:\n",
    "        return [unicodeToAscii(line.strip()) for line in some_file]\n",
    "\n",
    "# Build the category_lines dictionary, a list of lines per category\n",
    "category_lines = {}\n",
    "all_categories = []\n",
    "for filename in findFiles('../names/names/*.txt'):\n",
    "    category = os.path.splitext(os.path.basename(filename))[0]\n",
    "    all_categories.append(category)\n",
    "    lines = readLines(filename)\n",
    "    category_lines[category] = lines\n",
    "\n",
    "n_categories = len(all_categories)\n",
    "\n",
    "if n_categories == 0:\n",
    "    raise RuntimeError('Data not found. Make sure that you downloaded data '\n",
    "        'from https://download.pytorch.org/tutorial/data.zip and extract it to '\n",
    "        'the current directory.')\n",
    "\n",
    "print('# categories:', n_categories, all_categories)\n",
    "print(unicodeToAscii(\"O'Néàl\"))"
   ]
  },
  {
   "cell_type": "code",
   "execution_count": 3,
   "metadata": {},
   "outputs": [],
   "source": [
    "from typing import Sequence, List, Tuple, Optional\n",
    "\n",
    "import numpy as np\n",
    "import jax\n",
    "import jax.numpy as jnp\n",
    "import flax.linen as nn"
   ]
  },
  {
   "cell_type": "code",
   "execution_count": 4,
   "metadata": {},
   "outputs": [],
   "source": [
    "from functools import partial\n",
    "\n",
    "class TargetRNN(nn.Module):\n",
    "\n",
    "    output_size: int\n",
    "\n",
    "    @nn.compact\n",
    "    def __call__(self, hidden, inp_tuple, train: bool = False):\n",
    "        category, inp = inp_tuple\n",
    "        x = jnp.concatenate((category, inp), axis=-1)\n",
    "        hidden, _ = nn.GRUCell()(hidden, x)\n",
    "        output = nn.Dense(256)(hidden)\n",
    "        output = nn.relu(output)\n",
    "        output = nn.Dense(256)(output)\n",
    "        output = nn.relu(output)\n",
    "        output = nn.Dense(self.output_size)(output)\n",
    "        output = nn.Dropout(0.1, deterministic = not train)(output)\n",
    "        output = nn.softmax(output, axis = -1)\n",
    "        return hidden, (category, output)"
   ]
  },
  {
   "cell_type": "markdown",
   "metadata": {},
   "source": [
    "Training"
   ]
  },
  {
   "cell_type": "code",
   "execution_count": 5,
   "metadata": {},
   "outputs": [],
   "source": [
    "import jax\n",
    "import jax.numpy as jnp"
   ]
  },
  {
   "cell_type": "code",
   "execution_count": 6,
   "metadata": {},
   "outputs": [],
   "source": [
    "import random\n",
    "\n",
    "# Random item from a list\n",
    "def randomChoice(l):\n",
    "    return l[random.randint(0, len(l) - 1)]\n",
    "\n",
    "# Get a random category and random line from that category\n",
    "def randomTrainingPair():\n",
    "    category = randomChoice(all_categories)\n",
    "    line = randomChoice(category_lines[category])\n",
    "    return category, line\n",
    "\n",
    "# One-hot vector for category\n",
    "def categoryTensor(category):\n",
    "    li = all_categories.index(category)\n",
    "    tensor = np.zeros((1, n_categories))\n",
    "    tensor[0][li] = 1\n",
    "    return jnp.array(tensor)\n",
    "\n",
    "# One-hot matrix of first to last letters (not including EOS) for input\n",
    "def inputTensor(line):\n",
    "    tensor = np.zeros((len(line), 1, n_letters))\n",
    "    for li in range(len(line)):\n",
    "        letter = line[li]\n",
    "        tensor[li][0][all_letters.find(letter)] = 1\n",
    "    return jnp.array(tensor)\n",
    "\n",
    "# LongTensor of second letter to end (EOS) for target\n",
    "def targetTensor(line):\n",
    "    letter_indexes = [all_letters.find(line[li]) for li in range(1, len(line))]\n",
    "    letter_indexes.append(n_letters - 1) # EOS\n",
    "    return jnp.array(letter_indexes)\n",
    "\n",
    "# Make category, input, and target tensors from a random category, line pair\n",
    "def randomTrainingExample():\n",
    "    category, line = randomTrainingPair()\n",
    "    category_tensor = categoryTensor(category)\n",
    "    input_line_tensor = inputTensor(line)\n",
    "    target_line_tensor = targetTensor(line)\n",
    "    return category_tensor, input_line_tensor, target_line_tensor"
   ]
  },
  {
   "cell_type": "code",
   "execution_count": 7,
   "metadata": {},
   "outputs": [],
   "source": [
    "INPUT_DIMS = n_letters\n",
    "OUTPUT_SIZE = n_letters\n",
    "N_CATEGORIES = n_categories\n",
    "N_HIDDEN = 128\n",
    "\n",
    "def init_hidden(n_hidden: int, batch_size: int = 1):\n",
    "    return jnp.zeros((batch_size, n_hidden))"
   ]
  },
  {
   "cell_type": "code",
   "execution_count": 8,
   "metadata": {},
   "outputs": [],
   "source": [
    "import optax\n",
    "from flax.training import train_state  # Useful dataclass to keep train state\n",
    "\n",
    "def create_train_state(rng, net, learning_rate, input_shape):\n",
    "    \"\"\"Creates initial `TrainState`.\"\"\"\n",
    "    params = net.init(rng, jnp.ones((1,N_CATEGORIES)), jnp.ones((1,INPUT_DIMS)), jnp.ones((1,N_HIDDEN)), False)['params']\n",
    "    tx = optax.chain(\n",
    "        optax.clip_by_global_norm(10.0),\n",
    "        optax.adam(learning_rate),\n",
    "    )\n",
    "    return train_state.TrainState.create(\n",
    "        apply_fn=net.apply, params=params, tx=tx)"
   ]
  },
  {
   "cell_type": "code",
   "execution_count": 9,
   "metadata": {},
   "outputs": [],
   "source": [
    "from einops import repeat"
   ]
  },
  {
   "cell_type": "code",
   "execution_count": 10,
   "metadata": {},
   "outputs": [],
   "source": [
    "def cross_entropy_loss(predictions, label):\n",
    "    return -jnp.log(predictions[label])"
   ]
  },
  {
   "cell_type": "code",
   "execution_count": 11,
   "metadata": {},
   "outputs": [],
   "source": [
    "import functools\n",
    "from einops import repeat\n",
    "\n",
    "@functools.partial(jax.jit, static_argnames=('apply_fn'))\n",
    "def rnn_forward(apply_fn, params, category_tensor, input_line_tensor, hidden):\n",
    "    category_tensor = repeat(category_tensor, 'b l -> (repeat b) l', repeat=input_line_tensor.shape[0])\n",
    "    _, predictions = jax.lax.scan(lambda hidden, inp: apply_fn({\"params\":params}, hidden, inp),\n",
    "            jnp.array(hidden),\n",
    "            (category_tensor, np.squeeze(input_line_tensor)),\n",
    "    )\n",
    "    return predictions[-1]\n",
    "\n",
    "@functools.partial(jax.jit, static_argnames=('apply_fn'))\n",
    "def train_rnn(apply_fn, state, category_tensor, input_line_tensor, hidden, targets):\n",
    "    # category_tensor = repeat(category_tensor, 'b l -> (repeat b) l', repeat=input_line_tensor.shape[0])\n",
    "\n",
    "    def loss_fn(params):\n",
    "        predictions = []\n",
    "        inp = np.squeeze(input_line_tensor)\n",
    "        length = np.squeeze(input_line_tensor).shape[0]\n",
    "        hidden_state = jnp.array(hidden)\n",
    "        for i in range(length):\n",
    "            hidden_state, output = apply_fn({\"params\":params}, hidden_state, (category_tensor, inp[i:i+1]))\n",
    "            predictions.append(np.squeeze(output[1]))\n",
    "        predictions = jnp.stack(predictions)\n",
    "\n",
    "        # _, predictions = jax.lax.scan(lambda hidden, inp: apply_fn({\"params\":params}, hidden, inp),\n",
    "        #         jnp.array(hidden),\n",
    "        #         (category_tensor, np.squeeze(input_line_tensor))\n",
    "        # )\n",
    "        return jnp.mean(jax.vmap(cross_entropy_loss)(jnp.squeeze(predictions), targets))\n",
    "\n",
    "    grad_fn = jax.value_and_grad(loss_fn)\n",
    "    loss, grads = grad_fn(state.params)\n",
    "    return state.apply_gradients(grads=grads), loss, grads"
   ]
  },
  {
   "cell_type": "code",
   "execution_count": 12,
   "metadata": {},
   "outputs": [],
   "source": [
    "import os\n",
    "from torch.utils.tensorboard import SummaryWriter\n",
    "from datetime import datetime\n",
    "\n",
    "def get_tensorboard_logger(\n",
    "    experiment_name: str, base_log_path: str = \"tensorboard_logs\"\n",
    "):\n",
    "    log_path = \"{}/{}_{}\".format(base_log_path, experiment_name, datetime.now())\n",
    "    train_writer = SummaryWriter(log_path, flush_secs=10)\n",
    "    full_log_path = os.path.join(os.getcwd(), log_path)\n",
    "    print(\n",
    "        \"Follow tensorboard logs with: python -m tensorboard.main --logdir '{}'\".format(full_log_path)\n",
    "    )\n",
    "    return train_writer\n"
   ]
  },
  {
   "cell_type": "code",
   "execution_count": 13,
   "metadata": {},
   "outputs": [],
   "source": [
    "import optax\n",
    "from flax.training import train_state  # Useful dataclass to keep train state\n",
    "\n",
    "def create_train_state(rng, model, learning_rate):\n",
    "    \"\"\"Creates initial `TrainState`.\"\"\"\n",
    "    params = model.init(rng, jnp.zeros((1, N_HIDDEN)), (jnp.zeros((1, INPUT_DIMS)),  jnp.zeros((1, N_CATEGORIES))), False)['params']\n",
    "    tx = optax.chain(\n",
    "        optax.clip_by_global_norm(10.0),\n",
    "        optax.adam(learning_rate),\n",
    "    )\n",
    "    return train_state.TrainState.create(\n",
    "        apply_fn=model.apply, params=params, tx=tx\n",
    "    )"
   ]
  },
  {
   "cell_type": "code",
   "execution_count": 14,
   "metadata": {},
   "outputs": [],
   "source": [
    "import pandas as pd\n",
    "import tqdm\n",
    "\n",
    "def flatten(d):\n",
    "    df = pd.json_normalize(d, sep='_')\n",
    "    return df.to_dict(orient='records')[0]\n",
    "\n",
    "def train_static_rnn(\n",
    "    num_epochs,\n",
    "    model,\n",
    "    seed: int = 0,\n",
    "    lr: float = 0.0001,\n",
    "    ):\n",
    "    writer = get_tensorboard_logger(\"RNNCHAR\")\n",
    "    rng = jax.random.PRNGKey(seed)\n",
    "    state = create_train_state(rng, model, lr)\n",
    "\n",
    "    bar = tqdm.tqdm(np.arange(num_epochs))\n",
    "\n",
    "    try:\n",
    "        for i in bar:\n",
    "            category_tensor, input_line_tensor, target_line_tensor = randomTrainingExample()\n",
    "            state, loss, grads = train_rnn(model.apply, state, category_tensor, input_line_tensor, init_hidden(N_HIDDEN), target_line_tensor)\n",
    "            grad_dict = {k:dict(grads[k]) for k in grads.keys()}\n",
    "            # grad_dict = flatten(grad_dict)\n",
    "\n",
    "            # grad_dict = {k: {kk: np.sum(vv).item() for kk, vv in v.items()}\n",
    "            #             for k, v in grad_dict.items()}\n",
    "            # grad_dict \n",
    "\n",
    "            metrics = {\"loss\":loss.item(), }\n",
    "            for key in metrics:\n",
    "                writer.add_scalar(key, metrics[key], i)\n",
    "\n",
    "            bar.set_description('Loss: {}'.format(loss.item()))\n",
    "        return model, state\n",
    "    except KeyboardInterrupt as e:\n",
    "        return model, state"
   ]
  },
  {
   "cell_type": "code",
   "execution_count": 15,
   "metadata": {},
   "outputs": [],
   "source": [
    "rnn = TargetRNN(OUTPUT_SIZE)"
   ]
  },
  {
   "cell_type": "code",
   "execution_count": null,
   "metadata": {},
   "outputs": [],
   "source": [
    "from hypernn.jax.utils import count_jax_params\n",
    "\n",
    "count_jax_params(rnn, inputs=[jnp.zeros((1, N_HIDDEN)), (jnp.zeros((1, INPUT_DIMS)),  jnp.zeros((1, N_CATEGORIES))), False])"
   ]
  },
  {
   "cell_type": "code",
   "execution_count": null,
   "metadata": {},
   "outputs": [],
   "source": [
    "model, state = train_static_rnn(100000, rnn)"
   ]
  },
  {
   "cell_type": "code",
   "execution_count": null,
   "metadata": {},
   "outputs": [],
   "source": [
    "max_length = 20\n",
    "\n",
    "# Sample from a category and starting letter\n",
    "def sample(category, start_letter='A'):\n",
    "    category_tensor = categoryTensor(category)\n",
    "    input = inputTensor(start_letter)\n",
    "    hidden = init_hidden(N_HIDDEN)\n",
    "\n",
    "    output_name = start_letter\n",
    "\n",
    "    for i in range(max_length):\n",
    "        hidden, out = rnn.apply({\"params\":state.params}, hidden, (category_tensor, input[0]))\n",
    "        category, output = out\n",
    "        # topv, topi = output.topk(1)\n",
    "        topi = np.argmax(np.squeeze(output), axis=-1)\n",
    "        # topi = topi[0][0]\n",
    "        if topi == n_letters - 1:\n",
    "            break\n",
    "        else:\n",
    "            letter = all_letters[topi]\n",
    "            output_name += letter\n",
    "        input = inputTensor(letter)\n",
    "\n",
    "    return output_name\n",
    "\n",
    "# Get multiple samples from one category and multiple starting letters\n",
    "def samples(category, start_letters='ABC'):\n",
    "    for start_letter in start_letters:\n",
    "        print(sample(category, start_letter))\n",
    "\n",
    "samples('Russian', 'RUS')\n",
    "\n",
    "samples('German', 'GER')\n",
    "\n",
    "samples('Spanish', 'SPA')\n",
    "\n",
    "samples('Chinese', 'CHI')"
   ]
  },
  {
   "cell_type": "markdown",
   "metadata": {},
   "source": [
    "### Hypernetwork"
   ]
  },
  {
   "cell_type": "code",
   "execution_count": null,
   "metadata": {},
   "outputs": [],
   "source": [
    "from typing import Optional, Any\n",
    "import jax.numpy as jnp\n",
    "\n",
    "from hypernn.jax.embedding_module import FlaxEmbeddingModule\n",
    "from hypernn.jax.weight_generator import FlaxWeightGenerator\n",
    "from hypernn.jax.hypernet import FlaxHyperNetwork\n",
    "\n",
    "\n",
    "class CustomFlaxEmbeddingModule(FlaxEmbeddingModule):\n",
    "    def setup(self):\n",
    "        self.embedding = nn.Embed(self.num_embeddings, self.embedding_dim)\n",
    "\n",
    "    def __call__(self, inp: Optional[Any] = None):\n",
    "        indices = jnp.arange(0, self.num_embeddings)\n",
    "        return self.embedding(indices)\n",
    "\n",
    "class CustomFlaxWeightGenerator(FlaxWeightGenerator):\n",
    "    def setup(self):\n",
    "        self.dense1 = nn.Dense(32)\n",
    "        self.dense2 = nn.Dense(self.hidden_dim)\n",
    "\n",
    "    def __call__(self, embedding: jnp.array, inp: Optional[Any] = None):\n",
    "        x = self.dense1(embedding)\n",
    "        x = nn.relu(x)\n",
    "        x = self.dense2(x)\n",
    "        return x\n"
   ]
  },
  {
   "cell_type": "code",
   "execution_count": null,
   "metadata": {},
   "outputs": [],
   "source": [
    "hyper = FlaxHyperNetwork.from_target(\n",
    "    target_network=rnn,\n",
    "    inputs=[jnp.zeros((1, N_HIDDEN)), (jnp.zeros((1, INPUT_DIMS)),  jnp.zeros((1, N_CATEGORIES)))],\n",
    "    embedding_module=CustomFlaxEmbeddingModule,\n",
    "    weight_generator=CustomFlaxWeightGenerator,\n",
    "    embedding_dim = 32,\n",
    "    num_embeddings = 512\n",
    ")"
   ]
  },
  {
   "cell_type": "code",
   "execution_count": null,
   "metadata": {},
   "outputs": [],
   "source": [
    "rng = jax.random.PRNGKey(0)\n",
    "params = hyper.init(rng, inp=[jnp.zeros((1, N_HIDDEN)), (jnp.zeros((1, INPUT_DIMS)),  jnp.zeros((1, N_CATEGORIES)))])"
   ]
  },
  {
   "cell_type": "code",
   "execution_count": null,
   "metadata": {},
   "outputs": [],
   "source": [
    "hyper_generated_params = hyper.apply(params, method=hyper.generate_params)"
   ]
  },
  {
   "cell_type": "code",
   "execution_count": null,
   "metadata": {},
   "outputs": [],
   "source": [
    "generated_params, embeddings = hyper_generated_params"
   ]
  },
  {
   "cell_type": "code",
   "execution_count": null,
   "metadata": {},
   "outputs": [],
   "source": [
    "generated_params.shape"
   ]
  },
  {
   "cell_type": "code",
   "execution_count": null,
   "metadata": {},
   "outputs": [],
   "source": [
    "out, generated_params, embeddings = hyper.apply(params, inp=[jnp.zeros((1, N_HIDDEN)), (jnp.zeros((1, INPUT_DIMS)),  jnp.zeros((1, N_CATEGORIES)))], generated_params=generated_params)"
   ]
  },
  {
   "cell_type": "markdown",
   "metadata": {},
   "source": [
    "#### Static Hypernetwork"
   ]
  },
  {
   "cell_type": "code",
   "execution_count": null,
   "metadata": {},
   "outputs": [],
   "source": [
    "import functools\n",
    "from einops import repeat\n",
    "import pandas as pd\n",
    "import tqdm\n",
    "\n",
    "import optax\n",
    "from flax.training import train_state  # Useful dataclass to keep train state\n",
    "\n",
    "def create_hyper_train_state(rng, model, learning_rate):\n",
    "    \"\"\"Creates initial `TrainState`.\"\"\"\n",
    "    params = model.init(rng, [jnp.zeros((1, N_HIDDEN)), (jnp.zeros((1, INPUT_DIMS)),  jnp.zeros((1, N_CATEGORIES))), False])['params']\n",
    "    tx = optax.chain(\n",
    "        optax.clip_by_global_norm(10.0),\n",
    "        optax.adam(learning_rate),\n",
    "    )\n",
    "    return train_state.TrainState.create(\n",
    "        apply_fn=model.apply, params=params, tx=tx\n",
    "    )\n",
    "\n",
    "@functools.partial(jax.jit, static_argnames=('apply_fn'))\n",
    "def hyper_rnn_forward(apply_fn, params, category_tensor, input_line_tensor, hidden):\n",
    "    category_tensor = repeat(category_tensor, 'b l -> (repeat b) l', repeat=input_line_tensor.shape[0])\n",
    "    _, predictions = jax.lax.scan(lambda hidden, inp: apply_fn({\"params\":params}, hidden, inp),\n",
    "            jnp.array(hidden),\n",
    "            (category_tensor, np.squeeze(input_line_tensor)),\n",
    "    )\n",
    "    return predictions[-1]\n",
    "\n",
    "@functools.partial(jax.jit, static_argnames=('apply_fn'))\n",
    "def train_hyper_rnn(apply_fn, state, category_tensor, input_line_tensor, hidden, targets):\n",
    "    # category_tensor = repeat(category_tensor, 'b l -> (repeat b) l', repeat=input_line_tensor.shape[0])\n",
    "\n",
    "    def loss_fn(params):\n",
    "        predictions = []\n",
    "        inp = np.squeeze(input_line_tensor)\n",
    "        length = np.squeeze(input_line_tensor).shape[0]\n",
    "        hidden_state = jnp.array(hidden)\n",
    "        for i in range(length):\n",
    "            out, _, _ = apply_fn({\"params\":params}, [hidden_state, (category_tensor, inp[i:i+1])])\n",
    "            hidden_state, output = out\n",
    "            predictions.append(np.squeeze(output[1]))\n",
    "        predictions = jnp.stack(predictions)\n",
    "\n",
    "        # _, predictions = jax.lax.scan(lambda hidden, inp: apply_fn({\"params\":params}, hidden, inp),\n",
    "        #         jnp.array(hidden),\n",
    "        #         (category_tensor, np.squeeze(input_line_tensor))\n",
    "        # )\n",
    "        return jnp.mean(jax.vmap(cross_entropy_loss)(jnp.squeeze(predictions), targets))\n",
    "\n",
    "    grad_fn = jax.value_and_grad(loss_fn)\n",
    "    loss, grads = grad_fn(state.params)\n",
    "    return astate.apply_gradients(grads=grads), loss, grads\n",
    "\n",
    "def flatten(d):\n",
    "    df = pd.json_normalize(d, sep='_')\n",
    "    return df.to_dict(orient='records')[0]\n",
    "\n",
    "def train_static_hyper_rnn(\n",
    "    num_epochs,\n",
    "    model,\n",
    "    seed: int = 0,\n",
    "    lr: float = 0.0001,\n",
    "    ):\n",
    "    writer = get_tensorboard_logger(\"HYPER_RNNCHAR\")\n",
    "    rng = jax.random.PRNGKey(seed)\n",
    "    state = create_hyper_train_state(rng, model, lr)\n",
    "\n",
    "    bar = tqdm.tqdm(np.arange(num_epochs))\n",
    "\n",
    "    try:\n",
    "        for i in bar:\n",
    "            category_tensor, input_line_tensor, target_line_tensor = randomTrainingExample()\n",
    "            state, loss, grads = train_hyper_rnn(model.apply, state, category_tensor, input_line_tensor, init_hidden(N_HIDDEN), target_line_tensor)\n",
    "            grad_dict = {k:dict(grads[k]) for k in grads.keys()}\n",
    "            # grad_dict = flatten(grad_dict)\n",
    "\n",
    "            # grad_dict = {k: {kk: np.sum(vv).item() for kk, vv in v.items()}\n",
    "            #             for k, v in grad_dict.items()}\n",
    "            # grad_dict \n",
    "\n",
    "            metrics = {\"loss\":loss.item(), }\n",
    "            for key in metrics:\n",
    "                writer.add_scalar(key, metrics[key], i)\n",
    "\n",
    "            bar.set_description('Loss: {}'.format(loss.item()))\n",
    "        return model, state\n",
    "    except KeyboardInterrupt as e:\n",
    "        return model, state"
   ]
  },
  {
   "cell_type": "code",
   "execution_count": null,
   "metadata": {},
   "outputs": [],
   "source": [
    "_, hyper_state = train_static_hyper_rnn(100000, hyper)"
   ]
  },
  {
   "cell_type": "code",
   "execution_count": null,
   "metadata": {},
   "outputs": [],
   "source": [
    "max_length = 20\n",
    "\n",
    "# Sample from a category and starting letter\n",
    "def sample(category, start_letter='A'):\n",
    "    category_tensor = categoryTensor(category)\n",
    "    input = inputTensor(start_letter)\n",
    "    hidden = init_hidden(N_HIDDEN)\n",
    "\n",
    "    output_name = start_letter\n",
    "\n",
    "    for i in range(max_length):\n",
    "        hyper_out, _, _ = hyper.apply({\"params\":hyper_state.params}, inp=[hidden, (category_tensor, input[0])])\n",
    "        hidden, out = hyper_out\n",
    "        category, output = out\n",
    "        # topv, topi = output.topk(1)\n",
    "        topi = np.argmax(np.squeeze(output), axis=-1)\n",
    "        # topi = topi[0][0]\n",
    "        if topi == n_letters - 1:\n",
    "            break\n",
    "        else:\n",
    "            letter = all_letters[topi]\n",
    "            output_name += letter\n",
    "        input = inputTensor(letter)\n",
    "\n",
    "    return output_name\n",
    "\n",
    "# Get multiple samples from one category and multiple starting letters\n",
    "def samples(category, start_letters='ABC'):\n",
    "    for start_letter in start_letters:\n",
    "        print(sample(category, start_letter))\n",
    "\n",
    "samples('Russian', 'RUS')\n",
    "\n",
    "samples('German', 'GER')\n",
    "\n",
    "samples('Spanish', 'SPA')\n",
    "\n",
    "samples('Chinese', 'CHI')"
   ]
  },
  {
   "cell_type": "markdown",
   "metadata": {},
   "source": [
    "### Dynamic HyperNetwork"
   ]
  },
  {
   "cell_type": "code",
   "execution_count": 16,
   "metadata": {},
   "outputs": [],
   "source": [
    "from hypernn.jax.utils import count_jax_params\n"
   ]
  },
  {
   "cell_type": "code",
   "execution_count": 24,
   "metadata": {},
   "outputs": [],
   "source": [
    "class RNNCell(nn.Module):\n",
    "\n",
    "    output_size: int\n",
    "\n",
    "\n",
    "    @nn.compact\n",
    "    def __call__(self, state, x):\n",
    "        # Wh @ h + Wx @ x + b can be efficiently computed\n",
    "        # by concatenating the vectors and then having a single dense layer\n",
    "        x = jnp.concatenate([state, x], axis=-1)\n",
    "        new_state = jnp.tanh(nn.Dense(self.output_size)(x))\n",
    "        return new_state"
   ]
  },
  {
   "cell_type": "code",
   "execution_count": 25,
   "metadata": {},
   "outputs": [],
   "source": [
    "from typing import Optional, Any\n",
    "import jax.numpy as jnp\n",
    "\n",
    "from hypernn.jax.embedding_module import FlaxEmbeddingModule\n",
    "from hypernn.jax.weight_generator import FlaxWeightGenerator\n",
    "from hypernn.jax.hypernet import FlaxHyperNetwork\n",
    "\n",
    "\n",
    "class DynamicFlaxEmbeddingModule(FlaxEmbeddingModule):\n",
    "    def setup(self):\n",
    "        self.embedding = nn.Embed(self.num_embeddings, self.embedding_dim)\n",
    "        self.rnn = RNNCell(self.num_embeddings)\n",
    "\n",
    "    def __call__(self, inp: Optional[Any] = None, hidden: Optional[np.array] = None):\n",
    "        inp = inp[1]\n",
    "        if hidden is None:\n",
    "            hidden = jnp.zeros((1, self.num_embeddings))\n",
    "        category, input_tensor = inp\n",
    "        x = jnp.concatenate((category, input_tensor), axis=-1)\n",
    "        hidden = self.rnn(hidden, x)\n",
    "        indices = jnp.arange(0, self.num_embeddings)\n",
    "        return self.embedding(indices)*hidden.reshape(self.num_embeddings, 1), hidden\n",
    "\n",
    "class DynamicFlaxWeightGenerator(FlaxWeightGenerator):\n",
    "    def setup(self):\n",
    "        self.dense1 = nn.Dense(32)\n",
    "        self.dense2 = nn.Dense(self.hidden_dim)\n",
    "\n",
    "    def __call__(self, embedding: jnp.array, inp: Optional[Any] = None):\n",
    "        x = self.dense1(embedding[0])\n",
    "        x = nn.relu(x)\n",
    "        x = self.dense2(x)\n",
    "        return x\n"
   ]
  },
  {
   "cell_type": "code",
   "execution_count": 26,
   "metadata": {},
   "outputs": [],
   "source": [
    "import functools\n",
    "from einops import repeat\n",
    "import pandas as pd\n",
    "import tqdm\n",
    "\n",
    "import optax\n",
    "from flax.training import train_state  # Useful dataclass to keep train state\n",
    "\n",
    "def create_hyper_train_state(rng, model, learning_rate):\n",
    "    \"\"\"Creates initial `TrainState`.\"\"\"\n",
    "    params = model.init(rng, [jnp.zeros((1, N_HIDDEN)), (jnp.zeros((1, INPUT_DIMS)),  jnp.zeros((1, N_CATEGORIES))), False])['params']\n",
    "    tx = optax.chain(\n",
    "        optax.clip_by_global_norm(10.0),\n",
    "        optax.adam(learning_rate),\n",
    "    )\n",
    "    return train_state.TrainState.create(\n",
    "        apply_fn=model.apply, params=params, tx=tx\n",
    "    )\n",
    "\n",
    "@functools.partial(jax.jit, static_argnames=('apply_fn'))\n",
    "def train_hyper_rnn(apply_fn, state, category_tensor, input_line_tensor, hidden, targets):\n",
    "    # category_tensor = repeat(category_tensor, 'b l -> (repeat b) l', repeat=input_line_tensor.shape[0])\n",
    "\n",
    "    def loss_fn(params):\n",
    "        predictions = []\n",
    "        inp = np.squeeze(input_line_tensor)\n",
    "        length = np.squeeze(input_line_tensor).shape[0]\n",
    "        hidden_state = jnp.array(hidden)\n",
    "        hyper_hidden = None\n",
    "        for i in range(length):\n",
    "            out, _, embedding_output = apply_fn({\"params\":params}, [hidden_state, (category_tensor, inp[i:i+1])], embedding_module_kwargs={\"hidden\":hyper_hidden})\n",
    "            hyper_hidden = embedding_output[1]\n",
    "            hidden_state, output = out\n",
    "            predictions.append(np.squeeze(output[1]))\n",
    "        predictions = jnp.stack(predictions)\n",
    "\n",
    "        # _, predictions = jax.lax.scan(lambda hidden, inp: apply_fn({\"params\":params}, hidden, inp),\n",
    "        #         jnp.array(hidden),\n",
    "        #         (category_tensor, np.squeeze(input_line_tensor))\n",
    "        # )\n",
    "        return jnp.mean(jax.vmap(cross_entropy_loss)(jnp.squeeze(predictions), targets))\n",
    "\n",
    "    grad_fn = jax.value_and_grad(loss_fn)\n",
    "    loss, grads = grad_fn(state.params)\n",
    "    return state.apply_gradients(grads=grads), loss, grads\n",
    "\n",
    "def flatten(d):\n",
    "    df = pd.json_normalize(d, sep='_')\n",
    "    return df.to_dict(orient='records')[0]\n",
    "\n",
    "def train_static_hyper_rnn(\n",
    "    num_epochs,\n",
    "    model,\n",
    "    seed: int = 0,\n",
    "    lr: float = 0.0001,\n",
    "    ):\n",
    "    writer = get_tensorboard_logger(\"HYPER_RNNCHAR\")\n",
    "    rng = jax.random.PRNGKey(seed)\n",
    "    state = create_hyper_train_state(rng, model, lr)\n",
    "\n",
    "    bar = tqdm.tqdm(np.arange(num_epochs))\n",
    "\n",
    "    try:\n",
    "        for i in bar:\n",
    "            category_tensor, input_line_tensor, target_line_tensor = randomTrainingExample()\n",
    "            state, loss, grads = train_hyper_rnn(model.apply, state, category_tensor, input_line_tensor, init_hidden(N_HIDDEN), target_line_tensor)\n",
    "            grad_dict = {k:dict(grads[k]) for k in grads.keys()}\n",
    "            # grad_dict = flatten(grad_dict)\n",
    "\n",
    "            # grad_dict = {k: {kk: np.sum(vv).item() for kk, vv in v.items()}\n",
    "            #             for k, v in grad_dict.items()}\n",
    "            # grad_dict \n",
    "\n",
    "            metrics = {\"loss\":loss.item(), }\n",
    "            for key in metrics:\n",
    "                writer.add_scalar(key, metrics[key], i)\n",
    "\n",
    "            bar.set_description('Loss: {}'.format(loss.item()))\n",
    "        return model, state\n",
    "    except KeyboardInterrupt as e:\n",
    "        return model, state"
   ]
  },
  {
   "cell_type": "code",
   "execution_count": 27,
   "metadata": {},
   "outputs": [],
   "source": [
    "hyper = FlaxHyperNetwork.from_target(\n",
    "    target_network=rnn,\n",
    "    inputs=[jnp.zeros((1, N_HIDDEN)), (jnp.zeros((1, INPUT_DIMS)),  jnp.zeros((1, N_CATEGORIES)))],\n",
    "    embedding_module=DynamicFlaxEmbeddingModule,\n",
    "    weight_generator=DynamicFlaxWeightGenerator,\n",
    "    embedding_dim = 8,\n",
    "    num_embeddings = 128\n",
    ")"
   ]
  },
  {
   "cell_type": "code",
   "execution_count": 28,
   "metadata": {},
   "outputs": [
    {
     "data": {
      "text/plain": [
       "77853"
      ]
     },
     "execution_count": 28,
     "metadata": {},
     "output_type": "execute_result"
    }
   ],
   "source": [
    "count_jax_params(hyper, inputs=[[jnp.zeros((1, N_HIDDEN)), (jnp.zeros((1, INPUT_DIMS)),  jnp.zeros((1, N_CATEGORIES))), False]])"
   ]
  },
  {
   "cell_type": "code",
   "execution_count": 29,
   "metadata": {},
   "outputs": [
    {
     "name": "stdout",
     "output_type": "stream",
     "text": [
      "Follow tensorboard logs with: python -m tensorboard.main --logdir '/home/shyam/Code/hyper-nn/notebooks/jax/tensorboard_logs/HYPER_RNNCHAR_2022-03-27 00:38:25.475319'\n"
     ]
    },
    {
     "name": "stderr",
     "output_type": "stream",
     "text": [
      "Loss: 1.424128532409668: 100%|██████████| 100000/100000 [16:56<00:00, 98.41it/s]   \n"
     ]
    }
   ],
   "source": [
    "model, state = train_static_hyper_rnn(100000, hyper)"
   ]
  },
  {
   "cell_type": "code",
   "execution_count": null,
   "metadata": {},
   "outputs": [],
   "source": [
    "max_length = 20\n",
    "\n",
    "# Sample from a category and starting letter\n",
    "def sample(category, start_letter='A'):\n",
    "    category_tensor = categoryTensor(category)\n",
    "    input = inputTensor(start_letter)\n",
    "    hidden = init_hidden(N_HIDDEN)\n",
    "\n",
    "    output_name = start_letter\n",
    "\n",
    "    hyper_hidden = None\n",
    "    for i in range(max_length):\n",
    "        hyper_out, _, embedding_output = hyper.apply({\"params\":state.params}, inp=[hidden, (category_tensor, input[0])], embedding_module_kwargs={\"hidden\":hyper_hidden})\n",
    "        hyper_hidden = embedding_output[1]\n",
    "        hidden, out = hyper_out\n",
    "        category, output = out\n",
    "        # topv, topi = output.topk(1)\n",
    "        topi = np.argmax(np.squeeze(output), axis=-1)\n",
    "        # topi = topi[0][0]\n",
    "        if topi == n_letters - 1:\n",
    "            break\n",
    "        else:\n",
    "            letter = all_letters[topi]\n",
    "            output_name += letter\n",
    "        input = inputTensor(letter)\n",
    "\n",
    "    return output_name\n",
    "\n",
    "# Get multiple samples from one category and multiple starting letters\n",
    "def samples(category, start_letters='ABC'):\n",
    "    for start_letter in start_letters:\n",
    "        print(sample(category, start_letter))\n",
    "\n",
    "samples('Russian', 'RUS')\n",
    "\n",
    "samples('German', 'GER')\n",
    "\n",
    "samples('Spanish', 'SPA')\n",
    "\n",
    "samples('Chinese', 'CHI')"
   ]
  }
 ],
 "metadata": {
  "interpreter": {
   "hash": "1d64cb66d3d902aa83000daa06ca958bef94bde318911a82aee5f8df2bb8934b"
  },
  "kernelspec": {
   "display_name": "Python 3.9.7 ('pycanvas')",
   "language": "python",
   "name": "python3"
  },
  "language_info": {
   "codemirror_mode": {
    "name": "ipython",
    "version": 3
   },
   "file_extension": ".py",
   "mimetype": "text/x-python",
   "name": "python",
   "nbconvert_exporter": "python",
   "pygments_lexer": "ipython3",
   "version": "3.9.7"
  },
  "orig_nbformat": 4
 },
 "nbformat": 4,
 "nbformat_minor": 2
}
