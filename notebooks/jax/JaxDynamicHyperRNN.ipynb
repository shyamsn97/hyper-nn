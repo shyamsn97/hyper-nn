{
 "cells": [
  {
   "cell_type": "markdown",
   "metadata": {},
   "source": [
    "#### Tutorial adapted from https://pytorch.org/tutorials/intermediate/char_rnn_generation_tutorial.html"
   ]
  },
  {
   "cell_type": "code",
   "execution_count": 44,
   "metadata": {},
   "outputs": [],
   "source": [
    "# uncomment this to enable jax gpu preallocation, might lead to memory issues\n",
    "\n",
    "import os\n",
    "os.environ[\"XLA_PYTHON_CLIENT_PREALLOCATE\"] = \"false\""
   ]
  },
  {
   "cell_type": "code",
   "execution_count": 45,
   "metadata": {},
   "outputs": [
    {
     "name": "stdout",
     "output_type": "stream",
     "text": [
      "# categories: 18 ['Portuguese', 'Czech', 'Korean', 'Arabic', 'English', 'Russian', 'German', 'Spanish', 'Vietnamese', 'Polish', 'Irish', 'Japanese', 'French', 'Scottish', 'Greek', 'Chinese', 'Italian', 'Dutch']\n",
      "O'Neal\n"
     ]
    }
   ],
   "source": [
    "from __future__ import unicode_literals, print_function, division\n",
    "from io import open\n",
    "import glob\n",
    "import os\n",
    "import unicodedata\n",
    "import string\n",
    "\n",
    "all_letters = string.ascii_letters + \" .,;'-\"\n",
    "n_letters = len(all_letters) + 1 # Plus EOS marker\n",
    "\n",
    "def findFiles(path): return glob.glob(path)\n",
    "\n",
    "# Turn a Unicode string to plain ASCII, thanks to https://stackoverflow.com/a/518232/2809427\n",
    "def unicodeToAscii(s):\n",
    "    return ''.join(\n",
    "        c for c in unicodedata.normalize('NFD', s)\n",
    "        if unicodedata.category(c) != 'Mn'\n",
    "        and c in all_letters\n",
    "    )\n",
    "\n",
    "# Read a file and split into lines\n",
    "def readLines(filename):\n",
    "    with open(filename, encoding='utf-8') as some_file:\n",
    "        return [unicodeToAscii(line.strip()) for line in some_file]\n",
    "\n",
    "# Build the category_lines dictionary, a list of lines per category\n",
    "category_lines = {}\n",
    "all_categories = []\n",
    "for filename in findFiles('../names/names/*.txt'):\n",
    "    category = os.path.splitext(os.path.basename(filename))[0]\n",
    "    all_categories.append(category)\n",
    "    lines = readLines(filename)\n",
    "    category_lines[category] = lines\n",
    "\n",
    "n_categories = len(all_categories)\n",
    "\n",
    "if n_categories == 0:\n",
    "    raise RuntimeError('Data not found. Make sure that you downloaded data '\n",
    "        'from https://download.pytorch.org/tutorial/data.zip and extract it to '\n",
    "        'the current directory.')\n",
    "\n",
    "print('# categories:', n_categories, all_categories)\n",
    "print(unicodeToAscii(\"O'Néàl\"))"
   ]
  },
  {
   "cell_type": "code",
   "execution_count": 46,
   "metadata": {},
   "outputs": [],
   "source": [
    "from typing import Sequence, List, Tuple, Optional\n",
    "\n",
    "import numpy as np\n",
    "import jax\n",
    "import jax.numpy as jnp\n",
    "import flax.linen as nn"
   ]
  },
  {
   "cell_type": "code",
   "execution_count": 47,
   "metadata": {},
   "outputs": [],
   "source": [
    "from functools import partial\n",
    "\n",
    "class TargetRNN(nn.Module):\n",
    "\n",
    "    output_size: int\n",
    "\n",
    "    @nn.compact\n",
    "    def __call__(self, hidden, inp_tuple, train: bool = False):\n",
    "        category, inp = inp_tuple\n",
    "        x = jnp.concatenate((category, inp), axis=-1)\n",
    "        hidden, _ = nn.GRUCell()(hidden, x)\n",
    "        output = nn.Dense(self.output_size)(hidden)\n",
    "        output = nn.Dropout(0.1, deterministic = not train)(output)\n",
    "        output = nn.softmax(output, axis = -1)\n",
    "        return hidden, (category, output)"
   ]
  },
  {
   "cell_type": "markdown",
   "metadata": {},
   "source": [
    "Training"
   ]
  },
  {
   "cell_type": "code",
   "execution_count": 48,
   "metadata": {},
   "outputs": [],
   "source": [
    "import jax\n",
    "import jax.numpy as jnp"
   ]
  },
  {
   "cell_type": "code",
   "execution_count": 49,
   "metadata": {},
   "outputs": [],
   "source": [
    "import random\n",
    "\n",
    "# Random item from a list\n",
    "def randomChoice(l):\n",
    "    return l[random.randint(0, len(l) - 1)]\n",
    "\n",
    "# Get a random category and random line from that category\n",
    "def randomTrainingPair():\n",
    "    category = randomChoice(all_categories)\n",
    "    line = randomChoice(category_lines[category])\n",
    "    return category, line\n",
    "\n",
    "# One-hot vector for category\n",
    "def categoryTensor(category):\n",
    "    li = all_categories.index(category)\n",
    "    tensor = np.zeros((1, n_categories))\n",
    "    tensor[0][li] = 1\n",
    "    return jnp.array(tensor)\n",
    "\n",
    "# One-hot matrix of first to last letters (not including EOS) for input\n",
    "def inputTensor(line):\n",
    "    tensor = np.zeros((len(line), 1, n_letters))\n",
    "    for li in range(len(line)):\n",
    "        letter = line[li]\n",
    "        tensor[li][0][all_letters.find(letter)] = 1\n",
    "    return jnp.array(tensor)\n",
    "\n",
    "# LongTensor of second letter to end (EOS) for target\n",
    "def targetTensor(line):\n",
    "    letter_indexes = [all_letters.find(line[li]) for li in range(1, len(line))]\n",
    "    letter_indexes.append(n_letters - 1) # EOS\n",
    "    return jnp.array(letter_indexes)\n",
    "\n",
    "# Make category, input, and target tensors from a random category, line pair\n",
    "def randomTrainingExample():\n",
    "    category, line = randomTrainingPair()\n",
    "    category_tensor = categoryTensor(category)\n",
    "    input_line_tensor = inputTensor(line)\n",
    "    target_line_tensor = targetTensor(line)\n",
    "    return category_tensor, input_line_tensor, target_line_tensor"
   ]
  },
  {
   "cell_type": "code",
   "execution_count": 50,
   "metadata": {},
   "outputs": [],
   "source": [
    "INPUT_DIMS = n_letters\n",
    "OUTPUT_SIZE = n_letters\n",
    "N_CATEGORIES = n_categories\n",
    "N_HIDDEN = 128\n",
    "\n",
    "def init_hidden(n_hidden: int, batch_size: int = 1):\n",
    "    return jnp.zeros((batch_size, n_hidden))"
   ]
  },
  {
   "cell_type": "code",
   "execution_count": 51,
   "metadata": {},
   "outputs": [],
   "source": [
    "import optax\n",
    "from flax.training import train_state  # Useful dataclass to keep train state\n",
    "\n",
    "def create_train_state(rng, net, learning_rate, input_shape):\n",
    "    \"\"\"Creates initial `TrainState`.\"\"\"\n",
    "    params = net.init(rng, jnp.ones((1,N_CATEGORIES)), jnp.ones((1,INPUT_DIMS)), jnp.ones((1,N_HIDDEN)), False)['params']\n",
    "    tx = optax.chain(\n",
    "        optax.clip_by_global_norm(10.0),\n",
    "        optax.adam(learning_rate),\n",
    "    )\n",
    "    return train_state.TrainState.create(\n",
    "        apply_fn=net.apply, params=params, tx=tx)"
   ]
  },
  {
   "cell_type": "code",
   "execution_count": 52,
   "metadata": {},
   "outputs": [],
   "source": [
    "from einops import repeat"
   ]
  },
  {
   "cell_type": "code",
   "execution_count": 53,
   "metadata": {},
   "outputs": [],
   "source": [
    "def cross_entropy_loss(predictions, label):\n",
    "    return -jnp.log(predictions[label])"
   ]
  },
  {
   "cell_type": "code",
   "execution_count": 166,
   "metadata": {},
   "outputs": [],
   "source": [
    "import functools\n",
    "from einops import repeat\n",
    "\n",
    "@functools.partial(jax.jit, static_argnames=('apply_fn'))\n",
    "def rnn_forward(apply_fn, params, category_tensor, input_line_tensor, hidden):\n",
    "    category_tensor = repeat(category_tensor, 'b l -> (repeat b) l', repeat=input_line_tensor.shape[0])\n",
    "    _, predictions = jax.lax.scan(lambda hidden, inp: apply_fn({\"params\":params}, hidden, inp),\n",
    "            jnp.array(hidden),\n",
    "            (category_tensor, np.squeeze(input_line_tensor)),\n",
    "    )\n",
    "    return predictions[-1]\n",
    "\n",
    "@functools.partial(jax.jit, static_argnames=('apply_fn'))\n",
    "def train_rnn(apply_fn, state, category_tensor, input_line_tensor, hidden, targets):\n",
    "    # category_tensor = repeat(category_tensor, 'b l -> (repeat b) l', repeat=input_line_tensor.shape[0])\n",
    "\n",
    "    def loss_fn(params):\n",
    "        predictions = []\n",
    "        inp = np.squeeze(input_line_tensor)\n",
    "        length = np.squeeze(input_line_tensor).shape[0]\n",
    "        hidden_state = jnp.array(hidden)\n",
    "        for i in range(length):\n",
    "            hidden_state, output = apply_fn({\"params\":params}, hidden_state, (category_tensor, inp[i:i+1]))\n",
    "            predictions.append(np.squeeze(output[1]))\n",
    "        predictions = jnp.stack(predictions)\n",
    "\n",
    "        # _, predictions = jax.lax.scan(lambda hidden, inp: apply_fn({\"params\":params}, hidden, inp),\n",
    "        #         jnp.array(hidden),\n",
    "        #         (category_tensor, np.squeeze(input_line_tensor))\n",
    "        # )\n",
    "        return jnp.mean(jax.vmap(cross_entropy_loss)(jnp.squeeze(predictions), targets))\n",
    "\n",
    "    grad_fn = jax.value_and_grad(loss_fn)\n",
    "    loss, grads = grad_fn(state.params)\n",
    "    return state.apply_gradients(grads=grads), loss, grads"
   ]
  },
  {
   "cell_type": "code",
   "execution_count": 167,
   "metadata": {},
   "outputs": [],
   "source": [
    "import os\n",
    "from torch.utils.tensorboard import SummaryWriter\n",
    "from datetime import datetime\n",
    "\n",
    "def get_tensorboard_logger(\n",
    "    experiment_name: str, base_log_path: str = \"tensorboard_logs\"\n",
    "):\n",
    "    log_path = \"{}/{}_{}\".format(base_log_path, experiment_name, datetime.now())\n",
    "    train_writer = SummaryWriter(log_path, flush_secs=10)\n",
    "    full_log_path = os.path.join(os.getcwd(), log_path)\n",
    "    print(\n",
    "        \"Follow tensorboard logs with: python -m tensorboard.main --logdir '{}'\".format(full_log_path)\n",
    "    )\n",
    "    return train_writer\n"
   ]
  },
  {
   "cell_type": "code",
   "execution_count": 168,
   "metadata": {},
   "outputs": [],
   "source": [
    "import optax\n",
    "from flax.training import train_state  # Useful dataclass to keep train state\n",
    "\n",
    "def create_train_state(rng, model, learning_rate):\n",
    "    \"\"\"Creates initial `TrainState`.\"\"\"\n",
    "    params = model.init(rng, jnp.zeros((1, N_HIDDEN)), (jnp.zeros((1, INPUT_DIMS)),  jnp.zeros((1, N_CATEGORIES))), False)['params']\n",
    "    tx = optax.chain(\n",
    "        optax.clip_by_global_norm(10.0),\n",
    "        optax.adam(learning_rate),\n",
    "    )\n",
    "    return train_state.TrainState.create(\n",
    "        apply_fn=model.apply, params=params, tx=tx\n",
    "    )"
   ]
  },
  {
   "cell_type": "code",
   "execution_count": 169,
   "metadata": {},
   "outputs": [],
   "source": [
    "import pandas as pd\n",
    "import tqdm\n",
    "\n",
    "def flatten(d):\n",
    "    df = pd.json_normalize(d, sep='_')\n",
    "    return df.to_dict(orient='records')[0]\n",
    "\n",
    "def train_static_rnn(\n",
    "    num_epochs,\n",
    "    model,\n",
    "    seed: int = 0,\n",
    "    lr: float = 0.0001,\n",
    "    ):\n",
    "    writer = get_tensorboard_logger(\"RNNCHAR\")\n",
    "    rng = jax.random.PRNGKey(seed)\n",
    "    state = create_train_state(rng, model, lr)\n",
    "\n",
    "    bar = tqdm.tqdm(np.arange(num_epochs))\n",
    "\n",
    "    try:\n",
    "        for i in bar:\n",
    "            category_tensor, input_line_tensor, target_line_tensor = randomTrainingExample()\n",
    "            state, loss, grads = train_rnn(model.apply, state, category_tensor, input_line_tensor, init_hidden(N_HIDDEN), target_line_tensor)\n",
    "            grad_dict = {k:dict(grads[k]) for k in grads.keys()}\n",
    "            # grad_dict = flatten(grad_dict)\n",
    "\n",
    "            # grad_dict = {k: {kk: np.sum(vv).item() for kk, vv in v.items()}\n",
    "            #             for k, v in grad_dict.items()}\n",
    "            # grad_dict \n",
    "\n",
    "            metrics = {\"loss\":loss.item(), }\n",
    "            for key in metrics:\n",
    "                writer.add_scalar(key, metrics[key], i)\n",
    "\n",
    "            bar.set_description('Loss: {}'.format(loss.item()))\n",
    "        return model, state\n",
    "    except KeyboardInterrupt as e:\n",
    "        return model, state"
   ]
  },
  {
   "cell_type": "code",
   "execution_count": 170,
   "metadata": {},
   "outputs": [],
   "source": [
    "rnn = TargetRNN(OUTPUT_SIZE)"
   ]
  },
  {
   "cell_type": "code",
   "execution_count": 171,
   "metadata": {},
   "outputs": [
    {
     "name": "stdout",
     "output_type": "stream",
     "text": [
      "Follow tensorboard logs with: python -m tensorboard.main --logdir '/home/shyam/Code/hyper-nn/notebooks/jax/tensorboard_logs/RNNCHAR_2022-03-26 20:56:43.008387'\n"
     ]
    },
    {
     "name": "stderr",
     "output_type": "stream",
     "text": [
      "Loss: 1.655625343322754: 100%|██████████| 100000/100000 [06:45<00:00, 246.31it/s] \n"
     ]
    }
   ],
   "source": [
    "model, state = train_static_rnn(100000, rnn)"
   ]
  },
  {
   "cell_type": "code",
   "execution_count": 172,
   "metadata": {},
   "outputs": [
    {
     "name": "stdout",
     "output_type": "stream",
     "text": [
      "Roskin\n",
      "Urinov\n",
      "Shavanin\n",
      "Garter\n",
      "Ester\n",
      "Romer\n",
      "Sala\n",
      "Parez\n",
      "Alana\n",
      "Chan\n",
      "Han\n",
      "Ino\n"
     ]
    }
   ],
   "source": [
    "max_length = 20\n",
    "\n",
    "# Sample from a category and starting letter\n",
    "def sample(category, start_letter='A'):\n",
    "    category_tensor = categoryTensor(category)\n",
    "    input = inputTensor(start_letter)\n",
    "    hidden = init_hidden(N_HIDDEN)\n",
    "\n",
    "    output_name = start_letter\n",
    "\n",
    "    for i in range(max_length):\n",
    "        hidden, out = rnn.apply({\"params\":state.params}, hidden, (category_tensor, input[0]))\n",
    "        category, output = out\n",
    "        # topv, topi = output.topk(1)\n",
    "        topi = np.argmax(np.squeeze(output), axis=-1)\n",
    "        # topi = topi[0][0]\n",
    "        if topi == n_letters - 1:\n",
    "            break\n",
    "        else:\n",
    "            letter = all_letters[topi]\n",
    "            output_name += letter\n",
    "        input = inputTensor(letter)\n",
    "\n",
    "    return output_name\n",
    "\n",
    "# Get multiple samples from one category and multiple starting letters\n",
    "def samples(category, start_letters='ABC'):\n",
    "    for start_letter in start_letters:\n",
    "        print(sample(category, start_letter))\n",
    "\n",
    "samples('Russian', 'RUS')\n",
    "\n",
    "samples('German', 'GER')\n",
    "\n",
    "samples('Spanish', 'SPA')\n",
    "\n",
    "samples('Chinese', 'CHI')"
   ]
  },
  {
   "cell_type": "markdown",
   "metadata": {},
   "source": [
    "### Hypernetwork"
   ]
  },
  {
   "cell_type": "code",
   "execution_count": 173,
   "metadata": {},
   "outputs": [],
   "source": [
    "from typing import Optional, Any\n",
    "import jax.numpy as jnp\n",
    "\n",
    "from hypernn.jax.embedding_module import FlaxEmbeddingModule\n",
    "from hypernn.jax.weight_generator import FlaxWeightGenerator\n",
    "from hypernn.jax.hypernet import FlaxHyperNetwork\n",
    "\n",
    "\n",
    "class CustomFlaxEmbeddingModule(FlaxEmbeddingModule):\n",
    "    def setup(self):\n",
    "        self.embedding = nn.Embed(self.num_embeddings, self.embedding_dim)\n",
    "\n",
    "    def __call__(self, inp: Optional[Any] = None):\n",
    "        indices = jnp.arange(0, self.num_embeddings)\n",
    "        return self.embedding(indices)\n",
    "\n",
    "class CustomFlaxWeightGenerator(FlaxWeightGenerator):\n",
    "    def setup(self):\n",
    "        self.dense1 = nn.Dense(32)\n",
    "        self.dense2 = nn.Dense(self.hidden_dim)\n",
    "\n",
    "    def __call__(self, embedding: jnp.array, inp: Optional[Any] = None):\n",
    "        x = self.dense1(embedding)\n",
    "        x = nn.relu(x)\n",
    "        x = self.dense2(x)\n",
    "        return x\n"
   ]
  },
  {
   "cell_type": "code",
   "execution_count": 174,
   "metadata": {},
   "outputs": [],
   "source": [
    "hyper = FlaxHyperNetwork.from_target(\n",
    "    target_network=rnn,\n",
    "    inputs=[jnp.zeros((1, N_HIDDEN)), (jnp.zeros((1, INPUT_DIMS)),  jnp.zeros((1, N_CATEGORIES)))],\n",
    "    embedding_module=CustomFlaxEmbeddingModule,\n",
    "    weight_generator=CustomFlaxWeightGenerator,\n",
    "    embedding_dim = 32,\n",
    "    num_embeddings = 512\n",
    ")"
   ]
  },
  {
   "cell_type": "code",
   "execution_count": 175,
   "metadata": {},
   "outputs": [],
   "source": [
    "rng = jax.random.PRNGKey(0)\n",
    "params = hyper.init(rng, inp=[jnp.zeros((1, N_HIDDEN)), (jnp.zeros((1, INPUT_DIMS)),  jnp.zeros((1, N_CATEGORIES)))])"
   ]
  },
  {
   "cell_type": "code",
   "execution_count": 176,
   "metadata": {},
   "outputs": [],
   "source": [
    "hyper_generated_params = hyper.apply(params, method=hyper.generate_params)"
   ]
  },
  {
   "cell_type": "code",
   "execution_count": 177,
   "metadata": {},
   "outputs": [],
   "source": [
    "generated_params, embeddings = hyper_generated_params"
   ]
  },
  {
   "cell_type": "code",
   "execution_count": 178,
   "metadata": {},
   "outputs": [
    {
     "data": {
      "text/plain": [
       "(87210,)"
      ]
     },
     "execution_count": 178,
     "metadata": {},
     "output_type": "execute_result"
    }
   ],
   "source": [
    "generated_params.shape"
   ]
  },
  {
   "cell_type": "code",
   "execution_count": 179,
   "metadata": {},
   "outputs": [],
   "source": [
    "out, generated_params, embeddings = hyper.apply(params, inp=[jnp.zeros((1, N_HIDDEN)), (jnp.zeros((1, INPUT_DIMS)),  jnp.zeros((1, N_CATEGORIES)))], generated_params=generated_params)"
   ]
  },
  {
   "cell_type": "markdown",
   "metadata": {},
   "source": [
    "#### Static Hypernetwork"
   ]
  },
  {
   "cell_type": "code",
   "execution_count": 185,
   "metadata": {},
   "outputs": [],
   "source": [
    "import functools\n",
    "from einops import repeat\n",
    "import pandas as pd\n",
    "import tqdm\n",
    "\n",
    "import optax\n",
    "from flax.training import train_state  # Useful dataclass to keep train state\n",
    "\n",
    "def create_hyper_train_state(rng, model, learning_rate):\n",
    "    \"\"\"Creates initial `TrainState`.\"\"\"\n",
    "    params = model.init(rng, [jnp.zeros((1, N_HIDDEN)), (jnp.zeros((1, INPUT_DIMS)),  jnp.zeros((1, N_CATEGORIES))), False])['params']\n",
    "    tx = optax.chain(\n",
    "        optax.clip_by_global_norm(10.0),\n",
    "        optax.adam(learning_rate),\n",
    "    )\n",
    "    return train_state.TrainState.create(\n",
    "        apply_fn=model.apply, params=params, tx=tx\n",
    "    )\n",
    "\n",
    "@functools.partial(jax.jit, static_argnames=('apply_fn'))\n",
    "def hyper_rnn_forward(apply_fn, params, category_tensor, input_line_tensor, hidden):\n",
    "    category_tensor = repeat(category_tensor, 'b l -> (repeat b) l', repeat=input_line_tensor.shape[0])\n",
    "    _, predictions = jax.lax.scan(lambda hidden, inp: apply_fn({\"params\":params}, hidden, inp),\n",
    "            jnp.array(hidden),\n",
    "            (category_tensor, np.squeeze(input_line_tensor)),\n",
    "    )\n",
    "    return predictions[-1]\n",
    "\n",
    "@functools.partial(jax.jit, static_argnames=('apply_fn'))\n",
    "def train_hyper_rnn(apply_fn, state, category_tensor, input_line_tensor, hidden, targets):\n",
    "    # category_tensor = repeat(category_tensor, 'b l -> (repeat b) l', repeat=input_line_tensor.shape[0])\n",
    "\n",
    "    def loss_fn(params):\n",
    "        predictions = []\n",
    "        inp = np.squeeze(input_line_tensor)\n",
    "        length = np.squeeze(input_line_tensor).shape[0]\n",
    "        hidden_state = jnp.array(hidden)\n",
    "        for i in range(length):\n",
    "            out, _, _ = apply_fn({\"params\":params}, [hidden_state, (category_tensor, inp[i:i+1])])\n",
    "            hidden_state, output = out\n",
    "            predictions.append(np.squeeze(output[1]))\n",
    "        predictions = jnp.stack(predictions)\n",
    "\n",
    "        # _, predictions = jax.lax.scan(lambda hidden, inp: apply_fn({\"params\":params}, hidden, inp),\n",
    "        #         jnp.array(hidden),\n",
    "        #         (category_tensor, np.squeeze(input_line_tensor))\n",
    "        # )\n",
    "        return jnp.mean(jax.vmap(cross_entropy_loss)(jnp.squeeze(predictions), targets))\n",
    "\n",
    "    grad_fn = jax.value_and_grad(loss_fn)\n",
    "    loss, grads = grad_fn(state.params)\n",
    "    return astate.apply_gradients(grads=grads), loss, grads\n",
    "\n",
    "def flatten(d):\n",
    "    df = pd.json_normalize(d, sep='_')\n",
    "    return df.to_dict(orient='records')[0]\n",
    "\n",
    "def train_static_hyper_rnn(\n",
    "    num_epochs,\n",
    "    model,\n",
    "    seed: int = 0,\n",
    "    lr: float = 0.0001,\n",
    "    ):\n",
    "    writer = get_tensorboard_logger(\"HYPER_RNNCHAR\")\n",
    "    rng = jax.random.PRNGKey(seed)\n",
    "    state = create_hyper_train_state(rng, model, lr)\n",
    "\n",
    "    bar = tqdm.tqdm(np.arange(num_epochs))\n",
    "\n",
    "    try:\n",
    "        for i in bar:\n",
    "            category_tensor, input_line_tensor, target_line_tensor = randomTrainingExample()\n",
    "            state, loss, grads = train_hyper_rnn(model.apply, state, category_tensor, input_line_tensor, init_hidden(N_HIDDEN), target_line_tensor)\n",
    "            grad_dict = {k:dict(grads[k]) for k in grads.keys()}\n",
    "            # grad_dict = flatten(grad_dict)\n",
    "\n",
    "            # grad_dict = {k: {kk: np.sum(vv).item() for kk, vv in v.items()}\n",
    "            #             for k, v in grad_dict.items()}\n",
    "            # grad_dict \n",
    "\n",
    "            metrics = {\"loss\":loss.item(), }\n",
    "            for key in metrics:\n",
    "                writer.add_scalar(key, metrics[key], i)\n",
    "\n",
    "            bar.set_description('Loss: {}'.format(loss.item()))\n",
    "        return model, state\n",
    "    except KeyboardInterrupt as e:\n",
    "        return model, state"
   ]
  },
  {
   "cell_type": "code",
   "execution_count": 186,
   "metadata": {},
   "outputs": [
    {
     "name": "stdout",
     "output_type": "stream",
     "text": [
      "Follow tensorboard logs with: python -m tensorboard.main --logdir '/home/shyam/Code/hyper-nn/notebooks/jax/tensorboard_logs/HYPER_RNNCHAR_2022-03-26 21:24:44.815926'\n"
     ]
    },
    {
     "name": "stderr",
     "output_type": "stream",
     "text": [
      "Loss: 1.7153233289718628: 100%|██████████| 100000/100000 [09:36<00:00, 173.53it/s]\n"
     ]
    }
   ],
   "source": [
    "_, hyper_state = train_static_hyper_rnn(100000, hyper)"
   ]
  },
  {
   "cell_type": "code",
   "execution_count": 188,
   "metadata": {},
   "outputs": [
    {
     "name": "stdout",
     "output_type": "stream",
     "text": [
      "Raiz\n",
      "Uartov\n",
      "Sakov\n",
      "Gante\n",
      "Ester\n",
      "Romer\n",
      "Sala\n",
      "Para\n",
      "Arano\n",
      "Chang\n",
      "Han\n",
      "Ii\n"
     ]
    }
   ],
   "source": [
    "max_length = 20\n",
    "\n",
    "# Sample from a category and starting letter\n",
    "def sample(category, start_letter='A'):\n",
    "    category_tensor = categoryTensor(category)\n",
    "    input = inputTensor(start_letter)\n",
    "    hidden = init_hidden(N_HIDDEN)\n",
    "\n",
    "    output_name = start_letter\n",
    "\n",
    "    for i in range(max_length):\n",
    "        hyper_out, _, _ = hyper.apply({\"params\":hyper_state.params}, inp=[hidden, (category_tensor, input[0])])\n",
    "        hidden, out = hyper_out\n",
    "        category, output = out\n",
    "        # topv, topi = output.topk(1)\n",
    "        topi = np.argmax(np.squeeze(output), axis=-1)\n",
    "        # topi = topi[0][0]\n",
    "        if topi == n_letters - 1:\n",
    "            break\n",
    "        else:\n",
    "            letter = all_letters[topi]\n",
    "            output_name += letter\n",
    "        input = inputTensor(letter)\n",
    "\n",
    "    return output_name\n",
    "\n",
    "# Get multiple samples from one category and multiple starting letters\n",
    "def samples(category, start_letters='ABC'):\n",
    "    for start_letter in start_letters:\n",
    "        print(sample(category, start_letter))\n",
    "\n",
    "samples('Russian', 'RUS')\n",
    "\n",
    "samples('German', 'GER')\n",
    "\n",
    "samples('Spanish', 'SPA')\n",
    "\n",
    "samples('Chinese', 'CHI')"
   ]
  },
  {
   "cell_type": "markdown",
   "metadata": {},
   "source": [
    "### Dynamic HyperNetwork"
   ]
  },
  {
   "cell_type": "code",
   "execution_count": 191,
   "metadata": {},
   "outputs": [
    {
     "data": {
      "text/plain": [
       "array([[0.],\n",
       "       [0.],\n",
       "       [0.]])"
      ]
     },
     "execution_count": 191,
     "metadata": {},
     "output_type": "execute_result"
    }
   ],
   "source": [
    "np.zeros((1,3)).reshape(3,1)"
   ]
  },
  {
   "cell_type": "code",
   "execution_count": 221,
   "metadata": {},
   "outputs": [],
   "source": [
    "from typing import Optional, Any\n",
    "import jax.numpy as jnp\n",
    "\n",
    "from hypernn.jax.embedding_module import FlaxEmbeddingModule\n",
    "from hypernn.jax.weight_generator import FlaxWeightGenerator\n",
    "from hypernn.jax.hypernet import FlaxHyperNetwork\n",
    "\n",
    "\n",
    "class DynamicFlaxEmbeddingModule(FlaxEmbeddingModule):\n",
    "    def setup(self):\n",
    "        self.embedding = nn.Embed(self.num_embeddings, self.embedding_dim)\n",
    "        self.gru = nn.GRUCell()\n",
    "\n",
    "    def __call__(self, inp: Optional[Any] = None, hidden: Optional[np.array] = None):\n",
    "        inp = inp[1]\n",
    "        if hidden is None:\n",
    "            hidden = jnp.zeros((1, self.num_embeddings))\n",
    "        category, input_tensor = inp\n",
    "        x = jnp.concatenate((category, input_tensor), axis=-1)\n",
    "        hidden, _ = self.gru(hidden, x)\n",
    "        indices = jnp.arange(0, self.num_embeddings)\n",
    "        return self.embedding(indices)*hidden.reshape(self.num_embeddings, 1), hidden\n",
    "\n",
    "class DynamicFlaxWeightGenerator(FlaxWeightGenerator):\n",
    "    def setup(self):\n",
    "        self.dense1 = nn.Dense(32)\n",
    "        self.dense2 = nn.Dense(self.hidden_dim)\n",
    "\n",
    "    def __call__(self, embedding: jnp.array, inp: Optional[Any] = None):\n",
    "        x = self.dense1(embedding[0])\n",
    "        x = nn.relu(x)\n",
    "        x = self.dense2(x)\n",
    "        return x\n"
   ]
  },
  {
   "cell_type": "code",
   "execution_count": 222,
   "metadata": {},
   "outputs": [],
   "source": [
    "import functools\n",
    "from einops import repeat\n",
    "import pandas as pd\n",
    "import tqdm\n",
    "\n",
    "import optax\n",
    "from flax.training import train_state  # Useful dataclass to keep train state\n",
    "\n",
    "def create_hyper_train_state(rng, model, learning_rate):\n",
    "    \"\"\"Creates initial `TrainState`.\"\"\"\n",
    "    params = model.init(rng, [jnp.zeros((1, N_HIDDEN)), (jnp.zeros((1, INPUT_DIMS)),  jnp.zeros((1, N_CATEGORIES))), False])['params']\n",
    "    tx = optax.chain(\n",
    "        optax.clip_by_global_norm(10.0),\n",
    "        optax.adam(learning_rate),\n",
    "    )\n",
    "    return train_state.TrainState.create(\n",
    "        apply_fn=model.apply, params=params, tx=tx\n",
    "    )\n",
    "\n",
    "@functools.partial(jax.jit, static_argnames=('apply_fn'))\n",
    "def hyper_rnn_forward(apply_fn, params, category_tensor, input_line_tensor, hidden):\n",
    "    category_tensor = repeat(category_tensor, 'b l -> (repeat b) l', repeat=input_line_tensor.shape[0])\n",
    "    _, predictions = jax.lax.scan(lambda hidden, inp: apply_fn({\"params\":params}, hidden, inp),\n",
    "            jnp.array(hidden),\n",
    "            (category_tensor, np.squeeze(input_line_tensor)),\n",
    "    )\n",
    "    return predictions[-1]\n",
    "\n",
    "@functools.partial(jax.jit, static_argnames=('apply_fn'))\n",
    "def train_hyper_rnn(apply_fn, state, category_tensor, input_line_tensor, hidden, targets):\n",
    "    # category_tensor = repeat(category_tensor, 'b l -> (repeat b) l', repeat=input_line_tensor.shape[0])\n",
    "\n",
    "    def loss_fn(params):\n",
    "        predictions = []\n",
    "        inp = np.squeeze(input_line_tensor)\n",
    "        length = np.squeeze(input_line_tensor).shape[0]\n",
    "        hidden_state = jnp.array(hidden)\n",
    "        hyper_hidden = None\n",
    "        for i in range(length):\n",
    "            out, _, embedding_output = apply_fn({\"params\":params}, [hidden_state, (category_tensor, inp[i:i+1])], embedding_module_kwargs={\"hidden\":hyper_hidden})\n",
    "            hyper_hidden = embedding_output[1]\n",
    "            hidden_state, output = out\n",
    "            predictions.append(np.squeeze(output[1]))\n",
    "        predictions = jnp.stack(predictions)\n",
    "\n",
    "        # _, predictions = jax.lax.scan(lambda hidden, inp: apply_fn({\"params\":params}, hidden, inp),\n",
    "        #         jnp.array(hidden),\n",
    "        #         (category_tensor, np.squeeze(input_line_tensor))\n",
    "        # )\n",
    "        return jnp.mean(jax.vmap(cross_entropy_loss)(jnp.squeeze(predictions), targets))\n",
    "\n",
    "    grad_fn = jax.value_and_grad(loss_fn)\n",
    "    loss, grads = grad_fn(state.params)\n",
    "    return state.apply_gradients(grads=grads), loss, grads\n",
    "\n",
    "def flatten(d):\n",
    "    df = pd.json_normalize(d, sep='_')\n",
    "    return df.to_dict(orient='records')[0]\n",
    "\n",
    "def train_static_hyper_rnn(\n",
    "    num_epochs,\n",
    "    model,\n",
    "    seed: int = 0,\n",
    "    lr: float = 0.0001,\n",
    "    ):\n",
    "    writer = get_tensorboard_logger(\"HYPER_RNNCHAR\")\n",
    "    rng = jax.random.PRNGKey(seed)\n",
    "    state = create_hyper_train_state(rng, model, lr)\n",
    "\n",
    "    bar = tqdm.tqdm(np.arange(num_epochs))\n",
    "\n",
    "    try:\n",
    "        for i in bar:\n",
    "            category_tensor, input_line_tensor, target_line_tensor = randomTrainingExample()\n",
    "            state, loss, grads = train_hyper_rnn(model.apply, state, category_tensor, input_line_tensor, init_hidden(N_HIDDEN), target_line_tensor)\n",
    "            grad_dict = {k:dict(grads[k]) for k in grads.keys()}\n",
    "            # grad_dict = flatten(grad_dict)\n",
    "\n",
    "            # grad_dict = {k: {kk: np.sum(vv).item() for kk, vv in v.items()}\n",
    "            #             for k, v in grad_dict.items()}\n",
    "            # grad_dict \n",
    "\n",
    "            metrics = {\"loss\":loss.item(), }\n",
    "            for key in metrics:\n",
    "                writer.add_scalar(key, metrics[key], i)\n",
    "\n",
    "            bar.set_description('Loss: {}'.format(loss.item()))\n",
    "        return model, state\n",
    "    except KeyboardInterrupt as e:\n",
    "        return model, state"
   ]
  },
  {
   "cell_type": "code",
   "execution_count": 223,
   "metadata": {},
   "outputs": [],
   "source": [
    "hyper = FlaxHyperNetwork.from_target(\n",
    "    target_network=rnn,\n",
    "    inputs=[jnp.zeros((1, N_HIDDEN)), (jnp.zeros((1, INPUT_DIMS)),  jnp.zeros((1, N_CATEGORIES)))],\n",
    "    embedding_module=DynamicFlaxEmbeddingModule,\n",
    "    weight_generator=DynamicFlaxWeightGenerator,\n",
    "    embedding_dim = 32,\n",
    "    num_embeddings = 512\n",
    ")"
   ]
  },
  {
   "cell_type": "code",
   "execution_count": 224,
   "metadata": {},
   "outputs": [
    {
     "name": "stdout",
     "output_type": "stream",
     "text": [
      "Follow tensorboard logs with: python -m tensorboard.main --logdir '/home/shyam/Code/hyper-nn/notebooks/jax/tensorboard_logs/HYPER_RNNCHAR_2022-03-26 23:15:59.721965'\n"
     ]
    },
    {
     "name": "stderr",
     "output_type": "stream",
     "text": [
      "Loss: 4.0839009284973145:   0%|          | 1/100000 [00:06<172:23:09,  6.21s/it]"
     ]
    }
   ],
   "source": [
    "train_static_hyper_rnn(100000, hyper)"
   ]
  },
  {
   "cell_type": "code",
   "execution_count": null,
   "metadata": {},
   "outputs": [],
   "source": []
  },
  {
   "cell_type": "code",
   "execution_count": null,
   "metadata": {},
   "outputs": [],
   "source": [
    "from typing import Optional, Any, Tuple\n",
    "import functools\n",
    "import torch.nn.functional as F\n",
    "\n",
    "class DynamicTorchEmbeddingModule(TorchEmbeddingModule):\n",
    "    def __init__(self, embedding_dim: int, num_embeddings: int, input_shape):\n",
    "        super().__init__(embedding_dim, num_embeddings)\n",
    "        self.rnn_hidden_dim = num_embeddings\n",
    "        self.gru = nn.RNNCell(np.prod(input_shape), num_embeddings)\n",
    "        self.embedding = nn.Embedding(num_embeddings, embedding_dim)\n",
    "\n",
    "    def forward(self, inp, hidden_state: Optional[torch.Tensor] = None):\n",
    "        x = torch.cat(inp[:-1], -1)\n",
    "        if hidden_state is None:\n",
    "            hidden_state = torch.zeros(x.size(0), self.rnn_hidden_dim).to(self.device)\n",
    "        hidden_state = torch.sigmoid(self.gru(x, hidden_state))\n",
    "        indices = torch.arange(self.num_embeddings).to(self.device)\n",
    "        embedding = self.embedding(indices)*hidden_state.view(self.num_embeddings, 1)\n",
    "        return embedding, hidden_state\n",
    "\n",
    "    def initHidden(self):\n",
    "        return torch.zeros(1, self.num_embeddings).to(self.device)\n",
    "\n",
    "class DynamicTorchWeightGenerator(TorchWeightGenerator):\n",
    "    def __init__(self, embedding_dim: int, num_embeddings: int, hidden_dim: int, input_shape: Optional[Any] = None):\n",
    "        super().__init__(embedding_dim, num_embeddings, hidden_dim, input_shape)\n",
    "        self.linear1 = nn.Linear(embedding_dim, 16)\n",
    "        self.linear2 = nn.Linear(16, hidden_dim)\n",
    "\n",
    "    def forward(\n",
    "        self, embedding: Tuple[torch.Tensor, torch.Tensor], inp: Optional[Any] = None\n",
    "    ) -> torch.Tensor:\n",
    "        x = self.linear1(embedding[0])\n",
    "        x = F.relu(x)\n",
    "        return self.linear2(x).view(-1)"
   ]
  },
  {
   "cell_type": "code",
   "execution_count": null,
   "metadata": {},
   "outputs": [],
   "source": [
    "target_network = TargetRNN(n_letters, 128, n_letters)\n",
    "pytorch_total_params = sum(p.numel() for p in target_network.parameters() if p.requires_grad)\n",
    "pytorch_total_params"
   ]
  },
  {
   "cell_type": "code",
   "execution_count": null,
   "metadata": {},
   "outputs": [],
   "source": [
    "EMBEDDING_DIM = 8\n",
    "NUM_EMBEDDINGS = 64\n",
    "\n",
    "dynamic_embedding_module = DynamicTorchEmbeddingModule.from_target(target_network, EMBEDDING_DIM, NUM_EMBEDDINGS, input_shape=(n_categories+n_letters,))\n",
    "dynamic_weight_generator = DynamicTorchWeightGenerator.from_target(target_network, EMBEDDING_DIM, NUM_EMBEDDINGS, input_shape=(n_categories+n_letters,))"
   ]
  },
  {
   "cell_type": "code",
   "execution_count": null,
   "metadata": {},
   "outputs": [],
   "source": [
    "dynamic_hypernetwork = TorchHyperNetwork(\n",
    "                                input_shape=((1, n_categories), (1, n_letters), (1, 128)),\n",
    "                                target_network=target_network,\n",
    "                                embedding_module=dynamic_embedding_module,\n",
    "                                weight_generator=dynamic_weight_generator\n",
    "                            )\n",
    "pytorch_total_params = sum(p.numel() for p in dynamic_hypernetwork.parameters() if p.requires_grad)\n",
    "pytorch_total_params"
   ]
  },
  {
   "cell_type": "code",
   "execution_count": null,
   "metadata": {},
   "outputs": [],
   "source": [
    "device = torch.device('cuda')\n",
    "dynamic_hypernetwork = dynamic_hypernetwork.to(device)"
   ]
  },
  {
   "cell_type": "code",
   "execution_count": null,
   "metadata": {},
   "outputs": [],
   "source": [
    "import torch.nn as nn\n",
    "\n",
    "criterion = nn.NLLLoss()\n",
    "\n",
    "def train_dynamic_hyper_rnn_step(dynamic_hyper_rnn, optimizer, category_tensor, input_line_tensor, target_line_tensor):\n",
    "    target_line_tensor = target_line_tensor.unsqueeze(-1).to(dynamic_hyper_rnn.device)\n",
    "    hidden = target_network.initHidden().to(dynamic_hyper_rnn.device)\n",
    "    hyper_hidden = dynamic_hyper_rnn.embedding_module.initHidden()\n",
    "\n",
    "    optimizer.zero_grad()\n",
    "\n",
    "    loss = 0\n",
    "\n",
    "    for i in range(input_line_tensor.size(0)):\n",
    "        out, _, embedding_output = dynamic_hyper_rnn(inp=(category_tensor.to(dynamic_hyper_rnn.device), input_line_tensor[i].to(dynamic_hyper_rnn.device), hidden), embedding_module_kwargs={\"hidden_state\":hyper_hidden})\n",
    "        _, hyper_hidden = embedding_output\n",
    "        output, hidden = out\n",
    "        l = criterion(output, target_line_tensor[i])\n",
    "        loss += l\n",
    "\n",
    "    loss.backward()\n",
    "    torch.nn.utils.clip_grad_norm_(dynamic_hyper_rnn.parameters(), 10.0)\n",
    "    optimizer.step()\n",
    "\n",
    "    grad_dict = {}\n",
    "    for n, W in dynamic_hyper_rnn.named_parameters():\n",
    "        if W.grad is not None:\n",
    "            grad_dict[\"{}_grad\".format(n)] = float(torch.sum(W.grad).item())\n",
    "\n",
    "    # for p in rnn.parameters():\n",
    "    #     p.data.add_(p.grad.data, alpha=-learning_rate)\n",
    "\n",
    "    return output, {\"loss\":loss.item() / input_line_tensor.size(0), **grad_dict}"
   ]
  },
  {
   "cell_type": "code",
   "execution_count": null,
   "metadata": {},
   "outputs": [],
   "source": [
    "learning_rate = 1e-4\n",
    "\n",
    "train(hypernet=dynamic_hypernetwork, train_iter_fn=train_dynamic_hyper_rnn_step, lr=learning_rate, n_iters=100000)"
   ]
  },
  {
   "cell_type": "code",
   "execution_count": null,
   "metadata": {},
   "outputs": [],
   "source": [
    "dynamic_hypernetwork = dynamic_hypernetwork.to(torch.device('cpu'))"
   ]
  },
  {
   "cell_type": "code",
   "execution_count": null,
   "metadata": {},
   "outputs": [],
   "source": [
    "max_length = 20\n",
    "\n",
    "# Sample from a category and starting letter\n",
    "def sample(category, start_letter='A'):\n",
    "    with torch.no_grad():  # no need to track history in sampling\n",
    "        category_tensor = categoryTensor(category)\n",
    "        input = inputTensor(start_letter)\n",
    "        hidden = target_network.initHidden()\n",
    "        hyper_hidden = dynamic_hypernetwork.embedding_module.initHidden()\n",
    "\n",
    "        output_name = start_letter\n",
    "\n",
    "        hidden_states = []\n",
    "        for i in range(max_length):\n",
    "            out, _, embedding_output = dynamic_hypernetwork(inp=(category_tensor, input[0], hidden), embedding_module_kwargs={\"hidden_state\":hyper_hidden})\n",
    "            embedding, hyper_hidden = embedding_output\n",
    "            output, hidden = out\n",
    "            topv, topi = output.topk(1)\n",
    "            topi = topi[0][0]\n",
    "            if topi == n_letters - 1:\n",
    "                break\n",
    "            else:\n",
    "                letter = all_letters[topi]\n",
    "                output_name += letter\n",
    "            input = inputTensor(letter)\n",
    "\n",
    "        return output_name\n",
    "\n",
    "# Get multiple samples from one category and multiple starting letters\n",
    "def samples(category, start_letters='ABC'):\n",
    "    for start_letter in start_letters:\n",
    "        print(sample(category, start_letter))\n",
    "\n",
    "samples('Russian', 'RUS')\n",
    "\n",
    "samples('German', 'GER')\n",
    "\n",
    "samples('Spanish', 'SPA')\n",
    "\n",
    "samples('Chinese', 'CHI')"
   ]
  }
 ],
 "metadata": {
  "interpreter": {
   "hash": "1d64cb66d3d902aa83000daa06ca958bef94bde318911a82aee5f8df2bb8934b"
  },
  "kernelspec": {
   "display_name": "Python 3.9.7 ('pycanvas')",
   "language": "python",
   "name": "python3"
  },
  "language_info": {
   "codemirror_mode": {
    "name": "ipython",
    "version": 3
   },
   "file_extension": ".py",
   "mimetype": "text/x-python",
   "name": "python",
   "nbconvert_exporter": "python",
   "pygments_lexer": "ipython3",
   "version": "3.9.7"
  },
  "orig_nbformat": 4
 },
 "nbformat": 4,
 "nbformat_minor": 2
}
