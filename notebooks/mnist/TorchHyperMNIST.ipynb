{
 "cells": [
  {
   "cell_type": "markdown",
   "metadata": {},
   "source": [
    "### HyperMNIST"
   ]
  },
  {
   "cell_type": "markdown",
   "metadata": {},
   "source": [
    "#### Install"
   ]
  },
  {
   "cell_type": "code",
   "execution_count": 1,
   "metadata": {},
   "outputs": [
    {
     "name": "stdout",
     "output_type": "stream",
     "text": [
      "Requirement already satisfied: tqdm in /home/shyam/anaconda3/envs/test_hyper_nn/lib/python3.9/site-packages (4.64.0)\n",
      "Requirement already satisfied: tensorboard in /home/shyam/anaconda3/envs/test_hyper_nn/lib/python3.9/site-packages (2.9.0)\n",
      "Requirement already satisfied: tensorboard-plugin-wit>=1.6.0 in /home/shyam/anaconda3/envs/test_hyper_nn/lib/python3.9/site-packages (from tensorboard) (1.8.1)\n",
      "Requirement already satisfied: werkzeug>=1.0.1 in /home/shyam/anaconda3/envs/test_hyper_nn/lib/python3.9/site-packages (from tensorboard) (2.1.2)\n",
      "Requirement already satisfied: absl-py>=0.4 in /home/shyam/anaconda3/envs/test_hyper_nn/lib/python3.9/site-packages/absl_py-1.0.0-py3.9.egg (from tensorboard) (1.0.0)\n",
      "Requirement already satisfied: protobuf>=3.9.2 in /home/shyam/anaconda3/envs/test_hyper_nn/lib/python3.9/site-packages (from tensorboard) (3.20.0)\n",
      "Requirement already satisfied: numpy>=1.12.0 in /home/shyam/anaconda3/envs/test_hyper_nn/lib/python3.9/site-packages/numpy-1.23.0rc2-py3.9-linux-x86_64.egg (from tensorboard) (1.23.0rc2)\n",
      "Requirement already satisfied: tensorboard-data-server<0.7.0,>=0.6.0 in /home/shyam/anaconda3/envs/test_hyper_nn/lib/python3.9/site-packages (from tensorboard) (0.6.1)\n",
      "Requirement already satisfied: google-auth<3,>=1.6.3 in /home/shyam/anaconda3/envs/test_hyper_nn/lib/python3.9/site-packages (from tensorboard) (2.6.6)\n",
      "Requirement already satisfied: google-auth-oauthlib<0.5,>=0.4.1 in /home/shyam/anaconda3/envs/test_hyper_nn/lib/python3.9/site-packages (from tensorboard) (0.4.6)\n",
      "Requirement already satisfied: wheel>=0.26 in /home/shyam/anaconda3/envs/test_hyper_nn/lib/python3.9/site-packages (from tensorboard) (0.37.1)\n",
      "Requirement already satisfied: requests<3,>=2.21.0 in /home/shyam/anaconda3/envs/test_hyper_nn/lib/python3.9/site-packages (from tensorboard) (2.27.1)\n",
      "Requirement already satisfied: setuptools>=41.0.0 in /home/shyam/anaconda3/envs/test_hyper_nn/lib/python3.9/site-packages (from tensorboard) (61.2.0)\n",
      "Requirement already satisfied: grpcio>=1.24.3 in /home/shyam/anaconda3/envs/test_hyper_nn/lib/python3.9/site-packages (from tensorboard) (1.46.3)\n",
      "Requirement already satisfied: markdown>=2.6.8 in /home/shyam/anaconda3/envs/test_hyper_nn/lib/python3.9/site-packages (from tensorboard) (3.3.7)\n",
      "Requirement already satisfied: six in /home/shyam/anaconda3/envs/test_hyper_nn/lib/python3.9/site-packages (from absl-py>=0.4->tensorboard) (1.16.0)\n",
      "Requirement already satisfied: rsa<5,>=3.1.4 in /home/shyam/anaconda3/envs/test_hyper_nn/lib/python3.9/site-packages (from google-auth<3,>=1.6.3->tensorboard) (4.8)\n",
      "Requirement already satisfied: pyasn1-modules>=0.2.1 in /home/shyam/anaconda3/envs/test_hyper_nn/lib/python3.9/site-packages (from google-auth<3,>=1.6.3->tensorboard) (0.2.8)\n",
      "Requirement already satisfied: cachetools<6.0,>=2.0.0 in /home/shyam/anaconda3/envs/test_hyper_nn/lib/python3.9/site-packages (from google-auth<3,>=1.6.3->tensorboard) (5.2.0)\n",
      "Requirement already satisfied: requests-oauthlib>=0.7.0 in /home/shyam/anaconda3/envs/test_hyper_nn/lib/python3.9/site-packages (from google-auth-oauthlib<0.5,>=0.4.1->tensorboard) (1.3.1)\n",
      "Requirement already satisfied: importlib-metadata>=4.4 in /home/shyam/anaconda3/envs/test_hyper_nn/lib/python3.9/site-packages (from markdown>=2.6.8->tensorboard) (4.11.4)\n",
      "Requirement already satisfied: zipp>=0.5 in /home/shyam/anaconda3/envs/test_hyper_nn/lib/python3.9/site-packages (from importlib-metadata>=4.4->markdown>=2.6.8->tensorboard) (3.8.0)\n",
      "Requirement already satisfied: pyasn1<0.5.0,>=0.4.6 in /home/shyam/anaconda3/envs/test_hyper_nn/lib/python3.9/site-packages (from pyasn1-modules>=0.2.1->google-auth<3,>=1.6.3->tensorboard) (0.4.8)\n",
      "Requirement already satisfied: certifi>=2017.4.17 in /home/shyam/anaconda3/envs/test_hyper_nn/lib/python3.9/site-packages (from requests<3,>=2.21.0->tensorboard) (2022.5.18.1)\n",
      "Requirement already satisfied: charset-normalizer~=2.0.0 in /home/shyam/anaconda3/envs/test_hyper_nn/lib/python3.9/site-packages (from requests<3,>=2.21.0->tensorboard) (2.0.4)\n",
      "Requirement already satisfied: urllib3<1.27,>=1.21.1 in /home/shyam/anaconda3/envs/test_hyper_nn/lib/python3.9/site-packages (from requests<3,>=2.21.0->tensorboard) (1.26.9)\n",
      "Requirement already satisfied: idna<4,>=2.5 in /home/shyam/anaconda3/envs/test_hyper_nn/lib/python3.9/site-packages (from requests<3,>=2.21.0->tensorboard) (3.3)\n",
      "Requirement already satisfied: oauthlib>=3.0.0 in /home/shyam/anaconda3/envs/test_hyper_nn/lib/python3.9/site-packages (from requests-oauthlib>=0.7.0->google-auth-oauthlib<0.5,>=0.4.1->tensorboard) (3.2.0)\n",
      "Requirement already satisfied: matplotlib in /home/shyam/anaconda3/envs/test_hyper_nn/lib/python3.9/site-packages/matplotlib-3.5.2-py3.9-linux-x86_64.egg (3.5.2)\n",
      "Requirement already satisfied: cycler>=0.10 in /home/shyam/anaconda3/envs/test_hyper_nn/lib/python3.9/site-packages/cycler-0.11.0-py3.9.egg (from matplotlib) (0.11.0)\n",
      "Requirement already satisfied: fonttools>=4.22.0 in /home/shyam/anaconda3/envs/test_hyper_nn/lib/python3.9/site-packages/fonttools-4.33.3-py3.9.egg (from matplotlib) (4.33.3)\n",
      "Requirement already satisfied: kiwisolver>=1.0.1 in /home/shyam/anaconda3/envs/test_hyper_nn/lib/python3.9/site-packages/kiwisolver-1.4.2-py3.9-linux-x86_64.egg (from matplotlib) (1.4.2)\n",
      "Requirement already satisfied: numpy>=1.17 in /home/shyam/anaconda3/envs/test_hyper_nn/lib/python3.9/site-packages/numpy-1.23.0rc2-py3.9-linux-x86_64.egg (from matplotlib) (1.23.0rc2)\n",
      "Requirement already satisfied: packaging>=20.0 in /home/shyam/anaconda3/envs/test_hyper_nn/lib/python3.9/site-packages (from matplotlib) (21.3)\n",
      "Requirement already satisfied: pillow>=6.2.0 in /home/shyam/anaconda3/envs/test_hyper_nn/lib/python3.9/site-packages/Pillow-9.1.1-py3.9-linux-x86_64.egg (from matplotlib) (9.1.1)\n",
      "Requirement already satisfied: pyparsing>=2.2.1 in /home/shyam/anaconda3/envs/test_hyper_nn/lib/python3.9/site-packages (from matplotlib) (3.0.4)\n",
      "Requirement already satisfied: python-dateutil>=2.7 in /home/shyam/anaconda3/envs/test_hyper_nn/lib/python3.9/site-packages (from matplotlib) (2.8.2)\n",
      "Requirement already satisfied: six>=1.5 in /home/shyam/anaconda3/envs/test_hyper_nn/lib/python3.9/site-packages (from python-dateutil>=2.7->matplotlib) (1.16.0)\n",
      "Requirement already satisfied: torchvision in /home/shyam/anaconda3/envs/test_hyper_nn/lib/python3.9/site-packages (0.12.0)\n",
      "Requirement already satisfied: requests in /home/shyam/anaconda3/envs/test_hyper_nn/lib/python3.9/site-packages (from torchvision) (2.27.1)\n",
      "Requirement already satisfied: pillow!=8.3.*,>=5.3.0 in /home/shyam/anaconda3/envs/test_hyper_nn/lib/python3.9/site-packages/Pillow-9.1.1-py3.9-linux-x86_64.egg (from torchvision) (9.1.1)\n",
      "Requirement already satisfied: typing-extensions in /home/shyam/anaconda3/envs/test_hyper_nn/lib/python3.9/site-packages (from torchvision) (4.2.0)\n",
      "Requirement already satisfied: numpy in /home/shyam/anaconda3/envs/test_hyper_nn/lib/python3.9/site-packages/numpy-1.23.0rc2-py3.9-linux-x86_64.egg (from torchvision) (1.23.0rc2)\n",
      "Requirement already satisfied: torch==1.11.0 in /home/shyam/anaconda3/envs/test_hyper_nn/lib/python3.9/site-packages/torch-1.11.0-py3.9-linux-x86_64.egg (from torchvision) (1.11.0)\n",
      "Requirement already satisfied: charset-normalizer~=2.0.0 in /home/shyam/anaconda3/envs/test_hyper_nn/lib/python3.9/site-packages (from requests->torchvision) (2.0.4)\n",
      "Requirement already satisfied: urllib3<1.27,>=1.21.1 in /home/shyam/anaconda3/envs/test_hyper_nn/lib/python3.9/site-packages (from requests->torchvision) (1.26.9)\n",
      "Requirement already satisfied: certifi>=2017.4.17 in /home/shyam/anaconda3/envs/test_hyper_nn/lib/python3.9/site-packages (from requests->torchvision) (2022.5.18.1)\n",
      "Requirement already satisfied: idna<4,>=2.5 in /home/shyam/anaconda3/envs/test_hyper_nn/lib/python3.9/site-packages (from requests->torchvision) (3.3)\n"
     ]
    }
   ],
   "source": [
    "!pip install hyper-nn\n",
    "!pip install tqdm\n",
    "!pip install tensorboard\n",
    "!pip install matplotlib\n",
    "!pip install torchvision"
   ]
  },
  {
   "cell_type": "markdown",
   "metadata": {},
   "source": [
    "#### Import data"
   ]
  },
  {
   "cell_type": "code",
   "execution_count": 2,
   "metadata": {},
   "outputs": [],
   "source": [
    "import os\n",
    "import torch\n",
    "import torch.nn as nn\n",
    "import torchvision\n",
    "import torchvision.transforms as transforms\n",
    "import torch.nn.functional as F\n",
    "import torch.optim as optim\n",
    "## load mnist dataset\n",
    "\n",
    "root = 'data'\n",
    "if not os.path.exists(root):\n",
    "    os.mkdir(root)\n",
    "    \n",
    "trans = transforms.Compose([transforms.ToTensor()])\n",
    "# if not exist, download mnist dataset\n",
    "train_set = torchvision.datasets.MNIST(root=root, train=True, transform=trans, download=True)\n",
    "test_set = torchvision.datasets.MNIST(root=root, train=False, transform=trans, download=True)\n"
   ]
  },
  {
   "cell_type": "code",
   "execution_count": 3,
   "metadata": {},
   "outputs": [
    {
     "data": {
      "text/plain": [
       "torch.Size([1, 28, 28])"
      ]
     },
     "execution_count": 3,
     "metadata": {},
     "output_type": "execute_result"
    }
   ],
   "source": [
    "train_set[0][0].size()"
   ]
  },
  {
   "cell_type": "code",
   "execution_count": 4,
   "metadata": {},
   "outputs": [
    {
     "data": {
      "image/png": "[encoded data removed]",
      "text/plain": [
       "<Figure size 432x288 with 6 Axes>"
      ]
     },
     "metadata": {},
     "output_type": "display_data"
    }
   ],
   "source": [
    "import matplotlib.pyplot as plt\n",
    "\n",
    "fig = plt.figure()\n",
    "for i in range(6):\n",
    "    plt.subplot(2,3,i+1)\n",
    "    plt.tight_layout()\n",
    "    plt.imshow(train_set[i][0].detach().numpy().squeeze(), cmap='gray', interpolation='none')\n",
    "    plt.title(\"Ground Truth: {}\".format(train_set[i][1]))\n",
    "    plt.xticks([])\n",
    "    plt.yticks([])"
   ]
  },
  {
   "cell_type": "code",
   "execution_count": 5,
   "metadata": {},
   "outputs": [],
   "source": [
    "class MNISTConvNet(nn.Module):\n",
    "    def __init__(self):\n",
    "        super().__init__()\n",
    "        self.net = nn.Sequential(\n",
    "            nn.Conv2d(1, 64, 3, 2),\n",
    "            nn.ReLU(),\n",
    "            nn.Conv2d(64, 64, 3, 2),\n",
    "            nn.ReLU(),\n",
    "            nn.Conv2d(64, 64, 3, 2),\n",
    "            nn.ReLU(),\n",
    "            nn.Conv2d(64, 10, 2, 2)\n",
    "        )\n",
    "\n",
    "    def forward(self, x):\n",
    "        out = self.net(x).view(x.size(0), -1)\n",
    "        return out"
   ]
  },
  {
   "cell_type": "code",
   "execution_count": 6,
   "metadata": {},
   "outputs": [
    {
     "data": {
      "text/plain": [
       "77066"
      ]
     },
     "execution_count": 6,
     "metadata": {},
     "output_type": "execute_result"
    }
   ],
   "source": [
    "target_network = MNISTConvNet()\n",
    "pytorch_total_params = sum(p.numel() for p in target_network.parameters() if p.requires_grad)\n",
    "pytorch_total_params"
   ]
  },
  {
   "cell_type": "markdown",
   "metadata": {},
   "source": [
    "### Making a custom Hypernetwork with a 2 layer Weight Generator"
   ]
  },
  {
   "cell_type": "code",
   "execution_count": 7,
   "metadata": {},
   "outputs": [],
   "source": [
    "from hypernn.torch.hypernet import TorchHyperNetwork\n",
    "from typing import Any, Optional"
   ]
  },
  {
   "cell_type": "code",
   "execution_count": 8,
   "metadata": {},
   "outputs": [],
   "source": [
    "from typing import Any, Dict, List, Optional, Tuple, Type, Union  # noqa\n",
    "\n",
    "class MNISTHyperNetwork(TorchHyperNetwork):\n",
    "    def __init__(\n",
    "        self,\n",
    "        target_network: nn.Module,\n",
    "        *args,\n",
    "        **kwargs\n",
    "    ):\n",
    "        super().__init__(\n",
    "                    target_network = target_network,\n",
    "                    *args,\n",
    "                    **kwargs\n",
    "                )\n",
    "\n",
    "    def make_weight_generator(self):\n",
    "        return nn.Sequential(\n",
    "            nn.Linear(self.embedding_dim, 32),\n",
    "            nn.Tanh(),\n",
    "            nn.Linear(32, self.weight_chunk_dim)\n",
    "        )\n"
   ]
  },
  {
   "cell_type": "markdown",
   "metadata": {},
   "source": [
    "### We can reduce the number of trainable parameters to less than 10%"
   ]
  },
  {
   "cell_type": "code",
   "execution_count": 9,
   "metadata": {},
   "outputs": [
    {
     "data": {
      "text/plain": [
       "7191"
      ]
     },
     "execution_count": 9,
     "metadata": {},
     "output_type": "execute_result"
    }
   ],
   "source": [
    "EMBEDDING_DIM = 4\n",
    "NUM_EMBEDDINGS = 512\n",
    "\n",
    "hypernetwork = MNISTHyperNetwork.from_target(target_network, embedding_dim=EMBEDDING_DIM, num_embeddings=NUM_EMBEDDINGS)\n",
    "pytorch_total_params = sum(p.numel() for p in hypernetwork.parameters() if p.requires_grad)\n",
    "pytorch_total_params"
   ]
  },
  {
   "cell_type": "code",
   "execution_count": 10,
   "metadata": {},
   "outputs": [],
   "source": [
    "device = torch.device('cuda')\n",
    "hypernetwork = hypernetwork.to(device)"
   ]
  },
  {
   "cell_type": "code",
   "execution_count": 11,
   "metadata": {},
   "outputs": [],
   "source": [
    "g, _ = hypernetwork.generate_params()"
   ]
  },
  {
   "cell_type": "markdown",
   "metadata": {},
   "source": [
    "#### Dataloader"
   ]
  },
  {
   "cell_type": "code",
   "execution_count": 12,
   "metadata": {},
   "outputs": [],
   "source": [
    "train_loader = torch.utils.data.DataLoader(\n",
    "                 dataset=train_set,\n",
    "                 batch_size=32,\n",
    "                 shuffle=True)\n",
    "test_loader = torch.utils.data.DataLoader(\n",
    "                dataset=test_set,\n",
    "                batch_size=32,\n",
    "                shuffle=False)"
   ]
  },
  {
   "cell_type": "markdown",
   "metadata": {},
   "source": [
    "#### Train MNIST classifier with supervised learning"
   ]
  },
  {
   "cell_type": "code",
   "execution_count": 13,
   "metadata": {},
   "outputs": [
    {
     "name": "stderr",
     "output_type": "stream",
     "text": [
      "Loss: 0.14416060206865272, Test Acc: 0.9624000191688538:   1%|      | 11/1000 [01:48<2:42:45,  9.87s/it]\n",
      "\n",
      "KeyboardInterrupt\n",
      "\n"
     ]
    }
   ],
   "source": [
    "import tqdm\n",
    "import numpy as np\n",
    "\n",
    "optimizer = optim.Adam(hypernetwork.parameters(), lr=0.0002)\n",
    "bar = tqdm.tqdm(np.arange(1000))\n",
    "\n",
    "for i in bar:\n",
    "\n",
    "    train_loss = []\n",
    "    for batch_idx, (x, target) in enumerate(train_loader):\n",
    "        optimizer.zero_grad()\n",
    "        out = hypernetwork(inp=[x.to(hypernetwork.device)], has_aux=False)\n",
    "        loss =  F.cross_entropy(out.to(hypernetwork.device), target.to(hypernetwork.device))\n",
    "        loss.backward()\n",
    "        optimizer.step()\n",
    "\n",
    "        train_loss.append(loss.item())\n",
    "\n",
    "    avg_loss = np.mean(train_loss)\n",
    "    num_correct = 0\n",
    "    count = 0\n",
    "    for batch_idx, (x, target) in enumerate(test_loader):\n",
    "        count += x.size(0)\n",
    "        with torch.no_grad():\n",
    "            out = hypernetwork(inp=[x.to(hypernetwork.device)], has_aux=False)\n",
    "            _, predicted = torch.max(out.detach(), -1)\n",
    "        num_correct += (predicted.detach().cpu() == target.data).sum()\n",
    "    accuracy = num_correct / count\n",
    "    bar.set_description(\"Loss: {}, Test Acc: {}\".format(avg_loss, accuracy))\n"
   ]
  },
  {
   "cell_type": "code",
   "execution_count": 14,
   "metadata": {},
   "outputs": [
    {
     "data": {
      "image/png": "[encoded data removed]",
      "text/plain": [
       "<Figure size 432x288 with 6 Axes>"
      ]
     },
     "metadata": {},
     "output_type": "display_data"
    }
   ],
   "source": [
    "import matplotlib.pyplot as plt\n",
    "\n",
    "fig = plt.figure()\n",
    "for i in range(6):\n",
    "    out = hypernetwork(inp=[test_set[i][0].to(hypernetwork.device)], has_aux=False)\n",
    "    _, predicted = torch.max(out.detach(), -1)\n",
    "    plt.subplot(2,3,i+1)\n",
    "    plt.imshow(test_set[i][0].detach().numpy().squeeze(), cmap='gray', interpolation='none')\n",
    "    plt.title(\"Prediction: {}\".format(predicted.item()))\n",
    "    plt.xticks([])\n",
    "    plt.yticks([])\n",
    "    plt.tight_layout()"
   ]
  }
 ],
 "metadata": {
  "interpreter": {
   "hash": "1d64cb66d3d902aa83000daa06ca958bef94bde318911a82aee5f8df2bb8934b"
  },
  "kernelspec": {
   "display_name": "Python [conda env:test_hyper_nn] *",
   "language": "python",
   "name": "conda-env-test_hyper_nn-py"
  },
  "language_info": {
   "codemirror_mode": {
    "name": "ipython",
    "version": 3
   },
   "file_extension": ".py",
   "mimetype": "text/x-python",
   "name": "python",
   "nbconvert_exporter": "python",
   "pygments_lexer": "ipython3",
   "version": "3.9.0"
  }
 },
 "nbformat": 4,
 "nbformat_minor": 4
}
